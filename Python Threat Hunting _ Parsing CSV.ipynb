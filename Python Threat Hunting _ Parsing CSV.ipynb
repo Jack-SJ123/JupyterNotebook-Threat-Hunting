{
 "cells": [
  {
   "cell_type": "markdown",
   "id": "4d5fbc35",
   "metadata": {},
   "source": [
    "Python Threat Hunting — Parsing CSV"
   ]
  },
  {
   "cell_type": "code",
   "execution_count": 23,
   "id": "f55e2068",
   "metadata": {},
   "outputs": [
    {
     "name": "stdout",
     "output_type": "stream",
     "text": [
      "41 critical vulnerabilities summarized to <CRITICAL_CISA Vulnerabilities - July 21, 2025.csv>.\n"
     ]
    }
   ],
   "source": [
    "import csv\n",
    "import argparse\n",
    "import os\n",
    "import sys\n",
    "\n",
    "# get csv file from hardcoding\n",
    "Base_dir = os.getcwd()\n",
    "csv_file = os.path.join(Base_dir, \"CISA Vulnerabilities - July 21, 2025.csv\")\n",
    "\n",
    "# Or, we can define the input csv file in the argument: (uncomment below 4 lines if you want to use this option)\n",
    "# parser = argparse.ArgumentParser()\n",
    "# parser.add_argument(\"csv_file\", help=\"csv file needed\")\n",
    "# args = parser.parse_args()\n",
    "# csv_file = args.csv_file\n",
    "\n",
    "with open(csv_file, 'r') as file:\n",
    "    reader = csv.reader(file)\n",
    "\n",
    "    critical_vulns = []\n",
    "\n",
    "    for row in reader:\n",
    "        if row[4] == \"CVSS\":\n",
    "            critical_vulns.append(row)\n",
    "            continue\n",
    "            \n",
    "        if float(row[4]) >= 9.0:\n",
    "            critical_vulns.append(row)\n",
    "\n",
    "# Create output filename\n",
    "directory = os.path.dirname(csv_file)\n",
    "filename = os.path.basename(csv_file)\n",
    "base_name = os.path.splitext(filename)[0]\n",
    "extension = os.path.splitext(filename)[1]\n",
    "\n",
    "# output only critical vulnerabilities to a new csv file\n",
    "Filename = f\"CRITICAL_{base_name}{extension}\"\n",
    "\n",
    "with open(Filename, 'w', newline='') as file:\n",
    "    writer = csv.writer(file)\n",
    "\n",
    "    for row in critical_vulns:\n",
    "        writer.writerow(row)\n",
    "\n",
    "print(f\"{len(critical_vulns) - 1} critical vulnerabilities summarized to <{Filename}>.\")"
   ]
  },
  {
   "cell_type": "markdown",
   "id": "1693a121",
   "metadata": {},
   "source": []
  }
 ],
 "metadata": {
  "kernelspec": {
   "display_name": "base",
   "language": "python",
   "name": "python3"
  },
  "language_info": {
   "codemirror_mode": {
    "name": "ipython",
    "version": 3
   },
   "file_extension": ".py",
   "mimetype": "text/x-python",
   "name": "python",
   "nbconvert_exporter": "python",
   "pygments_lexer": "ipython3",
   "version": "3.13.5"
  }
 },
 "nbformat": 4,
 "nbformat_minor": 5
}
