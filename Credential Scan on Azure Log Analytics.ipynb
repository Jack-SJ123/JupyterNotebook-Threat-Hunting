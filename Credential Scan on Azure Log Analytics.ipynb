{
 "cells": [
  {
   "cell_type": "markdown",
   "id": "f3640165",
   "metadata": {},
   "source": [
    "# Credential Scan on Azure Log Analytics"
   ]
  },
  {
   "cell_type": "code",
   "execution_count": null,
   "id": "6483b521",
   "metadata": {},
   "outputs": [
    {
     "name": "stdout",
     "output_type": "stream",
     "text": [
      "Defaulting to user installation because normal site-packages is not writeable\n",
      "Requirement already satisfied: azure-monitor-query in c:\\users\\ronal\\appdata\\local\\packages\\pythonsoftwarefoundation.python.3.13_qbz5n2kfra8p0\\localcache\\local-packages\\python313\\site-packages (2.0.0)\n",
      "Requirement already satisfied: isodate>=0.6.1 in c:\\users\\ronal\\appdata\\local\\packages\\pythonsoftwarefoundation.python.3.13_qbz5n2kfra8p0\\localcache\\local-packages\\python313\\site-packages (from azure-monitor-query) (0.7.2)\n",
      "Requirement already satisfied: azure-core>=1.30.0 in c:\\users\\ronal\\appdata\\local\\packages\\pythonsoftwarefoundation.python.3.13_qbz5n2kfra8p0\\localcache\\local-packages\\python313\\site-packages (from azure-monitor-query) (1.35.0)\n",
      "Requirement already satisfied: typing-extensions>=4.6.0 in c:\\users\\ronal\\appdata\\local\\packages\\pythonsoftwarefoundation.python.3.13_qbz5n2kfra8p0\\localcache\\local-packages\\python313\\site-packages (from azure-monitor-query) (4.14.1)\n",
      "Requirement already satisfied: requests>=2.21.0 in c:\\users\\ronal\\appdata\\local\\packages\\pythonsoftwarefoundation.python.3.13_qbz5n2kfra8p0\\localcache\\local-packages\\python313\\site-packages (from azure-core>=1.30.0->azure-monitor-query) (2.32.0)\n",
      "Requirement already satisfied: six>=1.11.0 in c:\\users\\ronal\\appdata\\local\\packages\\pythonsoftwarefoundation.python.3.13_qbz5n2kfra8p0\\localcache\\local-packages\\python313\\site-packages (from azure-core>=1.30.0->azure-monitor-query) (1.17.0)\n",
      "Requirement already satisfied: charset-normalizer<4,>=2 in c:\\users\\ronal\\appdata\\local\\packages\\pythonsoftwarefoundation.python.3.13_qbz5n2kfra8p0\\localcache\\local-packages\\python313\\site-packages (from requests>=2.21.0->azure-core>=1.30.0->azure-monitor-query) (3.4.3)\n",
      "Requirement already satisfied: idna<4,>=2.5 in c:\\users\\ronal\\appdata\\local\\packages\\pythonsoftwarefoundation.python.3.13_qbz5n2kfra8p0\\localcache\\local-packages\\python313\\site-packages (from requests>=2.21.0->azure-core>=1.30.0->azure-monitor-query) (3.10)\n",
      "Requirement already satisfied: urllib3<3,>=1.21.1 in c:\\users\\ronal\\appdata\\local\\packages\\pythonsoftwarefoundation.python.3.13_qbz5n2kfra8p0\\localcache\\local-packages\\python313\\site-packages (from requests>=2.21.0->azure-core>=1.30.0->azure-monitor-query) (2.5.0)\n",
      "Requirement already satisfied: certifi>=2017.4.17 in c:\\users\\ronal\\appdata\\local\\packages\\pythonsoftwarefoundation.python.3.13_qbz5n2kfra8p0\\localcache\\local-packages\\python313\\site-packages (from requests>=2.21.0->azure-core>=1.30.0->azure-monitor-query) (2025.8.3)\n",
      "Note: you may need to restart the kernel to use updated packages.\n",
      "Defaulting to user installation because normal site-packages is not writeable\n",
      "Requirement already satisfied: azure-mgmt-loganalytics in c:\\users\\ronal\\appdata\\local\\packages\\pythonsoftwarefoundation.python.3.13_qbz5n2kfra8p0\\localcache\\local-packages\\python313\\site-packages (12.0.0)\n",
      "Requirement already satisfied: msrest>=0.6.21 in c:\\users\\ronal\\appdata\\local\\packages\\pythonsoftwarefoundation.python.3.13_qbz5n2kfra8p0\\localcache\\local-packages\\python313\\site-packages (from azure-mgmt-loganalytics) (0.7.1)\n",
      "Requirement already satisfied: azure-common~=1.1 in c:\\users\\ronal\\appdata\\local\\packages\\pythonsoftwarefoundation.python.3.13_qbz5n2kfra8p0\\localcache\\local-packages\\python313\\site-packages (from azure-mgmt-loganalytics) (1.1.28)\n",
      "Requirement already satisfied: azure-mgmt-core<2.0.0,>=1.2.0 in c:\\users\\ronal\\appdata\\local\\packages\\pythonsoftwarefoundation.python.3.13_qbz5n2kfra8p0\\localcache\\local-packages\\python313\\site-packages (from azure-mgmt-loganalytics) (1.6.0)\n",
      "Requirement already satisfied: azure-core>=1.32.0 in c:\\users\\ronal\\appdata\\local\\packages\\pythonsoftwarefoundation.python.3.13_qbz5n2kfra8p0\\localcache\\local-packages\\python313\\site-packages (from azure-mgmt-core<2.0.0,>=1.2.0->azure-mgmt-loganalytics) (1.35.0)\n",
      "Requirement already satisfied: requests>=2.21.0 in c:\\users\\ronal\\appdata\\local\\packages\\pythonsoftwarefoundation.python.3.13_qbz5n2kfra8p0\\localcache\\local-packages\\python313\\site-packages (from azure-core>=1.32.0->azure-mgmt-core<2.0.0,>=1.2.0->azure-mgmt-loganalytics) (2.32.0)\n",
      "Requirement already satisfied: six>=1.11.0 in c:\\users\\ronal\\appdata\\local\\packages\\pythonsoftwarefoundation.python.3.13_qbz5n2kfra8p0\\localcache\\local-packages\\python313\\site-packages (from azure-core>=1.32.0->azure-mgmt-core<2.0.0,>=1.2.0->azure-mgmt-loganalytics) (1.17.0)\n",
      "Requirement already satisfied: typing-extensions>=4.6.0 in c:\\users\\ronal\\appdata\\local\\packages\\pythonsoftwarefoundation.python.3.13_qbz5n2kfra8p0\\localcache\\local-packages\\python313\\site-packages (from azure-core>=1.32.0->azure-mgmt-core<2.0.0,>=1.2.0->azure-mgmt-loganalytics) (4.14.1)\n",
      "Requirement already satisfied: certifi>=2017.4.17 in c:\\users\\ronal\\appdata\\local\\packages\\pythonsoftwarefoundation.python.3.13_qbz5n2kfra8p0\\localcache\\local-packages\\python313\\site-packages (from msrest>=0.6.21->azure-mgmt-loganalytics) (2025.8.3)\n",
      "Requirement already satisfied: isodate>=0.6.0 in c:\\users\\ronal\\appdata\\local\\packages\\pythonsoftwarefoundation.python.3.13_qbz5n2kfra8p0\\localcache\\local-packages\\python313\\site-packages (from msrest>=0.6.21->azure-mgmt-loganalytics) (0.7.2)\n",
      "Requirement already satisfied: requests-oauthlib>=0.5.0 in c:\\users\\ronal\\appdata\\local\\packages\\pythonsoftwarefoundation.python.3.13_qbz5n2kfra8p0\\localcache\\local-packages\\python313\\site-packages (from msrest>=0.6.21->azure-mgmt-loganalytics) (2.0.0)\n",
      "Requirement already satisfied: charset-normalizer<4,>=2 in c:\\users\\ronal\\appdata\\local\\packages\\pythonsoftwarefoundation.python.3.13_qbz5n2kfra8p0\\localcache\\local-packages\\python313\\site-packages (from requests>=2.21.0->azure-core>=1.32.0->azure-mgmt-core<2.0.0,>=1.2.0->azure-mgmt-loganalytics) (3.4.3)\n",
      "Requirement already satisfied: idna<4,>=2.5 in c:\\users\\ronal\\appdata\\local\\packages\\pythonsoftwarefoundation.python.3.13_qbz5n2kfra8p0\\localcache\\local-packages\\python313\\site-packages (from requests>=2.21.0->azure-core>=1.32.0->azure-mgmt-core<2.0.0,>=1.2.0->azure-mgmt-loganalytics) (3.10)\n",
      "Requirement already satisfied: urllib3<3,>=1.21.1 in c:\\users\\ronal\\appdata\\local\\packages\\pythonsoftwarefoundation.python.3.13_qbz5n2kfra8p0\\localcache\\local-packages\\python313\\site-packages (from requests>=2.21.0->azure-core>=1.32.0->azure-mgmt-core<2.0.0,>=1.2.0->azure-mgmt-loganalytics) (2.5.0)\n",
      "Requirement already satisfied: oauthlib>=3.0.0 in c:\\users\\ronal\\appdata\\local\\packages\\pythonsoftwarefoundation.python.3.13_qbz5n2kfra8p0\\localcache\\local-packages\\python313\\site-packages (from requests-oauthlib>=0.5.0->msrest>=0.6.21->azure-mgmt-loganalytics) (3.3.1)\n",
      "Note: you may need to restart the kernel to use updated packages.\n",
      "Defaulting to user installation because normal site-packages is not writeable\n",
      "Requirement already satisfied: ipywidgets in c:\\users\\ronal\\appdata\\local\\packages\\pythonsoftwarefoundation.python.3.13_qbz5n2kfra8p0\\localcache\\local-packages\\python313\\site-packages (8.1.7)\n",
      "Requirement already satisfied: comm>=0.1.3 in c:\\users\\ronal\\appdata\\local\\packages\\pythonsoftwarefoundation.python.3.13_qbz5n2kfra8p0\\localcache\\local-packages\\python313\\site-packages (from ipywidgets) (0.2.3)\n",
      "Requirement already satisfied: ipython>=6.1.0 in c:\\users\\ronal\\appdata\\local\\packages\\pythonsoftwarefoundation.python.3.13_qbz5n2kfra8p0\\localcache\\local-packages\\python313\\site-packages (from ipywidgets) (9.4.0)\n",
      "Requirement already satisfied: traitlets>=4.3.1 in c:\\users\\ronal\\appdata\\local\\packages\\pythonsoftwarefoundation.python.3.13_qbz5n2kfra8p0\\localcache\\local-packages\\python313\\site-packages (from ipywidgets) (5.14.3)\n",
      "Requirement already satisfied: widgetsnbextension~=4.0.14 in c:\\users\\ronal\\appdata\\local\\packages\\pythonsoftwarefoundation.python.3.13_qbz5n2kfra8p0\\localcache\\local-packages\\python313\\site-packages (from ipywidgets) (4.0.14)\n",
      "Requirement already satisfied: jupyterlab_widgets~=3.0.15 in c:\\users\\ronal\\appdata\\local\\packages\\pythonsoftwarefoundation.python.3.13_qbz5n2kfra8p0\\localcache\\local-packages\\python313\\site-packages (from ipywidgets) (3.0.15)\n",
      "Requirement already satisfied: colorama in c:\\users\\ronal\\appdata\\local\\packages\\pythonsoftwarefoundation.python.3.13_qbz5n2kfra8p0\\localcache\\local-packages\\python313\\site-packages (from ipython>=6.1.0->ipywidgets) (0.4.6)\n",
      "Requirement already satisfied: decorator in c:\\users\\ronal\\appdata\\local\\packages\\pythonsoftwarefoundation.python.3.13_qbz5n2kfra8p0\\localcache\\local-packages\\python313\\site-packages (from ipython>=6.1.0->ipywidgets) (5.2.1)\n",
      "Requirement already satisfied: ipython-pygments-lexers in c:\\users\\ronal\\appdata\\local\\packages\\pythonsoftwarefoundation.python.3.13_qbz5n2kfra8p0\\localcache\\local-packages\\python313\\site-packages (from ipython>=6.1.0->ipywidgets) (1.1.1)\n",
      "Requirement already satisfied: jedi>=0.16 in c:\\users\\ronal\\appdata\\local\\packages\\pythonsoftwarefoundation.python.3.13_qbz5n2kfra8p0\\localcache\\local-packages\\python313\\site-packages (from ipython>=6.1.0->ipywidgets) (0.19.2)\n",
      "Requirement already satisfied: matplotlib-inline in c:\\users\\ronal\\appdata\\local\\packages\\pythonsoftwarefoundation.python.3.13_qbz5n2kfra8p0\\localcache\\local-packages\\python313\\site-packages (from ipython>=6.1.0->ipywidgets) (0.1.7)\n",
      "Requirement already satisfied: prompt_toolkit<3.1.0,>=3.0.41 in c:\\users\\ronal\\appdata\\local\\packages\\pythonsoftwarefoundation.python.3.13_qbz5n2kfra8p0\\localcache\\local-packages\\python313\\site-packages (from ipython>=6.1.0->ipywidgets) (3.0.51)\n",
      "Requirement already satisfied: pygments>=2.4.0 in c:\\users\\ronal\\appdata\\local\\packages\\pythonsoftwarefoundation.python.3.13_qbz5n2kfra8p0\\localcache\\local-packages\\python313\\site-packages (from ipython>=6.1.0->ipywidgets) (2.19.2)\n",
      "Requirement already satisfied: stack_data in c:\\users\\ronal\\appdata\\local\\packages\\pythonsoftwarefoundation.python.3.13_qbz5n2kfra8p0\\localcache\\local-packages\\python313\\site-packages (from ipython>=6.1.0->ipywidgets) (0.6.3)\n",
      "Requirement already satisfied: wcwidth in c:\\users\\ronal\\appdata\\local\\packages\\pythonsoftwarefoundation.python.3.13_qbz5n2kfra8p0\\localcache\\local-packages\\python313\\site-packages (from prompt_toolkit<3.1.0,>=3.0.41->ipython>=6.1.0->ipywidgets) (0.2.13)\n",
      "Requirement already satisfied: parso<0.9.0,>=0.8.4 in c:\\users\\ronal\\appdata\\local\\packages\\pythonsoftwarefoundation.python.3.13_qbz5n2kfra8p0\\localcache\\local-packages\\python313\\site-packages (from jedi>=0.16->ipython>=6.1.0->ipywidgets) (0.8.4)\n",
      "Requirement already satisfied: executing>=1.2.0 in c:\\users\\ronal\\appdata\\local\\packages\\pythonsoftwarefoundation.python.3.13_qbz5n2kfra8p0\\localcache\\local-packages\\python313\\site-packages (from stack_data->ipython>=6.1.0->ipywidgets) (2.2.0)\n",
      "Requirement already satisfied: asttokens>=2.1.0 in c:\\users\\ronal\\appdata\\local\\packages\\pythonsoftwarefoundation.python.3.13_qbz5n2kfra8p0\\localcache\\local-packages\\python313\\site-packages (from stack_data->ipython>=6.1.0->ipywidgets) (3.0.0)\n",
      "Requirement already satisfied: pure-eval in c:\\users\\ronal\\appdata\\local\\packages\\pythonsoftwarefoundation.python.3.13_qbz5n2kfra8p0\\localcache\\local-packages\\python313\\site-packages (from stack_data->ipython>=6.1.0->ipywidgets) (0.2.3)\n",
      "Note: you may need to restart the kernel to use updated packages.\n"
     ]
    }
   ],
   "source": [
    "#1. Set-up\n",
    "%pip install azure-monitor-query\n",
    "%pip install azure-mgmt-loganalytics\n",
    "%pip install ipywidgets"
   ]
  },
  {
   "cell_type": "code",
   "execution_count": 2,
   "id": "2d3f9206",
   "metadata": {},
   "outputs": [],
   "source": [
    "from azure.mgmt.loganalytics import LogAnalyticsManagementClient\n",
    "from azure.monitor.query import LogsQueryClient, LogsQueryStatus\n",
    "from azure.identity import AzureCliCredential, DefaultAzureCredential\n",
    "\n",
    "from datetime import datetime, timezone\n",
    "import pandas as pd\n",
    "import json\n",
    "import ipywidgets\n",
    "from IPython.display import display, HTML, Markdown"
   ]
  },
  {
   "cell_type": "code",
   "execution_count": 3,
   "id": "02c69cc8",
   "metadata": {},
   "outputs": [],
   "source": [
    "def read_config_values(file_path):\n",
    "    \"This loads pre-generated parameters from Sentinel Workspace\"\n",
    "    with open(file_path) as json_file:\n",
    "        if json_file:\n",
    "            json_config = json.load(json_file)\n",
    "            return (json_config[\"tenant_id\"],\n",
    "                    json_config[\"subscription_id\"],\n",
    "                    json_config[\"resource_group\"],\n",
    "                    json_config[\"workspace_id\"],\n",
    "                    json_config[\"workspace_name\"],\n",
    "                    json_config[\"user_alias\"],\n",
    "                    json_config[\"user_object_id\"])\n",
    "    return None\n",
    "\n",
    "def has_valid_token():\n",
    "    \"Check to see if there is a valid AAD token\"\n",
    "    try:\n",
    "        error = \"Please run 'az login'\"\n",
    "        expired = \"AADSTS70043: The refresh token has expired or is invalid\"\n",
    "        failed = \"failed\"\n",
    "        validator = !az account get-access-token\n",
    "\n",
    "        if any(expired in item for item in validator.get_list()):\n",
    "            return '**The refresh token has expired. <br> Please continue your login process. Then: <br> 1. If you plan to run multiple notebooks on the same compute instance today, you may restart the compute instance by clicking \"Compute\" on left menu, then select the instance, clicking \"Restart\"; <br> 2. Otherwise, you may just restart the kernel from top menu. <br> Finally, close and re-load the notebook, then re-run cells one by one from the top.**'\n",
    "        elif any(error in item for item in validator.get_list()) or any(failed in item for item in validator.get_list()):\n",
    "            return \"Please run 'az login' to setup account\"\n",
    "        else:\n",
    "            return None\n",
    "    except:\n",
    "        return \"Please login\"\n",
    "\n",
    "def get_credscan_kql_where_clause(column_name):\n",
    "    \"This function return the KQL where clause for credscan\"\n",
    "    where_clause = \" | where TimeGenerated > ago({0}) | where {1} \"\n",
    "    time_range = \"7d\"\n",
    "    regex_string = \"\"\n",
    "    regex_list = [\n",
    "        r\"(?i)(ida:password|IssuerSecret|(api|client|app(lication)?)[_\\\\- ]?(key|secret)[^,a-z]|\\\\.azuredatabricks\\\\.net).{0,10}(dapi)?[a-z0-9/+]{22}\",\n",
    "        r\"(?i)(x-api-(key|token).{0,10}[a-z0-9/+]{40}|v1\\\\.[a-z0-9/+]{40}[^a-z0-9/+])\",\n",
    "        r\"(?-i)\\\\WAIza(?i)[a-z0-9_\\\\\\\\\\\\-]{35}\\\\W\",\n",
    "        r\"(?i)(\\\\Wsig\\\\W|Secret(Value)?|IssuerSecret|(\\\\Wsas|primary|secondary|management|Shared(Access(Policy)?)?).?Key|\\\\.azure\\\\-devices\\\\.net|\\\\.(core|servicebus|redis\\\\.cache|accesscontrol|mediaservices)\\\\.(windows\\\\.net|chinacloudapi\\\\.cn|cloudapi\\\\.de|usgovcloudapi\\\\.net)|New\\\\-AzureRedisCache).{0,100}([a-z0-9/+]{43}=)\",\n",
    "        r\"(?i)visualstudio\\\\.com.{1,100}\\\\W(?-i)[a-z2-7]{52}\\\\W\",\n",
    "        r\"(?i)se=2021.+sig=[a-z0-9%]{43,63}%3d\",\n",
    "        r\"(?i)(x-functions-key|ApiKey|Code=|\\\\.azurewebsites\\\\.net/api/).{0,100}[a-z0-9/\\\\+]{54}={2}\",\n",
    "        r\"(?i)code=[a-z0-9%]{54,74}(%3d){2}\",\n",
    "        r\"(?i)(userpwd|publishingpassword).{0,100}[a-z0-9/\\\\+]{60}\\\\W\",\n",
    "        r\"(?i)[^a-z0-9/\\\\+][a-z0-9/\\\\+]{86}==\",\n",
    "        r\"(?-i)\\\\-{5}BEGIN( ([DR]SA|EC|OPENSSH|PGP))? PRIVATE KEY( BLOCK)?\\\\-{5}\",\n",
    "        r\"(?i)(app(lication)?|client)[_\\\\- ]?(key(url)?|secret)([\\\\s=:>]{1,10}|[\\\\s\\\"':=|>\\\\]]{3,15}|[\\\"'=:\\\\(]{2})[^\\\\-]\",\n",
    "        r\"(?i)refresh[_\\\\-]?token([\\\\s=:>]{1,10}|[\\\\s\\\"':=|>\\\\]]{3,15}|[\\\"'=:\\\\(]{2})(\\\"data:text/plain,.+\\\"|[a-z0-9/+=_.-]{20,200})\",\n",
    "        r\"(?i)AccessToken(Secret)?([\\\\s\\\"':=|>\\\\]]{3,15}|[\\\"'=:\\\\(]{2}|[\\\\s=:>]{1,10})[a-z0-9/+=_.-]{20,200}\",\n",
    "        r\"(?i)[a-z0-9]{3,5}://[^%:\\\\s\\\"'/][^:\\\\s\\\"'/\\\\$]+[^:\\\\s\\\"'/\\\\$%]:([^%\\\\s\\\"'/][^@\\\\s\\\"'/]{0,100}[^%\\\\s\\\"'/])@[\\\\$a-z0-9:\\\\.\\\\-_%\\\\?=/]+\",\n",
    "        r\"(?i)snmp(\\\\-server)?\\\\.exe.{0,100}(priv|community)\",\n",
    "        r\"(?i)(ConvertTo\\\\-?SecureString\\\\s*((\\\\(|\\\\Wstring)\\\\s*)?['\\\"]+)\",\n",
    "        r\"(?i)(Consumer|api)[_\\\\- ]?(Secret|Key)([\\\\s=:>]{1,10}|[\\\\s\\\"':=|>,\\\\]]{3,15}|[\\\"'=:\\\\(]{2})[^\\\\s]{5,}\",\n",
    "        r\"(?i)authorization[,\\\\[:= \\\"']+([dbaohmnsv])\",\n",
    "        r\"(?i)-u\\\\s+.{2,100}-p\\\\s+[^\\\\-/]\",\n",
    "        r\"(?i)(amqp|ssh|(ht|f)tps?)://[^%:\\\\s\\\"'/][^:\\\\s\\\"'/\\\\$]+[^:\\\\s\\\"'/\\\\$%]:([^%\\\\s\\\"'/][^@\\\\s\\\"'/]{0,100}[^%\\\\s\\\"'/])@[\\\\$a-z0-9:\\\\.\\\\-_%\\\\?=/]+\",\n",
    "        r\"(?i)(\\\\Waws|amazon)?.{0,5}(secret|access.?key).{0,10}\\\\W[a-z0-9/\\\\+]{40}\",\n",
    "        r\"(?-i)(eyJ0eXAiOiJKV1Qi|eyJhbGci)\",\n",
    "        r\"(?i)@(\\\\.(on)?)?microsoft\\\\.com[ -~\\\\s]{1,100}?(\\\\w?pass\\\\w?)\",\n",
    "        r\"(?i)net(\\\\.exe)?.{1,5}(user\\\\s+|share\\\\s+/user:|user-?secrets? set)\\\\s+[a-z0-9]\",\n",
    "        r\"(?i)xox[pbar]\\\\-[a-z0-9]\",\n",
    "        r\"(?i)[\\\":\\\\s=]((x?corp|extranet(test)?|ntdev)(\\\\.microsoft\\\\.com)?|corp|redmond|europe|middleeast|northamerica|southpacific|southamerica|fareast|africa|exchange|extranet(test)?|partners|parttest|ntdev|ntwksta)\\\\W.{0,100}(password|\\\\Wpwd|\\\\Wpass|\\\\Wpw\\\\W|userpass)\",\n",
    "        r\"(?i)(sign_in|SharePointOnlineAuthenticatedContext|(User|Exchange)Credentials?|password)[ -~\\\\s]{0,100}?@([a-z0-9.]+\\\\.(on)?)?microsoft\\\\.com['\\\"]?\",\n",
    "        r\"(?i)(\\\\.database\\\\.azure\\\\.com|\\\\.database(\\\\.secure)?\\\\.windows\\\\.net|\\\\.cloudapp\\\\.net|\\\\.database\\\\.usgovcloudapi\\\\.net|\\\\.database\\\\.chinacloudapi\\\\.cn|\\\\.database.cloudapi.de).{0,100}(DB_PASS|(sql|service)?password|\\\\Wpwd\\\\W)\",\n",
    "        r\"(?i)(secret(.?key)?|password)[\\\"']?\\\\s*[:=]\\\\s*[\\\"'][^\\\\s]+?[\\\"']\",\n",
    "        r\"(?i)[^a-z\\\\$](DB_USER|user id|uid|(sql)?user(name)?|service\\\\s?account)\\\\s*[^\\\\w\\\\s,]([ -~\\\\s]{2,120}?|[ -~]{2,30}?)([^a-z\\\\s\\\\$]|\\\\s)\\\\s*(DB_PASS|(sql|service)?password|pwd)\",\n",
    "        r\"(?i)(password|secret(key)?)[ \\\\t]*[=:]+[ \\\\t]*([^:\\\\s\\\"';,<]{2,200})\",\n",
    "    ]\n",
    "\n",
    "    for (i, re_str) in enumerate(regex_list):\n",
    "        if i != 0:\n",
    "            if i == 27:\n",
    "                regex_string += \" and \"\n",
    "            else:\n",
    "                regex_string += \" or \"\n",
    "        regex_string += \" \" + column_name + \" matches regex \\\"\" + re_str + \"\\\"\"\n",
    "    \n",
    "    return where_clause.format(time_range, regex_string)"
   ]
  },
  {
   "cell_type": "code",
   "execution_count": 4,
   "id": "0b7757ad",
   "metadata": {},
   "outputs": [],
   "source": [
    "tenant_id, subscription_id, resource_group, workspace_id, workspace_name, user_alias, user_object_id = read_config_values('config.json');"
   ]
  },
  {
   "cell_type": "code",
   "execution_count": null,
   "id": "8cf6e71d",
   "metadata": {},
   "outputs": [],
   "source": [
    "#2. Azure authentication\n",
    "if has_valid_token() != None:\n",
    "    message = '**The refresh token has expired. <br> Please continue your login process. Then: <br> 1. If you plan to run multiple notebooks on the same compute instance today, you may restart the compute instance by clicking \"Compute\" on left menu, then select the instance, clicking \"Restart\"; <br> 2. Otherwise, you may just restart the kernel from top menu. <br> Finally, close and re-load the notebook, then re-run cells one by one from the top.**'\n",
    "    display(Markdown(message))\n",
    "    !echo -e '\\e[42m'\n",
    "    !az login --tenant $tenant_id --use-device-code"
   ]
  },
  {
   "cell_type": "code",
   "execution_count": 6,
   "id": "76bec822",
   "metadata": {},
   "outputs": [],
   "source": [
    "resource_uri = \"https://api.loganalytics.io\"\n",
    "la_client = LogAnalyticsManagementClient(AzureCliCredential(), subscription_id=subscription_id)\n",
    "credential = DefaultAzureCredential()\n",
    "la_data_client = LogsQueryClient(credential)"
   ]
  },
  {
   "cell_type": "code",
   "execution_count": null,
   "id": "dcbe2472",
   "metadata": {},
   "outputs": [
    {
     "data": {
      "application/vnd.jupyter.widget-view+json": {
       "model_id": "b63b1c5652c64ada8e17fa9e0a29a72d",
       "version_major": 2,
       "version_minor": 0
      },
      "text/plain": [
       "Dropdown(description='Tables:', options=('LAQueryLogs', 'Usage'), value='LAQueryLogs')"
      ]
     },
     "metadata": {},
     "output_type": "display_data"
    }
   ],
   "source": [
    "#3. Azure Log Analytics data queries\n",
    "# get all tables available using KQL.\n",
    "tables_result = None\n",
    "table_list = None\n",
    "start_time = datetime(2025, 1, 1, tzinfo=timezone.utc)\n",
    "end_time = datetime(2025, 12, 31, tzinfo=timezone.utc)\n",
    "\n",
    "all_tables_query = \"union withsource = SentinelTableName * | distinct SentinelTableName | sort by SentinelTableName asc\"\n",
    "tables_result = la_data_client.query_workspace(\n",
    "    workspace_id=workspace_id,\n",
    "    query=all_tables_query,\n",
    "    timespan=(start_time, end_time)\n",
    ")\n",
    "\n",
    "if tables_result.status == LogsQueryStatus.SUCCESS:\n",
    "    df = pd.DataFrame(data=tables_result.tables[0].rows, columns=tables_result.tables[0].columns)\n",
    "    table_list = list(df[\"SentinelTableName\"])\n",
    "    table_dropdown = ipywidgets.Dropdown(options=table_list, description='Tables:')\n",
    "    display(table_dropdown)"
   ]
  },
  {
   "cell_type": "code",
   "execution_count": 10,
   "id": "84911e49",
   "metadata": {},
   "outputs": [
    {
     "data": {
      "application/vnd.jupyter.widget-view+json": {
       "model_id": "f1397353fff44f3093a847069076528a",
       "version_major": 2,
       "version_minor": 0
      },
      "text/plain": [
       "Dropdown(description='Columns:', options=('AADClientId', 'AADEmail', 'AADObjectId', 'AADTenantId', 'Conditiona…"
      ]
     },
     "metadata": {},
     "output_type": "display_data"
    }
   ],
   "source": [
    "# select a column in the selected table to scan. Optional, ignore this cell to scan all columns for the selected table.\n",
    "columns_result = None\n",
    "solumn_list = None\n",
    "all_columns_query = \"{0} | getschema | project ColumnName | order by ColumnName asc\".format(table_dropdown.value)\n",
    "columns_result = la_data_client.query_workspace(\n",
    "    workspace_id=workspace_id,\n",
    "    query=all_columns_query,\n",
    "    timespan=(start_time, end_time)\n",
    ")\n",
    "\n",
    "if columns_result.status == LogsQueryStatus.SUCCESS:\n",
    "    df = pd.DataFrame(data = columns_result.tables[0].rows, columns=columns_result.tables[0].columns)\n",
    "    col_list = list(df[\"ColumnName\"])\n",
    "    column_dropdown = ipywidgets.Dropdown(options=col_list, description='Columns:')\n",
    "    display(column_dropdown)\n",
    "else:\n",
    "    column_list = []"
   ]
  },
  {
   "cell_type": "code",
   "execution_count": 11,
   "id": "0eac2ce4",
   "metadata": {},
   "outputs": [
    {
     "name": "stdout",
     "output_type": "stream",
     "text": [
      "Query: LAQueryLogs  | where TimeGenerated > ago(7d) | where  * matches regex \"(?i)(ida:password|IssuerSecret|(api|client|app(lication)?)[_\\\\- ]?(key|secret)[^,a-z]|\\\\.azuredatabricks\\\\.net).{0,10}(dapi)?[a-z0-9/+]{22}\" or  * matches regex \"(?i)(x-api-(key|token).{0,10}[a-z0-9/+]{40}|v1\\\\.[a-z0-9/+]{40}[^a-z0-9/+])\" or  * matches regex \"(?-i)\\\\WAIza(?i)[a-z0-9_\\\\\\\\\\\\-]{35}\\\\W\" or  * matches regex \"(?i)(\\\\Wsig\\\\W|Secret(Value)?|IssuerSecret|(\\\\Wsas|primary|secondary|management|Shared(Access(Policy)?)?).?Key|\\\\.azure\\\\-devices\\\\.net|\\\\.(core|servicebus|redis\\\\.cache|accesscontrol|mediaservices)\\\\.(windows\\\\.net|chinacloudapi\\\\.cn|cloudapi\\\\.de|usgovcloudapi\\\\.net)|New\\\\-AzureRedisCache).{0,100}([a-z0-9/+]{43}=)\" or  * matches regex \"(?i)visualstudio\\\\.com.{1,100}\\\\W(?-i)[a-z2-7]{52}\\\\W\" or  * matches regex \"(?i)se=2021.+sig=[a-z0-9%]{43,63}%3d\" or  * matches regex \"(?i)(x-functions-key|ApiKey|Code=|\\\\.azurewebsites\\\\.net/api/).{0,100}[a-z0-9/\\\\+]{54}={2}\" or  * matches regex \"(?i)code=[a-z0-9%]{54,74}(%3d){2}\" or  * matches regex \"(?i)(userpwd|publishingpassword).{0,100}[a-z0-9/\\\\+]{60}\\\\W\" or  * matches regex \"(?i)[^a-z0-9/\\\\+][a-z0-9/\\\\+]{86}==\" or  * matches regex \"(?-i)\\\\-{5}BEGIN( ([DR]SA|EC|OPENSSH|PGP))? PRIVATE KEY( BLOCK)?\\\\-{5}\" or  * matches regex \"(?i)(app(lication)?|client)[_\\\\- ]?(key(url)?|secret)([\\\\s=:>]{1,10}|[\\\\s\\\"':=|>\\\\]]{3,15}|[\\\"'=:\\\\(]{2})[^\\\\-]\" or  * matches regex \"(?i)refresh[_\\\\-]?token([\\\\s=:>]{1,10}|[\\\\s\\\"':=|>\\\\]]{3,15}|[\\\"'=:\\\\(]{2})(\\\"data:text/plain,.+\\\"|[a-z0-9/+=_.-]{20,200})\" or  * matches regex \"(?i)AccessToken(Secret)?([\\\\s\\\"':=|>\\\\]]{3,15}|[\\\"'=:\\\\(]{2}|[\\\\s=:>]{1,10})[a-z0-9/+=_.-]{20,200}\" or  * matches regex \"(?i)[a-z0-9]{3,5}://[^%:\\\\s\\\"'/][^:\\\\s\\\"'/\\\\$]+[^:\\\\s\\\"'/\\\\$%]:([^%\\\\s\\\"'/][^@\\\\s\\\"'/]{0,100}[^%\\\\s\\\"'/])@[\\\\$a-z0-9:\\\\.\\\\-_%\\\\?=/]+\" or  * matches regex \"(?i)snmp(\\\\-server)?\\\\.exe.{0,100}(priv|community)\" or  * matches regex \"(?i)(ConvertTo\\\\-?SecureString\\\\s*((\\\\(|\\\\Wstring)\\\\s*)?['\\\"]+)\" or  * matches regex \"(?i)(Consumer|api)[_\\\\- ]?(Secret|Key)([\\\\s=:>]{1,10}|[\\\\s\\\"':=|>,\\\\]]{3,15}|[\\\"'=:\\\\(]{2})[^\\\\s]{5,}\" or  * matches regex \"(?i)authorization[,\\\\[:= \\\"']+([dbaohmnsv])\" or  * matches regex \"(?i)-u\\\\s+.{2,100}-p\\\\s+[^\\\\-/]\" or  * matches regex \"(?i)(amqp|ssh|(ht|f)tps?)://[^%:\\\\s\\\"'/][^:\\\\s\\\"'/\\\\$]+[^:\\\\s\\\"'/\\\\$%]:([^%\\\\s\\\"'/][^@\\\\s\\\"'/]{0,100}[^%\\\\s\\\"'/])@[\\\\$a-z0-9:\\\\.\\\\-_%\\\\?=/]+\" or  * matches regex \"(?i)(\\\\Waws|amazon)?.{0,5}(secret|access.?key).{0,10}\\\\W[a-z0-9/\\\\+]{40}\" or  * matches regex \"(?-i)(eyJ0eXAiOiJKV1Qi|eyJhbGci)\" or  * matches regex \"(?i)@(\\\\.(on)?)?microsoft\\\\.com[ -~\\\\s]{1,100}?(\\\\w?pass\\\\w?)\" or  * matches regex \"(?i)net(\\\\.exe)?.{1,5}(user\\\\s+|share\\\\s+/user:|user-?secrets? set)\\\\s+[a-z0-9]\" or  * matches regex \"(?i)xox[pbar]\\\\-[a-z0-9]\" or  * matches regex \"(?i)[\\\":\\\\s=]((x?corp|extranet(test)?|ntdev)(\\\\.microsoft\\\\.com)?|corp|redmond|europe|middleeast|northamerica|southpacific|southamerica|fareast|africa|exchange|extranet(test)?|partners|parttest|ntdev|ntwksta)\\\\W.{0,100}(password|\\\\Wpwd|\\\\Wpass|\\\\Wpw\\\\W|userpass)\" and  * matches regex \"(?i)(sign_in|SharePointOnlineAuthenticatedContext|(User|Exchange)Credentials?|password)[ -~\\\\s]{0,100}?@([a-z0-9.]+\\\\.(on)?)?microsoft\\\\.com['\\\"]?\" or  * matches regex \"(?i)(\\\\.database\\\\.azure\\\\.com|\\\\.database(\\\\.secure)?\\\\.windows\\\\.net|\\\\.cloudapp\\\\.net|\\\\.database\\\\.usgovcloudapi\\\\.net|\\\\.database\\\\.chinacloudapi\\\\.cn|\\\\.database.cloudapi.de).{0,100}(DB_PASS|(sql|service)?password|\\\\Wpwd\\\\W)\" or  * matches regex \"(?i)(secret(.?key)?|password)[\\\"']?\\\\s*[:=]\\\\s*[\\\"'][^\\\\s]+?[\\\"']\" or  * matches regex \"(?i)[^a-z\\\\$](DB_USER|user id|uid|(sql)?user(name)?|service\\\\s?account)\\\\s*[^\\\\w\\\\s,]([ -~\\\\s]{2,120}?|[ -~]{2,30}?)([^a-z\\\\s\\\\$]|\\\\s)\\\\s*(DB_PASS|(sql|service)?password|pwd)\" or  * matches regex \"(?i)(password|secret(key)?)[ \\\\t]*[=:]+[ \\\\t]*([^:\\\\s\\\"';,<]{2,200})\" \n",
      "                               TenantId                    TimeGenerated  \\\n",
      "0  515d3fd2-4214-4aee-bd2b-592d6efaa59c 2025-08-15 18:28:39.848000+00:00   \n",
      "1  515d3fd2-4214-4aee-bd2b-592d6efaa59c 2025-08-15 18:28:40.598000+00:00   \n",
      "2  515d3fd2-4214-4aee-bd2b-592d6efaa59c 2025-08-15 18:28:40.603000+00:00   \n",
      "\n",
      "                          CorrelationId                           AADObjectId  \\\n",
      "0  f90aa552-3760-47e3-a6e4-f1c9b1249a6d  44363313-3719-4220-8e94-4cdee3062461   \n",
      "1  8c965cff-3cd7-4a98-a310-e1375808fa03  44363313-3719-4220-8e94-4cdee3062461   \n",
      "2  a2e426b4-89ed-495e-b119-400a40b8f39d  44363313-3719-4220-8e94-4cdee3062461   \n",
      "\n",
      "                            AADTenantId                           AADEmail  \\\n",
      "0  4e3edda0-4a9b-41ee-8197-23223ec3de4b  live.com#rnarldo.sj0921@gmail.com   \n",
      "1  4e3edda0-4a9b-41ee-8197-23223ec3de4b  live.com#rnarldo.sj0921@gmail.com   \n",
      "2  4e3edda0-4a9b-41ee-8197-23223ec3de4b  live.com#rnarldo.sj0921@gmail.com   \n",
      "\n",
      "                            AADClientId ConditionalDataAccess  \\\n",
      "0  80ccca67-54bd-44ab-8625-4b79c4dc7775                         \n",
      "1  80ccca67-54bd-44ab-8625-4b79c4dc7775                         \n",
      "2  80ccca67-54bd-44ab-8625-4b79c4dc7775                         \n",
      "\n",
      "               QueryTimeRangeStart                QueryTimeRangeEnd  ...  \\\n",
      "0                              NaT                              NaT  ...   \n",
      "1 2025-08-14 18:28:40.127000+00:00 2025-08-15 18:28:40.127000+00:00  ...   \n",
      "2 2025-08-13 18:28:40.127000+00:00 2025-08-14 18:28:40.127000+00:00  ...   \n",
      "\n",
      "  StatsDataProcessedEnd StatsWorkspaceCount StatsRegionCount IsBillableQuery  \\\n",
      "0                  None                   1                1           False   \n",
      "1                  None                   1                1           False   \n",
      "2                  None                   1                1           False   \n",
      "\n",
      "  ScannedGB  WorkspaceRegion  IsWorkspaceInFailover  SourceSystem  \\\n",
      "0      None           eastus                   None                 \n",
      "1      None           eastus                   None                 \n",
      "2      None           eastus                   None                 \n",
      "\n",
      "          Type                                        _ResourceId  \n",
      "0  LAQueryLogs  /subscriptions/553563e5-5912-4c7e-be77-a1927bc...  \n",
      "1  LAQueryLogs  /subscriptions/553563e5-5912-4c7e-be77-a1927bc...  \n",
      "2  LAQueryLogs  /subscriptions/553563e5-5912-4c7e-be77-a1927bc...  \n",
      "\n",
      "[3 rows x 31 columns]\n"
     ]
    }
   ],
   "source": [
    "# Credential scanner regex\n",
    "if table_list != None:\n",
    "    if 'column_list' in vars() and column_list == None and column_dropdown.value != None:\n",
    "        column_name = \"tostring({0})\".format(column_dropdown.value)\n",
    "    else:\n",
    "        column_name = \"*\"\n",
    "    \n",
    "    table_name = table_dropdown.value\n",
    "    kql_where_clause = get_credscan_kql_where_clause(column_name)\n",
    "    query = \"{0} {1}\".format(table_name, kql_where_clause)\n",
    "\n",
    "    print(\"Query: \" + query)\n",
    "\n",
    "    result = la_data_client.query_workspace(\n",
    "        workspace_id=workspace_id,\n",
    "        query=query,\n",
    "        timespan=(start_time, end_time)\n",
    "    )\n",
    "\n",
    "    df = pd.DataFrame(data=result.tables[0].rows, columns=result.tables[0].columns)\n",
    "    print(df)"
   ]
  },
  {
   "cell_type": "code",
   "execution_count": null,
   "id": "e2ad5da6",
   "metadata": {},
   "outputs": [],
   "source": []
  }
 ],
 "metadata": {
  "kernelspec": {
   "display_name": "Python 3",
   "language": "python",
   "name": "python3"
  },
  "language_info": {
   "codemirror_mode": {
    "name": "ipython",
    "version": 3
   },
   "file_extension": ".py",
   "mimetype": "text/x-python",
   "name": "python",
   "nbconvert_exporter": "python",
   "pygments_lexer": "ipython3",
   "version": "3.13.7"
  }
 },
 "nbformat": 4,
 "nbformat_minor": 5
}
